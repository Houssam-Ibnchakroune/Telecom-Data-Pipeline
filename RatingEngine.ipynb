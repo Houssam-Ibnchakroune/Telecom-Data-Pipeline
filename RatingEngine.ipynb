{
 "cells": [
  {
   "cell_type": "code",
   "execution_count": 1,
   "id": "0eafc561",
   "metadata": {
    "execution": {
     "iopub.execute_input": "2025-06-15T15:37:44.999909Z",
     "iopub.status.busy": "2025-06-15T15:37:44.999909Z",
     "iopub.status.idle": "2025-06-15T15:37:50.487156Z",
     "shell.execute_reply": "2025-06-15T15:37:50.486159Z"
    },
    "papermill": {
     "duration": 5.49452,
     "end_time": "2025-06-15T15:37:50.488908",
     "exception": false,
     "start_time": "2025-06-15T15:37:44.994388",
     "status": "completed"
    },
    "tags": []
   },
   "outputs": [],
   "source": [
    "from pyspark.sql import SparkSession\n",
    "from pyspark.sql.functions import  when,mean ,lit,ceil\n",
    "# Création d'une session Spark\n",
    "spark = SparkSession.builder\\\n",
    "         .appName(\"RatingEngine\")\\\n",
    "         .config(\"spark.jars\", r\".conf\\postgresql-42.7.6.jar\")\\\n",
    "         .config(\"spark.driver.extraClassPath\", r\".\\conf\\postgresql-42.7.6.jar\")\\\n",
    "         .config(\"spark.executor.extraClassPath\", r\".\\conf\\\\postgresql-42.7.6.jar\")\\\n",
    "         .config(\"spark.sql.shuffle.partitions\", \"50\")\\\n",
    "         .config(\"spark.sql.autoBroadcastJoinThreshold\", \"10485760\")\\\n",
    "         .config(\"spark.driver.memory\", \"6g\")\\\n",
    "         .getOrCreate()\n",
    "\n",
    "\n"
   ]
  },
  {
   "cell_type": "code",
   "execution_count": 2,
   "id": "2ce7d8c2",
   "metadata": {
    "execution": {
     "iopub.execute_input": "2025-06-15T15:37:50.501919Z",
     "iopub.status.busy": "2025-06-15T15:37:50.501919Z",
     "iopub.status.idle": "2025-06-15T15:37:55.389753Z",
     "shell.execute_reply": "2025-06-15T15:37:55.388757Z"
    },
    "papermill": {
     "duration": 4.895837,
     "end_time": "2025-06-15T15:37:55.391753",
     "exception": false,
     "start_time": "2025-06-15T15:37:50.495916",
     "status": "completed"
    },
    "tags": []
   },
   "outputs": [],
   "source": [
    "data_path = r\".\\output_dir\" \n",
    "cleanedCdrsDf  = spark.read.format(\"parquet\") \\\n",
    "    .option(\"header\", \"true\") \\\n",
    "    .option(\"inferSchema\", \"true\") \\\n",
    "    .load(data_path)"
   ]
  },
  {
   "cell_type": "code",
   "execution_count": 3,
   "id": "65ab5c4e",
   "metadata": {
    "execution": {
     "iopub.execute_input": "2025-06-15T15:37:55.405045Z",
     "iopub.status.busy": "2025-06-15T15:37:55.404049Z",
     "iopub.status.idle": "2025-06-15T15:37:58.874355Z",
     "shell.execute_reply": "2025-06-15T15:37:58.873561Z"
    },
    "papermill": {
     "duration": 3.476861,
     "end_time": "2025-06-15T15:37:58.875905",
     "exception": false,
     "start_time": "2025-06-15T15:37:55.399044",
     "status": "completed"
    },
    "tags": []
   },
   "outputs": [
    {
     "name": "stdout",
     "output_type": "stream",
     "text": [
      "+------------+----------------+-----------------+------------+---------------+------+--------------------+\n",
      "| customer_id|   customer_name|subscription_type|rate_plan_id|activation_date|status|              region|\n",
      "+------------+----------------+-----------------+------------+---------------+------+--------------------+\n",
      "|212621008730|  Fouad El Ghazi|         postpaid|      PLAN_B|     2024-09-30|active|Béni Mellal-Khénifra|\n",
      "|212680058037|Soufiane Belkadi|         postpaid|      PLAN_A|     2023-10-16|active|  Rabat-Salé-Kénitra|\n",
      "|212705083484|    Rania Skalli|         postpaid|      PLAN_C|     2023-09-13|active|          L'Oriental|\n",
      "|212742643119|    Hind Belkadi|         postpaid|      PLAN_B|     2024-10-09|active|   Guelmim-Oued Noun|\n",
      "|212625950696|  Ehab El Amrani|         postpaid|      PLAN_C|     2024-12-16|active|      Marrakech-Safi|\n",
      "+------------+----------------+-----------------+------------+---------------+------+--------------------+\n",
      "only showing top 5 rows\n",
      "\n"
     ]
    }
   ],
   "source": [
    "customersDf = spark.read \\\n",
    "    .format(\"jdbc\")\\\n",
    "    .option(\"url\",      \"jdbc:postgresql://localhost:5432/projet_spark\")\\\n",
    "    .option(\"dbtable\",  \"customers\")\\\n",
    "    .option(\"user\",     \"postgres\")\\\n",
    "    .option(\"password\", \"0000\")\\\n",
    "    .load() \n",
    "\n",
    "customersDf.show(5)\n"
   ]
  },
  {
   "cell_type": "code",
   "execution_count": 4,
   "id": "b6195e08",
   "metadata": {
    "execution": {
     "iopub.execute_input": "2025-06-15T15:37:58.888913Z",
     "iopub.status.busy": "2025-06-15T15:37:58.887914Z",
     "iopub.status.idle": "2025-06-15T15:37:59.906221Z",
     "shell.execute_reply": "2025-06-15T15:37:59.904234Z"
    },
    "papermill": {
     "duration": 1.027306,
     "end_time": "2025-06-15T15:37:59.908219",
     "exception": false,
     "start_time": "2025-06-15T15:37:58.880913",
     "status": "completed"
    },
    "tags": []
   },
   "outputs": [],
   "source": [
    "catalogDf = spark.read \\\n",
    "    .option(\"header\", True) \\\n",
    "    .csv(\"ressources/product_catalog.csv\")\n"
   ]
  },
  {
   "cell_type": "code",
   "execution_count": 5,
   "id": "a7161cb2",
   "metadata": {
    "execution": {
     "iopub.execute_input": "2025-06-15T15:37:59.925217Z",
     "iopub.status.busy": "2025-06-15T15:37:59.924219Z",
     "iopub.status.idle": "2025-06-15T15:38:00.218113Z",
     "shell.execute_reply": "2025-06-15T15:38:00.217111Z"
    },
    "papermill": {
     "duration": 0.304896,
     "end_time": "2025-06-15T15:38:00.220113",
     "exception": false,
     "start_time": "2025-06-15T15:37:59.915217",
     "status": "completed"
    },
    "tags": []
   },
   "outputs": [],
   "source": [
    "from pyspark.sql.functions import col\n",
    "\n",
    "ratePlansDf = spark.read \\\n",
    "    .option(\"header\", True) \\\n",
    "    .csv(\"ressources/rate_plans.csv\") \\\n",
    "    .withColumn(\"unit_price\", col(\"unit_price\").cast(\"double\")) \\\n",
    "    .withColumn(\"free_units\", col(\"free_units\").cast(\"int\")) \\\n",
    "    .withColumn(\"tier_threshold\", col(\"tier_threshold\").cast(\"int\")) \\\n",
    "    .withColumn(\"tier_price\", col(\"tier_price\").cast(\"double\"))\n"
   ]
  },
  {
   "cell_type": "code",
   "execution_count": 6,
   "id": "645907fe",
   "metadata": {
    "execution": {
     "iopub.execute_input": "2025-06-15T15:38:00.236432Z",
     "iopub.status.busy": "2025-06-15T15:38:00.235423Z",
     "iopub.status.idle": "2025-06-15T15:38:00.281556Z",
     "shell.execute_reply": "2025-06-15T15:38:00.280556Z"
    },
    "papermill": {
     "duration": 0.055438,
     "end_time": "2025-06-15T15:38:00.282556",
     "exception": false,
     "start_time": "2025-06-15T15:38:00.227118",
     "status": "completed"
    },
    "tags": []
   },
   "outputs": [],
   "source": [
    "cdrs = (cleanedCdrsDf\n",
    "        .withColumn(\n",
    "            \"customer_id\",\n",
    "            when(col(\"record_type\") == \"voice\", col(\"caller_id\"))\n",
    "            .when(col(\"record_type\") == \"sms\",  col(\"sender_id\"))\n",
    "            .otherwise(col(\"user_id\"))\n",
    "        ))"
   ]
  },
  {
   "cell_type": "code",
   "execution_count": 7,
   "id": "72c6e9c5",
   "metadata": {
    "execution": {
     "iopub.execute_input": "2025-06-15T15:38:00.293554Z",
     "iopub.status.busy": "2025-06-15T15:38:00.293554Z",
     "iopub.status.idle": "2025-06-15T15:38:03.141110Z",
     "shell.execute_reply": "2025-06-15T15:38:03.140110Z"
    },
    "papermill": {
     "duration": 2.856556,
     "end_time": "2025-06-15T15:38:03.143110",
     "exception": false,
     "start_time": "2025-06-15T15:38:00.286554",
     "status": "completed"
    },
    "tags": []
   },
   "outputs": [
    {
     "name": "stdout",
     "output_type": "stream",
     "text": [
      "+------------+--------------------+-------------------+-------------+----------+------------+------------+------------+------------+-------------+---------+-----------+------------+--------------------+--------------+--------+-----------+------------+\n",
      "| customer_id|           record_ID|          timestamp|      cell_id|technology|   caller_id|   callee_id|duration_sec|product_code|rating_status|sender_id|receiver_id|     user_id|session_duration_sec|data_volume_mb|batch_id|record_type|rate_plan_id|\n",
      "+------------+--------------------+-------------------+-------------+----------+------------+------------+------------+------------+-------------+---------+-----------+------------+--------------------+--------------+--------+-----------+------------+\n",
      "|212621008730|d43f55d8-b4d5-4c7...|2025-05-02 00:15:34|      inconnu|        4G|        NULL|        NULL|        NULL|  DATA_BASIC| needs_review|     NULL|       NULL|212621008730|                  63|       inconnu|      90|       data|      PLAN_B|\n",
      "|212621008730|9419911b-09b8-463...|2025-05-02 22:01:19|    MEKNES_02|        3G|        NULL|        NULL|        NULL|  DATA_BASIC|        ready|     NULL|       NULL|212621008730|                 412|       1832.44|     177|       data|      PLAN_B|\n",
      "|212621008730|3aa4e9d1-8987-40d...|2025-05-03 03:18:51| ALHOCEIMA_02|        4G|212621008730|212610784403|          41|   VOICE_NAT|        ready|     NULL|       NULL|        NULL|                NULL|          NULL|     198|      voice|      PLAN_B|\n",
      "|212621008730|8185a725-d6e1-45f...|2025-05-01 07:56:55| MARRAKECH_01|        5G|212621008730|212772638577|         595|   VOICE_NAT|        ready|     NULL|       NULL|        NULL|                NULL|          NULL|      28|      voice|      PLAN_B|\n",
      "|212705083484|37ff5da4-f378-426...|2025-05-02 21:44:39|     NADOR_01|        5G|        NULL|        NULL|        NULL|  DATA_BASIC| needs_review|     NULL|       NULL|212705083484|                 572|       inconnu|     176|       data|      PLAN_C|\n",
      "|212705083484|e25d82de-e528-4c2...|2025-05-01 17:24:05|   TETOUAN_01|        5G|        NULL|        NULL|        NULL|DATA_PREMIUM| needs_review|     NULL|       NULL|212705083484|             inconnu|       1422.08|      64|       data|      PLAN_C|\n",
      "|212705083484|cb6d828d-6e10-4aa...|2025-05-01 15:48:22| MARRAKECH_01|        2G|212705083484|212662415646|         599|   VOICE_NAT|        ready|     NULL|       NULL|        NULL|                NULL|          NULL|      58|      voice|      PLAN_C|\n",
      "|212705083484|7261f71b-3337-4fe...|2025-05-02 20:22:22|      SAFI_01|        4G|        NULL|        NULL|        NULL|  DATA_BASIC| needs_review|     NULL|       NULL|212705083484|             inconnu|        185.34|     171|       data|      PLAN_C|\n",
      "|212705083484|4240f23a-6471-432...|2025-05-01 15:00:07|    MEKNES_02|        5G|        NULL|        NULL|        NULL|  DATA_BASIC| needs_review|     NULL|       NULL|212705083484|             inconnu|       1095.99|      56|       data|      PLAN_C|\n",
      "|212705083484|ee513bc4-fd56-4d9...|2025-05-03 11:25:58|       FES_02|        4G|212705083484|     inconnu|         417|   VOICE_NAT|        ready|     NULL|       NULL|        NULL|                NULL|          NULL|     230|      voice|      PLAN_C|\n",
      "|212705083484|ac825e85-a60c-43b...|2025-05-02 09:07:28|CASABLANCA_04|        4G|212705083484|966397209517|         229|   VOICE_INT|        ready|     NULL|       NULL|        NULL|                NULL|          NULL|     125|      voice|      PLAN_C|\n",
      "|212705083484|cde99256-6a14-42f...|2025-05-03 00:09:54|      inconnu|        4G|212705083484|212619130859|         386|   VOICE_NAT|        ready|     NULL|       NULL|        NULL|                NULL|          NULL|     185|      voice|      PLAN_C|\n",
      "|212742643119|c8a30cc5-7cd1-49e...|2025-05-01 08:33:37|      inconnu|        3G|212742643119|212720549809|          50|   VOICE_NAT|        ready|     NULL|       NULL|        NULL|                NULL|          NULL|      31|      voice|      PLAN_B|\n",
      "|212742643119|bd64208a-34f8-441...|2025-05-02 23:32:30|      SAFI_01|        4G|212742643119|212643307676|         557|   VOICE_NAT|        ready|     NULL|       NULL|        NULL|                NULL|          NULL|     182|      voice|      PLAN_B|\n",
      "|212742643119|05bac639-ced1-407...|2025-05-01 15:15:07|    DAKHLA_01|        4G|212742643119|212612310416|         591|   VOICE_NAT|        ready|     NULL|       NULL|        NULL|                NULL|          NULL|      57|      voice|      PLAN_B|\n",
      "|212625950696|45df25e8-31e8-4d2...|2025-05-02 01:01:24|    MEKNES_01|        4G|212625950696|397678555385|         291|   VOICE_INT|        ready|     NULL|       NULL|        NULL|                NULL|          NULL|      93|      voice|      PLAN_C|\n",
      "|212664805555|3b28cda8-4962-45c...|2025-05-01 06:26:48|    DAKHLA_01|        3G|        NULL|        NULL|        NULL|  DATA_BASIC|        ready|     NULL|       NULL|212664805555|                 215|       1832.94|      22|       data|      PLAN_C|\n",
      "|212762640808|3daeae7c-c7b1-499...|2025-05-01 21:52:39|      inconnu|        4G|212762640808|     inconnu|         318|   VOICE_NAT|        ready|     NULL|       NULL|        NULL|                NULL|          NULL|      81|      voice|      PLAN_A|\n",
      "|212621948629|1c44c33c-6fb4-4b0...|2025-05-02 22:18:34|      inconnu|        4G|212621948629|212761348058|         596|   VOICE_NAT|        ready|     NULL|       NULL|        NULL|                NULL|          NULL|     178|      voice|      PLAN_B|\n",
      "|212621948629|ed62e171-ed1c-4d9...|2025-05-02 16:50:06|      inconnu|        5G|212621948629|212754831596|         419|   VOICE_NAT|        ready|     NULL|       NULL|        NULL|                NULL|          NULL|     156|      voice|      PLAN_B|\n",
      "+------------+--------------------+-------------------+-------------+----------+------------+------------+------------+------------+-------------+---------+-----------+------------+--------------------+--------------+--------+-----------+------------+\n",
      "only showing top 20 rows\n",
      "\n"
     ]
    }
   ],
   "source": [
    "# ─── jointure client → plan ─────────────────────────────────────────────\n",
    "cdrs1 = cdrs.join(\n",
    "    customersDf.filter((col(\"status\") == \"active\") &\n",
    "                       (col(\"subscription_type\") == \"postpaid\"))\n",
    "               .select(\"customer_id\", \"rate_plan_id\"),\n",
    "    on=\"customer_id\",\n",
    "    how=\"inner\"\n",
    ")\n",
    "cdrs1.show()"
   ]
  },
  {
   "cell_type": "code",
   "execution_count": 8,
   "id": "d92da766",
   "metadata": {
    "execution": {
     "iopub.execute_input": "2025-06-15T15:38:03.155109Z",
     "iopub.status.busy": "2025-06-15T15:38:03.154111Z",
     "iopub.status.idle": "2025-06-15T15:38:04.824143Z",
     "shell.execute_reply": "2025-06-15T15:38:04.822144Z"
    },
    "papermill": {
     "duration": 1.679034,
     "end_time": "2025-06-15T15:38:04.826143",
     "exception": false,
     "start_time": "2025-06-15T15:38:03.147109",
     "status": "completed"
    },
    "tags": []
   },
   "outputs": [
    {
     "name": "stdout",
     "output_type": "stream",
     "text": [
      "+------------+------------+--------------------+-------------------+-------------+----------+------------+------------+------------+-------------+---------+-----------+------------+--------------------+--------------+--------+-----------+------------+------------+------+---------+--------------------+\n",
      "|product_code| customer_id|           record_ID|          timestamp|      cell_id|technology|   caller_id|   callee_id|duration_sec|rating_status|sender_id|receiver_id|     user_id|session_duration_sec|data_volume_mb|batch_id|record_type|rate_plan_id|service_type|  unit|rate_type|         description|\n",
      "+------------+------------+--------------------+-------------------+-------------+----------+------------+------------+------------+-------------+---------+-----------+------------+--------------------+--------------+--------+-----------+------------+------------+------+---------+--------------------+\n",
      "|  DATA_BASIC|212621008730|d43f55d8-b4d5-4c7...|2025-05-02 00:15:34|      inconnu|        4G|        NULL|        NULL|        NULL| needs_review|     NULL|       NULL|212621008730|                  63|       inconnu|      90|       data|      PLAN_B|        data|    MB|     flat|Session Data basi...|\n",
      "|  DATA_BASIC|212621008730|9419911b-09b8-463...|2025-05-02 22:01:19|    MEKNES_02|        3G|        NULL|        NULL|        NULL|        ready|     NULL|       NULL|212621008730|                 412|       1832.44|     177|       data|      PLAN_B|        data|    MB|     flat|Session Data basi...|\n",
      "|   VOICE_NAT|212621008730|3aa4e9d1-8987-40d...|2025-05-03 03:18:51| ALHOCEIMA_02|        4G|212621008730|212610784403|          41|        ready|     NULL|       NULL|        NULL|                NULL|          NULL|     198|      voice|      PLAN_B|       voice|minute|     flat|Appel vocal natio...|\n",
      "|   VOICE_NAT|212621008730|8185a725-d6e1-45f...|2025-05-01 07:56:55| MARRAKECH_01|        5G|212621008730|212772638577|         595|        ready|     NULL|       NULL|        NULL|                NULL|          NULL|      28|      voice|      PLAN_B|       voice|minute|     flat|Appel vocal natio...|\n",
      "|  DATA_BASIC|212705083484|37ff5da4-f378-426...|2025-05-02 21:44:39|     NADOR_01|        5G|        NULL|        NULL|        NULL| needs_review|     NULL|       NULL|212705083484|                 572|       inconnu|     176|       data|      PLAN_C|        data|    MB|     flat|Session Data basi...|\n",
      "|DATA_PREMIUM|212705083484|e25d82de-e528-4c2...|2025-05-01 17:24:05|   TETOUAN_01|        5G|        NULL|        NULL|        NULL| needs_review|     NULL|       NULL|212705083484|             inconnu|       1422.08|      64|       data|      PLAN_C|        data|    MB|   tiered|Session Data prem...|\n",
      "|   VOICE_NAT|212705083484|cb6d828d-6e10-4aa...|2025-05-01 15:48:22| MARRAKECH_01|        2G|212705083484|212662415646|         599|        ready|     NULL|       NULL|        NULL|                NULL|          NULL|      58|      voice|      PLAN_C|       voice|minute|     flat|Appel vocal natio...|\n",
      "|  DATA_BASIC|212705083484|7261f71b-3337-4fe...|2025-05-02 20:22:22|      SAFI_01|        4G|        NULL|        NULL|        NULL| needs_review|     NULL|       NULL|212705083484|             inconnu|        185.34|     171|       data|      PLAN_C|        data|    MB|     flat|Session Data basi...|\n",
      "|  DATA_BASIC|212705083484|4240f23a-6471-432...|2025-05-01 15:00:07|    MEKNES_02|        5G|        NULL|        NULL|        NULL| needs_review|     NULL|       NULL|212705083484|             inconnu|       1095.99|      56|       data|      PLAN_C|        data|    MB|     flat|Session Data basi...|\n",
      "|   VOICE_NAT|212705083484|ee513bc4-fd56-4d9...|2025-05-03 11:25:58|       FES_02|        4G|212705083484|     inconnu|         417|        ready|     NULL|       NULL|        NULL|                NULL|          NULL|     230|      voice|      PLAN_C|       voice|minute|     flat|Appel vocal natio...|\n",
      "|   VOICE_INT|212705083484|ac825e85-a60c-43b...|2025-05-02 09:07:28|CASABLANCA_04|        4G|212705083484|966397209517|         229|        ready|     NULL|       NULL|        NULL|                NULL|          NULL|     125|      voice|      PLAN_C|       voice|minute|     flat|Appel vocal inter...|\n",
      "|   VOICE_NAT|212705083484|cde99256-6a14-42f...|2025-05-03 00:09:54|      inconnu|        4G|212705083484|212619130859|         386|        ready|     NULL|       NULL|        NULL|                NULL|          NULL|     185|      voice|      PLAN_C|       voice|minute|     flat|Appel vocal natio...|\n",
      "|   VOICE_NAT|212742643119|c8a30cc5-7cd1-49e...|2025-05-01 08:33:37|      inconnu|        3G|212742643119|212720549809|          50|        ready|     NULL|       NULL|        NULL|                NULL|          NULL|      31|      voice|      PLAN_B|       voice|minute|     flat|Appel vocal natio...|\n",
      "|   VOICE_NAT|212742643119|bd64208a-34f8-441...|2025-05-02 23:32:30|      SAFI_01|        4G|212742643119|212643307676|         557|        ready|     NULL|       NULL|        NULL|                NULL|          NULL|     182|      voice|      PLAN_B|       voice|minute|     flat|Appel vocal natio...|\n",
      "|   VOICE_NAT|212742643119|05bac639-ced1-407...|2025-05-01 15:15:07|    DAKHLA_01|        4G|212742643119|212612310416|         591|        ready|     NULL|       NULL|        NULL|                NULL|          NULL|      57|      voice|      PLAN_B|       voice|minute|     flat|Appel vocal natio...|\n",
      "|   VOICE_INT|212625950696|45df25e8-31e8-4d2...|2025-05-02 01:01:24|    MEKNES_01|        4G|212625950696|397678555385|         291|        ready|     NULL|       NULL|        NULL|                NULL|          NULL|      93|      voice|      PLAN_C|       voice|minute|     flat|Appel vocal inter...|\n",
      "|  DATA_BASIC|212664805555|3b28cda8-4962-45c...|2025-05-01 06:26:48|    DAKHLA_01|        3G|        NULL|        NULL|        NULL|        ready|     NULL|       NULL|212664805555|                 215|       1832.94|      22|       data|      PLAN_C|        data|    MB|     flat|Session Data basi...|\n",
      "|   VOICE_NAT|212762640808|3daeae7c-c7b1-499...|2025-05-01 21:52:39|      inconnu|        4G|212762640808|     inconnu|         318|        ready|     NULL|       NULL|        NULL|                NULL|          NULL|      81|      voice|      PLAN_A|       voice|minute|     flat|Appel vocal natio...|\n",
      "|   VOICE_NAT|212621948629|1c44c33c-6fb4-4b0...|2025-05-02 22:18:34|      inconnu|        4G|212621948629|212761348058|         596|        ready|     NULL|       NULL|        NULL|                NULL|          NULL|     178|      voice|      PLAN_B|       voice|minute|     flat|Appel vocal natio...|\n",
      "|   VOICE_NAT|212621948629|ed62e171-ed1c-4d9...|2025-05-02 16:50:06|      inconnu|        5G|212621948629|212754831596|         419|        ready|     NULL|       NULL|        NULL|                NULL|          NULL|     156|      voice|      PLAN_B|       voice|minute|     flat|Appel vocal natio...|\n",
      "+------------+------------+--------------------+-------------------+-------------+----------+------------+------------+------------+-------------+---------+-----------+------------+--------------------+--------------+--------+-----------+------------+------------+------+---------+--------------------+\n",
      "only showing top 20 rows\n",
      "\n"
     ]
    }
   ],
   "source": [
    "# ─── jointure produit (rate_type, service_type) ────────────────────────\n",
    "cdrs2 = cdrs1.join(catalogDf, on=\"product_code\", how=\"left\")\n",
    "cdrs2.show()"
   ]
  },
  {
   "cell_type": "code",
   "execution_count": 9,
   "id": "6212e60b",
   "metadata": {
    "execution": {
     "iopub.execute_input": "2025-06-15T15:38:04.846142Z",
     "iopub.status.busy": "2025-06-15T15:38:04.845146Z",
     "iopub.status.idle": "2025-06-15T15:38:04.887673Z",
     "shell.execute_reply": "2025-06-15T15:38:04.885672Z"
    },
    "papermill": {
     "duration": 0.054531,
     "end_time": "2025-06-15T15:38:04.889673",
     "exception": false,
     "start_time": "2025-06-15T15:38:04.835142",
     "status": "completed"
    },
    "tags": []
   },
   "outputs": [],
   "source": [
    "cdrs3 = cdrs2.join(ratePlansDf,\n",
    "                   on=[\"rate_plan_id\", \"product_code\"],\n",
    "                   how=\"left\")"
   ]
  },
  {
   "cell_type": "code",
   "execution_count": 10,
   "id": "dde74800",
   "metadata": {
    "execution": {
     "iopub.execute_input": "2025-06-15T15:38:04.909675Z",
     "iopub.status.busy": "2025-06-15T15:38:04.909675Z",
     "iopub.status.idle": "2025-06-15T15:38:06.259154Z",
     "shell.execute_reply": "2025-06-15T15:38:06.258443Z"
    },
    "papermill": {
     "duration": 1.364489,
     "end_time": "2025-06-15T15:38:06.262162",
     "exception": false,
     "start_time": "2025-06-15T15:38:04.897673",
     "status": "completed"
    },
    "tags": []
   },
   "outputs": [
    {
     "name": "stdout",
     "output_type": "stream",
     "text": [
      "+------------+------------+------------+--------------------+-------------------+-------------+----------+------------+------------+------------+-------------+---------+-----------+------------+--------------------+--------------+--------+-----------+------------+------+---------+--------------------+------------+----------+----------+--------------+----------+\n",
      "|rate_plan_id|product_code| customer_id|           record_ID|          timestamp|      cell_id|technology|   caller_id|   callee_id|duration_sec|rating_status|sender_id|receiver_id|     user_id|session_duration_sec|data_volume_mb|batch_id|record_type|service_type|  unit|rate_type|         description|service_type|unit_price|free_units|tier_threshold|tier_price|\n",
      "+------------+------------+------------+--------------------+-------------------+-------------+----------+------------+------------+------------+-------------+---------+-----------+------------+--------------------+--------------+--------+-----------+------------+------+---------+--------------------+------------+----------+----------+--------------+----------+\n",
      "|      PLAN_B|  DATA_BASIC|212621008730|d43f55d8-b4d5-4c7...|2025-05-02 00:15:34|      inconnu|        4G|        NULL|        NULL|        NULL| needs_review|     NULL|       NULL|212621008730|                  63|       inconnu|      90|       data|        data|    MB|     flat|Session Data basi...|        data|     0.022|        25|          NULL|      NULL|\n",
      "|      PLAN_B|  DATA_BASIC|212621008730|9419911b-09b8-463...|2025-05-02 22:01:19|    MEKNES_02|        3G|        NULL|        NULL|        NULL|        ready|     NULL|       NULL|212621008730|                 412|       1832.44|     177|       data|        data|    MB|     flat|Session Data basi...|        data|     0.022|        25|          NULL|      NULL|\n",
      "|      PLAN_B|   VOICE_NAT|212621008730|3aa4e9d1-8987-40d...|2025-05-03 03:18:51| ALHOCEIMA_02|        4G|212621008730|212610784403|          41|        ready|     NULL|       NULL|        NULL|                NULL|          NULL|     198|      voice|       voice|minute|     flat|Appel vocal natio...|       voice|     0.012|         6|          NULL|      NULL|\n",
      "|      PLAN_B|   VOICE_NAT|212621008730|8185a725-d6e1-45f...|2025-05-01 07:56:55| MARRAKECH_01|        5G|212621008730|212772638577|         595|        ready|     NULL|       NULL|        NULL|                NULL|          NULL|      28|      voice|       voice|minute|     flat|Appel vocal natio...|       voice|     0.012|         6|          NULL|      NULL|\n",
      "|      PLAN_C|  DATA_BASIC|212705083484|37ff5da4-f378-426...|2025-05-02 21:44:39|     NADOR_01|        5G|        NULL|        NULL|        NULL| needs_review|     NULL|       NULL|212705083484|                 572|       inconnu|     176|       data|        data|    MB|     flat|Session Data basi...|        data|     0.018|        20|          NULL|      NULL|\n",
      "|      PLAN_C|DATA_PREMIUM|212705083484|e25d82de-e528-4c2...|2025-05-01 17:24:05|   TETOUAN_01|        5G|        NULL|        NULL|        NULL| needs_review|     NULL|       NULL|212705083484|             inconnu|       1422.08|      64|       data|        data|    MB|   tiered|Session Data prem...|        data|     0.015|        40|          2048|      0.05|\n",
      "|      PLAN_C|   VOICE_NAT|212705083484|cb6d828d-6e10-4aa...|2025-05-01 15:48:22| MARRAKECH_01|        2G|212705083484|212662415646|         599|        ready|     NULL|       NULL|        NULL|                NULL|          NULL|      58|      voice|       voice|minute|     flat|Appel vocal natio...|       voice|     0.008|        10|          NULL|      NULL|\n",
      "|      PLAN_C|  DATA_BASIC|212705083484|7261f71b-3337-4fe...|2025-05-02 20:22:22|      SAFI_01|        4G|        NULL|        NULL|        NULL| needs_review|     NULL|       NULL|212705083484|             inconnu|        185.34|     171|       data|        data|    MB|     flat|Session Data basi...|        data|     0.018|        20|          NULL|      NULL|\n",
      "|      PLAN_C|  DATA_BASIC|212705083484|4240f23a-6471-432...|2025-05-01 15:00:07|    MEKNES_02|        5G|        NULL|        NULL|        NULL| needs_review|     NULL|       NULL|212705083484|             inconnu|       1095.99|      56|       data|        data|    MB|     flat|Session Data basi...|        data|     0.018|        20|          NULL|      NULL|\n",
      "|      PLAN_C|   VOICE_NAT|212705083484|ee513bc4-fd56-4d9...|2025-05-03 11:25:58|       FES_02|        4G|212705083484|     inconnu|         417|        ready|     NULL|       NULL|        NULL|                NULL|          NULL|     230|      voice|       voice|minute|     flat|Appel vocal natio...|       voice|     0.008|        10|          NULL|      NULL|\n",
      "|      PLAN_C|   VOICE_INT|212705083484|ac825e85-a60c-43b...|2025-05-02 09:07:28|CASABLANCA_04|        4G|212705083484|966397209517|         229|        ready|     NULL|       NULL|        NULL|                NULL|          NULL|     125|      voice|       voice|minute|     flat|Appel vocal inter...|       voice|     0.018|         0|          NULL|      NULL|\n",
      "|      PLAN_C|   VOICE_NAT|212705083484|cde99256-6a14-42f...|2025-05-03 00:09:54|      inconnu|        4G|212705083484|212619130859|         386|        ready|     NULL|       NULL|        NULL|                NULL|          NULL|     185|      voice|       voice|minute|     flat|Appel vocal natio...|       voice|     0.008|        10|          NULL|      NULL|\n",
      "|      PLAN_B|   VOICE_NAT|212742643119|c8a30cc5-7cd1-49e...|2025-05-01 08:33:37|      inconnu|        3G|212742643119|212720549809|          50|        ready|     NULL|       NULL|        NULL|                NULL|          NULL|      31|      voice|       voice|minute|     flat|Appel vocal natio...|       voice|     0.012|         6|          NULL|      NULL|\n",
      "|      PLAN_B|   VOICE_NAT|212742643119|bd64208a-34f8-441...|2025-05-02 23:32:30|      SAFI_01|        4G|212742643119|212643307676|         557|        ready|     NULL|       NULL|        NULL|                NULL|          NULL|     182|      voice|       voice|minute|     flat|Appel vocal natio...|       voice|     0.012|         6|          NULL|      NULL|\n",
      "|      PLAN_B|   VOICE_NAT|212742643119|05bac639-ced1-407...|2025-05-01 15:15:07|    DAKHLA_01|        4G|212742643119|212612310416|         591|        ready|     NULL|       NULL|        NULL|                NULL|          NULL|      57|      voice|       voice|minute|     flat|Appel vocal natio...|       voice|     0.012|         6|          NULL|      NULL|\n",
      "|      PLAN_C|   VOICE_INT|212625950696|45df25e8-31e8-4d2...|2025-05-02 01:01:24|    MEKNES_01|        4G|212625950696|397678555385|         291|        ready|     NULL|       NULL|        NULL|                NULL|          NULL|      93|      voice|       voice|minute|     flat|Appel vocal inter...|       voice|     0.018|         0|          NULL|      NULL|\n",
      "|      PLAN_C|  DATA_BASIC|212664805555|3b28cda8-4962-45c...|2025-05-01 06:26:48|    DAKHLA_01|        3G|        NULL|        NULL|        NULL|        ready|     NULL|       NULL|212664805555|                 215|       1832.94|      22|       data|        data|    MB|     flat|Session Data basi...|        data|     0.018|        20|          NULL|      NULL|\n",
      "|      PLAN_A|   VOICE_NAT|212762640808|3daeae7c-c7b1-499...|2025-05-01 21:52:39|      inconnu|        4G|212762640808|     inconnu|         318|        ready|     NULL|       NULL|        NULL|                NULL|          NULL|      81|      voice|       voice|minute|     flat|Appel vocal natio...|       voice|      0.01|         5|          NULL|      NULL|\n",
      "|      PLAN_B|   VOICE_NAT|212621948629|1c44c33c-6fb4-4b0...|2025-05-02 22:18:34|      inconnu|        4G|212621948629|212761348058|         596|        ready|     NULL|       NULL|        NULL|                NULL|          NULL|     178|      voice|       voice|minute|     flat|Appel vocal natio...|       voice|     0.012|         6|          NULL|      NULL|\n",
      "|      PLAN_B|   VOICE_NAT|212621948629|ed62e171-ed1c-4d9...|2025-05-02 16:50:06|      inconnu|        5G|212621948629|212754831596|         419|        ready|     NULL|       NULL|        NULL|                NULL|          NULL|     156|      voice|       voice|minute|     flat|Appel vocal natio...|       voice|     0.012|         6|          NULL|      NULL|\n",
      "+------------+------------+------------+--------------------+-------------------+-------------+----------+------------+------------+------------+-------------+---------+-----------+------------+--------------------+--------------+--------+-----------+------------+------+---------+--------------------+------------+----------+----------+--------------+----------+\n",
      "only showing top 20 rows\n",
      "\n"
     ]
    }
   ],
   "source": [
    "cdrs3.show()"
   ]
  },
  {
   "cell_type": "code",
   "execution_count": 11,
   "id": "bd2697ab",
   "metadata": {
    "execution": {
     "iopub.execute_input": "2025-06-15T15:38:06.279169Z",
     "iopub.status.busy": "2025-06-15T15:38:06.278168Z",
     "iopub.status.idle": "2025-06-15T15:38:08.174980Z",
     "shell.execute_reply": "2025-06-15T15:38:08.172977Z"
    },
    "papermill": {
     "duration": 1.907808,
     "end_time": "2025-06-15T15:38:08.177974",
     "exception": false,
     "start_time": "2025-06-15T15:38:06.270166",
     "status": "completed"
    },
    "tags": []
   },
   "outputs": [
    {
     "name": "stdout",
     "output_type": "stream",
     "text": [
      "+------------+------------+------------+--------------------+-------------------+-------------+----------+------------+------------+------------+-------------+---------+-----------+------------+--------------------+--------------+--------+-----------+------+---------+--------------------+----------+----------+--------------+----------+\n",
      "|rate_plan_id|product_code| customer_id|           record_ID|          timestamp|      cell_id|technology|   caller_id|   callee_id|duration_sec|rating_status|sender_id|receiver_id|     user_id|session_duration_sec|data_volume_mb|batch_id|record_type|  unit|rate_type|         description|unit_price|free_units|tier_threshold|tier_price|\n",
      "+------------+------------+------------+--------------------+-------------------+-------------+----------+------------+------------+------------+-------------+---------+-----------+------------+--------------------+--------------+--------+-----------+------+---------+--------------------+----------+----------+--------------+----------+\n",
      "|      PLAN_B|  DATA_BASIC|212621008730|d43f55d8-b4d5-4c7...|2025-05-02 00:15:34|      inconnu|        4G|        NULL|        NULL|        NULL| needs_review|     NULL|       NULL|212621008730|                  63|       inconnu|      90|       data|    MB|     flat|Session Data basi...|     0.022|        25|          NULL|      NULL|\n",
      "|      PLAN_B|  DATA_BASIC|212621008730|9419911b-09b8-463...|2025-05-02 22:01:19|    MEKNES_02|        3G|        NULL|        NULL|        NULL|        ready|     NULL|       NULL|212621008730|                 412|       1832.44|     177|       data|    MB|     flat|Session Data basi...|     0.022|        25|          NULL|      NULL|\n",
      "|      PLAN_B|   VOICE_NAT|212621008730|3aa4e9d1-8987-40d...|2025-05-03 03:18:51| ALHOCEIMA_02|        4G|212621008730|212610784403|          41|        ready|     NULL|       NULL|        NULL|                NULL|          NULL|     198|      voice|minute|     flat|Appel vocal natio...|     0.012|         6|          NULL|      NULL|\n",
      "|      PLAN_B|   VOICE_NAT|212621008730|8185a725-d6e1-45f...|2025-05-01 07:56:55| MARRAKECH_01|        5G|212621008730|212772638577|         595|        ready|     NULL|       NULL|        NULL|                NULL|          NULL|      28|      voice|minute|     flat|Appel vocal natio...|     0.012|         6|          NULL|      NULL|\n",
      "|      PLAN_C|  DATA_BASIC|212705083484|37ff5da4-f378-426...|2025-05-02 21:44:39|     NADOR_01|        5G|        NULL|        NULL|        NULL| needs_review|     NULL|       NULL|212705083484|                 572|       inconnu|     176|       data|    MB|     flat|Session Data basi...|     0.018|        20|          NULL|      NULL|\n",
      "|      PLAN_C|DATA_PREMIUM|212705083484|e25d82de-e528-4c2...|2025-05-01 17:24:05|   TETOUAN_01|        5G|        NULL|        NULL|        NULL| needs_review|     NULL|       NULL|212705083484|             inconnu|       1422.08|      64|       data|    MB|   tiered|Session Data prem...|     0.015|        40|          2048|      0.05|\n",
      "|      PLAN_C|   VOICE_NAT|212705083484|cb6d828d-6e10-4aa...|2025-05-01 15:48:22| MARRAKECH_01|        2G|212705083484|212662415646|         599|        ready|     NULL|       NULL|        NULL|                NULL|          NULL|      58|      voice|minute|     flat|Appel vocal natio...|     0.008|        10|          NULL|      NULL|\n",
      "|      PLAN_C|  DATA_BASIC|212705083484|7261f71b-3337-4fe...|2025-05-02 20:22:22|      SAFI_01|        4G|        NULL|        NULL|        NULL| needs_review|     NULL|       NULL|212705083484|             inconnu|        185.34|     171|       data|    MB|     flat|Session Data basi...|     0.018|        20|          NULL|      NULL|\n",
      "|      PLAN_C|  DATA_BASIC|212705083484|4240f23a-6471-432...|2025-05-01 15:00:07|    MEKNES_02|        5G|        NULL|        NULL|        NULL| needs_review|     NULL|       NULL|212705083484|             inconnu|       1095.99|      56|       data|    MB|     flat|Session Data basi...|     0.018|        20|          NULL|      NULL|\n",
      "|      PLAN_C|   VOICE_NAT|212705083484|ee513bc4-fd56-4d9...|2025-05-03 11:25:58|       FES_02|        4G|212705083484|     inconnu|         417|        ready|     NULL|       NULL|        NULL|                NULL|          NULL|     230|      voice|minute|     flat|Appel vocal natio...|     0.008|        10|          NULL|      NULL|\n",
      "|      PLAN_C|   VOICE_INT|212705083484|ac825e85-a60c-43b...|2025-05-02 09:07:28|CASABLANCA_04|        4G|212705083484|966397209517|         229|        ready|     NULL|       NULL|        NULL|                NULL|          NULL|     125|      voice|minute|     flat|Appel vocal inter...|     0.018|         0|          NULL|      NULL|\n",
      "|      PLAN_C|   VOICE_NAT|212705083484|cde99256-6a14-42f...|2025-05-03 00:09:54|      inconnu|        4G|212705083484|212619130859|         386|        ready|     NULL|       NULL|        NULL|                NULL|          NULL|     185|      voice|minute|     flat|Appel vocal natio...|     0.008|        10|          NULL|      NULL|\n",
      "|      PLAN_B|   VOICE_NAT|212742643119|c8a30cc5-7cd1-49e...|2025-05-01 08:33:37|      inconnu|        3G|212742643119|212720549809|          50|        ready|     NULL|       NULL|        NULL|                NULL|          NULL|      31|      voice|minute|     flat|Appel vocal natio...|     0.012|         6|          NULL|      NULL|\n",
      "|      PLAN_B|   VOICE_NAT|212742643119|bd64208a-34f8-441...|2025-05-02 23:32:30|      SAFI_01|        4G|212742643119|212643307676|         557|        ready|     NULL|       NULL|        NULL|                NULL|          NULL|     182|      voice|minute|     flat|Appel vocal natio...|     0.012|         6|          NULL|      NULL|\n",
      "|      PLAN_B|   VOICE_NAT|212742643119|05bac639-ced1-407...|2025-05-01 15:15:07|    DAKHLA_01|        4G|212742643119|212612310416|         591|        ready|     NULL|       NULL|        NULL|                NULL|          NULL|      57|      voice|minute|     flat|Appel vocal natio...|     0.012|         6|          NULL|      NULL|\n",
      "|      PLAN_C|   VOICE_INT|212625950696|45df25e8-31e8-4d2...|2025-05-02 01:01:24|    MEKNES_01|        4G|212625950696|397678555385|         291|        ready|     NULL|       NULL|        NULL|                NULL|          NULL|      93|      voice|minute|     flat|Appel vocal inter...|     0.018|         0|          NULL|      NULL|\n",
      "|      PLAN_C|  DATA_BASIC|212664805555|3b28cda8-4962-45c...|2025-05-01 06:26:48|    DAKHLA_01|        3G|        NULL|        NULL|        NULL|        ready|     NULL|       NULL|212664805555|                 215|       1832.94|      22|       data|    MB|     flat|Session Data basi...|     0.018|        20|          NULL|      NULL|\n",
      "|      PLAN_A|   VOICE_NAT|212762640808|3daeae7c-c7b1-499...|2025-05-01 21:52:39|      inconnu|        4G|212762640808|     inconnu|         318|        ready|     NULL|       NULL|        NULL|                NULL|          NULL|      81|      voice|minute|     flat|Appel vocal natio...|      0.01|         5|          NULL|      NULL|\n",
      "|      PLAN_B|   VOICE_NAT|212621948629|1c44c33c-6fb4-4b0...|2025-05-02 22:18:34|      inconnu|        4G|212621948629|212761348058|         596|        ready|     NULL|       NULL|        NULL|                NULL|          NULL|     178|      voice|minute|     flat|Appel vocal natio...|     0.012|         6|          NULL|      NULL|\n",
      "|      PLAN_B|   VOICE_NAT|212621948629|ed62e171-ed1c-4d9...|2025-05-02 16:50:06|      inconnu|        5G|212621948629|212754831596|         419|        ready|     NULL|       NULL|        NULL|                NULL|          NULL|     156|      voice|minute|     flat|Appel vocal natio...|     0.012|         6|          NULL|      NULL|\n",
      "+------------+------------+------------+--------------------+-------------------+-------------+----------+------------+------------+------------+-------------+---------+-----------+------------+--------------------+--------------+--------+-----------+------+---------+--------------------+----------+----------+--------------+----------+\n",
      "only showing top 20 rows\n",
      "\n"
     ]
    }
   ],
   "source": [
    "cdrs3=cdrs3.drop(\"service_type\")\n",
    "cdrs3.show()"
   ]
  },
  {
   "cell_type": "code",
   "execution_count": 12,
   "id": "a1b07d59",
   "metadata": {
    "execution": {
     "iopub.execute_input": "2025-06-15T15:38:08.199493Z",
     "iopub.status.busy": "2025-06-15T15:38:08.199493Z",
     "iopub.status.idle": "2025-06-15T15:38:08.347579Z",
     "shell.execute_reply": "2025-06-15T15:38:08.346579Z"
    },
    "papermill": {
     "duration": 0.162086,
     "end_time": "2025-06-15T15:38:08.349577",
     "exception": false,
     "start_time": "2025-06-15T15:38:08.187491",
     "status": "completed"
    },
    "tags": []
   },
   "outputs": [],
   "source": [
    "from pyspark.sql.functions import col, min as spark_min\n",
    "\n",
    "agg = (cdrs3\n",
    "       .filter(col(\"record_type\") == \"data\")\n",
    "       .groupBy(\"customer_id\")\n",
    "       .agg(\n",
    "           spark_min(\"data_volume_mb\")\n",
    "           .alias(\"user_min_mb\")\n",
    "       )\n",
    ")\n",
    "\n",
    "cdrs4 = cdrs3.join(agg, on=\"customer_id\", how=\"left\")"
   ]
  },
  {
   "cell_type": "code",
   "execution_count": 13,
   "id": "31aa9336",
   "metadata": {
    "execution": {
     "iopub.execute_input": "2025-06-15T15:38:08.364579Z",
     "iopub.status.busy": "2025-06-15T15:38:08.364579Z",
     "iopub.status.idle": "2025-06-15T15:38:11.228601Z",
     "shell.execute_reply": "2025-06-15T15:38:11.227600Z"
    },
    "papermill": {
     "duration": 2.875029,
     "end_time": "2025-06-15T15:38:11.230607",
     "exception": false,
     "start_time": "2025-06-15T15:38:08.355578",
     "status": "completed"
    },
    "tags": []
   },
   "outputs": [
    {
     "name": "stdout",
     "output_type": "stream",
     "text": [
      "+------------+------------+------------+--------------------+-------------------+-------------+----------+------------+------------+------------+-------------+---------+-----------+------------+--------------------+--------------+--------+-----------+------+---------+--------------------+----------+----------+--------------+----------+-----------+\n",
      "| customer_id|rate_plan_id|product_code|           record_ID|          timestamp|      cell_id|technology|   caller_id|   callee_id|duration_sec|rating_status|sender_id|receiver_id|     user_id|session_duration_sec|data_volume_mb|batch_id|record_type|  unit|rate_type|         description|unit_price|free_units|tier_threshold|tier_price|user_min_mb|\n",
      "+------------+------------+------------+--------------------+-------------------+-------------+----------+------------+------------+------------+-------------+---------+-----------+------------+--------------------+--------------+--------+-----------+------+---------+--------------------+----------+----------+--------------+----------+-----------+\n",
      "|212705083484|      PLAN_C|  DATA_BASIC|37ff5da4-f378-426...|2025-05-02 21:44:39|     NADOR_01|        5G|        NULL|        NULL|        NULL| needs_review|     NULL|       NULL|212705083484|                 572|       inconnu|     176|       data|    MB|     flat|Session Data basi...|     0.018|        20|          NULL|      NULL|    1095.99|\n",
      "|212705083484|      PLAN_C|DATA_PREMIUM|e25d82de-e528-4c2...|2025-05-01 17:24:05|   TETOUAN_01|        5G|        NULL|        NULL|        NULL| needs_review|     NULL|       NULL|212705083484|             inconnu|       1422.08|      64|       data|    MB|   tiered|Session Data prem...|     0.015|        40|          2048|      0.05|    1095.99|\n",
      "|212705083484|      PLAN_C|   VOICE_NAT|cb6d828d-6e10-4aa...|2025-05-01 15:48:22| MARRAKECH_01|        2G|212705083484|212662415646|         599|        ready|     NULL|       NULL|        NULL|                NULL|          NULL|      58|      voice|minute|     flat|Appel vocal natio...|     0.008|        10|          NULL|      NULL|    1095.99|\n",
      "|212705083484|      PLAN_C|  DATA_BASIC|7261f71b-3337-4fe...|2025-05-02 20:22:22|      SAFI_01|        4G|        NULL|        NULL|        NULL| needs_review|     NULL|       NULL|212705083484|             inconnu|        185.34|     171|       data|    MB|     flat|Session Data basi...|     0.018|        20|          NULL|      NULL|    1095.99|\n",
      "|212705083484|      PLAN_C|  DATA_BASIC|4240f23a-6471-432...|2025-05-01 15:00:07|    MEKNES_02|        5G|        NULL|        NULL|        NULL| needs_review|     NULL|       NULL|212705083484|             inconnu|       1095.99|      56|       data|    MB|     flat|Session Data basi...|     0.018|        20|          NULL|      NULL|    1095.99|\n",
      "|212705083484|      PLAN_C|   VOICE_NAT|ee513bc4-fd56-4d9...|2025-05-03 11:25:58|       FES_02|        4G|212705083484|     inconnu|         417|        ready|     NULL|       NULL|        NULL|                NULL|          NULL|     230|      voice|minute|     flat|Appel vocal natio...|     0.008|        10|          NULL|      NULL|    1095.99|\n",
      "|212705083484|      PLAN_C|   VOICE_INT|ac825e85-a60c-43b...|2025-05-02 09:07:28|CASABLANCA_04|        4G|212705083484|966397209517|         229|        ready|     NULL|       NULL|        NULL|                NULL|          NULL|     125|      voice|minute|     flat|Appel vocal inter...|     0.018|         0|          NULL|      NULL|    1095.99|\n",
      "|212705083484|      PLAN_C|   VOICE_NAT|cde99256-6a14-42f...|2025-05-03 00:09:54|      inconnu|        4G|212705083484|212619130859|         386|        ready|     NULL|       NULL|        NULL|                NULL|          NULL|     185|      voice|minute|     flat|Appel vocal natio...|     0.008|        10|          NULL|      NULL|    1095.99|\n",
      "|212742643119|      PLAN_B|   VOICE_NAT|c8a30cc5-7cd1-49e...|2025-05-01 08:33:37|      inconnu|        3G|212742643119|212720549809|          50|        ready|     NULL|       NULL|        NULL|                NULL|          NULL|      31|      voice|minute|     flat|Appel vocal natio...|     0.012|         6|          NULL|      NULL|       NULL|\n",
      "|212742643119|      PLAN_B|   VOICE_NAT|bd64208a-34f8-441...|2025-05-02 23:32:30|      SAFI_01|        4G|212742643119|212643307676|         557|        ready|     NULL|       NULL|        NULL|                NULL|          NULL|     182|      voice|minute|     flat|Appel vocal natio...|     0.012|         6|          NULL|      NULL|       NULL|\n",
      "|212742643119|      PLAN_B|   VOICE_NAT|05bac639-ced1-407...|2025-05-01 15:15:07|    DAKHLA_01|        4G|212742643119|212612310416|         591|        ready|     NULL|       NULL|        NULL|                NULL|          NULL|      57|      voice|minute|     flat|Appel vocal natio...|     0.012|         6|          NULL|      NULL|       NULL|\n",
      "|212625950696|      PLAN_C|   VOICE_INT|45df25e8-31e8-4d2...|2025-05-02 01:01:24|    MEKNES_01|        4G|212625950696|397678555385|         291|        ready|     NULL|       NULL|        NULL|                NULL|          NULL|      93|      voice|minute|     flat|Appel vocal inter...|     0.018|         0|          NULL|      NULL|       NULL|\n",
      "|212664805555|      PLAN_C|  DATA_BASIC|3b28cda8-4962-45c...|2025-05-01 06:26:48|    DAKHLA_01|        3G|        NULL|        NULL|        NULL|        ready|     NULL|       NULL|212664805555|                 215|       1832.94|      22|       data|    MB|     flat|Session Data basi...|     0.018|        20|          NULL|      NULL|    1832.94|\n",
      "|212762640808|      PLAN_A|   VOICE_NAT|3daeae7c-c7b1-499...|2025-05-01 21:52:39|      inconnu|        4G|212762640808|     inconnu|         318|        ready|     NULL|       NULL|        NULL|                NULL|          NULL|      81|      voice|minute|     flat|Appel vocal natio...|      0.01|         5|          NULL|      NULL|       NULL|\n",
      "|212621948629|      PLAN_B|   VOICE_NAT|1c44c33c-6fb4-4b0...|2025-05-02 22:18:34|      inconnu|        4G|212621948629|212761348058|         596|        ready|     NULL|       NULL|        NULL|                NULL|          NULL|     178|      voice|minute|     flat|Appel vocal natio...|     0.012|         6|          NULL|      NULL|       NULL|\n",
      "|212621948629|      PLAN_B|   VOICE_NAT|ed62e171-ed1c-4d9...|2025-05-02 16:50:06|      inconnu|        5G|212621948629|212754831596|         419|        ready|     NULL|       NULL|        NULL|                NULL|          NULL|     156|      voice|minute|     flat|Appel vocal natio...|     0.012|         6|          NULL|      NULL|       NULL|\n",
      "|212621948629|      PLAN_B|   VOICE_NAT|4bc5b5fa-65e8-4ae...|2025-05-03 04:03:22| ALHOCEIMA_01|        3G|212621948629|212732185195|         507|        ready|     NULL|       NULL|        NULL|                NULL|          NULL|     200|      voice|minute|     flat|Appel vocal natio...|     0.012|         6|          NULL|      NULL|       NULL|\n",
      "|212621008730|      PLAN_B|  DATA_BASIC|d43f55d8-b4d5-4c7...|2025-05-02 00:15:34|      inconnu|        4G|        NULL|        NULL|        NULL| needs_review|     NULL|       NULL|212621008730|                  63|       inconnu|      90|       data|    MB|     flat|Session Data basi...|     0.022|        25|          NULL|      NULL|    1832.44|\n",
      "|212621008730|      PLAN_B|  DATA_BASIC|9419911b-09b8-463...|2025-05-02 22:01:19|    MEKNES_02|        3G|        NULL|        NULL|        NULL|        ready|     NULL|       NULL|212621008730|                 412|       1832.44|     177|       data|    MB|     flat|Session Data basi...|     0.022|        25|          NULL|      NULL|    1832.44|\n",
      "|212621008730|      PLAN_B|   VOICE_NAT|3aa4e9d1-8987-40d...|2025-05-03 03:18:51| ALHOCEIMA_02|        4G|212621008730|212610784403|          41|        ready|     NULL|       NULL|        NULL|                NULL|          NULL|     198|      voice|minute|     flat|Appel vocal natio...|     0.012|         6|          NULL|      NULL|    1832.44|\n",
      "+------------+------------+------------+--------------------+-------------------+-------------+----------+------------+------------+------------+-------------+---------+-----------+------------+--------------------+--------------+--------+-----------+------+---------+--------------------+----------+----------+--------------+----------+-----------+\n",
      "only showing top 20 rows\n",
      "\n"
     ]
    }
   ],
   "source": [
    "cdrs4.show()"
   ]
  },
  {
   "cell_type": "code",
   "execution_count": 14,
   "id": "95afade2",
   "metadata": {
    "execution": {
     "iopub.execute_input": "2025-06-15T15:38:11.244610Z",
     "iopub.status.busy": "2025-06-15T15:38:11.244610Z",
     "iopub.status.idle": "2025-06-15T15:38:11.290046Z",
     "shell.execute_reply": "2025-06-15T15:38:11.289041Z"
    },
    "papermill": {
     "duration": 0.053431,
     "end_time": "2025-06-15T15:38:11.291043",
     "exception": false,
     "start_time": "2025-06-15T15:38:11.237612",
     "status": "completed"
    },
    "tags": []
   },
   "outputs": [],
   "source": [
    "cdrs4 = cdrs4.withColumn(\n",
    "    \"data_volume_mb\",\n",
    "    when( (col(\"data_volume_mb\")==\"inconnu\"), col(\"user_min_mb\"))\n",
    "    .otherwise(col(\"data_volume_mb\"))\n",
    ")"
   ]
  },
  {
   "cell_type": "code",
   "execution_count": 15,
   "id": "1767020d",
   "metadata": {
    "execution": {
     "iopub.execute_input": "2025-06-15T15:38:11.301041Z",
     "iopub.status.busy": "2025-06-15T15:38:11.301041Z",
     "iopub.status.idle": "2025-06-15T15:38:11.337044Z",
     "shell.execute_reply": "2025-06-15T15:38:11.336042Z"
    },
    "papermill": {
     "duration": 0.043005,
     "end_time": "2025-06-15T15:38:11.339046",
     "exception": false,
     "start_time": "2025-06-15T15:38:11.296041",
     "status": "completed"
    },
    "tags": []
   },
   "outputs": [],
   "source": [
    "cdrs4 = cdrs4.withColumn(\n",
    "    \"data_volume_mb\",\n",
    "    when( ((col(\"user_min_mb\")==\"inconnu\") &(col(\"data_volume_mb\")==\"inconnu\")), lit(0)).otherwise(col(\"data_volume_mb\")))"
   ]
  },
  {
   "cell_type": "code",
   "execution_count": 16,
   "id": "0c150671",
   "metadata": {
    "execution": {
     "iopub.execute_input": "2025-06-15T15:38:11.358041Z",
     "iopub.status.busy": "2025-06-15T15:38:11.358041Z",
     "iopub.status.idle": "2025-06-15T15:38:11.399566Z",
     "shell.execute_reply": "2025-06-15T15:38:11.398564Z"
    },
    "papermill": {
     "duration": 0.054524,
     "end_time": "2025-06-15T15:38:11.401566",
     "exception": false,
     "start_time": "2025-06-15T15:38:11.347042",
     "status": "completed"
    },
    "tags": []
   },
   "outputs": [],
   "source": [
    "cdrs4 = cdrs4.withColumn(\n",
    "    \"rating_status\",\n",
    "    when((col(\"rating_status\")==\"needs_review\")&(col(\"data_volume_mb\")==\"inconnu\"), \"unmatched\").otherwise(col(\"rating_status\"))\n",
    ")"
   ]
  },
  {
   "cell_type": "code",
   "execution_count": 17,
   "id": "4e867c4a",
   "metadata": {
    "execution": {
     "iopub.execute_input": "2025-06-15T15:38:11.416566Z",
     "iopub.status.busy": "2025-06-15T15:38:11.415566Z",
     "iopub.status.idle": "2025-06-15T15:38:11.446563Z",
     "shell.execute_reply": "2025-06-15T15:38:11.445562Z"
    },
    "papermill": {
     "duration": 0.039999,
     "end_time": "2025-06-15T15:38:11.447562",
     "exception": false,
     "start_time": "2025-06-15T15:38:11.407563",
     "status": "completed"
    },
    "tags": []
   },
   "outputs": [],
   "source": [
    "cdrs4 = cdrs4.withColumn(\n",
    "    \"rating_status\",\n",
    "    when((col(\"rating_status\")==\"needs_review\"), \"ready\").otherwise(col(\"rating_status\"))\n",
    ")"
   ]
  },
  {
   "cell_type": "code",
   "execution_count": 18,
   "id": "ceac3ad1",
   "metadata": {
    "execution": {
     "iopub.execute_input": "2025-06-15T15:38:11.458565Z",
     "iopub.status.busy": "2025-06-15T15:38:11.457562Z",
     "iopub.status.idle": "2025-06-15T15:38:13.184095Z",
     "shell.execute_reply": "2025-06-15T15:38:13.183094Z"
    },
    "papermill": {
     "duration": 1.734534,
     "end_time": "2025-06-15T15:38:13.186096",
     "exception": false,
     "start_time": "2025-06-15T15:38:11.451562",
     "status": "completed"
    },
    "tags": []
   },
   "outputs": [
    {
     "name": "stdout",
     "output_type": "stream",
     "text": [
      "+------------+------------+------------+--------------------+-------------------+-------------+----------+------------+------------+------------+-------------+------------+------------+------------+--------------------+--------------+--------+-----------+------+---------+--------------------+----------+----------+--------------+----------+-----------+\n",
      "| customer_id|rate_plan_id|product_code|           record_ID|          timestamp|      cell_id|technology|   caller_id|   callee_id|duration_sec|rating_status|   sender_id| receiver_id|     user_id|session_duration_sec|data_volume_mb|batch_id|record_type|  unit|rate_type|         description|unit_price|free_units|tier_threshold|tier_price|user_min_mb|\n",
      "+------------+------------+------------+--------------------+-------------------+-------------+----------+------------+------------+------------+-------------+------------+------------+------------+--------------------+--------------+--------+-----------+------+---------+--------------------+----------+----------+--------------+----------+-----------+\n",
      "|212764953121|      PLAN_C|  DATA_BASIC|9978b922-ac5b-4d0...|2025-05-02 02:33:49|  ELJADIDA_01|        3G|        NULL|        NULL|        NULL|        ready|        NULL|        NULL|212764953121|                 306|             0|     100|       data|    MB|     flat|Session Data basi...|     0.018|        20|          NULL|      NULL|    inconnu|\n",
      "|212764953121|      PLAN_C|   VOICE_NAT|ebb475d0-24d0-483...|2025-05-02 02:07:13|      inconnu|        4G|212764953121|212734954853|         438|        ready|        NULL|        NULL|        NULL|                NULL|          NULL|      98|      voice|minute|     flat|Appel vocal natio...|     0.008|        10|          NULL|      NULL|    inconnu|\n",
      "|212764953121|      PLAN_C|   VOICE_NAT|71ec7d3d-91f5-4f2...|2025-05-01 07:09:47| ALHOCEIMA_02|        3G|212764953121|     inconnu|         526|        ready|        NULL|        NULL|        NULL|                NULL|          NULL|      25|      voice|minute|     flat|Appel vocal natio...|     0.008|        10|          NULL|      NULL|    inconnu|\n",
      "|212723753825|      PLAN_A|  DATA_BASIC|9fddad0f-ee5d-486...|2025-05-01 20:02:32|   TETOUAN_01|        3G|        NULL|        NULL|        NULL|        ready|        NULL|        NULL|212723753825|                 461|        145.05|      74|       data|    MB|     flat|Session Data basi...|      0.02|        20|          NULL|      NULL|     145.05|\n",
      "|212723753825|      PLAN_A|   VOICE_NAT|b5a5c56b-3879-4f8...|2025-05-02 07:57:52|     RABAT_01|        4G|212723753825|212634978656|          17|        ready|        NULL|        NULL|        NULL|                NULL|          NULL|     121|      voice|minute|     flat|Appel vocal natio...|      0.01|         5|          NULL|      NULL|     145.05|\n",
      "|212723753825|      PLAN_A|   VOICE_INT|1e3b35cd-327a-462...|2025-05-02 07:32:19| KHOURIBGA_01|        3G|212723753825| 15060702045|         461|        ready|        NULL|        NULL|        NULL|                NULL|          NULL|     119|      voice|minute|     flat|Appel vocal inter...|      0.02|         0|          NULL|      NULL|     145.05|\n",
      "|212727833365|      PLAN_A|  DATA_BASIC|72ebab19-6949-4a1...|2025-05-01 09:36:35|      inconnu|        4G|        NULL|        NULL|        NULL|        ready|        NULL|        NULL|212727833365|                 496|        703.26|      35|       data|    MB|     flat|Session Data basi...|      0.02|        20|          NULL|      NULL|     703.26|\n",
      "|212727833365|      PLAN_A|   VOICE_NAT|0d6a3a14-a9d6-40b...|2025-05-02 05:17:23|  LAAYOUNE_01|        4G|212727833365|212603262258|         273|        ready|        NULL|        NULL|        NULL|                NULL|          NULL|     110|      voice|minute|     flat|Appel vocal natio...|      0.01|         5|          NULL|      NULL|     703.26|\n",
      "|212727833365|      PLAN_A|   VOICE_INT|e8fe975f-fcab-495...|2025-05-02 14:55:35|      inconnu|        5G|212727833365| 11254430593|         374|        ready|        NULL|        NULL|        NULL|                NULL|          NULL|     148|      voice|minute|     flat|Appel vocal inter...|      0.02|         0|          NULL|      NULL|     703.26|\n",
      "|212662162652|      PLAN_A|     SMS_NAT|fb71c6f7-588f-476...|2025-05-02 05:25:31|CASABLANCA_02|        4G|        NULL|        NULL|        NULL|        ready|212662162652|212796087428|        NULL|                NULL|          NULL|     111|        sms| event|     flat|Envoi SMS standar...|      0.04|         5|          NULL|      NULL|     620.67|\n",
      "|212662162652|      PLAN_A|   VOICE_NAT|4b48e685-2a8d-440...|2025-05-01 02:32:17|      inconnu|        2G|212662162652|212742808131|         353|        ready|        NULL|        NULL|        NULL|                NULL|          NULL|       8|      voice|minute|     flat|Appel vocal natio...|      0.01|         5|          NULL|      NULL|     620.67|\n",
      "|212662162652|      PLAN_A|  DATA_BASIC|97430b94-47cc-41f...|2025-05-03 07:44:33|      TAZA_01|        2G|        NULL|        NULL|        NULL|        ready|        NULL|        NULL|212662162652|             inconnu|        620.67|     215|       data|    MB|     flat|Session Data basi...|      0.02|        20|          NULL|      NULL|     620.67|\n",
      "|212662162652|      PLAN_A|  DATA_BASIC|e5615e4e-88b1-48c...|2025-05-01 21:28:27| ALHOCEIMA_02|        3G|        NULL|        NULL|        NULL|        ready|        NULL|        NULL|212662162652|             inconnu|        620.67|      80|       data|    MB|     flat|Session Data basi...|      0.02|        20|          NULL|      NULL|     620.67|\n",
      "|212662162652|      PLAN_A|   VOICE_INT|720548b4-935c-42b...|2025-05-03 11:08:34|   KENITRA_01|        3G|212662162652| 19607569172|         582|        ready|        NULL|        NULL|        NULL|                NULL|          NULL|     229|      voice|minute|     flat|Appel vocal inter...|      0.02|         0|          NULL|      NULL|     620.67|\n",
      "|212662162652|      PLAN_A|   VOICE_NAT|9cbd48e1-2b34-4c9...|2025-05-03 01:17:28|      inconnu|        4G|212662162652|212649517695|         284|        ready|        NULL|        NULL|        NULL|                NULL|          NULL|     190|      voice|minute|     flat|Appel vocal natio...|      0.01|         5|          NULL|      NULL|     620.67|\n",
      "|212662162652|      PLAN_A|   VOICE_INT|d352a16b-2a5a-4fd...|2025-05-02 09:55:48|      inconnu|        4G|212662162652|443416258285|         388|        ready|        NULL|        NULL|        NULL|                NULL|          NULL|     128|      voice|minute|     flat|Appel vocal inter...|      0.02|         0|          NULL|      NULL|     620.67|\n",
      "|212694280416|      PLAN_C|  DATA_BASIC|baa76179-e7fa-42b...|2025-05-03 04:39:01|CASABLANCA_03|        4G|        NULL|        NULL|        NULL|        ready|        NULL|        NULL|212694280416|                 492|       1035.45|     203|       data|    MB|     flat|Session Data basi...|     0.018|        20|          NULL|      NULL|    1035.45|\n",
      "|212629151506|      PLAN_A|   VOICE_NAT|41050083-32ab-495...|2025-05-03 03:44:04|   KENITRA_01|        4G|212629151506|212634978656|         460|        ready|        NULL|        NULL|        NULL|                NULL|          NULL|     199|      voice|minute|     flat|Appel vocal natio...|      0.01|         5|          NULL|      NULL|       NULL|\n",
      "|212629151506|      PLAN_A|   VOICE_INT|21640116-d18d-48d...|2025-05-02 04:23:15|      inconnu|        5G|212629151506| 16550037681|         384|        ready|        NULL|        NULL|        NULL|                NULL|          NULL|     107|      voice|minute|     flat|Appel vocal inter...|      0.02|         0|          NULL|      NULL|       NULL|\n",
      "|212678833394|      PLAN_A|  DATA_BASIC|a226216f-e81d-4d4...|2025-05-02 15:41:52|   KENITRA_01|        4G|        NULL|        NULL|        NULL|        ready|        NULL|        NULL|212678833394|                 379|        460.31|     152|       data|    MB|     flat|Session Data basi...|      0.02|        20|          NULL|      NULL|     460.31|\n",
      "+------------+------------+------------+--------------------+-------------------+-------------+----------+------------+------------+------------+-------------+------------+------------+------------+--------------------+--------------+--------+-----------+------+---------+--------------------+----------+----------+--------------+----------+-----------+\n",
      "only showing top 20 rows\n",
      "\n"
     ]
    }
   ],
   "source": [
    "cdrsss=cdrs4.filter(cdrs4.rating_status == \"ready\")\n",
    "cdrsss.show()"
   ]
  },
  {
   "cell_type": "code",
   "execution_count": 19,
   "id": "94a9c421",
   "metadata": {
    "execution": {
     "iopub.execute_input": "2025-06-15T15:38:13.200606Z",
     "iopub.status.busy": "2025-06-15T15:38:13.199606Z",
     "iopub.status.idle": "2025-06-15T15:38:14.701822Z",
     "shell.execute_reply": "2025-06-15T15:38:14.700817Z"
    },
    "papermill": {
     "duration": 1.511215,
     "end_time": "2025-06-15T15:38:14.703820",
     "exception": false,
     "start_time": "2025-06-15T15:38:13.192605",
     "status": "completed"
    },
    "tags": []
   },
   "outputs": [
    {
     "name": "stdout",
     "output_type": "stream",
     "text": [
      "+------------+------------+------------+--------------------+-------------------+-------------+----------+------------+------------+------------+-------------+---------+-----------+------------+--------------------+--------------+--------+-----------+------+---------+--------------------+----------+----------+--------------+----------+-----------+\n",
      "| customer_id|rate_plan_id|product_code|           record_ID|          timestamp|      cell_id|technology|   caller_id|   callee_id|duration_sec|rating_status|sender_id|receiver_id|     user_id|session_duration_sec|data_volume_mb|batch_id|record_type|  unit|rate_type|         description|unit_price|free_units|tier_threshold|tier_price|user_min_mb|\n",
      "+------------+------------+------------+--------------------+-------------------+-------------+----------+------------+------------+------------+-------------+---------+-----------+------------+--------------------+--------------+--------+-----------+------+---------+--------------------+----------+----------+--------------+----------+-----------+\n",
      "|212621008730|      PLAN_B|  DATA_BASIC|d43f55d8-b4d5-4c7...|2025-05-02 00:15:34|      inconnu|        4G|        NULL|        NULL|        NULL|        ready|     NULL|       NULL|212621008730|                  63|       1832.44|      90|       data|    MB|     flat|Session Data basi...|     0.022|        25|          NULL|      NULL|    1832.44|\n",
      "|212621008730|      PLAN_B|  DATA_BASIC|9419911b-09b8-463...|2025-05-02 22:01:19|    MEKNES_02|        3G|        NULL|        NULL|        NULL|        ready|     NULL|       NULL|212621008730|                 412|       1832.44|     177|       data|    MB|     flat|Session Data basi...|     0.022|        25|          NULL|      NULL|    1832.44|\n",
      "|212621008730|      PLAN_B|   VOICE_NAT|3aa4e9d1-8987-40d...|2025-05-03 03:18:51| ALHOCEIMA_02|        4G|212621008730|212610784403|          41|        ready|     NULL|       NULL|        NULL|                NULL|          NULL|     198|      voice|minute|     flat|Appel vocal natio...|     0.012|         6|          NULL|      NULL|    1832.44|\n",
      "|212621008730|      PLAN_B|   VOICE_NAT|8185a725-d6e1-45f...|2025-05-01 07:56:55| MARRAKECH_01|        5G|212621008730|212772638577|         595|        ready|     NULL|       NULL|        NULL|                NULL|          NULL|      28|      voice|minute|     flat|Appel vocal natio...|     0.012|         6|          NULL|      NULL|    1832.44|\n",
      "|212705083484|      PLAN_C|  DATA_BASIC|37ff5da4-f378-426...|2025-05-02 21:44:39|     NADOR_01|        5G|        NULL|        NULL|        NULL|        ready|     NULL|       NULL|212705083484|                 572|       1095.99|     176|       data|    MB|     flat|Session Data basi...|     0.018|        20|          NULL|      NULL|    1095.99|\n",
      "|212705083484|      PLAN_C|DATA_PREMIUM|e25d82de-e528-4c2...|2025-05-01 17:24:05|   TETOUAN_01|        5G|        NULL|        NULL|        NULL|        ready|     NULL|       NULL|212705083484|             inconnu|       1422.08|      64|       data|    MB|   tiered|Session Data prem...|     0.015|        40|          2048|      0.05|    1095.99|\n",
      "|212705083484|      PLAN_C|   VOICE_NAT|cb6d828d-6e10-4aa...|2025-05-01 15:48:22| MARRAKECH_01|        2G|212705083484|212662415646|         599|        ready|     NULL|       NULL|        NULL|                NULL|          NULL|      58|      voice|minute|     flat|Appel vocal natio...|     0.008|        10|          NULL|      NULL|    1095.99|\n",
      "|212705083484|      PLAN_C|  DATA_BASIC|7261f71b-3337-4fe...|2025-05-02 20:22:22|      SAFI_01|        4G|        NULL|        NULL|        NULL|        ready|     NULL|       NULL|212705083484|             inconnu|        185.34|     171|       data|    MB|     flat|Session Data basi...|     0.018|        20|          NULL|      NULL|    1095.99|\n",
      "|212705083484|      PLAN_C|  DATA_BASIC|4240f23a-6471-432...|2025-05-01 15:00:07|    MEKNES_02|        5G|        NULL|        NULL|        NULL|        ready|     NULL|       NULL|212705083484|             inconnu|       1095.99|      56|       data|    MB|     flat|Session Data basi...|     0.018|        20|          NULL|      NULL|    1095.99|\n",
      "|212705083484|      PLAN_C|   VOICE_NAT|ee513bc4-fd56-4d9...|2025-05-03 11:25:58|       FES_02|        4G|212705083484|     inconnu|         417|        ready|     NULL|       NULL|        NULL|                NULL|          NULL|     230|      voice|minute|     flat|Appel vocal natio...|     0.008|        10|          NULL|      NULL|    1095.99|\n",
      "|212705083484|      PLAN_C|   VOICE_INT|ac825e85-a60c-43b...|2025-05-02 09:07:28|CASABLANCA_04|        4G|212705083484|966397209517|         229|        ready|     NULL|       NULL|        NULL|                NULL|          NULL|     125|      voice|minute|     flat|Appel vocal inter...|     0.018|         0|          NULL|      NULL|    1095.99|\n",
      "|212705083484|      PLAN_C|   VOICE_NAT|cde99256-6a14-42f...|2025-05-03 00:09:54|      inconnu|        4G|212705083484|212619130859|         386|        ready|     NULL|       NULL|        NULL|                NULL|          NULL|     185|      voice|minute|     flat|Appel vocal natio...|     0.008|        10|          NULL|      NULL|    1095.99|\n",
      "|212742643119|      PLAN_B|   VOICE_NAT|c8a30cc5-7cd1-49e...|2025-05-01 08:33:37|      inconnu|        3G|212742643119|212720549809|          50|        ready|     NULL|       NULL|        NULL|                NULL|          NULL|      31|      voice|minute|     flat|Appel vocal natio...|     0.012|         6|          NULL|      NULL|       NULL|\n",
      "|212742643119|      PLAN_B|   VOICE_NAT|bd64208a-34f8-441...|2025-05-02 23:32:30|      SAFI_01|        4G|212742643119|212643307676|         557|        ready|     NULL|       NULL|        NULL|                NULL|          NULL|     182|      voice|minute|     flat|Appel vocal natio...|     0.012|         6|          NULL|      NULL|       NULL|\n",
      "|212742643119|      PLAN_B|   VOICE_NAT|05bac639-ced1-407...|2025-05-01 15:15:07|    DAKHLA_01|        4G|212742643119|212612310416|         591|        ready|     NULL|       NULL|        NULL|                NULL|          NULL|      57|      voice|minute|     flat|Appel vocal natio...|     0.012|         6|          NULL|      NULL|       NULL|\n",
      "|212625950696|      PLAN_C|   VOICE_INT|45df25e8-31e8-4d2...|2025-05-02 01:01:24|    MEKNES_01|        4G|212625950696|397678555385|         291|        ready|     NULL|       NULL|        NULL|                NULL|          NULL|      93|      voice|minute|     flat|Appel vocal inter...|     0.018|         0|          NULL|      NULL|       NULL|\n",
      "|212664805555|      PLAN_C|  DATA_BASIC|3b28cda8-4962-45c...|2025-05-01 06:26:48|    DAKHLA_01|        3G|        NULL|        NULL|        NULL|        ready|     NULL|       NULL|212664805555|                 215|       1832.94|      22|       data|    MB|     flat|Session Data basi...|     0.018|        20|          NULL|      NULL|    1832.94|\n",
      "|212762640808|      PLAN_A|   VOICE_NAT|3daeae7c-c7b1-499...|2025-05-01 21:52:39|      inconnu|        4G|212762640808|     inconnu|         318|        ready|     NULL|       NULL|        NULL|                NULL|          NULL|      81|      voice|minute|     flat|Appel vocal natio...|      0.01|         5|          NULL|      NULL|       NULL|\n",
      "|212621948629|      PLAN_B|   VOICE_NAT|1c44c33c-6fb4-4b0...|2025-05-02 22:18:34|      inconnu|        4G|212621948629|212761348058|         596|        ready|     NULL|       NULL|        NULL|                NULL|          NULL|     178|      voice|minute|     flat|Appel vocal natio...|     0.012|         6|          NULL|      NULL|       NULL|\n",
      "|212621948629|      PLAN_B|   VOICE_NAT|ed62e171-ed1c-4d9...|2025-05-02 16:50:06|      inconnu|        5G|212621948629|212754831596|         419|        ready|     NULL|       NULL|        NULL|                NULL|          NULL|     156|      voice|minute|     flat|Appel vocal natio...|     0.012|         6|          NULL|      NULL|       NULL|\n",
      "+------------+------------+------------+--------------------+-------------------+-------------+----------+------------+------------+------------+-------------+---------+-----------+------------+--------------------+--------------+--------+-----------+------+---------+--------------------+----------+----------+--------------+----------+-----------+\n",
      "only showing top 20 rows\n",
      "\n"
     ]
    }
   ],
   "source": [
    "cdrs4.show()"
   ]
  },
  {
   "cell_type": "code",
   "execution_count": 20,
   "id": "f90936d6",
   "metadata": {
    "execution": {
     "iopub.execute_input": "2025-06-15T15:38:14.719819Z",
     "iopub.status.busy": "2025-06-15T15:38:14.718821Z",
     "iopub.status.idle": "2025-06-15T15:38:14.764824Z",
     "shell.execute_reply": "2025-06-15T15:38:14.763822Z"
    },
    "papermill": {
     "duration": 0.055007,
     "end_time": "2025-06-15T15:38:14.765825",
     "exception": false,
     "start_time": "2025-06-15T15:38:14.710818",
     "status": "completed"
    },
    "tags": []
   },
   "outputs": [],
   "source": [
    "cdrs4 = cdrs4.withColumn(\n",
    "    \"session_duration_sec\",\n",
    "    when((col(\"session_duration_sec\").isNull() | (col(\"session_duration_sec\") < 0))&(col(\"record_type\")==\"data\"), lit(0))\n",
    "    .otherwise(col(\"session_duration_sec\"))\n",
    ")"
   ]
  },
  {
   "cell_type": "code",
   "execution_count": 21,
   "id": "bb662ace",
   "metadata": {
    "execution": {
     "iopub.execute_input": "2025-06-15T15:38:14.779964Z",
     "iopub.status.busy": "2025-06-15T15:38:14.779964Z",
     "iopub.status.idle": "2025-06-15T15:38:14.858630Z",
     "shell.execute_reply": "2025-06-15T15:38:14.858630Z"
    },
    "papermill": {
     "duration": 0.087281,
     "end_time": "2025-06-15T15:38:14.859616",
     "exception": false,
     "start_time": "2025-06-15T15:38:14.772335",
     "status": "completed"
    },
    "tags": []
   },
   "outputs": [],
   "source": [
    "cdrs4 = cdrs4.withColumn(\n",
    "    \"billable_units\",\n",
    "    when(col(\"record_type\") == \"voice\",\n",
    "         ceil(col(\"duration_sec\") / 60))       \n",
    "    .when(col(\"record_type\") == \"sms\",\n",
    "         lit(1))\n",
    "    .otherwise(                               # data\n",
    "         col(\"data_volume_mb\"))\n",
    ")\n"
   ]
  },
  {
   "cell_type": "code",
   "execution_count": 22,
   "id": "26f0b329",
   "metadata": {
    "execution": {
     "iopub.execute_input": "2025-06-15T15:38:14.869650Z",
     "iopub.status.busy": "2025-06-15T15:38:14.868614Z",
     "iopub.status.idle": "2025-06-15T15:38:16.493145Z",
     "shell.execute_reply": "2025-06-15T15:38:16.492146Z"
    },
    "papermill": {
     "duration": 1.63053,
     "end_time": "2025-06-15T15:38:16.495146",
     "exception": false,
     "start_time": "2025-06-15T15:38:14.864616",
     "status": "completed"
    },
    "tags": []
   },
   "outputs": [
    {
     "name": "stdout",
     "output_type": "stream",
     "text": [
      "+------------+------------+------------+--------------------+-------------------+-------------+----------+------------+------------+------------+-------------+------------+------------+------------+--------------------+--------------+--------+-----------+------+---------+--------------------+----------+----------+--------------+----------+-----------+--------------+\n",
      "| customer_id|rate_plan_id|product_code|           record_ID|          timestamp|      cell_id|technology|   caller_id|   callee_id|duration_sec|rating_status|   sender_id| receiver_id|     user_id|session_duration_sec|data_volume_mb|batch_id|record_type|  unit|rate_type|         description|unit_price|free_units|tier_threshold|tier_price|user_min_mb|billable_units|\n",
      "+------------+------------+------------+--------------------+-------------------+-------------+----------+------------+------------+------------+-------------+------------+------------+------------+--------------------+--------------+--------+-----------+------+---------+--------------------+----------+----------+--------------+----------+-----------+--------------+\n",
      "|212764953121|      PLAN_C|  DATA_BASIC|9978b922-ac5b-4d0...|2025-05-02 02:33:49|  ELJADIDA_01|        3G|        NULL|        NULL|        NULL|        ready|        NULL|        NULL|212764953121|                 306|             0|     100|       data|    MB|     flat|Session Data basi...|     0.018|        20|          NULL|      NULL|    inconnu|             0|\n",
      "|212764953121|      PLAN_C|   VOICE_NAT|ebb475d0-24d0-483...|2025-05-02 02:07:13|      inconnu|        4G|212764953121|212734954853|         438|        ready|        NULL|        NULL|        NULL|                NULL|          NULL|      98|      voice|minute|     flat|Appel vocal natio...|     0.008|        10|          NULL|      NULL|    inconnu|             8|\n",
      "|212764953121|      PLAN_C|   VOICE_NAT|71ec7d3d-91f5-4f2...|2025-05-01 07:09:47| ALHOCEIMA_02|        3G|212764953121|     inconnu|         526|        ready|        NULL|        NULL|        NULL|                NULL|          NULL|      25|      voice|minute|     flat|Appel vocal natio...|     0.008|        10|          NULL|      NULL|    inconnu|             9|\n",
      "|212723753825|      PLAN_A|  DATA_BASIC|9fddad0f-ee5d-486...|2025-05-01 20:02:32|   TETOUAN_01|        3G|        NULL|        NULL|        NULL|        ready|        NULL|        NULL|212723753825|                 461|        145.05|      74|       data|    MB|     flat|Session Data basi...|      0.02|        20|          NULL|      NULL|     145.05|        145.05|\n",
      "|212723753825|      PLAN_A|   VOICE_NAT|b5a5c56b-3879-4f8...|2025-05-02 07:57:52|     RABAT_01|        4G|212723753825|212634978656|          17|        ready|        NULL|        NULL|        NULL|                NULL|          NULL|     121|      voice|minute|     flat|Appel vocal natio...|      0.01|         5|          NULL|      NULL|     145.05|             1|\n",
      "|212723753825|      PLAN_A|   VOICE_INT|1e3b35cd-327a-462...|2025-05-02 07:32:19| KHOURIBGA_01|        3G|212723753825| 15060702045|         461|        ready|        NULL|        NULL|        NULL|                NULL|          NULL|     119|      voice|minute|     flat|Appel vocal inter...|      0.02|         0|          NULL|      NULL|     145.05|             8|\n",
      "|212727833365|      PLAN_A|  DATA_BASIC|72ebab19-6949-4a1...|2025-05-01 09:36:35|      inconnu|        4G|        NULL|        NULL|        NULL|        ready|        NULL|        NULL|212727833365|                 496|        703.26|      35|       data|    MB|     flat|Session Data basi...|      0.02|        20|          NULL|      NULL|     703.26|        703.26|\n",
      "|212727833365|      PLAN_A|   VOICE_NAT|0d6a3a14-a9d6-40b...|2025-05-02 05:17:23|  LAAYOUNE_01|        4G|212727833365|212603262258|         273|        ready|        NULL|        NULL|        NULL|                NULL|          NULL|     110|      voice|minute|     flat|Appel vocal natio...|      0.01|         5|          NULL|      NULL|     703.26|             5|\n",
      "|212727833365|      PLAN_A|   VOICE_INT|e8fe975f-fcab-495...|2025-05-02 14:55:35|      inconnu|        5G|212727833365| 11254430593|         374|        ready|        NULL|        NULL|        NULL|                NULL|          NULL|     148|      voice|minute|     flat|Appel vocal inter...|      0.02|         0|          NULL|      NULL|     703.26|             7|\n",
      "|212662162652|      PLAN_A|     SMS_NAT|fb71c6f7-588f-476...|2025-05-02 05:25:31|CASABLANCA_02|        4G|        NULL|        NULL|        NULL|        ready|212662162652|212796087428|        NULL|                NULL|          NULL|     111|        sms| event|     flat|Envoi SMS standar...|      0.04|         5|          NULL|      NULL|     620.67|             1|\n",
      "|212662162652|      PLAN_A|   VOICE_NAT|4b48e685-2a8d-440...|2025-05-01 02:32:17|      inconnu|        2G|212662162652|212742808131|         353|        ready|        NULL|        NULL|        NULL|                NULL|          NULL|       8|      voice|minute|     flat|Appel vocal natio...|      0.01|         5|          NULL|      NULL|     620.67|             6|\n",
      "|212662162652|      PLAN_A|  DATA_BASIC|97430b94-47cc-41f...|2025-05-03 07:44:33|      TAZA_01|        2G|        NULL|        NULL|        NULL|        ready|        NULL|        NULL|212662162652|             inconnu|        620.67|     215|       data|    MB|     flat|Session Data basi...|      0.02|        20|          NULL|      NULL|     620.67|        620.67|\n",
      "|212662162652|      PLAN_A|  DATA_BASIC|e5615e4e-88b1-48c...|2025-05-01 21:28:27| ALHOCEIMA_02|        3G|        NULL|        NULL|        NULL|        ready|        NULL|        NULL|212662162652|             inconnu|        620.67|      80|       data|    MB|     flat|Session Data basi...|      0.02|        20|          NULL|      NULL|     620.67|        620.67|\n",
      "|212662162652|      PLAN_A|   VOICE_INT|720548b4-935c-42b...|2025-05-03 11:08:34|   KENITRA_01|        3G|212662162652| 19607569172|         582|        ready|        NULL|        NULL|        NULL|                NULL|          NULL|     229|      voice|minute|     flat|Appel vocal inter...|      0.02|         0|          NULL|      NULL|     620.67|            10|\n",
      "|212662162652|      PLAN_A|   VOICE_NAT|9cbd48e1-2b34-4c9...|2025-05-03 01:17:28|      inconnu|        4G|212662162652|212649517695|         284|        ready|        NULL|        NULL|        NULL|                NULL|          NULL|     190|      voice|minute|     flat|Appel vocal natio...|      0.01|         5|          NULL|      NULL|     620.67|             5|\n",
      "|212662162652|      PLAN_A|   VOICE_INT|d352a16b-2a5a-4fd...|2025-05-02 09:55:48|      inconnu|        4G|212662162652|443416258285|         388|        ready|        NULL|        NULL|        NULL|                NULL|          NULL|     128|      voice|minute|     flat|Appel vocal inter...|      0.02|         0|          NULL|      NULL|     620.67|             7|\n",
      "|212694280416|      PLAN_C|  DATA_BASIC|baa76179-e7fa-42b...|2025-05-03 04:39:01|CASABLANCA_03|        4G|        NULL|        NULL|        NULL|        ready|        NULL|        NULL|212694280416|                 492|       1035.45|     203|       data|    MB|     flat|Session Data basi...|     0.018|        20|          NULL|      NULL|    1035.45|       1035.45|\n",
      "|212629151506|      PLAN_A|   VOICE_NAT|41050083-32ab-495...|2025-05-03 03:44:04|   KENITRA_01|        4G|212629151506|212634978656|         460|        ready|        NULL|        NULL|        NULL|                NULL|          NULL|     199|      voice|minute|     flat|Appel vocal natio...|      0.01|         5|          NULL|      NULL|       NULL|             8|\n",
      "|212629151506|      PLAN_A|   VOICE_INT|21640116-d18d-48d...|2025-05-02 04:23:15|      inconnu|        5G|212629151506| 16550037681|         384|        ready|        NULL|        NULL|        NULL|                NULL|          NULL|     107|      voice|minute|     flat|Appel vocal inter...|      0.02|         0|          NULL|      NULL|       NULL|             7|\n",
      "|212678833394|      PLAN_A|  DATA_BASIC|a226216f-e81d-4d4...|2025-05-02 15:41:52|   KENITRA_01|        4G|        NULL|        NULL|        NULL|        ready|        NULL|        NULL|212678833394|                 379|        460.31|     152|       data|    MB|     flat|Session Data basi...|      0.02|        20|          NULL|      NULL|     460.31|        460.31|\n",
      "+------------+------------+------------+--------------------+-------------------+-------------+----------+------------+------------+------------+-------------+------------+------------+------------+--------------------+--------------+--------+-----------+------+---------+--------------------+----------+----------+--------------+----------+-----------+--------------+\n",
      "only showing top 20 rows\n",
      "\n"
     ]
    }
   ],
   "source": [
    "cdrs4.show()"
   ]
  },
  {
   "cell_type": "code",
   "execution_count": 23,
   "id": "a9a6a4fd",
   "metadata": {
    "execution": {
     "iopub.execute_input": "2025-06-15T15:38:16.512147Z",
     "iopub.status.busy": "2025-06-15T15:38:16.512147Z",
     "iopub.status.idle": "2025-06-15T15:38:16.619663Z",
     "shell.execute_reply": "2025-06-15T15:38:16.618664Z"
    },
    "papermill": {
     "duration": 0.118517,
     "end_time": "2025-06-15T15:38:16.621662",
     "exception": false,
     "start_time": "2025-06-15T15:38:16.503145",
     "status": "completed"
    },
    "tags": []
   },
   "outputs": [],
   "source": [
    "from pyspark.sql.functions import coalesce\n",
    "\n",
    "cdrs4 = (cdrs4\n",
    "    .withColumn(\"free_units\",    coalesce(col(\"free_units\"),    lit(0)))\n",
    "    .withColumn(\"tier_threshold\",coalesce(col(\"tier_threshold\"),lit(0)))\n",
    "    .withColumn(\"unit_price\",    coalesce(col(\"unit_price\"),    lit(0.0)))\n",
    "    .withColumn(\"tier_price\",    coalesce(col(\"tier_price\"),    lit(0.0)))\n",
    ")\n"
   ]
  },
  {
   "cell_type": "code",
   "execution_count": 24,
   "id": "5ba8ab70",
   "metadata": {
    "execution": {
     "iopub.execute_input": "2025-06-15T15:38:16.638663Z",
     "iopub.status.busy": "2025-06-15T15:38:16.638663Z",
     "iopub.status.idle": "2025-06-15T15:38:16.743246Z",
     "shell.execute_reply": "2025-06-15T15:38:16.743246Z"
    },
    "papermill": {
     "duration": 0.113598,
     "end_time": "2025-06-15T15:38:16.744260",
     "exception": false,
     "start_time": "2025-06-15T15:38:16.630662",
     "status": "completed"
    },
    "tags": []
   },
   "outputs": [],
   "source": [
    "cdrsRated = cdrs4.withColumn(\n",
    "    \"cost\",\n",
    "    when(col(\"rate_type\") == \"flat\",\n",
    "         when(col(\"billable_units\") <= col(\"free_units\"), lit(0))\n",
    "         .otherwise((col(\"billable_units\") - col(\"free_units\")) * col(\"unit_price\")))\n",
    "    .when(col(\"rate_type\") == \"tiered\",\n",
    "         when(col(\"billable_units\") <= col(\"free_units\"), lit(0))\n",
    "         .when(col(\"billable_units\") <= col(\"tier_threshold\"),\n",
    "               (col(\"billable_units\") - col(\"free_units\")) * col(\"unit_price\"))\n",
    "         .otherwise(\n",
    "               (col(\"tier_threshold\") - col(\"free_units\")) * col(\"unit_price\") +\n",
    "               (col(\"billable_units\") - col(\"tier_threshold\")) * col(\"tier_price\")))\n",
    ")\n",
    "\n",
    "cdrsRated = cdrsRated.withColumn(\n",
    "    \"rating_status\",\n",
    "    when(col(\"cost\").isNull(), \"unmatched\")\n",
    "    .otherwise(\"rated\")\n",
    ")\n"
   ]
  },
  {
   "cell_type": "code",
   "execution_count": 25,
   "id": "a279048f",
   "metadata": {
    "execution": {
     "iopub.execute_input": "2025-06-15T15:38:16.754198Z",
     "iopub.status.busy": "2025-06-15T15:38:16.754198Z",
     "iopub.status.idle": "2025-06-15T15:38:17.848506Z",
     "shell.execute_reply": "2025-06-15T15:38:17.848506Z"
    },
    "papermill": {
     "duration": 1.101478,
     "end_time": "2025-06-15T15:38:17.850632",
     "exception": false,
     "start_time": "2025-06-15T15:38:16.749154",
     "status": "completed"
    },
    "tags": []
   },
   "outputs": [
    {
     "name": "stdout",
     "output_type": "stream",
     "text": [
      "+------------------------------------+------------+------------+--------------+----------+------------------+-------------+\n",
      "|record_ID                           |customer_id |product_code|billable_units|unit_price|cost              |rating_status|\n",
      "+------------------------------------+------------+------------+--------------+----------+------------------+-------------+\n",
      "|d43f55d8-b4d5-4c76-8fa6-42a5568a1413|212621008730|DATA_BASIC  |1832.44       |0.022     |39.76368          |rated        |\n",
      "|9419911b-09b8-463c-8b04-813a54f73e40|212621008730|DATA_BASIC  |1832.44       |0.022     |39.76368          |rated        |\n",
      "|3aa4e9d1-8987-40d7-8473-f461b59c5ca0|212621008730|VOICE_NAT   |1             |0.012     |0.0               |rated        |\n",
      "|8185a725-d6e1-45fc-bd73-af136cede03d|212621008730|VOICE_NAT   |10            |0.012     |0.048             |rated        |\n",
      "|37ff5da4-f378-426d-8c11-95680dd96e87|212705083484|DATA_BASIC  |1095.99       |0.018     |19.36782          |rated        |\n",
      "|e25d82de-e528-4c26-84f9-7d45b47b99ef|212705083484|DATA_PREMIUM|1422.08       |0.015     |20.731199999999998|rated        |\n",
      "|cb6d828d-6e10-4aaa-b9d7-50a9d4331224|212705083484|VOICE_NAT   |10            |0.008     |0.0               |rated        |\n",
      "|7261f71b-3337-4fee-be2f-660a50b225a5|212705083484|DATA_BASIC  |185.34        |0.018     |2.97612           |rated        |\n",
      "|4240f23a-6471-4320-afb5-75ead0d47159|212705083484|DATA_BASIC  |1095.99       |0.018     |19.36782          |rated        |\n",
      "|ee513bc4-fd56-4d98-bf57-c3069be9517a|212705083484|VOICE_NAT   |7             |0.008     |0.0               |rated        |\n",
      "|ac825e85-a60c-43bd-987a-75f411b3aca1|212705083484|VOICE_INT   |4             |0.018     |0.072             |rated        |\n",
      "|cde99256-6a14-42fd-8558-a411ff1e6fcd|212705083484|VOICE_NAT   |7             |0.008     |0.0               |rated        |\n",
      "|c8a30cc5-7cd1-49ec-b92a-e8b54796be10|212742643119|VOICE_NAT   |1             |0.012     |0.0               |rated        |\n",
      "|bd64208a-34f8-4419-af58-078cbfe90840|212742643119|VOICE_NAT   |10            |0.012     |0.048             |rated        |\n",
      "|05bac639-ced1-407e-be9b-c38583daf987|212742643119|VOICE_NAT   |10            |0.012     |0.048             |rated        |\n",
      "|45df25e8-31e8-4d2d-9b33-89855852b6f3|212625950696|VOICE_INT   |5             |0.018     |0.09              |rated        |\n",
      "|3b28cda8-4962-45cd-8968-aed1cb67f050|212664805555|DATA_BASIC  |1832.94       |0.018     |32.63292          |rated        |\n",
      "|3daeae7c-c7b1-4999-82f8-75675e35abf1|212762640808|VOICE_NAT   |6             |0.01      |0.01              |rated        |\n",
      "|1c44c33c-6fb4-4b07-bb25-f6d957f4b29e|212621948629|VOICE_NAT   |10            |0.012     |0.048             |rated        |\n",
      "|ed62e171-ed1c-4d91-a2e1-285b417ec44b|212621948629|VOICE_NAT   |7             |0.012     |0.012             |rated        |\n",
      "+------------------------------------+------------+------------+--------------+----------+------------------+-------------+\n",
      "only showing top 20 rows\n",
      "\n"
     ]
    }
   ],
   "source": [
    "cdrsRated.select(\"record_ID\",\"customer_id\",\"product_code\",\n",
    "                 \"billable_units\",\"unit_price\",\"cost\",\"rating_status\") \\\n",
    "         .show(truncate=False)\n"
   ]
  },
  {
   "cell_type": "code",
   "execution_count": 26,
   "id": "dfa86650",
   "metadata": {
    "execution": {
     "iopub.execute_input": "2025-06-15T15:38:17.863545Z",
     "iopub.status.busy": "2025-06-15T15:38:17.862508Z",
     "iopub.status.idle": "2025-06-15T15:38:17.895822Z",
     "shell.execute_reply": "2025-06-15T15:38:17.894865Z"
    },
    "papermill": {
     "duration": 0.039327,
     "end_time": "2025-06-15T15:38:17.896833",
     "exception": false,
     "start_time": "2025-06-15T15:38:17.857506",
     "status": "completed"
    },
    "tags": []
   },
   "outputs": [],
   "source": [
    "from pyspark.sql.functions import date_format\n",
    "\n",
    "cdrsRated = cdrsRated.withColumn(\n",
    "    \"billing_period\",\n",
    "    date_format(col(\"timestamp\"), \"yyyy-MM\")\n",
    ")\n",
    "cdrsRated=cdrsRated.drop(\"user_min_mb\")"
   ]
  },
  {
   "cell_type": "code",
   "execution_count": 27,
   "id": "441201ec",
   "metadata": {
    "execution": {
     "iopub.execute_input": "2025-06-15T15:38:17.909823Z",
     "iopub.status.busy": "2025-06-15T15:38:17.909823Z",
     "iopub.status.idle": "2025-06-15T15:38:20.754770Z",
     "shell.execute_reply": "2025-06-15T15:38:20.753783Z"
    },
    "papermill": {
     "duration": 2.854927,
     "end_time": "2025-06-15T15:38:20.756771",
     "exception": false,
     "start_time": "2025-06-15T15:38:17.901844",
     "status": "completed"
    },
    "tags": []
   },
   "outputs": [
    {
     "name": "stdout",
     "output_type": "stream",
     "text": [
      "✓ Rating terminé : Parquet écrit dans rated_cdrs/\n"
     ]
    }
   ],
   "source": [
    "(\n",
    " cdrsRated\n",
    " .write\n",
    " .mode(\"overwrite\")\n",
    " .partitionBy(\"billing_period\")\n",
    " .parquet(\"rated_cdrs/\")\n",
    ")\n",
    "\n",
    "print(\"✓ Rating terminé : Parquet écrit dans rated_cdrs/\")\n"
   ]
  },
  {
   "cell_type": "code",
   "execution_count": 28,
   "id": "8a2d4730",
   "metadata": {
    "execution": {
     "iopub.execute_input": "2025-06-15T15:38:20.773774Z",
     "iopub.status.busy": "2025-06-15T15:38:20.773774Z",
     "iopub.status.idle": "2025-06-15T15:38:22.646943Z",
     "shell.execute_reply": "2025-06-15T15:38:22.645946Z"
    },
    "papermill": {
     "duration": 1.884404,
     "end_time": "2025-06-15T15:38:22.649178",
     "exception": false,
     "start_time": "2025-06-15T15:38:20.764774",
     "status": "completed"
    },
    "tags": []
   },
   "outputs": [
    {
     "name": "stdout",
     "output_type": "stream",
     "text": [
      "+------------+------------+------------+--------------------+-------------------+-------------+----------+------------+------------+------------+-------------+------------+------------+------------+--------------------+--------------+--------+-----------+------+---------+--------------------+----------+----------+--------------+----------+--------------+------------------+--------------+\n",
      "| customer_id|rate_plan_id|product_code|           record_ID|          timestamp|      cell_id|technology|   caller_id|   callee_id|duration_sec|rating_status|   sender_id| receiver_id|     user_id|session_duration_sec|data_volume_mb|batch_id|record_type|  unit|rate_type|         description|unit_price|free_units|tier_threshold|tier_price|billable_units|              cost|billing_period|\n",
      "+------------+------------+------------+--------------------+-------------------+-------------+----------+------------+------------+------------+-------------+------------+------------+------------+--------------------+--------------+--------+-----------+------+---------+--------------------+----------+----------+--------------+----------+--------------+------------------+--------------+\n",
      "|212764953121|      PLAN_C|  DATA_BASIC|9978b922-ac5b-4d0...|2025-05-02 02:33:49|  ELJADIDA_01|        3G|        NULL|        NULL|        NULL|        rated|        NULL|        NULL|212764953121|                 306|             0|     100|       data|    MB|     flat|Session Data basi...|     0.018|        20|             0|       0.0|             0|               0.0|       2025-05|\n",
      "|212764953121|      PLAN_C|   VOICE_NAT|ebb475d0-24d0-483...|2025-05-02 02:07:13|      inconnu|        4G|212764953121|212734954853|         438|        rated|        NULL|        NULL|        NULL|                NULL|          NULL|      98|      voice|minute|     flat|Appel vocal natio...|     0.008|        10|             0|       0.0|             8|               0.0|       2025-05|\n",
      "|212764953121|      PLAN_C|   VOICE_NAT|71ec7d3d-91f5-4f2...|2025-05-01 07:09:47| ALHOCEIMA_02|        3G|212764953121|     inconnu|         526|        rated|        NULL|        NULL|        NULL|                NULL|          NULL|      25|      voice|minute|     flat|Appel vocal natio...|     0.008|        10|             0|       0.0|             9|               0.0|       2025-05|\n",
      "|212723753825|      PLAN_A|  DATA_BASIC|9fddad0f-ee5d-486...|2025-05-01 20:02:32|   TETOUAN_01|        3G|        NULL|        NULL|        NULL|        rated|        NULL|        NULL|212723753825|                 461|        145.05|      74|       data|    MB|     flat|Session Data basi...|      0.02|        20|             0|       0.0|        145.05|2.5010000000000003|       2025-05|\n",
      "|212723753825|      PLAN_A|   VOICE_NAT|b5a5c56b-3879-4f8...|2025-05-02 07:57:52|     RABAT_01|        4G|212723753825|212634978656|          17|        rated|        NULL|        NULL|        NULL|                NULL|          NULL|     121|      voice|minute|     flat|Appel vocal natio...|      0.01|         5|             0|       0.0|             1|               0.0|       2025-05|\n",
      "|212723753825|      PLAN_A|   VOICE_INT|1e3b35cd-327a-462...|2025-05-02 07:32:19| KHOURIBGA_01|        3G|212723753825| 15060702045|         461|        rated|        NULL|        NULL|        NULL|                NULL|          NULL|     119|      voice|minute|     flat|Appel vocal inter...|      0.02|         0|             0|       0.0|             8|              0.16|       2025-05|\n",
      "|212727833365|      PLAN_A|  DATA_BASIC|72ebab19-6949-4a1...|2025-05-01 09:36:35|      inconnu|        4G|        NULL|        NULL|        NULL|        rated|        NULL|        NULL|212727833365|                 496|        703.26|      35|       data|    MB|     flat|Session Data basi...|      0.02|        20|             0|       0.0|        703.26|           13.6652|       2025-05|\n",
      "|212727833365|      PLAN_A|   VOICE_NAT|0d6a3a14-a9d6-40b...|2025-05-02 05:17:23|  LAAYOUNE_01|        4G|212727833365|212603262258|         273|        rated|        NULL|        NULL|        NULL|                NULL|          NULL|     110|      voice|minute|     flat|Appel vocal natio...|      0.01|         5|             0|       0.0|             5|               0.0|       2025-05|\n",
      "|212727833365|      PLAN_A|   VOICE_INT|e8fe975f-fcab-495...|2025-05-02 14:55:35|      inconnu|        5G|212727833365| 11254430593|         374|        rated|        NULL|        NULL|        NULL|                NULL|          NULL|     148|      voice|minute|     flat|Appel vocal inter...|      0.02|         0|             0|       0.0|             7|              0.14|       2025-05|\n",
      "|212662162652|      PLAN_A|     SMS_NAT|fb71c6f7-588f-476...|2025-05-02 05:25:31|CASABLANCA_02|        4G|        NULL|        NULL|        NULL|        rated|212662162652|212796087428|        NULL|                NULL|          NULL|     111|        sms| event|     flat|Envoi SMS standar...|      0.04|         5|             0|       0.0|             1|               0.0|       2025-05|\n",
      "|212662162652|      PLAN_A|   VOICE_NAT|4b48e685-2a8d-440...|2025-05-01 02:32:17|      inconnu|        2G|212662162652|212742808131|         353|        rated|        NULL|        NULL|        NULL|                NULL|          NULL|       8|      voice|minute|     flat|Appel vocal natio...|      0.01|         5|             0|       0.0|             6|              0.01|       2025-05|\n",
      "|212662162652|      PLAN_A|  DATA_BASIC|97430b94-47cc-41f...|2025-05-03 07:44:33|      TAZA_01|        2G|        NULL|        NULL|        NULL|        rated|        NULL|        NULL|212662162652|             inconnu|        620.67|     215|       data|    MB|     flat|Session Data basi...|      0.02|        20|             0|       0.0|        620.67|12.013399999999999|       2025-05|\n",
      "|212662162652|      PLAN_A|  DATA_BASIC|e5615e4e-88b1-48c...|2025-05-01 21:28:27| ALHOCEIMA_02|        3G|        NULL|        NULL|        NULL|        rated|        NULL|        NULL|212662162652|             inconnu|        620.67|      80|       data|    MB|     flat|Session Data basi...|      0.02|        20|             0|       0.0|        620.67|12.013399999999999|       2025-05|\n",
      "|212662162652|      PLAN_A|   VOICE_INT|720548b4-935c-42b...|2025-05-03 11:08:34|   KENITRA_01|        3G|212662162652| 19607569172|         582|        rated|        NULL|        NULL|        NULL|                NULL|          NULL|     229|      voice|minute|     flat|Appel vocal inter...|      0.02|         0|             0|       0.0|            10|               0.2|       2025-05|\n",
      "|212662162652|      PLAN_A|   VOICE_NAT|9cbd48e1-2b34-4c9...|2025-05-03 01:17:28|      inconnu|        4G|212662162652|212649517695|         284|        rated|        NULL|        NULL|        NULL|                NULL|          NULL|     190|      voice|minute|     flat|Appel vocal natio...|      0.01|         5|             0|       0.0|             5|               0.0|       2025-05|\n",
      "|212662162652|      PLAN_A|   VOICE_INT|d352a16b-2a5a-4fd...|2025-05-02 09:55:48|      inconnu|        4G|212662162652|443416258285|         388|        rated|        NULL|        NULL|        NULL|                NULL|          NULL|     128|      voice|minute|     flat|Appel vocal inter...|      0.02|         0|             0|       0.0|             7|              0.14|       2025-05|\n",
      "|212694280416|      PLAN_C|  DATA_BASIC|baa76179-e7fa-42b...|2025-05-03 04:39:01|CASABLANCA_03|        4G|        NULL|        NULL|        NULL|        rated|        NULL|        NULL|212694280416|                 492|       1035.45|     203|       data|    MB|     flat|Session Data basi...|     0.018|        20|             0|       0.0|       1035.45|           18.2781|       2025-05|\n",
      "|212629151506|      PLAN_A|   VOICE_NAT|41050083-32ab-495...|2025-05-03 03:44:04|   KENITRA_01|        4G|212629151506|212634978656|         460|        rated|        NULL|        NULL|        NULL|                NULL|          NULL|     199|      voice|minute|     flat|Appel vocal natio...|      0.01|         5|             0|       0.0|             8|              0.03|       2025-05|\n",
      "|212629151506|      PLAN_A|   VOICE_INT|21640116-d18d-48d...|2025-05-02 04:23:15|      inconnu|        5G|212629151506| 16550037681|         384|        rated|        NULL|        NULL|        NULL|                NULL|          NULL|     107|      voice|minute|     flat|Appel vocal inter...|      0.02|         0|             0|       0.0|             7|              0.14|       2025-05|\n",
      "|212678833394|      PLAN_A|  DATA_BASIC|a226216f-e81d-4d4...|2025-05-02 15:41:52|   KENITRA_01|        4G|        NULL|        NULL|        NULL|        rated|        NULL|        NULL|212678833394|                 379|        460.31|     152|       data|    MB|     flat|Session Data basi...|      0.02|        20|             0|       0.0|        460.31|            8.8062|       2025-05|\n",
      "+------------+------------+------------+--------------------+-------------------+-------------+----------+------------+------------+------------+-------------+------------+------------+------------+--------------------+--------------+--------+-----------+------+---------+--------------------+----------+----------+--------------+----------+--------------+------------------+--------------+\n",
      "only showing top 20 rows\n",
      "\n"
     ]
    }
   ],
   "source": [
    "cdrsRated.show()"
   ]
  }
 ],
 "metadata": {
  "kernelspec": {
   "display_name": "Python 3",
   "language": "python",
   "name": "python3"
  },
  "language_info": {
   "codemirror_mode": {
    "name": "ipython",
    "version": 3
   },
   "file_extension": ".py",
   "mimetype": "text/x-python",
   "name": "python",
   "nbconvert_exporter": "python",
   "pygments_lexer": "ipython3",
   "version": "3.9.13"
  },
  "papermill": {
   "default_parameters": {},
   "duration": 40.540086,
   "end_time": "2025-06-15T15:38:22.991817",
   "environment_variables": {},
   "exception": null,
   "input_path": "RatingEngine.ipynb",
   "output_path": "RatingEngine.ipynb",
   "parameters": {},
   "start_time": "2025-06-15T15:37:42.451731",
   "version": "2.6.0"
  }
 },
 "nbformat": 4,
 "nbformat_minor": 5
}