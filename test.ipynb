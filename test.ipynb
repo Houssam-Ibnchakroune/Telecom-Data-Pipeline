{
 "cells": [
  {
   "cell_type": "code",
   "execution_count": 13,
   "id": "40f807cf",
   "metadata": {},
   "outputs": [],
   "source": [
    "from pyspark.sql import SparkSession\n",
    "from pyspark.sql.functions import  col\n",
    "spark = (SparkSession.builder\n",
    "         .appName(\"test\")\n",
    "         .getOrCreate())"
   ]
  },
  {
   "cell_type": "code",
   "execution_count": 14,
   "id": "38f5149d",
   "metadata": {},
   "outputs": [],
   "source": [
    "data_path = r\".\\output_dir\" \n",
    "cleanedCdrsDf  = spark.read.format(\"parquet\") \\\n",
    "    .option(\"header\", \"true\") \\\n",
    "    .option(\"inferSchema\", \"true\") \\\n",
    "    .load(data_path)"
   ]
  },
  {
   "cell_type": "code",
   "execution_count": 15,
   "id": "306d0584",
   "metadata": {},
   "outputs": [
    {
     "name": "stdout",
     "output_type": "stream",
     "text": [
      "+--------------------+-------------------+-------------+----------+------------+------------+------------+------------+-------------+--------+-----------+\n",
      "|           record_ID|          timestamp|      cell_id|technology|   caller_id|   callee_id|duration_sec|product_code|rating_status|batch_id|record_type|\n",
      "+--------------------+-------------------+-------------+----------+------------+------------+------------+------------+-------------+--------+-----------+\n",
      "|50873a4d-5065-46c...|2025-05-01 03:46:17|     NADOR_01|        3G|212764677329|397642399879|         462|   VOICE_INT|        ready|      13|      voice|\n",
      "|d52d0abf-0e2c-46b...|2025-05-01 03:48:00|    DAKHLA_01|        5G|212709631658|212682663662|          90|   VOICE_NAT|        ready|      13|      voice|\n",
      "|88aae798-a6a7-4ec...|2025-05-01 03:48:21|    AGADIR_02|        4G|212685850756| 79056971426|         413|   VOICE_INT|        ready|      13|      voice|\n",
      "|b6daab65-66e8-451...|2025-05-01 03:49:32|      inconnu|        2G|212605378474| 74757246819|         259|   VOICE_INT|        ready|      13|      voice|\n",
      "|9a655f2a-9c01-47d...|2025-05-01 03:50:36|     RABAT_01|        5G|212642971908|212778909945|         323|   VOICE_NAT|        ready|      13|      voice|\n",
      "|4a59baa6-fd65-4fa...|2025-05-01 03:52:23|     RABAT_01|        5G|212634978656|212735490449|         168|   VOICE_NAT|        ready|      13|      voice|\n",
      "|c62ab20f-fa08-43b...|2025-05-01 03:55:22|       FES_02|        3G|212736380173|212670724952|         208|   VOICE_NAT|        ready|      13|      voice|\n",
      "|0aa789f9-2181-4e5...|2025-05-01 03:57:09|CASABLANCA_03|        4G|212798951451|212638218363|         203|   VOICE_NAT|        ready|      13|      voice|\n",
      "|aba7f710-e69c-4e8...|2025-05-01 03:57:21|CASABLANCA_03|        4G|212643634089|212726307010|         472|   VOICE_NAT|        ready|      13|      voice|\n",
      "|028ceb54-a981-412...|2025-05-01 04:00:01|      SAFI_01|        4G|212795498238|212759014897|         108|   VOICE_NAT|        ready|      13|      voice|\n",
      "|faf8f4bb-b4fe-407...|2025-05-01 04:01:36|    TANGER_01|        4G|212754721845|212732185195|         416|   VOICE_NAT|        ready|      13|      voice|\n",
      "|a647856c-79a6-4e8...|2025-05-01 04:02:16| MARRAKECH_02|        4G|212704238166|212667353212|         454|   VOICE_NAT|        ready|      13|      voice|\n",
      "|5ce04cef-d097-45b...|2025-05-01 04:02:37|      inconnu|        4G|212777581642|212632540994|         242|   VOICE_NAT|        ready|      13|      voice|\n",
      "|e3381c89-4145-457...|2025-05-01 05:31:19|     OUJDA_01|        2G|212692057479|394297251407|         468|   VOICE_INT|        ready|      19|      voice|\n",
      "|f228a6d9-aeb0-48a...|2025-05-01 05:31:48|      TAZA_01|        4G|212603045750|392123925152|         517|   VOICE_INT|        ready|      19|      voice|\n",
      "|33097e80-96e4-47e...|2025-05-01 05:32:47|    TANGER_03|        4G|212605581945|212659952486|         225|   VOICE_NAT|        ready|      19|      voice|\n",
      "|9798d86a-43b6-44e...|2025-05-01 05:33:18|      inconnu|        4G|212645658314|971325274064|         541|   VOICE_INT|        ready|      19|      voice|\n",
      "|21683d62-e787-41c...|2025-05-01 05:34:09|       FES_01|        5G|212701313104|212605623896|         299|   VOICE_NAT|        ready|      19|      voice|\n",
      "|d8c05d20-adfa-473...|2025-05-01 05:35:29|      inconnu|        3G|212795498781|212754794802|         136|   VOICE_NAT|        ready|      19|      voice|\n",
      "|b686fdc5-b4b9-481...|2025-05-01 05:38:45|      inconnu|        4G|212716848526|212678538846|         460|   VOICE_NAT|        ready|      19|      voice|\n",
      "+--------------------+-------------------+-------------+----------+------------+------------+------------+------------+-------------+--------+-----------+\n",
      "only showing top 20 rows\n",
      "\n"
     ]
    }
   ],
   "source": [
    "voice_df = cleanedCdrsDf.filter(col(\"record_type\") == \"voice\")\\\n",
    "                .drop(\"sender_id\", \"receiver_id\", \"user_id\", \"data_volume_mb\", \"session_duration_sec\").show()"
   ]
  },
  {
   "cell_type": "code",
   "execution_count": 16,
   "id": "312e3349",
   "metadata": {},
   "outputs": [
    {
     "name": "stdout",
     "output_type": "stream",
     "text": [
      "+--------------------+-------------------+-------------+----------+------------+-------------+------------+--------------------+--------------+--------+-----------+\n",
      "|           record_ID|          timestamp|      cell_id|technology|product_code|rating_status|     user_id|session_duration_sec|data_volume_mb|batch_id|record_type|\n",
      "+--------------------+-------------------+-------------+----------+------------+-------------+------------+--------------------+--------------+--------+-----------+\n",
      "|f9c4c498-f467-4ff...|2025-05-01 04:23:37|      inconnu|        4G|  DATA_BASIC|        ready|212635422090|                 109|       1783.12|      15|       data|\n",
      "|2509b7f2-a6ac-48e...|2025-05-01 04:27:13|      inconnu|        4G|  DATA_BASIC|        ready|212728415443|                 323|       1464.69|      15|       data|\n",
      "|c847b612-e71c-4d7...|2025-05-01 04:28:58|     NADOR_01|        3G|  DATA_BASIC|        ready|212792321682|                 562|        682.09|      15|       data|\n",
      "|3eaed51d-ebf3-466...|2025-05-01 04:31:17|CASABLANCA_02|        3G|DATA_PREMIUM|        ready|212697573215|                 133|        694.21|      15|       data|\n",
      "|f0fe086f-e456-426...|2025-05-01 04:33:15|CASABLANCA_04|        3G|  DATA_BASIC| needs_review|212702274760|             inconnu|       1780.61|      15|       data|\n",
      "|98df08e0-e185-4e0...|2025-05-01 04:36:34|     NADOR_01|        4G|  DATA_BASIC|        ready|212680058037|                 305|        184.58|      15|       data|\n",
      "|2094cb65-8727-4ef...|2025-05-01 04:37:51|      inconnu|        3G|DATA_PREMIUM|        ready|212798678825|                 185|       1131.03|      15|       data|\n",
      "|fb26eedc-1a84-4be...|2025-05-01 04:37:58|CASABLANCA_02|        4G|  DATA_BASIC| needs_review|212780425168|             inconnu|         347.1|      15|       data|\n",
      "|0f467c7b-f7a0-46c...|2025-05-01 04:38:37|   KENITRA_01|        5G|  DATA_BASIC|        ready|212720587560|                 160|          96.1|      15|       data|\n",
      "|facc0b63-6cd3-49f...|2025-05-02 11:48:50| MARRAKECH_01|        5G|  DATA_BASIC|        ready|212646273388|                 184|        313.27|     133|       data|\n",
      "|1ef6149f-4641-4bd...|2025-05-02 11:49:00|CASABLANCA_02|        5G|  DATA_BASIC|        ready|212722125891|                 594|        728.42|     133|       data|\n",
      "|31179c79-5fd1-4e7...|2025-05-02 11:50:16|     RABAT_01|        2G|DATA_PREMIUM|        ready|212640651802|                 103|        342.33|     133|       data|\n",
      "|aa68ba65-6826-406...|2025-05-02 11:52:14|     NADOR_01|        4G|  DATA_BASIC| needs_review|212789161616|                 576|       inconnu|     133|       data|\n",
      "|f1b87d0a-8317-479...|2025-05-02 11:57:50|       FES_01|        3G|DATA_PREMIUM| needs_review|212612238172|                 325|       inconnu|     133|       data|\n",
      "|fdee5dce-7acb-467...|2025-05-02 11:58:54|      inconnu|        4G|  DATA_BASIC|        ready|212633318025|                 378|        991.86|     133|       data|\n",
      "|d4be262f-c157-4a3...|2025-05-02 12:00:32|      inconnu|        2G|  DATA_BASIC|        ready|212762309455|                 559|       1310.27|     133|       data|\n",
      "|8f10d2f5-ab57-4bf...|2025-05-02 12:02:00|     RABAT_02|        3G|  DATA_BASIC|        ready|212611144963|                 373|       1371.04|     133|       data|\n",
      "|ae5ecd32-8f38-405...|2025-05-01 10:37:39|      inconnu|        2G|DATA_PREMIUM| needs_review|212612215993|                 556|       inconnu|      38|       data|\n",
      "|59d48d96-07ed-40c...|2025-05-01 10:38:35|      inconnu|        5G|  DATA_BASIC| needs_review|212640426499|                 125|       inconnu|      38|       data|\n",
      "|00e5e8f2-02fb-4b6...|2025-05-01 10:39:26|      inconnu|        5G|  DATA_BASIC| needs_review|212750961784|             inconnu|       1808.63|      38|       data|\n",
      "+--------------------+-------------------+-------------+----------+------------+-------------+------------+--------------------+--------------+--------+-----------+\n",
      "only showing top 20 rows\n",
      "\n"
     ]
    }
   ],
   "source": [
    "data_df = cleanedCdrsDf.filter(col(\"record_type\") == \"data\") \\\n",
    "                    .drop(\"sender_id\", \"receiver_id\", \"caller_id\", \"callee_id\", \"duration_sec\").show()"
   ]
  },
  {
   "cell_type": "code",
   "execution_count": 17,
   "id": "d8102456",
   "metadata": {},
   "outputs": [
    {
     "name": "stdout",
     "output_type": "stream",
     "text": [
      "+--------------------+-------------------+-------------+----------+------------+-------------+------------+-------------+--------+-----------+\n",
      "|           record_ID|          timestamp|      cell_id|technology|product_code|rating_status|   sender_id|  receiver_id|batch_id|record_type|\n",
      "+--------------------+-------------------+-------------+----------+------------+-------------+------------+-------------+--------+-----------+\n",
      "|91973728-88f3-4ce...|2025-05-01 11:06:59|    TANGER_01|        4G|     SMS_NAT|        ready|212766423119| 212611890554|      40|        sms|\n",
      "|07b66c22-d17a-4ba...|2025-05-01 11:13:31|      inconnu|        4G|     SMS_NAT|        ready|212603408558| 212752125496|      40|        sms|\n",
      "|9a4c4697-0d48-4e6...|2025-05-01 11:20:41|CASABLANCA_03|        2G|     SMS_NAT|        ready|212715745134| 212655596195|      40|        sms|\n",
      "|eaef7136-d655-4bd...|2025-05-01 11:20:55|      inconnu|        4G|     SMS_NAT|        ready|212676098582| 212654402792|      40|        sms|\n",
      "|087d6653-528c-4cf...|2025-05-01 11:22:54|    AGADIR_01|        2G|     SMS_NAT|        ready|212623108665| 212719249680|      40|        sms|\n",
      "|9f8a97b5-25b1-498...|2025-05-01 11:25:42|      inconnu|        4G|     SMS_NAT|        ready|212736442036| 212694002686|      40|        sms|\n",
      "|effb0f9d-2264-459...|2025-05-01 02:40:10| MARRAKECH_02|        3G|     SMS_NAT|        ready|212695608458| 212672496923|       9|        sms|\n",
      "|ed76bae3-b462-4e7...|2025-05-01 02:41:54|      inconnu|        5G|     SMS_INT|        ready|212758808163|4956111484016|       9|        sms|\n",
      "|67014ced-c0e3-4aa...|2025-05-01 02:44:36|CASABLANCA_02|        4G|     SMS_NAT|        ready|212631493415| 212659465798|       9|        sms|\n",
      "|95d4bfce-5db7-4c1...|2025-05-01 02:46:33|      inconnu|        4G|     SMS_NAT|        ready|212603045750| 212696486186|       9|        sms|\n",
      "|cff7547e-9279-445...|2025-05-01 23:15:45|CASABLANCA_01|        3G|     SMS_NAT|        ready|212730628530| 212662162652|      84|        sms|\n",
      "|2286844c-13b6-474...|2025-05-01 23:16:54|      inconnu|        4G|     SMS_NAT|        ready|212798074912| 212650588654|      84|        sms|\n",
      "|b4de4311-3bd9-43e...|2025-05-01 23:18:36|CASABLANCA_01|        5G|     SMS_NAT|        ready|212741186062| 212761348058|      84|        sms|\n",
      "|59d48f72-13e8-408...|2025-05-01 23:20:29| KHOURIBGA_01|        5G|     SMS_NAT|        ready|212796864593| 212712169848|      84|        sms|\n",
      "|43f040a8-e0df-442...|2025-05-01 09:33:49|   KENITRA_01|        3G|     SMS_NAT|        ready|212619045732| 212739161539|      34|        sms|\n",
      "|d1e9ba86-89f0-40a...|2025-05-01 09:40:26|     RABAT_01|        3G|     SMS_NAT|        ready|212769006423| 212613796941|      34|        sms|\n",
      "|c7bf333d-2445-436...|2025-05-01 09:41:21|      inconnu|        2G|     SMS_NAT|        ready|212785811875| 212678502807|      34|        sms|\n",
      "|eb41e6e2-3a66-47b...|2025-05-01 09:42:40|      inconnu|        5G|     SMS_NAT|        ready|212750576461| 212735490449|      34|        sms|\n",
      "|6320b24a-b0a6-437...|2025-05-01 05:15:00|     RABAT_01|        4G|     SMS_NAT|        ready|212729311197| 212640267476|      18|        sms|\n",
      "|683b4318-6355-42a...|2025-05-01 05:20:31|      inconnu|        3G|     SMS_INT|        ready|212699670628| 814211234528|      18|        sms|\n",
      "+--------------------+-------------------+-------------+----------+------------+-------------+------------+-------------+--------+-----------+\n",
      "only showing top 20 rows\n",
      "\n"
     ]
    }
   ],
   "source": [
    "sms_df = cleanedCdrsDf.filter(col(\"record_type\") == \"sms\") \\\n",
    "                .drop(\"caller_id\", \"callee_id\", \"duration_sec\", \"user_id\", \"data_volume_mb\", \"session_duration_sec\").show()"
   ]
  },
  {
   "cell_type": "code",
   "execution_count": null,
   "id": "a34481b2",
   "metadata": {},
   "outputs": [],
   "source": []
  }
 ],
 "metadata": {
  "kernelspec": {
   "display_name": "Python 3",
   "language": "python",
   "name": "python3"
  },
  "language_info": {
   "codemirror_mode": {
    "name": "ipython",
    "version": 3
   },
   "file_extension": ".py",
   "mimetype": "text/x-python",
   "name": "python",
   "nbconvert_exporter": "python",
   "pygments_lexer": "ipython3",
   "version": "3.12.5"
  }
 },
 "nbformat": 4,
 "nbformat_minor": 5
}
