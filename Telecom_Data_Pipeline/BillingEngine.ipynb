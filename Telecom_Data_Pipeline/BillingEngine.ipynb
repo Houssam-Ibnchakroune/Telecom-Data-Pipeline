{
 "cells": [
  {
   "cell_type": "code",
   "execution_count": 1,
   "id": "283dfbf5",
   "metadata": {},
   "outputs": [],
   "source": [
    "from pyspark.sql import SparkSession\n",
    "spark = (SparkSession.builder\n",
    "         .appName(\"BillingEngine\")\n",
    "         .config(\"spark.jars\",         r\".\\conf\\postgresql-42.7.6.jar\")\n",
    "         .config(\"spark.driver.extraClassPath\", r\".\\conf\\postgresql-42.7.6.jar\")\n",
    "         .getOrCreate())"
   ]
  },
  {
   "cell_type": "code",
   "execution_count": 2,
   "id": "3c15b680",
   "metadata": {},
   "outputs": [
    {
     "name": "stdout",
     "output_type": "stream",
     "text": [
      "root\n",
      " |-- customer_id: string (nullable = true)\n",
      " |-- rate_plan_id: string (nullable = true)\n",
      " |-- product_code: string (nullable = true)\n",
      " |-- record_ID: string (nullable = true)\n",
      " |-- timestamp: timestamp (nullable = true)\n",
      " |-- cell_id: string (nullable = true)\n",
      " |-- technology: string (nullable = true)\n",
      " |-- caller_id: string (nullable = true)\n",
      " |-- callee_id: string (nullable = true)\n",
      " |-- duration_sec: integer (nullable = true)\n",
      " |-- rating_status: string (nullable = true)\n",
      " |-- sender_id: string (nullable = true)\n",
      " |-- receiver_id: string (nullable = true)\n",
      " |-- user_id: string (nullable = true)\n",
      " |-- session_duration_sec: string (nullable = true)\n",
      " |-- data_volume_mb: string (nullable = true)\n",
      " |-- batch_id: integer (nullable = true)\n",
      " |-- record_type: string (nullable = true)\n",
      " |-- unit: string (nullable = true)\n",
      " |-- rate_type: string (nullable = true)\n",
      " |-- description: string (nullable = true)\n",
      " |-- unit_price: double (nullable = true)\n",
      " |-- free_units: integer (nullable = true)\n",
      " |-- tier_threshold: integer (nullable = true)\n",
      " |-- tier_price: double (nullable = true)\n",
      " |-- billable_units: string (nullable = true)\n",
      " |-- cost: double (nullable = true)\n",
      " |-- billing_period: string (nullable = true)\n",
      "\n"
     ]
    }
   ],
   "source": [
    "rated = spark.read.parquet(\"rated_cdrs/\")\n",
    "rated.printSchema()\n"
   ]
  },
  {
   "cell_type": "code",
   "execution_count": 3,
   "id": "725ddeb9",
   "metadata": {},
   "outputs": [],
   "source": [
    "rated_ok = rated.filter(rated.rating_status == \"rated\")"
   ]
  },
  {
   "cell_type": "code",
   "execution_count": 4,
   "id": "1c1bd565",
   "metadata": {},
   "outputs": [],
   "source": [
    "from pyspark.sql import functions as F\n",
    "from pyspark.sql.functions import col, when, lit\n",
    "\n",
    "invoices = (rated_ok\n",
    "    .groupBy(\"customer_id\", \"billing_period\")\n",
    "    .agg(\n",
    "        # sous-totaux\n",
    "        F.sum(when(col(\"record_type\") == \"voice\", col(\"cost\"))\n",
    "              .otherwise(0)).alias(\"voice_total\"),\n",
    "\n",
    "        F.sum(when(col(\"record_type\") == \"sms\",  col(\"cost\"))\n",
    "              .otherwise(0)).alias(\"sms_total\"),\n",
    "\n",
    "        F.sum(when(col(\"record_type\") == \"data\", col(\"cost\"))\n",
    "              .otherwise(0)).alias(\"data_total\"),\n",
    "\n",
    "        # total hors taxes\n",
    "        F.sum(col(\"cost\")).alias(\"amount_before_tax\")\n",
    "    )\n",
    ")\n"
   ]
  },
  {
   "cell_type": "code",
   "execution_count": 5,
   "id": "61174244",
   "metadata": {},
   "outputs": [
    {
     "name": "stdout",
     "output_type": "stream",
     "text": [
      "+------------+--------------+--------------------+---------+------------------+--------------------+------------+-------------------+---------------------+--------------------+\n",
      "|customer_id |billing_period|voice_total         |sms_total|data_total        |amount_before_tax   |discount_pct|after_discount     |tax                  |amount_due          |\n",
      "+------------+--------------+--------------------+---------+------------------+--------------------+------------+-------------------+---------------------+--------------------+\n",
      "|212627604445|2025-06       |0.09                |0.0      |0.0               |0.09                |0.05        |0.08549999999999999|0.0171               |0.1026              |\n",
      "|212687695748|2025-06       |0.0                 |0.0      |28.630799999999997|28.630799999999997  |0.05        |27.199259999999995 |5.439851999999999    |32.639112           |\n",
      "|212726863990|2025-06       |0.0                 |0.0      |0.0               |0.0                 |0.05        |0.0                |0.0                  |0.0                 |\n",
      "|212701770954|2025-06       |0.05                |0.0      |32.0204           |32.0704             |0.05        |30.466879999999996 |6.093375999999999    |36.560255999999995  |\n",
      "|212678078940|2025-06       |0.036000000000000004|0.0      |0.0               |0.036000000000000004|0.05        |0.0342             |0.006840000000000001 |0.04104             |\n",
      "|212690173217|2025-06       |0.01                |0.0      |0.0               |0.01                |0.05        |0.0095             |0.0019               |0.0114              |\n",
      "|212631350999|2025-06       |0.01                |0.0      |0.0               |0.01                |0.05        |0.0095             |0.0019               |0.0114              |\n",
      "|212651351980|2025-06       |0.125               |0.0      |0.0               |0.125               |0.05        |0.11875            |0.02375              |0.1425              |\n",
      "|212731003192|2025-06       |0.0                 |0.0      |0.0               |0.0                 |0.05        |0.0                |0.0                  |0.0                 |\n",
      "|212606291487|2025-06       |0.0                 |0.0      |33.62598          |33.62598            |0.05        |31.944680999999996 |6.3889362            |38.33361719999999   |\n",
      "|212717489813|2025-06       |0.0                 |0.0      |0.0               |0.0                 |0.05        |0.0                |0.0                  |0.0                 |\n",
      "|212617918006|2025-06       |0.0                 |0.0      |0.0               |0.0                 |0.05        |0.0                |0.0                  |0.0                 |\n",
      "|212683014733|2025-06       |0.0                 |0.0      |11.0752           |11.0752             |0.05        |10.52144           |2.104288             |12.625728           |\n",
      "|212694804570|2025-06       |0.012               |0.0      |0.0               |0.012               |0.05        |0.0114             |0.0022800000000000003|0.013680000000000001|\n",
      "|212647209327|2025-06       |0.0                 |0.0      |0.0               |0.0                 |0.05        |0.0                |0.0                  |0.0                 |\n",
      "|212640904278|2025-06       |0.0                 |0.0      |12.7676           |12.7676             |0.05        |12.12922           |2.425844             |14.555064           |\n",
      "|212739764048|2025-06       |0.0                 |0.0      |22.69124          |22.69124            |0.05        |21.556677999999998 |4.3113356            |25.868013599999998  |\n",
      "|212615629328|2025-06       |0.036000000000000004|0.0      |12.441659999999999|12.477659999999998  |0.05        |11.853776999999997 |2.3707553999999997   |14.224532399999998  |\n",
      "|212784783590|2025-06       |0.0                 |0.0      |0.0               |0.0                 |0.05        |0.0                |0.0                  |0.0                 |\n",
      "|212734436816|2025-06       |0.0                 |0.0      |33.089            |33.089              |0.05        |31.434549999999998 |6.28691              |37.72146            |\n",
      "+------------+--------------+--------------------+---------+------------------+--------------------+------------+-------------------+---------------------+--------------------+\n",
      "only showing top 20 rows\n",
      "\n"
     ]
    }
   ],
   "source": [
    "TVA = 0.20\n",
    "invoices = (invoices\n",
    "    .withColumn(\"discount_pct\", lit(0.05))\n",
    "    .withColumn(\"after_discount\",\n",
    "                col(\"amount_before_tax\") * (1 - col(\"discount_pct\")))\n",
    "    .withColumn(\"tax\", col(\"after_discount\") * lit(TVA))\n",
    "    .withColumn(\"amount_due\", col(\"after_discount\") + col(\"tax\"))\n",
    ")\n",
    "\n",
    "invoices.show(truncate=False)\n"
   ]
  },
  {
   "cell_type": "code",
   "execution_count": 6,
   "id": "3f1e7d71",
   "metadata": {},
   "outputs": [
    {
     "name": "stdout",
     "output_type": "stream",
     "text": [
      "+------------+-----------------+-----------------+------------+---------------+------+--------------------+\n",
      "| customer_id|    customer_name|subscription_type|rate_plan_id|activation_date|status|              region|\n",
      "+------------+-----------------+-----------------+------------+---------------+------+--------------------+\n",
      "|212768116861|    Anwar Kettani|         postpaid|      PLAN_C|     2024-04-29|active|Béni Mellal-Khénifra|\n",
      "|212760204113|Naoual El Othmani|         postpaid|      PLAN_A|     2024-12-07|active|      Drâa-Tafilalet|\n",
      "|212704344822|     Ehab Ouchrif|         postpaid|      PLAN_A|     2023-07-29|active|Laâyoune-Sakia El...|\n",
      "|212658901536|     Selma Msaddi|         postpaid|      PLAN_C|     2023-06-16|active|         Souss-Massa|\n",
      "|212699900093| Brahim El Hilali|         postpaid|      PLAN_A|     2024-07-27|active|Dakhla-Oued Ed Dahab|\n",
      "+------------+-----------------+-----------------+------------+---------------+------+--------------------+\n",
      "only showing top 5 rows\n",
      "\n"
     ]
    }
   ],
   "source": [
    "customersDf = spark.read \\\n",
    "    .format(\"jdbc\")\\\n",
    "    .option(\"url\",      \"jdbc:postgresql://localhost:5432/projet_spark\")\\\n",
    "    .option(\"dbtable\",  \"customers\")\\\n",
    "    .option(\"user\",     \"postgres\")\\\n",
    "    .option(\"password\", \"0000\")\\\n",
    "    .load() \n",
    "\n",
    "customersDf.show(5)"
   ]
  },
  {
   "cell_type": "code",
   "execution_count": 7,
   "id": "a402296f",
   "metadata": {},
   "outputs": [
    {
     "name": "stdout",
     "output_type": "stream",
     "text": [
      "+------------+--------------+--------------------+------------+-----------+---------+----------+-----------------+------------+--------------+-------+----------+\n",
      "| customer_id|billing_period|              region|rate_plan_id|voice_total|sms_total|data_total|amount_before_tax|discount_pct|after_discount|    tax|amount_due|\n",
      "+------------+--------------+--------------------+------------+-----------+---------+----------+-----------------+------------+--------------+-------+----------+\n",
      "|212768116861|       2025-06|Béni Mellal-Khénifra|      PLAN_C|        0.0|      0.0|       0.0|              0.0|        0.05|           0.0|    0.0|       0.0|\n",
      "|212760204113|       2025-06|      Drâa-Tafilalet|      PLAN_A|        0.0|      0.0|       0.0|              0.0|        0.05|           0.0|    0.0|       0.0|\n",
      "|212704344822|       2025-06|Laâyoune-Sakia El...|      PLAN_A|        0.0|      0.0|       0.0|              0.0|        0.05|           0.0|    0.0|       0.0|\n",
      "|212658901536|       2025-06|         Souss-Massa|      PLAN_C|        0.0|      0.0|       0.0|              0.0|        0.05|           0.0|    0.0|       0.0|\n",
      "|212699900093|       2025-06|Dakhla-Oued Ed Dahab|      PLAN_A|        0.0|      0.0|       0.0|              0.0|        0.05|           0.0|    0.0|       0.0|\n",
      "|212755443149|       2025-06|Dakhla-Oued Ed Dahab|      PLAN_B|        0.0|      0.0|       0.0|              0.0|        0.05|           0.0|    0.0|       0.0|\n",
      "|212608231036|       2025-06|   Guelmim-Oued Noun|      PLAN_C|        0.0|      0.0|       0.0|              0.0|        0.05|           0.0|    0.0|       0.0|\n",
      "|212631419586|       2025-06|      Drâa-Tafilalet|      PLAN_C|        0.0|      0.0|       0.0|              0.0|        0.05|           0.0|    0.0|       0.0|\n",
      "|212704145817|       2025-06|Tanger-Tétouan-Al...|      PLAN_B|        0.0|      0.0|       0.0|              0.0|        0.05|           0.0|    0.0|       0.0|\n",
      "|212781716466|       2025-06|  Rabat-Salé-Kénitra|      PLAN_A|        0.0|      0.0|       0.0|              0.0|        0.05|           0.0|    0.0|       0.0|\n",
      "|212612762782|       2025-06|   Casablanca-Settat|      PLAN_B|        0.0|      0.0|       0.0|              0.0|        0.05|           0.0|    0.0|       0.0|\n",
      "|212785912578|       2025-06|      Marrakech-Safi|      PLAN_C|        0.0|      0.0|       0.0|              0.0|        0.05|           0.0|    0.0|       0.0|\n",
      "|212701382177|       2025-06|   Guelmim-Oued Noun|      PLAN_A|        0.0|      0.0|       0.0|              0.0|        0.05|           0.0|    0.0|       0.0|\n",
      "|212652067719|       2025-06|          Fès-Meknès|      PLAN_C|        0.0|      0.0|       0.0|              0.0|        0.05|           0.0|    0.0|       0.0|\n",
      "|212607086270|       2025-06|Tanger-Tétouan-Al...|      PLAN_A|        0.0|      0.0|       0.0|              0.0|        0.05|           0.0|    0.0|       0.0|\n",
      "|212799208680|       2025-06|Béni Mellal-Khénifra|      PLAN_C|        0.0|      0.0|       0.0|              0.0|        0.05|           0.0|    0.0|       0.0|\n",
      "|212646492701|       2025-06|          Fès-Meknès|      PLAN_B|      0.224|      0.0|       0.0|            0.224|        0.05|        0.2128|0.04256|   0.25536|\n",
      "|212770862917|       2025-06|  Rabat-Salé-Kénitra|      PLAN_B|        0.0|      0.0|       0.0|              0.0|        0.05|           0.0|    0.0|       0.0|\n",
      "|212645600306|       2025-06|Laâyoune-Sakia El...|      PLAN_B|        0.0|      0.0|       0.0|              0.0|        0.05|           0.0|    0.0|       0.0|\n",
      "|212737681005|       2025-06|      Drâa-Tafilalet|      PLAN_A|        0.0|      0.0|       0.0|              0.0|        0.05|           0.0|    0.0|       0.0|\n",
      "+------------+--------------+--------------------+------------+-----------+---------+----------+-----------------+------------+--------------+-------+----------+\n",
      "only showing top 20 rows\n",
      "\n"
     ]
    }
   ],
   "source": [
    "from pyspark.sql import functions as F\n",
    "\n",
    "# 1) liste des mois à facturer (ex. juin 2025)\n",
    "mois_courant = \"2025-06\"              # ou boucle sur plusieurs périodes\n",
    "\n",
    "# 2) sous-ensemble des clients éligibles\n",
    "clients_elig = (customersDf\n",
    "    .filter( (F.col(\"status\") == \"active\") &\n",
    "             (F.col(\"subscription_type\") == \"postpaid\") )\n",
    "    .select(\"customer_id\",\"region\",\"rate_plan_id\")\n",
    "    .withColumn(\"billing_period\", F.lit(mois_courant))\n",
    ")\n",
    "\n",
    "# 3) jointure gauche clients ↔ invoices\n",
    "facturation_complete = (clients_elig.join(\n",
    "        invoices.filter(F.col(\"billing_period\") == mois_courant),\n",
    "        on=[\"customer_id\", \"billing_period\"],\n",
    "        how=\"left\")\n",
    "    # 4) remplacer les NULL par 0\n",
    "    .fillna({\n",
    "        \"voice_total\":          0.0,\n",
    "        \"sms_total\":            0.0,\n",
    "        \"data_total\":           0.0,\n",
    "        \"amount_before_tax\":    0.0,\n",
    "        \"discount_pct\":         0.05,\n",
    "        \"after_discount\":       0.0,\n",
    "        \"tax\":                  0.0,\n",
    "        \"amount_due\":           0.0\n",
    "    })\n",
    ")\n",
    "\n",
    "facturation_complete.show()\n"
   ]
  },
  {
   "cell_type": "code",
   "execution_count": null,
   "id": "b0765ebd",
   "metadata": {},
   "outputs": [],
   "source": [
    "facturation_complete.write.mode(\"overwrite\").partitionBy(\"billing_period\").parquet(\"billing\")\n"
   ]
  },
  {
   "cell_type": "code",
   "execution_count": 9,
   "id": "05a629bb",
   "metadata": {},
   "outputs": [],
   "source": [
    "(facturation_complete.write\n",
    " .format(\"jdbc\")\n",
    " .option(\"url\",      \"jdbc:postgresql://localhost:5432/projet_spark\")\n",
    " .option(\"dbtable\",  \"facturation_complete\")\n",
    " .option(\"user\",     \"postgres\")\n",
    " .option(\"password\", \"0000\")\n",
    " .mode(\"overwrite\")          \n",
    " .save())\n"
   ]
  },
  {
   "cell_type": "code",
   "execution_count": 10,
   "id": "059900c8",
   "metadata": {},
   "outputs": [
    {
     "name": "stdout",
     "output_type": "stream",
     "text": [
      "+------------+--------------+--------------------+------------+-----------+---------+----------+-----------------+------------+--------------+-------+----------+\n",
      "| customer_id|billing_period|              region|rate_plan_id|voice_total|sms_total|data_total|amount_before_tax|discount_pct|after_discount|    tax|amount_due|\n",
      "+------------+--------------+--------------------+------------+-----------+---------+----------+-----------------+------------+--------------+-------+----------+\n",
      "|212768116861|       2025-06|Béni Mellal-Khénifra|      PLAN_C|        0.0|      0.0|       0.0|              0.0|        0.05|           0.0|    0.0|       0.0|\n",
      "|212760204113|       2025-06|      Drâa-Tafilalet|      PLAN_A|        0.0|      0.0|       0.0|              0.0|        0.05|           0.0|    0.0|       0.0|\n",
      "|212704344822|       2025-06|Laâyoune-Sakia El...|      PLAN_A|        0.0|      0.0|       0.0|              0.0|        0.05|           0.0|    0.0|       0.0|\n",
      "|212658901536|       2025-06|         Souss-Massa|      PLAN_C|        0.0|      0.0|       0.0|              0.0|        0.05|           0.0|    0.0|       0.0|\n",
      "|212699900093|       2025-06|Dakhla-Oued Ed Dahab|      PLAN_A|        0.0|      0.0|       0.0|              0.0|        0.05|           0.0|    0.0|       0.0|\n",
      "|212755443149|       2025-06|Dakhla-Oued Ed Dahab|      PLAN_B|        0.0|      0.0|       0.0|              0.0|        0.05|           0.0|    0.0|       0.0|\n",
      "|212608231036|       2025-06|   Guelmim-Oued Noun|      PLAN_C|        0.0|      0.0|       0.0|              0.0|        0.05|           0.0|    0.0|       0.0|\n",
      "|212631419586|       2025-06|      Drâa-Tafilalet|      PLAN_C|        0.0|      0.0|       0.0|              0.0|        0.05|           0.0|    0.0|       0.0|\n",
      "|212704145817|       2025-06|Tanger-Tétouan-Al...|      PLAN_B|        0.0|      0.0|       0.0|              0.0|        0.05|           0.0|    0.0|       0.0|\n",
      "|212781716466|       2025-06|  Rabat-Salé-Kénitra|      PLAN_A|        0.0|      0.0|       0.0|              0.0|        0.05|           0.0|    0.0|       0.0|\n",
      "|212612762782|       2025-06|   Casablanca-Settat|      PLAN_B|        0.0|      0.0|       0.0|              0.0|        0.05|           0.0|    0.0|       0.0|\n",
      "|212785912578|       2025-06|      Marrakech-Safi|      PLAN_C|        0.0|      0.0|       0.0|              0.0|        0.05|           0.0|    0.0|       0.0|\n",
      "|212701382177|       2025-06|   Guelmim-Oued Noun|      PLAN_A|        0.0|      0.0|       0.0|              0.0|        0.05|           0.0|    0.0|       0.0|\n",
      "|212652067719|       2025-06|          Fès-Meknès|      PLAN_C|        0.0|      0.0|       0.0|              0.0|        0.05|           0.0|    0.0|       0.0|\n",
      "|212607086270|       2025-06|Tanger-Tétouan-Al...|      PLAN_A|        0.0|      0.0|       0.0|              0.0|        0.05|           0.0|    0.0|       0.0|\n",
      "|212799208680|       2025-06|Béni Mellal-Khénifra|      PLAN_C|        0.0|      0.0|       0.0|              0.0|        0.05|           0.0|    0.0|       0.0|\n",
      "|212646492701|       2025-06|          Fès-Meknès|      PLAN_B|      0.224|      0.0|       0.0|            0.224|        0.05|        0.2128|0.04256|   0.25536|\n",
      "|212770862917|       2025-06|  Rabat-Salé-Kénitra|      PLAN_B|        0.0|      0.0|       0.0|              0.0|        0.05|           0.0|    0.0|       0.0|\n",
      "|212645600306|       2025-06|Laâyoune-Sakia El...|      PLAN_B|        0.0|      0.0|       0.0|              0.0|        0.05|           0.0|    0.0|       0.0|\n",
      "|212737681005|       2025-06|      Drâa-Tafilalet|      PLAN_A|        0.0|      0.0|       0.0|              0.0|        0.05|           0.0|    0.0|       0.0|\n",
      "+------------+--------------+--------------------+------------+-----------+---------+----------+-----------------+------------+--------------+-------+----------+\n",
      "only showing top 20 rows\n",
      "\n"
     ]
    }
   ],
   "source": [
    "facturation_complete.show()"
   ]
  },
  {
   "cell_type": "code",
   "execution_count": null,
   "id": "839fa753",
   "metadata": {},
   "outputs": [],
   "source": []
  }
 ],
 "metadata": {
  "kernelspec": {
   "display_name": "Python 3",
   "language": "python",
   "name": "python3"
  },
  "language_info": {
   "codemirror_mode": {
    "name": "ipython",
    "version": 3
   },
   "file_extension": ".py",
   "mimetype": "text/x-python",
   "name": "python",
   "nbconvert_exporter": "python",
   "pygments_lexer": "ipython3",
   "version": "3.12.5"
  }
 },
 "nbformat": 4,
 "nbformat_minor": 5
}
