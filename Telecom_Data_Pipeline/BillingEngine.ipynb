{
 "cells": [
  {
   "cell_type": "code",
   "execution_count": 1,
   "id": "283dfbf5",
   "metadata": {
    "execution": {
     "iopub.execute_input": "2025-06-11T13:46:10.716671Z",
     "iopub.status.busy": "2025-06-11T13:46:10.715675Z",
     "iopub.status.idle": "2025-06-11T13:46:16.698385Z",
     "shell.execute_reply": "2025-06-11T13:46:16.698385Z"
    },
    "papermill": {
     "duration": 5.991721,
     "end_time": "2025-06-11T13:46:16.700401",
     "exception": false,
     "start_time": "2025-06-11T13:46:10.708680",
     "status": "completed"
    },
    "tags": []
   },
   "outputs": [],
   "source": [
    "from pyspark.sql import SparkSession\n",
    "spark = (SparkSession.builder\n",
    "         .appName(\"BillingEngine\")\n",
    "         .config(\"spark.jars\",         r\".\\conf\\postgresql-42.7.6.jar\")\n",
    "         .config(\"spark.driver.extraClassPath\", r\".\\conf\\postgresql-42.7.6.jar\")\n",
    "         .getOrCreate())"
   ]
  },
  {
   "cell_type": "code",
   "execution_count": 2,
   "id": "3c15b680",
   "metadata": {
    "execution": {
     "iopub.execute_input": "2025-06-11T13:46:16.706895Z",
     "iopub.status.busy": "2025-06-11T13:46:16.706895Z",
     "iopub.status.idle": "2025-06-11T13:46:21.102925Z",
     "shell.execute_reply": "2025-06-11T13:46:21.101920Z"
    },
    "papermill": {
     "duration": 4.400169,
     "end_time": "2025-06-11T13:46:21.103932",
     "exception": false,
     "start_time": "2025-06-11T13:46:16.703763",
     "status": "completed"
    },
    "tags": []
   },
   "outputs": [
    {
     "name": "stdout",
     "output_type": "stream",
     "text": [
      "root\n",
      " |-- customer_id: string (nullable = true)\n",
      " |-- rate_plan_id: string (nullable = true)\n",
      " |-- product_code: string (nullable = true)\n",
      " |-- record_ID: string (nullable = true)\n",
      " |-- timestamp: timestamp (nullable = true)\n",
      " |-- cell_id: string (nullable = true)\n",
      " |-- technology: string (nullable = true)\n",
      " |-- caller_id: string (nullable = true)\n",
      " |-- callee_id: string (nullable = true)\n",
      " |-- duration_sec: integer (nullable = true)\n",
      " |-- rating_status: string (nullable = true)\n",
      " |-- sender_id: string (nullable = true)\n",
      " |-- receiver_id: string (nullable = true)\n",
      " |-- user_id: string (nullable = true)\n",
      " |-- session_duration_sec: string (nullable = true)\n",
      " |-- data_volume_mb: string (nullable = true)\n",
      " |-- batch_id: integer (nullable = true)\n",
      " |-- record_type: string (nullable = true)\n",
      " |-- unit: string (nullable = true)\n",
      " |-- rate_type: string (nullable = true)\n",
      " |-- description: string (nullable = true)\n",
      " |-- unit_price: double (nullable = true)\n",
      " |-- free_units: integer (nullable = true)\n",
      " |-- tier_threshold: integer (nullable = true)\n",
      " |-- tier_price: double (nullable = true)\n",
      " |-- billable_units: string (nullable = true)\n",
      " |-- cost: double (nullable = true)\n",
      " |-- billing_period: string (nullable = true)\n",
      "\n"
     ]
    }
   ],
   "source": [
    "rated = spark.read.parquet(\"rated_cdrs/\")\n",
    "rated.printSchema()\n"
   ]
  },
  {
   "cell_type": "code",
   "execution_count": 3,
   "id": "725ddeb9",
   "metadata": {
    "execution": {
     "iopub.execute_input": "2025-06-11T13:46:21.112160Z",
     "iopub.status.busy": "2025-06-11T13:46:21.111157Z",
     "iopub.status.idle": "2025-06-11T13:46:21.234877Z",
     "shell.execute_reply": "2025-06-11T13:46:21.233868Z"
    },
    "papermill": {
     "duration": 0.127721,
     "end_time": "2025-06-11T13:46:21.235878",
     "exception": false,
     "start_time": "2025-06-11T13:46:21.108157",
     "status": "completed"
    },
    "tags": []
   },
   "outputs": [],
   "source": [
    "rated_ok = rated.filter(rated.rating_status == \"rated\")"
   ]
  },
  {
   "cell_type": "code",
   "execution_count": 4,
   "id": "1c1bd565",
   "metadata": {
    "execution": {
     "iopub.execute_input": "2025-06-11T13:46:21.248875Z",
     "iopub.status.busy": "2025-06-11T13:46:21.248875Z",
     "iopub.status.idle": "2025-06-11T13:46:21.457704Z",
     "shell.execute_reply": "2025-06-11T13:46:21.457704Z"
    },
    "papermill": {
     "duration": 0.216863,
     "end_time": "2025-06-11T13:46:21.459738",
     "exception": false,
     "start_time": "2025-06-11T13:46:21.242875",
     "status": "completed"
    },
    "tags": []
   },
   "outputs": [],
   "source": [
    "from pyspark.sql import functions as F\n",
    "from pyspark.sql.functions import col, when, lit\n",
    "\n",
    "invoices = (rated_ok\n",
    "    .groupBy(\"customer_id\", \"billing_period\")\n",
    "    .agg(\n",
    "        # sous-totaux\n",
    "        F.sum(when(col(\"record_type\") == \"voice\", col(\"cost\"))\n",
    "              .otherwise(0)).alias(\"voice_total\"),\n",
    "\n",
    "        F.sum(when(col(\"record_type\") == \"sms\",  col(\"cost\"))\n",
    "              .otherwise(0)).alias(\"sms_total\"),\n",
    "\n",
    "        F.sum(when(col(\"record_type\") == \"data\", col(\"cost\"))\n",
    "              .otherwise(0)).alias(\"data_total\"),\n",
    "\n",
    "        # total hors taxes\n",
    "        F.sum(col(\"cost\")).alias(\"amount_before_tax\")\n",
    "    )\n",
    ")\n"
   ]
  },
  {
   "cell_type": "code",
   "execution_count": 5,
   "id": "61174244",
   "metadata": {
    "execution": {
     "iopub.execute_input": "2025-06-11T13:46:21.466714Z",
     "iopub.status.busy": "2025-06-11T13:46:21.466714Z",
     "iopub.status.idle": "2025-06-11T13:46:26.768047Z",
     "shell.execute_reply": "2025-06-11T13:46:26.768047Z"
    },
    "papermill": {
     "duration": 5.308333,
     "end_time": "2025-06-11T13:46:26.770057",
     "exception": false,
     "start_time": "2025-06-11T13:46:21.461724",
     "status": "completed"
    },
    "tags": []
   },
   "outputs": [
    {
     "name": "stdout",
     "output_type": "stream",
     "text": [
      "+------------+--------------+-----------+---------+------------------+------------------+------------+------------------+--------------------+------------------+\n",
      "|customer_id |billing_period|voice_total|sms_total|data_total        |amount_before_tax |discount_pct|after_discount    |tax                 |amount_due        |\n",
      "+------------+--------------+-----------+---------+------------------+------------------+------------+------------------+--------------------+------------------+\n",
      "|212667966927|2025-06       |0.0        |0.0      |0.0               |0.0               |0.05        |0.0               |0.0                 |0.0               |\n",
      "|212643266793|2025-06       |0.0        |0.0      |1.4456            |1.4456            |0.05        |1.3733199999999999|0.27466399999999996 |1.647984          |\n",
      "|212755017347|2025-06       |0.0        |0.0      |0.0               |0.0               |0.05        |0.0               |0.0                 |0.0               |\n",
      "|212667703272|2025-06       |0.05       |0.0      |0.0               |0.05              |0.05        |0.0475            |0.009500000000000001|0.057             |\n",
      "|212651156096|2025-06       |0.0        |0.0      |0.0               |0.0               |0.05        |0.0               |0.0                 |0.0               |\n",
      "|212781115917|2025-06       |0.0        |0.0      |0.0               |0.0               |0.05        |0.0               |0.0                 |0.0               |\n",
      "|212729028258|2025-06       |0.02       |0.0      |0.0               |0.02              |0.05        |0.019             |0.0038              |0.0228            |\n",
      "|212611017144|2025-06       |0.0        |0.0      |0.0               |0.0               |0.05        |0.0               |0.0                 |0.0               |\n",
      "|212631101815|2025-06       |0.0        |0.0      |0.0               |0.0               |0.05        |0.0               |0.0                 |0.0               |\n",
      "|212779652212|2025-06       |0.0        |0.0      |0.0               |0.0               |0.05        |0.0               |0.0                 |0.0               |\n",
      "|212702619614|2025-06       |0.0        |0.0      |27.546            |27.546            |0.05        |26.168699999999998|5.23374             |31.40244          |\n",
      "|212715956664|2025-06       |0.0        |0.0      |0.0               |0.0               |0.05        |0.0               |0.0                 |0.0               |\n",
      "|212670692800|2025-06       |0.0        |0.0      |31.764259999999997|31.764259999999997|0.05        |30.176046999999997|6.035209399999999   |36.211256399999996|\n",
      "|212722584949|2025-06       |0.0        |0.0      |0.0               |0.0               |0.05        |0.0               |0.0                 |0.0               |\n",
      "|212789651955|2025-06       |0.0        |0.0      |0.0               |0.0               |0.05        |0.0               |0.0                 |0.0               |\n",
      "|212653516080|2025-06       |0.0        |0.0      |0.0               |0.0               |0.05        |0.0               |0.0                 |0.0               |\n",
      "|212728230411|2025-06       |0.0        |0.0      |0.0               |0.0               |0.05        |0.0               |0.0                 |0.0               |\n",
      "|212698691597|2025-06       |0.0        |0.0      |0.0               |0.0               |0.05        |0.0               |0.0                 |0.0               |\n",
      "|212792223109|2025-06       |0.0        |0.0      |0.0               |0.0               |0.05        |0.0               |0.0                 |0.0               |\n",
      "|212736048918|2025-06       |0.0        |0.0      |0.0               |0.0               |0.05        |0.0               |0.0                 |0.0               |\n",
      "+------------+--------------+-----------+---------+------------------+------------------+------------+------------------+--------------------+------------------+\n",
      "only showing top 20 rows\n",
      "\n"
     ]
    }
   ],
   "source": [
    "TVA = 0.20\n",
    "invoices = (invoices\n",
    "    .withColumn(\"discount_pct\", lit(0.05))\n",
    "    .withColumn(\"after_discount\",\n",
    "                col(\"amount_before_tax\") * (1 - col(\"discount_pct\")))\n",
    "    .withColumn(\"tax\", col(\"after_discount\") * lit(TVA))\n",
    "    .withColumn(\"amount_due\", col(\"after_discount\") + col(\"tax\"))\n",
    ")\n",
    "\n",
    "invoices.show(truncate=False)\n"
   ]
  },
  {
   "cell_type": "code",
   "execution_count": 6,
   "id": "3f1e7d71",
   "metadata": {
    "execution": {
     "iopub.execute_input": "2025-06-11T13:46:26.778053Z",
     "iopub.status.busy": "2025-06-11T13:46:26.777057Z",
     "iopub.status.idle": "2025-06-11T13:46:27.494178Z",
     "shell.execute_reply": "2025-06-11T13:46:27.493165Z"
    },
    "papermill": {
     "duration": 0.722166,
     "end_time": "2025-06-11T13:46:27.495222",
     "exception": false,
     "start_time": "2025-06-11T13:46:26.773056",
     "status": "completed"
    },
    "tags": []
   },
   "outputs": [
    {
     "name": "stdout",
     "output_type": "stream",
     "text": [
      "+------------+-----------------+-----------------+------------+---------------+------+--------------------+\n",
      "| customer_id|    customer_name|subscription_type|rate_plan_id|activation_date|status|              region|\n",
      "+------------+-----------------+-----------------+------------+---------------+------+--------------------+\n",
      "|212768116861|    Anwar Kettani|         postpaid|      PLAN_C|     2024-04-29|active|Béni Mellal-Khénifra|\n",
      "|212760204113|Naoual El Othmani|         postpaid|      PLAN_A|     2024-12-07|active|      Drâa-Tafilalet|\n",
      "|212704344822|     Ehab Ouchrif|         postpaid|      PLAN_A|     2023-07-29|active|Laâyoune-Sakia El...|\n",
      "|212658901536|     Selma Msaddi|         postpaid|      PLAN_C|     2023-06-16|active|         Souss-Massa|\n",
      "|212699900093| Brahim El Hilali|         postpaid|      PLAN_A|     2024-07-27|active|Dakhla-Oued Ed Dahab|\n",
      "+------------+-----------------+-----------------+------------+---------------+------+--------------------+\n",
      "only showing top 5 rows\n",
      "\n"
     ]
    }
   ],
   "source": [
    "customersDf = spark.read \\\n",
    "    .format(\"jdbc\")\\\n",
    "    .option(\"url\",      \"jdbc:postgresql://localhost:5432/projet_spark\")\\\n",
    "    .option(\"dbtable\",  \"customers\")\\\n",
    "    .option(\"user\",     \"postgres\")\\\n",
    "    .option(\"password\", \"0000\")\\\n",
    "    .load() \n",
    "\n",
    "customersDf.show(5)"
   ]
  },
  {
   "cell_type": "code",
   "execution_count": 7,
   "id": "a402296f",
   "metadata": {
    "execution": {
     "iopub.execute_input": "2025-06-11T13:46:27.505178Z",
     "iopub.status.busy": "2025-06-11T13:46:27.505178Z",
     "iopub.status.idle": "2025-06-11T13:46:28.593140Z",
     "shell.execute_reply": "2025-06-11T13:46:28.593140Z"
    },
    "papermill": {
     "duration": 1.095974,
     "end_time": "2025-06-11T13:46:28.595152",
     "exception": false,
     "start_time": "2025-06-11T13:46:27.499178",
     "status": "completed"
    },
    "tags": []
   },
   "outputs": [
    {
     "name": "stdout",
     "output_type": "stream",
     "text": [
      "+------------+--------------+--------------------+------------+-----------+---------+----------+-----------------+------------+--------------+---+----------+\n",
      "| customer_id|billing_period|              region|rate_plan_id|voice_total|sms_total|data_total|amount_before_tax|discount_pct|after_discount|tax|amount_due|\n",
      "+------------+--------------+--------------------+------------+-----------+---------+----------+-----------------+------------+--------------+---+----------+\n",
      "|212768116861|       2025-06|Béni Mellal-Khénifra|      PLAN_C|        0.0|      0.0|       0.0|              0.0|        0.05|           0.0|0.0|       0.0|\n",
      "|212760204113|       2025-06|      Drâa-Tafilalet|      PLAN_A|        0.0|      0.0|       0.0|              0.0|        0.05|           0.0|0.0|       0.0|\n",
      "|212704344822|       2025-06|Laâyoune-Sakia El...|      PLAN_A|        0.0|      0.0|       0.0|              0.0|        0.05|           0.0|0.0|       0.0|\n",
      "|212658901536|       2025-06|         Souss-Massa|      PLAN_C|        0.0|      0.0|       0.0|              0.0|        0.05|           0.0|0.0|       0.0|\n",
      "|212699900093|       2025-06|Dakhla-Oued Ed Dahab|      PLAN_A|        0.0|      0.0|       0.0|              0.0|        0.05|           0.0|0.0|       0.0|\n",
      "|212755443149|       2025-06|Dakhla-Oued Ed Dahab|      PLAN_B|        0.0|      0.0|       0.0|              0.0|        0.05|           0.0|0.0|       0.0|\n",
      "|212608231036|       2025-06|   Guelmim-Oued Noun|      PLAN_C|        0.0|      0.0|       0.0|              0.0|        0.05|           0.0|0.0|       0.0|\n",
      "|212631419586|       2025-06|      Drâa-Tafilalet|      PLAN_C|        0.0|      0.0|       0.0|              0.0|        0.05|           0.0|0.0|       0.0|\n",
      "|212704145817|       2025-06|Tanger-Tétouan-Al...|      PLAN_B|        0.0|      0.0|       0.0|              0.0|        0.05|           0.0|0.0|       0.0|\n",
      "|212781716466|       2025-06|  Rabat-Salé-Kénitra|      PLAN_A|        0.0|      0.0|       0.0|              0.0|        0.05|           0.0|0.0|       0.0|\n",
      "|212612762782|       2025-06|   Casablanca-Settat|      PLAN_B|        0.0|      0.0|       0.0|              0.0|        0.05|           0.0|0.0|       0.0|\n",
      "|212785912578|       2025-06|      Marrakech-Safi|      PLAN_C|        0.0|      0.0|       0.0|              0.0|        0.05|           0.0|0.0|       0.0|\n",
      "|212701382177|       2025-06|   Guelmim-Oued Noun|      PLAN_A|        0.0|      0.0|       0.0|              0.0|        0.05|           0.0|0.0|       0.0|\n",
      "|212652067719|       2025-06|          Fès-Meknès|      PLAN_C|        0.0|      0.0|       0.0|              0.0|        0.05|           0.0|0.0|       0.0|\n",
      "|212607086270|       2025-06|Tanger-Tétouan-Al...|      PLAN_A|        0.0|      0.0|       0.0|              0.0|        0.05|           0.0|0.0|       0.0|\n",
      "|212799208680|       2025-06|Béni Mellal-Khénifra|      PLAN_C|        0.0|      0.0|       0.0|              0.0|        0.05|           0.0|0.0|       0.0|\n",
      "|212646492701|       2025-06|          Fès-Meknès|      PLAN_B|        0.0|      0.0|       0.0|              0.0|        0.05|           0.0|0.0|       0.0|\n",
      "|212770862917|       2025-06|  Rabat-Salé-Kénitra|      PLAN_B|        0.0|      0.0|       0.0|              0.0|        0.05|           0.0|0.0|       0.0|\n",
      "|212645600306|       2025-06|Laâyoune-Sakia El...|      PLAN_B|        0.0|      0.0|       0.0|              0.0|        0.05|           0.0|0.0|       0.0|\n",
      "|212737681005|       2025-06|      Drâa-Tafilalet|      PLAN_A|        0.0|      0.0|       0.0|              0.0|        0.05|           0.0|0.0|       0.0|\n",
      "+------------+--------------+--------------------+------------+-----------+---------+----------+-----------------+------------+--------------+---+----------+\n",
      "only showing top 20 rows\n",
      "\n"
     ]
    }
   ],
   "source": [
    "from pyspark.sql import functions as F\n",
    "\n",
    "# 1) liste des mois à facturer (ex. juin 2025)\n",
    "mois_courant = \"2025-06\"              # ou boucle sur plusieurs périodes\n",
    "\n",
    "# 2) sous-ensemble des clients éligibles\n",
    "clients_elig = (customersDf\n",
    "    .filter( (F.col(\"status\") == \"active\") &\n",
    "             (F.col(\"subscription_type\") == \"postpaid\") )\n",
    "    .select(\"customer_id\",\"region\",\"rate_plan_id\")\n",
    "    .withColumn(\"billing_period\", F.lit(mois_courant))\n",
    ")\n",
    "\n",
    "# 3) jointure gauche clients ↔ invoices\n",
    "facturation_complete = (clients_elig.join(\n",
    "        invoices.filter(F.col(\"billing_period\") == mois_courant),\n",
    "        on=[\"customer_id\", \"billing_period\"],\n",
    "        how=\"left\")\n",
    "    # 4) remplacer les NULL par 0\n",
    "    .fillna({\n",
    "        \"voice_total\":          0.0,\n",
    "        \"sms_total\":            0.0,\n",
    "        \"data_total\":           0.0,\n",
    "        \"amount_before_tax\":    0.0,\n",
    "        \"discount_pct\":         0.05,\n",
    "        \"after_discount\":       0.0,\n",
    "        \"tax\":                  0.0,\n",
    "        \"amount_due\":           0.0\n",
    "    })\n",
    ")\n",
    "\n",
    "facturation_complete.show()\n"
   ]
  },
  {
   "cell_type": "code",
   "execution_count": 8,
   "id": "b0765ebd",
   "metadata": {
    "execution": {
     "iopub.execute_input": "2025-06-11T13:46:28.603151Z",
     "iopub.status.busy": "2025-06-11T13:46:28.602155Z",
     "iopub.status.idle": "2025-06-11T13:46:29.816615Z",
     "shell.execute_reply": "2025-06-11T13:46:29.816615Z"
    },
    "papermill": {
     "duration": 1.220717,
     "end_time": "2025-06-11T13:46:29.818865",
     "exception": false,
     "start_time": "2025-06-11T13:46:28.598148",
     "status": "completed"
    },
    "tags": []
   },
   "outputs": [],
   "source": [
    "facturation_complete.write.mode(\"overwrite\").partitionBy(\"billing_period\").parquet(\"billing\")\n"
   ]
  },
  {
   "cell_type": "code",
   "execution_count": 9,
   "id": "05a629bb",
   "metadata": {
    "execution": {
     "iopub.execute_input": "2025-06-11T13:46:29.826896Z",
     "iopub.status.busy": "2025-06-11T13:46:29.825864Z",
     "iopub.status.idle": "2025-06-11T13:46:30.752614Z",
     "shell.execute_reply": "2025-06-11T13:46:30.752102Z"
    },
    "papermill": {
     "duration": 0.931759,
     "end_time": "2025-06-11T13:46:30.754626",
     "exception": false,
     "start_time": "2025-06-11T13:46:29.822867",
     "status": "completed"
    },
    "tags": []
   },
   "outputs": [],
   "source": [
    "(facturation_complete.write\n",
    " .format(\"jdbc\")\n",
    " .option(\"url\",      \"jdbc:postgresql://localhost:5432/projet_spark\")\n",
    " .option(\"dbtable\",  \"facturation_complete\")\n",
    " .option(\"user\",     \"postgres\")\n",
    " .option(\"password\", \"0000\")\n",
    " .mode(\"overwrite\")          \n",
    " .save())\n"
   ]
  },
  {
   "cell_type": "code",
   "execution_count": 10,
   "id": "059900c8",
   "metadata": {
    "execution": {
     "iopub.execute_input": "2025-06-11T13:46:30.761621Z",
     "iopub.status.busy": "2025-06-11T13:46:30.761621Z",
     "iopub.status.idle": "2025-06-11T13:46:31.285288Z",
     "shell.execute_reply": "2025-06-11T13:46:31.284778Z"
    },
    "papermill": {
     "duration": 0.527675,
     "end_time": "2025-06-11T13:46:31.286295",
     "exception": false,
     "start_time": "2025-06-11T13:46:30.758620",
     "status": "completed"
    },
    "tags": []
   },
   "outputs": [
    {
     "name": "stdout",
     "output_type": "stream",
     "text": [
      "+------------+--------------+--------------------+------------+-----------+---------+----------+-----------------+------------+--------------+---+----------+\n",
      "| customer_id|billing_period|              region|rate_plan_id|voice_total|sms_total|data_total|amount_before_tax|discount_pct|after_discount|tax|amount_due|\n",
      "+------------+--------------+--------------------+------------+-----------+---------+----------+-----------------+------------+--------------+---+----------+\n",
      "|212768116861|       2025-06|Béni Mellal-Khénifra|      PLAN_C|        0.0|      0.0|       0.0|              0.0|        0.05|           0.0|0.0|       0.0|\n",
      "|212760204113|       2025-06|      Drâa-Tafilalet|      PLAN_A|        0.0|      0.0|       0.0|              0.0|        0.05|           0.0|0.0|       0.0|\n",
      "|212704344822|       2025-06|Laâyoune-Sakia El...|      PLAN_A|        0.0|      0.0|       0.0|              0.0|        0.05|           0.0|0.0|       0.0|\n",
      "|212658901536|       2025-06|         Souss-Massa|      PLAN_C|        0.0|      0.0|       0.0|              0.0|        0.05|           0.0|0.0|       0.0|\n",
      "|212699900093|       2025-06|Dakhla-Oued Ed Dahab|      PLAN_A|        0.0|      0.0|       0.0|              0.0|        0.05|           0.0|0.0|       0.0|\n",
      "|212755443149|       2025-06|Dakhla-Oued Ed Dahab|      PLAN_B|        0.0|      0.0|       0.0|              0.0|        0.05|           0.0|0.0|       0.0|\n",
      "|212608231036|       2025-06|   Guelmim-Oued Noun|      PLAN_C|        0.0|      0.0|       0.0|              0.0|        0.05|           0.0|0.0|       0.0|\n",
      "|212631419586|       2025-06|      Drâa-Tafilalet|      PLAN_C|        0.0|      0.0|       0.0|              0.0|        0.05|           0.0|0.0|       0.0|\n",
      "|212704145817|       2025-06|Tanger-Tétouan-Al...|      PLAN_B|        0.0|      0.0|       0.0|              0.0|        0.05|           0.0|0.0|       0.0|\n",
      "|212781716466|       2025-06|  Rabat-Salé-Kénitra|      PLAN_A|        0.0|      0.0|       0.0|              0.0|        0.05|           0.0|0.0|       0.0|\n",
      "|212612762782|       2025-06|   Casablanca-Settat|      PLAN_B|        0.0|      0.0|       0.0|              0.0|        0.05|           0.0|0.0|       0.0|\n",
      "|212785912578|       2025-06|      Marrakech-Safi|      PLAN_C|        0.0|      0.0|       0.0|              0.0|        0.05|           0.0|0.0|       0.0|\n",
      "|212701382177|       2025-06|   Guelmim-Oued Noun|      PLAN_A|        0.0|      0.0|       0.0|              0.0|        0.05|           0.0|0.0|       0.0|\n",
      "|212652067719|       2025-06|          Fès-Meknès|      PLAN_C|        0.0|      0.0|       0.0|              0.0|        0.05|           0.0|0.0|       0.0|\n",
      "|212607086270|       2025-06|Tanger-Tétouan-Al...|      PLAN_A|        0.0|      0.0|       0.0|              0.0|        0.05|           0.0|0.0|       0.0|\n",
      "|212799208680|       2025-06|Béni Mellal-Khénifra|      PLAN_C|        0.0|      0.0|       0.0|              0.0|        0.05|           0.0|0.0|       0.0|\n",
      "|212646492701|       2025-06|          Fès-Meknès|      PLAN_B|        0.0|      0.0|       0.0|              0.0|        0.05|           0.0|0.0|       0.0|\n",
      "|212770862917|       2025-06|  Rabat-Salé-Kénitra|      PLAN_B|        0.0|      0.0|       0.0|              0.0|        0.05|           0.0|0.0|       0.0|\n",
      "|212645600306|       2025-06|Laâyoune-Sakia El...|      PLAN_B|        0.0|      0.0|       0.0|              0.0|        0.05|           0.0|0.0|       0.0|\n",
      "|212737681005|       2025-06|      Drâa-Tafilalet|      PLAN_A|        0.0|      0.0|       0.0|              0.0|        0.05|           0.0|0.0|       0.0|\n",
      "+------------+--------------+--------------------+------------+-----------+---------+----------+-----------------+------------+--------------+---+----------+\n",
      "only showing top 20 rows\n",
      "\n"
     ]
    }
   ],
   "source": [
    "facturation_complete.show()"
   ]
  },
  {
   "cell_type": "code",
   "execution_count": null,
   "id": "839fa753",
   "metadata": {
    "papermill": {
     "duration": 0.001999,
     "end_time": "2025-06-11T13:46:31.294294",
     "exception": false,
     "start_time": "2025-06-11T13:46:31.292295",
     "status": "completed"
    },
    "tags": []
   },
   "outputs": [],
   "source": []
  }
 ],
 "metadata": {
  "kernelspec": {
   "display_name": "Python 3",
   "language": "python",
   "name": "python3"
  },
  "language_info": {
   "codemirror_mode": {
    "name": "ipython",
    "version": 3
   },
   "file_extension": ".py",
   "mimetype": "text/x-python",
   "name": "python",
   "nbconvert_exporter": "python",
   "pygments_lexer": "ipython3",
   "version": "3.12.5"
  },
  "papermill": {
   "default_parameters": {},
   "duration": 22.203194,
   "end_time": "2025-06-11T13:46:31.626368",
   "environment_variables": {},
   "exception": null,
   "input_path": "BillingEngine.ipynb",
   "output_path": "BillingEngine.ipynb",
   "parameters": {},
   "start_time": "2025-06-11T13:46:09.423174",
   "version": "2.6.0"
  }
 },
 "nbformat": 4,
 "nbformat_minor": 5
}