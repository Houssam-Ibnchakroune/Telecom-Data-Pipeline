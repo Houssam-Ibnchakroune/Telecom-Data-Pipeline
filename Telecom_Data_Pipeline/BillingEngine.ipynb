{
 "cells": [
  {
   "cell_type": "code",
   "execution_count": 41,
   "id": "283dfbf5",
   "metadata": {},
   "outputs": [],
   "source": [
    "from pyspark.sql import SparkSession\n",
    "spark = (SparkSession.builder\n",
    "         .appName(\"BillingEngine\")\n",
    "         .config(\"spark.jars\",         r\".\\conf\\postgresql-42.7.6.jar\")\n",
    "         .config(\"spark.driver.extraClassPath\", r\".\\conf\\postgresql-42.7.6.jar\")\n",
    "         .getOrCreate())"
   ]
  },
  {
   "cell_type": "code",
   "execution_count": 42,
   "id": "3c15b680",
   "metadata": {},
   "outputs": [
    {
     "name": "stdout",
     "output_type": "stream",
     "text": [
      "root\n",
      " |-- customer_id: string (nullable = true)\n",
      " |-- rate_plan_id: string (nullable = true)\n",
      " |-- product_code: string (nullable = true)\n",
      " |-- record_ID: string (nullable = true)\n",
      " |-- timestamp: timestamp (nullable = true)\n",
      " |-- cell_id: string (nullable = true)\n",
      " |-- technology: string (nullable = true)\n",
      " |-- caller_id: string (nullable = true)\n",
      " |-- callee_id: string (nullable = true)\n",
      " |-- duration_sec: integer (nullable = true)\n",
      " |-- rating_status: string (nullable = true)\n",
      " |-- sender_id: string (nullable = true)\n",
      " |-- receiver_id: string (nullable = true)\n",
      " |-- receiver_cc: string (nullable = true)\n",
      " |-- user_id: string (nullable = true)\n",
      " |-- session_duration_sec: string (nullable = true)\n",
      " |-- data_volume_mb: string (nullable = true)\n",
      " |-- batch_id: integer (nullable = true)\n",
      " |-- record_type: string (nullable = true)\n",
      " |-- unit: string (nullable = true)\n",
      " |-- rate_type: string (nullable = true)\n",
      " |-- description: string (nullable = true)\n",
      " |-- unit_price: double (nullable = true)\n",
      " |-- free_units: integer (nullable = true)\n",
      " |-- tier_threshold: integer (nullable = true)\n",
      " |-- tier_price: double (nullable = true)\n",
      " |-- billable_units: string (nullable = true)\n",
      " |-- cost: double (nullable = true)\n",
      " |-- billing_period: string (nullable = true)\n",
      "\n"
     ]
    }
   ],
   "source": [
    "rated = spark.read.parquet(\"rated_cdrs/\")\n",
    "rated.printSchema()\n"
   ]
  },
  {
   "cell_type": "code",
   "execution_count": 43,
   "id": "725ddeb9",
   "metadata": {},
   "outputs": [],
   "source": [
    "rated_ok = rated.filter(rated.rating_status == \"rated\")"
   ]
  },
  {
   "cell_type": "code",
   "execution_count": 44,
   "id": "1c1bd565",
   "metadata": {},
   "outputs": [],
   "source": [
    "from pyspark.sql import functions as F\n",
    "from pyspark.sql.functions import col, when, lit\n",
    "\n",
    "invoices = (rated_ok\n",
    "    .groupBy(\"customer_id\", \"billing_period\")\n",
    "    .agg(\n",
    "        # sous-totaux\n",
    "        F.sum(when(col(\"record_type\") == \"voice\", col(\"cost\"))\n",
    "              .otherwise(0)).alias(\"voice_total\"),\n",
    "\n",
    "        F.sum(when(col(\"record_type\") == \"sms\",  col(\"cost\"))\n",
    "              .otherwise(0)).alias(\"sms_total\"),\n",
    "\n",
    "        F.sum(when(col(\"record_type\") == \"data\", col(\"cost\"))\n",
    "              .otherwise(0)).alias(\"data_total\"),\n",
    "\n",
    "        # total hors taxes\n",
    "        F.sum(col(\"cost\")).alias(\"amount_before_tax\")\n",
    "    )\n",
    ")\n"
   ]
  },
  {
   "cell_type": "code",
   "execution_count": 45,
   "id": "61174244",
   "metadata": {},
   "outputs": [
    {
     "name": "stdout",
     "output_type": "stream",
     "text": [
      "+------------+--------------+-----------+---------+------------------+------------------+------------+------------------+--------------------+--------------------+\n",
      "|customer_id |billing_period|voice_total|sms_total|data_total        |amount_before_tax |discount_pct|after_discount    |tax                 |amount_due          |\n",
      "+------------+--------------+-----------+---------+------------------+------------------+------------+------------------+--------------------+--------------------+\n",
      "|212667966927|2025-06       |0.0        |0.0      |21.24034          |21.24034          |0.05        |20.178323         |4.0356646           |24.2139876          |\n",
      "|212634834832|2025-06       |0.0        |0.0      |12.544200000000002|12.544200000000002|0.05        |11.916990000000002|2.3833980000000006  |14.300388000000002  |\n",
      "|212747219893|2025-06       |0.048      |0.0      |0.0               |0.048             |0.05        |0.0456            |0.009120000000000001|0.054720000000000005|\n",
      "|212687695748|2025-06       |0.0        |0.0      |0.0               |0.0               |0.05        |0.0               |0.0                 |0.0                 |\n",
      "|212718519609|2025-06       |0.024      |0.0      |0.0               |0.024             |0.05        |0.0228            |0.004560000000000001|0.027360000000000002|\n",
      "|212643266793|2025-06       |0.02       |0.0      |0.0               |0.02              |0.05        |0.019             |0.0038              |0.0228              |\n",
      "|212634416987|2025-06       |0.0        |0.0      |0.0               |0.0               |0.05        |0.0               |0.0                 |0.0                 |\n",
      "|212747681929|2025-06       |0.03       |0.0      |4.257             |4.287             |0.05        |4.072649999999999 |0.81453             |4.887179999999999   |\n",
      "|212618774265|2025-06       |0.0        |0.0      |0.0               |0.0               |0.05        |0.0               |0.0                 |0.0                 |\n",
      "|212726863990|2025-06       |0.0        |0.0      |0.0               |0.0               |0.05        |0.0               |0.0                 |0.0                 |\n",
      "|212673935596|2025-06       |0.024      |0.0      |0.0               |0.024             |0.05        |0.0228            |0.004560000000000001|0.027360000000000002|\n",
      "|212641705485|2025-06       |0.0        |0.0      |0.0               |0.0               |0.05        |0.0               |0.0                 |0.0                 |\n",
      "|212701770954|2025-06       |0.05       |0.0      |0.0               |0.05              |0.05        |0.0475            |0.009500000000000001|0.057               |\n",
      "|212739221056|2025-06       |0.0        |0.07     |0.0               |0.07              |0.05        |0.0665            |0.013300000000000001|0.07980000000000001 |\n",
      "|212607149592|2025-06       |0.0        |0.0      |0.0               |0.0               |0.05        |0.0               |0.0                 |0.0                 |\n",
      "|212725336441|2025-06       |0.04       |0.0      |0.0               |0.04              |0.05        |0.038             |0.0076              |0.0456              |\n",
      "|212742363095|2025-06       |0.0        |0.0      |0.0               |0.0               |0.05        |0.0               |0.0                 |0.0                 |\n",
      "|212638273342|2025-06       |0.12       |0.0      |38.727            |38.846999999999994|0.05        |36.90464999999999 |7.380929999999998   |44.28557999999999   |\n",
      "|212701748457|2025-06       |0.0        |0.0      |38.2358           |38.2358           |0.05        |36.324009999999994|7.2648019999999995  |43.58881199999999   |\n",
      "|212620236264|2025-06       |0.0        |0.0      |20.04084          |20.04084          |0.05        |19.038798         |3.8077596000000002  |22.8465576          |\n",
      "+------------+--------------+-----------+---------+------------------+------------------+------------+------------------+--------------------+--------------------+\n",
      "only showing top 20 rows\n",
      "\n"
     ]
    }
   ],
   "source": [
    "TVA = 0.20\n",
    "invoices = (invoices\n",
    "    .withColumn(\"discount_pct\", lit(0.05))\n",
    "    .withColumn(\"after_discount\",\n",
    "                col(\"amount_before_tax\") * (1 - col(\"discount_pct\")))\n",
    "    .withColumn(\"tax\", col(\"after_discount\") * lit(TVA))\n",
    "    .withColumn(\"amount_due\", col(\"after_discount\") + col(\"tax\"))\n",
    ")\n",
    "\n",
    "invoices.show(truncate=False)\n"
   ]
  },
  {
   "cell_type": "code",
   "execution_count": 46,
   "id": "3f1e7d71",
   "metadata": {},
   "outputs": [
    {
     "name": "stdout",
     "output_type": "stream",
     "text": [
      "+------------+-----------------+-----------------+------------+---------------+------+--------------------+\n",
      "| customer_id|    customer_name|subscription_type|rate_plan_id|activation_date|status|              region|\n",
      "+------------+-----------------+-----------------+------------+---------------+------+--------------------+\n",
      "|212768116861|    Anwar Kettani|         postpaid|      PLAN_C|     2024-04-29|active|Béni Mellal-Khénifra|\n",
      "|212760204113|Naoual El Othmani|         postpaid|      PLAN_A|     2024-12-07|active|      Drâa-Tafilalet|\n",
      "|212704344822|     Ehab Ouchrif|         postpaid|      PLAN_A|     2023-07-29|active|Laâyoune-Sakia El...|\n",
      "|212658901536|     Selma Msaddi|         postpaid|      PLAN_C|     2023-06-16|active|         Souss-Massa|\n",
      "|212699900093| Brahim El Hilali|         postpaid|      PLAN_A|     2024-07-27|active|Dakhla-Oued Ed Dahab|\n",
      "+------------+-----------------+-----------------+------------+---------------+------+--------------------+\n",
      "only showing top 5 rows\n",
      "\n"
     ]
    }
   ],
   "source": [
    "customersDf = spark.read \\\n",
    "    .format(\"jdbc\")\\\n",
    "    .option(\"url\",      \"jdbc:postgresql://localhost:5432/projet_spark\")\\\n",
    "    .option(\"dbtable\",  \"customers\")\\\n",
    "    .option(\"user\",     \"postgres\")\\\n",
    "    .option(\"password\", \"0000\")\\\n",
    "    .load() \n",
    "\n",
    "customersDf.show(5)"
   ]
  },
  {
   "cell_type": "code",
   "execution_count": 47,
   "id": "a402296f",
   "metadata": {},
   "outputs": [
    {
     "name": "stdout",
     "output_type": "stream",
     "text": [
      "+------------+--------------+--------------------+------------+-----------+---------+------------------+------------------+------------+-------------------+--------------------+--------------------+\n",
      "| customer_id|billing_period|              region|rate_plan_id|voice_total|sms_total|        data_total| amount_before_tax|discount_pct|     after_discount|                 tax|          amount_due|\n",
      "+------------+--------------+--------------------+------------+-----------+---------+------------------+------------------+------------+-------------------+--------------------+--------------------+\n",
      "|212768116861|       2025-06|Béni Mellal-Khénifra|      PLAN_C|        0.0|      0.0|33.636779999999995|33.636779999999995|        0.05| 31.954940999999994|   6.390988199999999|   38.34592919999999|\n",
      "|212760204113|       2025-06|      Drâa-Tafilalet|      PLAN_A|        0.0|      0.0|           40.4347|           40.4347|        0.05|          38.412965|   7.682593000000001|           46.095558|\n",
      "|212704344822|       2025-06|Laâyoune-Sakia El...|      PLAN_A|       0.05|      0.0|               0.0|              0.05|        0.05|             0.0475|0.009500000000000001|               0.057|\n",
      "|212658901536|       2025-06|         Souss-Massa|      PLAN_C|        0.0|      0.0|               0.0|               0.0|        0.05|                0.0|                 0.0|                 0.0|\n",
      "|212699900093|       2025-06|Dakhla-Oued Ed Dahab|      PLAN_A|        0.0|      0.0|           13.6608|           13.6608|        0.05|           12.97776|            2.595552|           15.573312|\n",
      "|212755443149|       2025-06|Dakhla-Oued Ed Dahab|      PLAN_B|      0.048|      0.0|          19.76106|19.809060000000002|        0.05|          18.818607|           3.7637214|          22.5823284|\n",
      "|212608231036|       2025-06|   Guelmim-Oued Noun|      PLAN_C|      0.072|      0.0|               0.0|             0.072|        0.05|0.06839999999999999|0.013679999999999998| 0.08207999999999999|\n",
      "|212631419586|       2025-06|      Drâa-Tafilalet|      PLAN_C|      0.036|      0.0|            3.9933|            4.0293|        0.05|           3.827835|            0.765567|            4.593402|\n",
      "|212704145817|       2025-06|Tanger-Tétouan-Al...|      PLAN_B|        0.0|      0.0|               0.0|               0.0|        0.05|                0.0|                 0.0|                 0.0|\n",
      "|212781716466|       2025-06|  Rabat-Salé-Kénitra|      PLAN_A|        0.0|      0.0| 7.642200000000001| 7.642200000000001|        0.05|  7.260090000000001|  1.4520180000000003|            8.712108|\n",
      "|212612762782|       2025-06|   Casablanca-Settat|      PLAN_B|        0.0|      0.0|               0.0|               0.0|        0.05|                0.0|                 0.0|                 0.0|\n",
      "|212785912578|       2025-06|      Marrakech-Safi|      PLAN_C|        0.0|      0.0|               0.0|               0.0|        0.05|                0.0|                 0.0|                 0.0|\n",
      "|212701382177|       2025-06|   Guelmim-Oued Noun|      PLAN_A|        0.0|      0.0|               0.0|               0.0|        0.05|                0.0|                 0.0|                 0.0|\n",
      "|212652067719|       2025-06|          Fès-Meknès|      PLAN_C|        0.0|      0.0|               0.0|               0.0|        0.05|                0.0|                 0.0|                 0.0|\n",
      "|212607086270|       2025-06|Tanger-Tétouan-Al...|      PLAN_A|       0.01|      0.0|               0.0|              0.01|        0.05|             0.0095|              0.0019|              0.0114|\n",
      "|212799208680|       2025-06|Béni Mellal-Khénifra|      PLAN_C|        0.0|      0.0|               0.0|               0.0|        0.05|                0.0|                 0.0|                 0.0|\n",
      "|212646492701|       2025-06|          Fès-Meknès|      PLAN_B|        0.0|      0.0|               0.0|               0.0|        0.05|                0.0|                 0.0|                 0.0|\n",
      "|212770862917|       2025-06|  Rabat-Salé-Kénitra|      PLAN_B|        0.0|      0.0|          38.06352|          38.06352|        0.05| 36.160343999999995|  7.2320687999999995|  43.392412799999995|\n",
      "|212645600306|       2025-06|Laâyoune-Sakia El...|      PLAN_B|      0.024|      0.0|               0.0|             0.024|        0.05|             0.0228|0.004560000000000001|0.027360000000000002|\n",
      "|212737681005|       2025-06|      Drâa-Tafilalet|      PLAN_A|        0.0|      0.0|           33.5306|           33.5306|        0.05| 31.854069999999997|   6.370813999999999|  38.224883999999996|\n",
      "+------------+--------------+--------------------+------------+-----------+---------+------------------+------------------+------------+-------------------+--------------------+--------------------+\n",
      "only showing top 20 rows\n",
      "\n"
     ]
    }
   ],
   "source": [
    "from pyspark.sql import functions as F\n",
    "\n",
    "# 1) liste des mois à facturer (ex. juin 2025)\n",
    "mois_courant = \"2025-06\"              # ou boucle sur plusieurs périodes\n",
    "\n",
    "# 2) sous-ensemble des clients éligibles\n",
    "clients_elig = (customersDf\n",
    "    .filter( (F.col(\"status\") == \"active\") &\n",
    "             (F.col(\"subscription_type\") == \"postpaid\") )\n",
    "    .select(\"customer_id\",\"region\",\"rate_plan_id\")\n",
    "    .withColumn(\"billing_period\", F.lit(mois_courant))\n",
    ")\n",
    "\n",
    "# 3) jointure gauche clients ↔ invoices\n",
    "facturation_complete = (clients_elig.join(\n",
    "        invoices.filter(F.col(\"billing_period\") == mois_courant),\n",
    "        on=[\"customer_id\", \"billing_period\"],\n",
    "        how=\"left\")\n",
    "    # 4) remplacer les NULL par 0\n",
    "    .fillna({\n",
    "        \"voice_total\":          0.0,\n",
    "        \"sms_total\":            0.0,\n",
    "        \"data_total\":           0.0,\n",
    "        \"amount_before_tax\":    0.0,\n",
    "        \"discount_pct\":         0.05,\n",
    "        \"after_discount\":       0.0,\n",
    "        \"tax\":                  0.0,\n",
    "        \"amount_due\":           0.0\n",
    "    })\n",
    ")\n",
    "\n",
    "facturation_complete.show()\n"
   ]
  },
  {
   "cell_type": "code",
   "execution_count": 48,
   "id": "b0765ebd",
   "metadata": {},
   "outputs": [],
   "source": [
    "facturation_complete.write.mode(\"overwrite\").partitionBy(\"billing_period\").parquet(\"billing/facturation_complete/\")\n"
   ]
  },
  {
   "cell_type": "code",
   "execution_count": 49,
   "id": "05a629bb",
   "metadata": {},
   "outputs": [],
   "source": [
    "(facturation_complete.write\n",
    " .format(\"jdbc\")\n",
    " .option(\"url\",      \"jdbc:postgresql://localhost:5432/projet_spark\")\n",
    " .option(\"dbtable\",  \"facturation_complete\")\n",
    " .option(\"user\",     \"postgres\")\n",
    " .option(\"password\", \"0000\")\n",
    " .mode(\"overwrite\")          \n",
    " .save())\n"
   ]
  },
  {
   "cell_type": "code",
   "execution_count": 50,
   "id": "059900c8",
   "metadata": {},
   "outputs": [
    {
     "name": "stdout",
     "output_type": "stream",
     "text": [
      "+------------+--------------+--------------------+------------+-----------+---------+------------------+------------------+------------+-------------------+--------------------+--------------------+\n",
      "| customer_id|billing_period|              region|rate_plan_id|voice_total|sms_total|        data_total| amount_before_tax|discount_pct|     after_discount|                 tax|          amount_due|\n",
      "+------------+--------------+--------------------+------------+-----------+---------+------------------+------------------+------------+-------------------+--------------------+--------------------+\n",
      "|212768116861|       2025-06|Béni Mellal-Khénifra|      PLAN_C|        0.0|      0.0|33.636779999999995|33.636779999999995|        0.05| 31.954940999999994|   6.390988199999999|   38.34592919999999|\n",
      "|212760204113|       2025-06|      Drâa-Tafilalet|      PLAN_A|        0.0|      0.0|           40.4347|           40.4347|        0.05|          38.412965|   7.682593000000001|           46.095558|\n",
      "|212704344822|       2025-06|Laâyoune-Sakia El...|      PLAN_A|       0.05|      0.0|               0.0|              0.05|        0.05|             0.0475|0.009500000000000001|               0.057|\n",
      "|212658901536|       2025-06|         Souss-Massa|      PLAN_C|        0.0|      0.0|               0.0|               0.0|        0.05|                0.0|                 0.0|                 0.0|\n",
      "|212699900093|       2025-06|Dakhla-Oued Ed Dahab|      PLAN_A|        0.0|      0.0|           13.6608|           13.6608|        0.05|           12.97776|            2.595552|           15.573312|\n",
      "|212755443149|       2025-06|Dakhla-Oued Ed Dahab|      PLAN_B|      0.048|      0.0|          19.76106|19.809060000000002|        0.05|          18.818607|           3.7637214|          22.5823284|\n",
      "|212608231036|       2025-06|   Guelmim-Oued Noun|      PLAN_C|      0.072|      0.0|               0.0|             0.072|        0.05|0.06839999999999999|0.013679999999999998| 0.08207999999999999|\n",
      "|212631419586|       2025-06|      Drâa-Tafilalet|      PLAN_C|      0.036|      0.0|            3.9933|            4.0293|        0.05|           3.827835|            0.765567|            4.593402|\n",
      "|212704145817|       2025-06|Tanger-Tétouan-Al...|      PLAN_B|        0.0|      0.0|               0.0|               0.0|        0.05|                0.0|                 0.0|                 0.0|\n",
      "|212781716466|       2025-06|  Rabat-Salé-Kénitra|      PLAN_A|        0.0|      0.0| 7.642200000000001| 7.642200000000001|        0.05|  7.260090000000001|  1.4520180000000003|            8.712108|\n",
      "|212612762782|       2025-06|   Casablanca-Settat|      PLAN_B|        0.0|      0.0|               0.0|               0.0|        0.05|                0.0|                 0.0|                 0.0|\n",
      "|212785912578|       2025-06|      Marrakech-Safi|      PLAN_C|        0.0|      0.0|               0.0|               0.0|        0.05|                0.0|                 0.0|                 0.0|\n",
      "|212701382177|       2025-06|   Guelmim-Oued Noun|      PLAN_A|        0.0|      0.0|               0.0|               0.0|        0.05|                0.0|                 0.0|                 0.0|\n",
      "|212652067719|       2025-06|          Fès-Meknès|      PLAN_C|        0.0|      0.0|               0.0|               0.0|        0.05|                0.0|                 0.0|                 0.0|\n",
      "|212607086270|       2025-06|Tanger-Tétouan-Al...|      PLAN_A|       0.01|      0.0|               0.0|              0.01|        0.05|             0.0095|              0.0019|              0.0114|\n",
      "|212799208680|       2025-06|Béni Mellal-Khénifra|      PLAN_C|        0.0|      0.0|               0.0|               0.0|        0.05|                0.0|                 0.0|                 0.0|\n",
      "|212646492701|       2025-06|          Fès-Meknès|      PLAN_B|        0.0|      0.0|               0.0|               0.0|        0.05|                0.0|                 0.0|                 0.0|\n",
      "|212770862917|       2025-06|  Rabat-Salé-Kénitra|      PLAN_B|        0.0|      0.0|          38.06352|          38.06352|        0.05| 36.160343999999995|  7.2320687999999995|  43.392412799999995|\n",
      "|212645600306|       2025-06|Laâyoune-Sakia El...|      PLAN_B|      0.024|      0.0|               0.0|             0.024|        0.05|             0.0228|0.004560000000000001|0.027360000000000002|\n",
      "|212737681005|       2025-06|      Drâa-Tafilalet|      PLAN_A|        0.0|      0.0|           33.5306|           33.5306|        0.05| 31.854069999999997|   6.370813999999999|  38.224883999999996|\n",
      "+------------+--------------+--------------------+------------+-----------+---------+------------------+------------------+------------+-------------------+--------------------+--------------------+\n",
      "only showing top 20 rows\n",
      "\n"
     ]
    }
   ],
   "source": [
    "facturation_complete.show()"
   ]
  },
  {
   "cell_type": "code",
   "execution_count": null,
   "id": "839fa753",
   "metadata": {},
   "outputs": [],
   "source": []
  }
 ],
 "metadata": {
  "kernelspec": {
   "display_name": "Python 3",
   "language": "python",
   "name": "python3"
  },
  "language_info": {
   "codemirror_mode": {
    "name": "ipython",
    "version": 3
   },
   "file_extension": ".py",
   "mimetype": "text/x-python",
   "name": "python",
   "nbconvert_exporter": "python",
   "pygments_lexer": "ipython3",
   "version": "3.12.5"
  }
 },
 "nbformat": 4,
 "nbformat_minor": 5
}
