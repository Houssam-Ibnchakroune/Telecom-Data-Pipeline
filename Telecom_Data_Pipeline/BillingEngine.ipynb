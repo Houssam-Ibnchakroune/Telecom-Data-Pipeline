{
 "cells": [
  {
   "cell_type": "code",
   "execution_count": 1,
   "id": "283dfbf5",
   "metadata": {
    "execution": {
     "iopub.execute_input": "2025-06-11T18:06:59.991833Z",
     "iopub.status.busy": "2025-06-11T18:06:59.991833Z",
     "iopub.status.idle": "2025-06-11T18:07:03.978286Z",
     "shell.execute_reply": "2025-06-11T18:07:03.978286Z"
    },
    "papermill": {
     "duration": 3.994629,
     "end_time": "2025-06-11T18:07:03.980324",
     "exception": false,
     "start_time": "2025-06-11T18:06:59.985695",
     "status": "completed"
    },
    "tags": []
   },
   "outputs": [],
   "source": [
    "from pyspark.sql import SparkSession\n",
    "spark = (SparkSession.builder\n",
    "         .appName(\"BillingEngine\")\n",
    "         .config(\"spark.jars\",         r\".\\conf\\postgresql-42.7.6.jar\")\n",
    "         .config(\"spark.driver.extraClassPath\", r\".\\conf\\postgresql-42.7.6.jar\")\n",
    "         .getOrCreate())"
   ]
  },
  {
   "cell_type": "code",
   "execution_count": 2,
   "id": "3c15b680",
   "metadata": {
    "execution": {
     "iopub.execute_input": "2025-06-11T18:07:03.986534Z",
     "iopub.status.busy": "2025-06-11T18:07:03.986534Z",
     "iopub.status.idle": "2025-06-11T18:07:07.144822Z",
     "shell.execute_reply": "2025-06-11T18:07:07.144822Z"
    },
    "papermill": {
     "duration": 3.163327,
     "end_time": "2025-06-11T18:07:07.146852",
     "exception": false,
     "start_time": "2025-06-11T18:07:03.983525",
     "status": "completed"
    },
    "tags": []
   },
   "outputs": [
    {
     "name": "stdout",
     "output_type": "stream",
     "text": [
      "root\n",
      " |-- customer_id: string (nullable = true)\n",
      " |-- rate_plan_id: string (nullable = true)\n",
      " |-- product_code: string (nullable = true)\n",
      " |-- record_ID: string (nullable = true)\n",
      " |-- timestamp: timestamp (nullable = true)\n",
      " |-- cell_id: string (nullable = true)\n",
      " |-- technology: string (nullable = true)\n",
      " |-- caller_id: string (nullable = true)\n",
      " |-- callee_id: string (nullable = true)\n",
      " |-- duration_sec: integer (nullable = true)\n",
      " |-- rating_status: string (nullable = true)\n",
      " |-- sender_id: string (nullable = true)\n",
      " |-- receiver_id: string (nullable = true)\n",
      " |-- user_id: string (nullable = true)\n",
      " |-- session_duration_sec: string (nullable = true)\n",
      " |-- data_volume_mb: string (nullable = true)\n",
      " |-- batch_id: integer (nullable = true)\n",
      " |-- record_type: string (nullable = true)\n",
      " |-- unit: string (nullable = true)\n",
      " |-- rate_type: string (nullable = true)\n",
      " |-- description: string (nullable = true)\n",
      " |-- unit_price: double (nullable = true)\n",
      " |-- free_units: integer (nullable = true)\n",
      " |-- tier_threshold: integer (nullable = true)\n",
      " |-- tier_price: double (nullable = true)\n",
      " |-- billable_units: string (nullable = true)\n",
      " |-- cost: double (nullable = true)\n",
      " |-- billing_period: string (nullable = true)\n",
      "\n"
     ]
    }
   ],
   "source": [
    "rated = spark.read.parquet(\"rated_cdrs/\")\n",
    "rated.printSchema()\n"
   ]
  },
  {
   "cell_type": "code",
   "execution_count": 3,
   "id": "725ddeb9",
   "metadata": {
    "execution": {
     "iopub.execute_input": "2025-06-11T18:07:07.154829Z",
     "iopub.status.busy": "2025-06-11T18:07:07.154829Z",
     "iopub.status.idle": "2025-06-11T18:07:07.229933Z",
     "shell.execute_reply": "2025-06-11T18:07:07.229933Z"
    },
    "papermill": {
     "duration": 0.081145,
     "end_time": "2025-06-11T18:07:07.231973",
     "exception": false,
     "start_time": "2025-06-11T18:07:07.150828",
     "status": "completed"
    },
    "tags": []
   },
   "outputs": [],
   "source": [
    "rated_ok = rated.filter(rated.rating_status == \"rated\")"
   ]
  },
  {
   "cell_type": "code",
   "execution_count": 4,
   "id": "1c1bd565",
   "metadata": {
    "execution": {
     "iopub.execute_input": "2025-06-11T18:07:07.261023Z",
     "iopub.status.busy": "2025-06-11T18:07:07.261023Z",
     "iopub.status.idle": "2025-06-11T18:07:07.432395Z",
     "shell.execute_reply": "2025-06-11T18:07:07.431780Z"
    },
    "papermill": {
     "duration": 0.200535,
     "end_time": "2025-06-11T18:07:07.435503",
     "exception": false,
     "start_time": "2025-06-11T18:07:07.234968",
     "status": "completed"
    },
    "tags": []
   },
   "outputs": [],
   "source": [
    "from pyspark.sql import functions as F\n",
    "from pyspark.sql.functions import when, col,lit\n",
    "\n",
    "invoices = (\n",
    "    rated_ok\n",
    "    .groupBy(\"customer_id\", \"billing_period\")\n",
    "    .agg(\n",
    "        # Sous-totaux monétaires\n",
    "        F.sum(when(col(\"record_type\") == \"voice\", col(\"cost\")).otherwise(0)).alias(\"voice_total\"),\n",
    "        F.sum(when(col(\"record_type\") == \"sms\",   col(\"cost\")).otherwise(0)).alias(\"sms_total\"),\n",
    "        F.sum(when(col(\"record_type\") == \"data\",  col(\"cost\")).otherwise(0)).alias(\"data_total\"),\n",
    "\n",
    "        # Nombre d'événements\n",
    "        F.sum(when(col(\"record_type\") == \"voice\", 1).otherwise(0)).alias(\"voice_count\"),\n",
    "        F.sum(when(col(\"record_type\") == \"sms\",   1).otherwise(0)).alias(\"sms_count\"),\n",
    "        F.sum(when(col(\"record_type\") == \"data\",  1).otherwise(0)).alias(\"data_count\"),\n",
    "\n",
    "        # Total hors taxes\n",
    "        F.sum(col(\"cost\")).alias(\"amount_before_tax\")\n",
    "    )\n",
    ")\n"
   ]
  },
  {
   "cell_type": "code",
   "execution_count": 5,
   "id": "61174244",
   "metadata": {
    "execution": {
     "iopub.execute_input": "2025-06-11T18:07:07.445516Z",
     "iopub.status.busy": "2025-06-11T18:07:07.444513Z",
     "iopub.status.idle": "2025-06-11T18:07:12.585018Z",
     "shell.execute_reply": "2025-06-11T18:07:12.584508Z"
    },
    "papermill": {
     "duration": 5.14949,
     "end_time": "2025-06-11T18:07:12.587032",
     "exception": false,
     "start_time": "2025-06-11T18:07:07.437542",
     "status": "completed"
    },
    "tags": []
   },
   "outputs": [
    {
     "name": "stdout",
     "output_type": "stream",
     "text": [
      "+------------+--------------+-----------+---------+------------------+-----------+---------+----------+------------------+------------+------------------+--------------------+------------------+\n",
      "|customer_id |billing_period|voice_total|sms_total|data_total        |voice_count|sms_count|data_count|amount_before_tax |discount_pct|after_discount    |tax                 |amount_due        |\n",
      "+------------+--------------+-----------+---------+------------------+-----------+---------+----------+------------------+------------+------------------+--------------------+------------------+\n",
      "|212640535826|2025-05       |0.0        |0.0      |0.0               |1          |0        |0         |0.0               |0.05        |0.0               |0.0                 |0.0               |\n",
      "|212722744719|2025-05       |0.0        |0.0      |0.0               |1          |0        |0         |0.0               |0.05        |0.0               |0.0                 |0.0               |\n",
      "|212799474898|2025-05       |0.0        |0.0      |0.0               |1          |0        |0         |0.0               |0.05        |0.0               |0.0                 |0.0               |\n",
      "|212621654240|2025-05       |0.0        |0.0      |8.41968           |0          |0        |1         |8.41968           |0.05        |7.998695999999999 |1.5997392           |9.598435199999999 |\n",
      "|212665674135|2025-05       |0.0        |0.0      |16.607879999999998|0          |0        |1         |16.607879999999998|0.05        |15.777485999999998|3.1554971999999997  |18.9329832        |\n",
      "|212659716497|2025-05       |0.0        |0.0      |12.792959999999999|0          |0        |1         |12.792959999999999|0.05        |12.153311999999998|2.4306623999999997  |14.583974399999997|\n",
      "|212696076381|2025-05       |0.02       |0.0      |0.0               |1          |0        |0         |0.02              |0.05        |0.019             |0.0038              |0.0228            |\n",
      "|212646584883|2025-05       |0.01       |0.0      |0.0               |1          |0        |0         |0.01              |0.05        |0.0095            |0.0019              |0.0114            |\n",
      "|212617716559|2025-05       |0.0        |0.0      |10.293479999999999|0          |0        |1         |10.293479999999999|0.05        |9.778805999999998 |1.9557611999999995  |11.734567199999997|\n",
      "|212709172684|2025-05       |0.0        |0.0      |0.0               |1          |0        |0         |0.0               |0.05        |0.0               |0.0                 |0.0               |\n",
      "|212780808810|2025-05       |0.0        |0.08     |0.0               |0          |1        |0         |0.08              |0.05        |0.076             |0.0152              |0.0912            |\n",
      "|212738359959|2025-05       |0.05       |0.0      |0.0               |1          |0        |0         |0.05              |0.05        |0.0475            |0.009500000000000001|0.057             |\n",
      "|212797429606|2025-05       |0.16       |0.0      |0.0               |1          |0        |0         |0.16              |0.05        |0.152             |0.0304              |0.1824            |\n",
      "|212627696218|2025-05       |0.0        |0.0      |9.415999999999999 |1          |0        |1         |9.415999999999999 |0.05        |8.945199999999998 |1.7890399999999997  |10.734239999999998|\n",
      "|212611839085|2025-05       |0.0        |0.0      |32.0185           |0          |0        |1         |32.0185           |0.05        |30.417575000000003|6.083515000000001   |36.501090000000005|\n",
      "|212705940149|2025-05       |0.05       |0.0      |0.0               |1          |0        |0         |0.05              |0.05        |0.0475            |0.009500000000000001|0.057             |\n",
      "|212701313104|2025-05       |0.0        |0.0      |16.96626          |0          |0        |1         |16.96626          |0.05        |16.117946999999997|3.2235894           |19.341536399999995|\n",
      "|212778988689|2025-05       |0.0        |0.0      |12.710939999999999|0          |0        |1         |12.710939999999999|0.05        |12.075392999999998|2.4150785999999997  |14.490471599999998|\n",
      "|212784273480|2025-05       |0.0        |0.0      |0.0               |1          |0        |0         |0.0               |0.05        |0.0               |0.0                 |0.0               |\n",
      "|212635759633|2025-05       |0.0        |0.0      |0.0               |1          |0        |0         |0.0               |0.05        |0.0               |0.0                 |0.0               |\n",
      "+------------+--------------+-----------+---------+------------------+-----------+---------+----------+------------------+------------+------------------+--------------------+------------------+\n",
      "only showing top 20 rows\n",
      "\n"
     ]
    }
   ],
   "source": [
    "TVA = 0.20\n",
    "invoices = (invoices\n",
    "    .withColumn(\"discount_pct\", lit(0.05))\n",
    "    .withColumn(\"after_discount\",\n",
    "                col(\"amount_before_tax\") * (1 - col(\"discount_pct\")))\n",
    "    .withColumn(\"tax\", col(\"after_discount\") * lit(TVA))\n",
    "    .withColumn(\"amount_due\", col(\"after_discount\") + col(\"tax\"))\n",
    ")\n",
    "\n",
    "invoices.show(truncate=False)\n"
   ]
  },
  {
   "cell_type": "code",
   "execution_count": 6,
   "id": "3f1e7d71",
   "metadata": {
    "execution": {
     "iopub.execute_input": "2025-06-11T18:07:12.600032Z",
     "iopub.status.busy": "2025-06-11T18:07:12.600032Z",
     "iopub.status.idle": "2025-06-11T18:07:13.475086Z",
     "shell.execute_reply": "2025-06-11T18:07:13.474075Z"
    },
    "papermill": {
     "duration": 0.884052,
     "end_time": "2025-06-11T18:07:13.477086",
     "exception": false,
     "start_time": "2025-06-11T18:07:12.593034",
     "status": "completed"
    },
    "tags": []
   },
   "outputs": [
    {
     "name": "stdout",
     "output_type": "stream",
     "text": [
      "+------------+----------------+-----------------+------------+---------------+------+--------------------+\n",
      "| customer_id|   customer_name|subscription_type|rate_plan_id|activation_date|status|              region|\n",
      "+------------+----------------+-----------------+------------+---------------+------+--------------------+\n",
      "|212621008730|  Fouad El Ghazi|         postpaid|      PLAN_B|     2024-09-30|active|Béni Mellal-Khénifra|\n",
      "|212680058037|Soufiane Belkadi|         postpaid|      PLAN_A|     2023-10-16|active|  Rabat-Salé-Kénitra|\n",
      "|212705083484|    Rania Skalli|         postpaid|      PLAN_C|     2023-09-13|active|          L'Oriental|\n",
      "|212742643119|    Hind Belkadi|         postpaid|      PLAN_B|     2024-10-09|active|   Guelmim-Oued Noun|\n",
      "|212625950696|  Ehab El Amrani|         postpaid|      PLAN_C|     2024-12-16|active|      Marrakech-Safi|\n",
      "+------------+----------------+-----------------+------------+---------------+------+--------------------+\n",
      "only showing top 5 rows\n",
      "\n"
     ]
    }
   ],
   "source": [
    "customersDf = spark.read \\\n",
    "    .format(\"jdbc\")\\\n",
    "    .option(\"url\",      \"jdbc:postgresql://localhost:5432/projet_spark\")\\\n",
    "    .option(\"dbtable\",  \"customers\")\\\n",
    "    .option(\"user\",     \"postgres\")\\\n",
    "    .option(\"password\", \"0000\")\\\n",
    "    .load() \n",
    "\n",
    "customersDf.show(5)"
   ]
  },
  {
   "cell_type": "code",
   "execution_count": 7,
   "id": "a402296f",
   "metadata": {
    "execution": {
     "iopub.execute_input": "2025-06-11T18:07:13.487089Z",
     "iopub.status.busy": "2025-06-11T18:07:13.486096Z",
     "iopub.status.idle": "2025-06-11T18:07:14.349386Z",
     "shell.execute_reply": "2025-06-11T18:07:14.349386Z"
    },
    "papermill": {
     "duration": 0.872658,
     "end_time": "2025-06-11T18:07:14.352745",
     "exception": false,
     "start_time": "2025-06-11T18:07:13.480087",
     "status": "completed"
    },
    "tags": []
   },
   "outputs": [
    {
     "name": "stdout",
     "output_type": "stream",
     "text": [
      "+------------+--------------+--------------------+------------+-----------+---------+-----------------+-----------+---------+----------+-----------------+------------+-----------------+------------------+-----------------+\n",
      "| customer_id|billing_period|              region|rate_plan_id|voice_total|sms_total|       data_total|voice_count|sms_count|data_count|amount_before_tax|discount_pct|   after_discount|               tax|       amount_due|\n",
      "+------------+--------------+--------------------+------------+-----------+---------+-----------------+-----------+---------+----------+-----------------+------------+-----------------+------------------+-----------------+\n",
      "|212621008730|       2025-05|Béni Mellal-Khénifra|      PLAN_B|        0.0|      0.0|6.863119999999999|          0|        0|         1|6.863119999999999|        0.05|6.519963999999999|1.3039927999999998|7.823956799999999|\n",
      "|212680058037|       2025-05|  Rabat-Salé-Kénitra|      PLAN_A|        0.0|      0.0|              0.0|       NULL|     NULL|      NULL|              0.0|        0.05|              0.0|               0.0|              0.0|\n",
      "|212705083484|       2025-05|          L'Oriental|      PLAN_C|        0.0|      0.0|              0.0|       NULL|     NULL|      NULL|              0.0|        0.05|              0.0|               0.0|              0.0|\n",
      "|212742643119|       2025-05|   Guelmim-Oued Noun|      PLAN_B|        0.0|      0.0|              0.0|       NULL|     NULL|      NULL|              0.0|        0.05|              0.0|               0.0|              0.0|\n",
      "|212625950696|       2025-05|      Marrakech-Safi|      PLAN_C|        0.0|      0.0|              0.0|       NULL|     NULL|      NULL|              0.0|        0.05|              0.0|               0.0|              0.0|\n",
      "|212664805555|       2025-05|      Drâa-Tafilalet|      PLAN_C|        0.0|      0.0|              0.0|       NULL|     NULL|      NULL|              0.0|        0.05|              0.0|               0.0|              0.0|\n",
      "|212762640808|       2025-05|Béni Mellal-Khénifra|      PLAN_A|        0.0|      0.0|              0.0|       NULL|     NULL|      NULL|              0.0|        0.05|              0.0|               0.0|              0.0|\n",
      "|212621948629|       2025-05|  Rabat-Salé-Kénitra|      PLAN_B|        0.0|      0.0|              0.0|       NULL|     NULL|      NULL|              0.0|        0.05|              0.0|               0.0|              0.0|\n",
      "|212785977936|       2025-05|          L'Oriental|      PLAN_B|        0.0|      0.0|              0.0|       NULL|     NULL|      NULL|              0.0|        0.05|              0.0|               0.0|              0.0|\n",
      "|212636258363|       2025-05|  Rabat-Salé-Kénitra|      PLAN_A|        0.0|      0.0|              0.0|       NULL|     NULL|      NULL|              0.0|        0.05|              0.0|               0.0|              0.0|\n",
      "|212668107106|       2025-05|Laâyoune-Sakia El...|      PLAN_B|        0.0|      0.0|              0.0|       NULL|     NULL|      NULL|              0.0|        0.05|              0.0|               0.0|              0.0|\n",
      "|212623108665|       2025-05|  Rabat-Salé-Kénitra|      PLAN_B|        0.0|      0.0|              0.0|       NULL|     NULL|      NULL|              0.0|        0.05|              0.0|               0.0|              0.0|\n",
      "|212652886819|       2025-05|Dakhla-Oued Ed Dahab|      PLAN_A|        0.0|      0.0|              0.0|       NULL|     NULL|      NULL|              0.0|        0.05|              0.0|               0.0|              0.0|\n",
      "|212632540994|       2025-05|         Souss-Massa|      PLAN_A|        0.0|      0.0|              0.0|       NULL|     NULL|      NULL|              0.0|        0.05|              0.0|               0.0|              0.0|\n",
      "|212668843976|       2025-05|         Souss-Massa|      PLAN_C|        0.0|      0.0|              0.0|       NULL|     NULL|      NULL|              0.0|        0.05|              0.0|               0.0|              0.0|\n",
      "|212615894918|       2025-05|          Fès-Meknès|      PLAN_B|        0.0|      0.0|              0.0|       NULL|     NULL|      NULL|              0.0|        0.05|              0.0|               0.0|              0.0|\n",
      "|212611215819|       2025-05|   Casablanca-Settat|      PLAN_C|        0.0|      0.0|              0.0|       NULL|     NULL|      NULL|              0.0|        0.05|              0.0|               0.0|              0.0|\n",
      "|212692905060|       2025-05|  Rabat-Salé-Kénitra|      PLAN_C|        0.0|      0.0|              0.0|       NULL|     NULL|      NULL|              0.0|        0.05|              0.0|               0.0|              0.0|\n",
      "|212634650514|       2025-05|   Guelmim-Oued Noun|      PLAN_A|        0.0|      0.0|              0.0|       NULL|     NULL|      NULL|              0.0|        0.05|              0.0|               0.0|              0.0|\n",
      "|212798226912|       2025-05|   Casablanca-Settat|      PLAN_B|        0.0|      0.0|              0.0|       NULL|     NULL|      NULL|              0.0|        0.05|              0.0|               0.0|              0.0|\n",
      "+------------+--------------+--------------------+------------+-----------+---------+-----------------+-----------+---------+----------+-----------------+------------+-----------------+------------------+-----------------+\n",
      "only showing top 20 rows\n",
      "\n"
     ]
    }
   ],
   "source": [
    "from pyspark.sql import functions as F\n",
    "\n",
    "# 1) liste des mois à facturer (ex. juin 2025)\n",
    "mois_courant = \"2025-05\"              # ou boucle sur plusieurs périodes\n",
    "\n",
    "# 2) sous-ensemble des clients éligibles\n",
    "clients_elig = (customersDf\n",
    "    .filter( (F.col(\"status\") == \"active\") &\n",
    "             (F.col(\"subscription_type\") == \"postpaid\") )\n",
    "    .select(\"customer_id\",\"region\",\"rate_plan_id\")\n",
    "    .withColumn(\"billing_period\", F.lit(mois_courant))\n",
    ")\n",
    "\n",
    "# 3) jointure gauche clients ↔ invoices\n",
    "facturation_complete = (clients_elig.join(\n",
    "        invoices.filter(F.col(\"billing_period\") == mois_courant),\n",
    "        on=[\"customer_id\", \"billing_period\"],\n",
    "        how=\"left\")\n",
    "    # 4) remplacer les NULL par 0\n",
    "    .fillna({\n",
    "        \"voice_total\":          0.0,\n",
    "        \"sms_total\":            0.0,\n",
    "        \"data_total\":           0.0,\n",
    "        \"amount_before_tax\":    0.0,\n",
    "        \"discount_pct\":         0.05,\n",
    "        \"after_discount\":       0.0,\n",
    "        \"tax\":                  0.0,\n",
    "        \"amount_due\":           0.0\n",
    "    })\n",
    ")\n",
    "\n",
    "facturation_complete.show()\n"
   ]
  },
  {
   "cell_type": "code",
   "execution_count": 8,
   "id": "b0765ebd",
   "metadata": {
    "execution": {
     "iopub.execute_input": "2025-06-11T18:07:14.364740Z",
     "iopub.status.busy": "2025-06-11T18:07:14.363741Z",
     "iopub.status.idle": "2025-06-11T18:07:15.416109Z",
     "shell.execute_reply": "2025-06-11T18:07:15.415099Z"
    },
    "papermill": {
     "duration": 1.060428,
     "end_time": "2025-06-11T18:07:15.418169",
     "exception": false,
     "start_time": "2025-06-11T18:07:14.357741",
     "status": "completed"
    },
    "tags": []
   },
   "outputs": [],
   "source": [
    "facturation_complete.write.mode(\"overwrite\").partitionBy(\"billing_period\").parquet(\"billing\")\n"
   ]
  },
  {
   "cell_type": "code",
   "execution_count": 9,
   "id": "05a629bb",
   "metadata": {
    "execution": {
     "iopub.execute_input": "2025-06-11T18:07:15.425112Z",
     "iopub.status.busy": "2025-06-11T18:07:15.425112Z",
     "iopub.status.idle": "2025-06-11T18:07:16.262894Z",
     "shell.execute_reply": "2025-06-11T18:07:16.261888Z"
    },
    "papermill": {
     "duration": 0.843774,
     "end_time": "2025-06-11T18:07:16.264893",
     "exception": false,
     "start_time": "2025-06-11T18:07:15.421119",
     "status": "completed"
    },
    "tags": []
   },
   "outputs": [],
   "source": [
    "(facturation_complete.write\n",
    " .format(\"jdbc\")\n",
    " .option(\"url\",      \"jdbc:postgresql://localhost:5432/projet_spark\")\n",
    " .option(\"dbtable\",  \"facturation_complete\")\n",
    " .option(\"user\",     \"postgres\")\n",
    " .option(\"password\", \"0000\")\n",
    " .mode(\"overwrite\")          \n",
    " .save())\n"
   ]
  },
  {
   "cell_type": "code",
   "execution_count": 10,
   "id": "059900c8",
   "metadata": {
    "execution": {
     "iopub.execute_input": "2025-06-11T18:07:16.278049Z",
     "iopub.status.busy": "2025-06-11T18:07:16.277115Z",
     "iopub.status.idle": "2025-06-11T18:07:16.701805Z",
     "shell.execute_reply": "2025-06-11T18:07:16.701805Z"
    },
    "papermill": {
     "duration": 0.433872,
     "end_time": "2025-06-11T18:07:16.703877",
     "exception": false,
     "start_time": "2025-06-11T18:07:16.270005",
     "status": "completed"
    },
    "tags": []
   },
   "outputs": [
    {
     "name": "stdout",
     "output_type": "stream",
     "text": [
      "+------------+--------------+--------------------+------------+-----------+---------+-----------------+-----------+---------+----------+-----------------+------------+-----------------+------------------+-----------------+\n",
      "| customer_id|billing_period|              region|rate_plan_id|voice_total|sms_total|       data_total|voice_count|sms_count|data_count|amount_before_tax|discount_pct|   after_discount|               tax|       amount_due|\n",
      "+------------+--------------+--------------------+------------+-----------+---------+-----------------+-----------+---------+----------+-----------------+------------+-----------------+------------------+-----------------+\n",
      "|212621008730|       2025-05|Béni Mellal-Khénifra|      PLAN_B|        0.0|      0.0|6.863119999999999|          0|        0|         1|6.863119999999999|        0.05|6.519963999999999|1.3039927999999998|7.823956799999999|\n",
      "|212680058037|       2025-05|  Rabat-Salé-Kénitra|      PLAN_A|        0.0|      0.0|              0.0|       NULL|     NULL|      NULL|              0.0|        0.05|              0.0|               0.0|              0.0|\n",
      "|212705083484|       2025-05|          L'Oriental|      PLAN_C|        0.0|      0.0|              0.0|       NULL|     NULL|      NULL|              0.0|        0.05|              0.0|               0.0|              0.0|\n",
      "|212742643119|       2025-05|   Guelmim-Oued Noun|      PLAN_B|        0.0|      0.0|              0.0|       NULL|     NULL|      NULL|              0.0|        0.05|              0.0|               0.0|              0.0|\n",
      "|212625950696|       2025-05|      Marrakech-Safi|      PLAN_C|        0.0|      0.0|              0.0|       NULL|     NULL|      NULL|              0.0|        0.05|              0.0|               0.0|              0.0|\n",
      "|212664805555|       2025-05|      Drâa-Tafilalet|      PLAN_C|        0.0|      0.0|              0.0|       NULL|     NULL|      NULL|              0.0|        0.05|              0.0|               0.0|              0.0|\n",
      "|212762640808|       2025-05|Béni Mellal-Khénifra|      PLAN_A|        0.0|      0.0|              0.0|       NULL|     NULL|      NULL|              0.0|        0.05|              0.0|               0.0|              0.0|\n",
      "|212621948629|       2025-05|  Rabat-Salé-Kénitra|      PLAN_B|        0.0|      0.0|              0.0|       NULL|     NULL|      NULL|              0.0|        0.05|              0.0|               0.0|              0.0|\n",
      "|212785977936|       2025-05|          L'Oriental|      PLAN_B|        0.0|      0.0|              0.0|       NULL|     NULL|      NULL|              0.0|        0.05|              0.0|               0.0|              0.0|\n",
      "|212636258363|       2025-05|  Rabat-Salé-Kénitra|      PLAN_A|        0.0|      0.0|              0.0|       NULL|     NULL|      NULL|              0.0|        0.05|              0.0|               0.0|              0.0|\n",
      "|212668107106|       2025-05|Laâyoune-Sakia El...|      PLAN_B|        0.0|      0.0|              0.0|       NULL|     NULL|      NULL|              0.0|        0.05|              0.0|               0.0|              0.0|\n",
      "|212623108665|       2025-05|  Rabat-Salé-Kénitra|      PLAN_B|        0.0|      0.0|              0.0|       NULL|     NULL|      NULL|              0.0|        0.05|              0.0|               0.0|              0.0|\n",
      "|212652886819|       2025-05|Dakhla-Oued Ed Dahab|      PLAN_A|        0.0|      0.0|              0.0|       NULL|     NULL|      NULL|              0.0|        0.05|              0.0|               0.0|              0.0|\n",
      "|212632540994|       2025-05|         Souss-Massa|      PLAN_A|        0.0|      0.0|              0.0|       NULL|     NULL|      NULL|              0.0|        0.05|              0.0|               0.0|              0.0|\n",
      "|212668843976|       2025-05|         Souss-Massa|      PLAN_C|        0.0|      0.0|              0.0|       NULL|     NULL|      NULL|              0.0|        0.05|              0.0|               0.0|              0.0|\n",
      "|212615894918|       2025-05|          Fès-Meknès|      PLAN_B|        0.0|      0.0|              0.0|       NULL|     NULL|      NULL|              0.0|        0.05|              0.0|               0.0|              0.0|\n",
      "|212611215819|       2025-05|   Casablanca-Settat|      PLAN_C|        0.0|      0.0|              0.0|       NULL|     NULL|      NULL|              0.0|        0.05|              0.0|               0.0|              0.0|\n",
      "|212692905060|       2025-05|  Rabat-Salé-Kénitra|      PLAN_C|        0.0|      0.0|              0.0|       NULL|     NULL|      NULL|              0.0|        0.05|              0.0|               0.0|              0.0|\n",
      "|212634650514|       2025-05|   Guelmim-Oued Noun|      PLAN_A|        0.0|      0.0|              0.0|       NULL|     NULL|      NULL|              0.0|        0.05|              0.0|               0.0|              0.0|\n",
      "|212798226912|       2025-05|   Casablanca-Settat|      PLAN_B|        0.0|      0.0|              0.0|       NULL|     NULL|      NULL|              0.0|        0.05|              0.0|               0.0|              0.0|\n",
      "+------------+--------------+--------------------+------------+-----------+---------+-----------------+-----------+---------+----------+-----------------+------------+-----------------+------------------+-----------------+\n",
      "only showing top 20 rows\n",
      "\n"
     ]
    }
   ],
   "source": [
    "facturation_complete.show()"
   ]
  },
  {
   "cell_type": "code",
   "execution_count": null,
   "id": "839fa753",
   "metadata": {
    "papermill": {
     "duration": 0.002046,
     "end_time": "2025-06-11T18:07:16.710889",
     "exception": false,
     "start_time": "2025-06-11T18:07:16.708843",
     "status": "completed"
    },
    "tags": []
   },
   "outputs": [],
   "source": []
  }
 ],
 "metadata": {
  "kernelspec": {
   "display_name": "Python 3",
   "language": "python",
   "name": "python3"
  },
  "language_info": {
   "codemirror_mode": {
    "name": "ipython",
    "version": 3
   },
   "file_extension": ".py",
   "mimetype": "text/x-python",
   "name": "python",
   "nbconvert_exporter": "python",
   "pygments_lexer": "ipython3",
   "version": "3.12.5"
  },
  "papermill": {
   "default_parameters": {},
   "duration": 18.494599,
   "end_time": "2025-06-11T18:07:17.063688",
   "environment_variables": {},
   "exception": null,
   "input_path": "BillingEngine.ipynb",
   "output_path": "BillingEngine.ipynb",
   "parameters": {},
   "start_time": "2025-06-11T18:06:58.569089",
   "version": "2.6.0"
  }
 },
 "nbformat": 4,
 "nbformat_minor": 5
}
