{
 "cells": [
  {
   "cell_type": "code",
   "execution_count": 1,
   "id": "046b0674",
   "metadata": {
    "execution": {
     "iopub.execute_input": "2025-06-11T13:46:33.478371Z",
     "iopub.status.busy": "2025-06-11T13:46:33.477382Z",
     "iopub.status.idle": "2025-06-11T13:46:39.000071Z",
     "shell.execute_reply": "2025-06-11T13:46:38.999567Z"
    },
    "papermill": {
     "duration": 5.531693,
     "end_time": "2025-06-11T13:46:39.001079",
     "exception": false,
     "start_time": "2025-06-11T13:46:33.469386",
     "status": "completed"
    },
    "tags": []
   },
   "outputs": [],
   "source": [
    "from pyspark.sql import SparkSession\n",
    "spark = (SparkSession.builder\n",
    "         .appName(\"Reporting\")\n",
    "         .getOrCreate())"
   ]
  },
  {
   "cell_type": "code",
   "execution_count": 2,
   "id": "9ec60e51",
   "metadata": {
    "execution": {
     "iopub.execute_input": "2025-06-11T13:46:39.010176Z",
     "iopub.status.busy": "2025-06-11T13:46:39.009175Z",
     "iopub.status.idle": "2025-06-11T13:46:46.981823Z",
     "shell.execute_reply": "2025-06-11T13:46:46.981823Z"
    },
    "papermill": {
     "duration": 7.977658,
     "end_time": "2025-06-11T13:46:46.983832",
     "exception": false,
     "start_time": "2025-06-11T13:46:39.006174",
     "status": "completed"
    },
    "tags": []
   },
   "outputs": [],
   "source": [
    "from pyspark.sql import functions as F\n",
    "rated = spark.read.parquet(\"rated_cdrs/\")\n",
    "# 1) Top 10 data consumers (sur le mois courant)\n",
    "top10 = (rated\n",
    "         .filter(\"record_type = 'data' AND rating_status IN ('rated','imputed')\")\n",
    "         .groupBy(\"customer_id\")\n",
    "         .agg(F.sum(\"billable_units\").alias(\"total_MB\"),\n",
    "              F.sum(\"cost\").alias(\"amount_due\"))\n",
    "         .orderBy(F.desc(\"total_MB\"))\n",
    "         .limit(10))\n",
    "\n",
    "top10.write.mode(\"overwrite\").option(\"header\", True).csv(\"report/top10_consumers.csv\")"
   ]
  },
  {
   "cell_type": "code",
   "execution_count": 3,
   "id": "d7eebd1e",
   "metadata": {
    "execution": {
     "iopub.execute_input": "2025-06-11T13:46:46.991831Z",
     "iopub.status.busy": "2025-06-11T13:46:46.991831Z",
     "iopub.status.idle": "2025-06-11T13:46:47.770942Z",
     "shell.execute_reply": "2025-06-11T13:46:47.769933Z"
    },
    "papermill": {
     "duration": 0.787487,
     "end_time": "2025-06-11T13:46:47.773319",
     "exception": false,
     "start_time": "2025-06-11T13:46:46.985832",
     "status": "completed"
    },
    "tags": []
   },
   "outputs": [],
   "source": [
    "# 2) Revenus TTC par plan tarifaire (\n",
    "facturation_complete = spark.read.parquet(\"billing/\")\n",
    "rev_plan = (facturation_complete\n",
    "            .groupBy(\"rate_plan_id\")\n",
    "            .agg(F.sum(\"amount_due\").alias(\"revenue_TTC\"))\n",
    "            .orderBy(F.desc(\"revenue_TTC\")))\n",
    "\n",
    "rev_plan.write.mode(\"overwrite\").option(\"header\", True).csv(\"report/revenue_by_plan.csv\")\n"
   ]
  },
  {
   "cell_type": "code",
   "execution_count": 4,
   "id": "842083db",
   "metadata": {
    "execution": {
     "iopub.execute_input": "2025-06-11T13:46:47.779713Z",
     "iopub.status.busy": "2025-06-11T13:46:47.779713Z",
     "iopub.status.idle": "2025-06-11T13:46:48.860388Z",
     "shell.execute_reply": "2025-06-11T13:46:48.859378Z"
    },
    "papermill": {
     "duration": 1.085672,
     "end_time": "2025-06-11T13:46:48.862388",
     "exception": false,
     "start_time": "2025-06-11T13:46:47.776716",
     "status": "completed"
    },
    "tags": []
   },
   "outputs": [],
   "source": [
    "#3) revenu de chaque record_type par region\n",
    "# a) rattacher la région au rated_cdrs\n",
    "rated_reg = rated.join(\n",
    "    facturation_complete.select(\"customer_id\", \"region\"), \"customer_id\", \"left\"\n",
    ")\n",
    "\n",
    "# b) agréger le revenu par service et région\n",
    "mix_region = (rated_reg\n",
    "    .filter(rated_reg.rating_status==\"rated\")\n",
    "    .groupBy(\"region\", \"record_type\")\n",
    "    .agg(F.sum(\"cost\").alias(\"revenue\"))\n",
    "    .orderBy(\"region\")\n",
    ")\n",
    "\n",
    "mix_region.write.mode(\"overwrite\")\\\n",
    "    .option(\"header\", True)\\\n",
    "    .csv(\"report/mix_by_region.csv\")"
   ]
  },
  {
   "cell_type": "code",
   "execution_count": 5,
   "id": "cc565ef5",
   "metadata": {
    "execution": {
     "iopub.execute_input": "2025-06-11T13:46:48.867388Z",
     "iopub.status.busy": "2025-06-11T13:46:48.867388Z",
     "iopub.status.idle": "2025-06-11T13:46:49.488971Z",
     "shell.execute_reply": "2025-06-11T13:46:49.488971Z"
    },
    "papermill": {
     "duration": 0.626591,
     "end_time": "2025-06-11T13:46:49.490979",
     "exception": false,
     "start_time": "2025-06-11T13:46:48.864388",
     "status": "completed"
    },
    "tags": []
   },
   "outputs": [],
   "source": [
    "# 4)revenu de chaque plan par region\n",
    "plan_region = (facturation_complete\n",
    "    .groupBy(\"region\", \"rate_plan_id\")\n",
    "    .agg(F.sum(\"amount_due\").alias(\"revenue_TTC\"))\n",
    "    .orderBy(\"region\", F.desc(\"revenue_TTC\"))\n",
    ")\n",
    "\n",
    "plan_region.write.mode(\"overwrite\")\\\n",
    "    .option(\"header\", True)\\\n",
    "    .csv(\"report/plan_by_region.csv\")\n"
   ]
  },
  {
   "cell_type": "code",
   "execution_count": 6,
   "id": "644d7b1d",
   "metadata": {
    "execution": {
     "iopub.execute_input": "2025-06-11T13:46:49.498011Z",
     "iopub.status.busy": "2025-06-11T13:46:49.498011Z",
     "iopub.status.idle": "2025-06-11T13:46:49.997512Z",
     "shell.execute_reply": "2025-06-11T13:46:49.997512Z"
    },
    "papermill": {
     "duration": 0.505513,
     "end_time": "2025-06-11T13:46:49.999522",
     "exception": false,
     "start_time": "2025-06-11T13:46:49.494009",
     "status": "completed"
    },
    "tags": []
   },
   "outputs": [],
   "source": [
    "from pyspark.sql import functions as F\n",
    "\n",
    "daily_revenue = (\n",
    "    rated\n",
    "    .filter(F.col(\"rating_status\").isin(\"rated\", \"imputed\"))\n",
    "    .withColumn(\"billing_date\", F.to_date(\"timestamp\"))          # yyyy-MM-dd\n",
    "    .groupBy(\"billing_date\")\n",
    "    .agg(F.round(F.sum(\"cost\"), 4).alias(\"revenue_TTC\"))         # montant total TTC\n",
    "    .orderBy(\"billing_date\")\n",
    ")\n",
    "\n",
    "daily_revenue.write \\\n",
    "    .mode(\"overwrite\") \\\n",
    "    .option(\"header\", True) \\\n",
    "    .csv(\"report/daily_revenue.csv\")\n"
   ]
  },
  {
   "cell_type": "code",
   "execution_count": 7,
   "id": "e44bb98e",
   "metadata": {
    "execution": {
     "iopub.execute_input": "2025-06-11T13:46:50.004855Z",
     "iopub.status.busy": "2025-06-11T13:46:50.004855Z",
     "iopub.status.idle": "2025-06-11T13:46:50.642889Z",
     "shell.execute_reply": "2025-06-11T13:46:50.642382Z"
    },
    "papermill": {
     "duration": 0.643054,
     "end_time": "2025-06-11T13:46:50.644899",
     "exception": false,
     "start_time": "2025-06-11T13:46:50.001845",
     "status": "completed"
    },
    "tags": []
   },
   "outputs": [],
   "source": [
    "traffic_hourly = (\n",
    "    rated\n",
    "    .filter( (F.col(\"record_type\") == \"data\")\n",
    "           & F.col(\"rating_status\").isin(\"rated\", \"imputed\") )\n",
    "    .withColumn(\"billing_date\", F.to_date(\"timestamp\"))          # pour filtre éventuel\n",
    "    .withColumn(\"hour\", F.hour(\"timestamp\"))                     # 0-23\n",
    "    .withColumn(\"GB\", F.col(\"billable_units\") / 1024)            # MB → GB\n",
    "    .groupBy(\"billing_date\", \"hour\")\n",
    "    .agg(F.round(F.sum(\"GB\"), 3).alias(\"total_GB\"))\n",
    "    .orderBy(\"billing_date\", \"hour\")\n",
    ")\n",
    "\n",
    "traffic_hourly.write \\\n",
    "    .mode(\"overwrite\") \\\n",
    "    .option(\"header\", True) \\\n",
    "    .csv(\"report/traffic_hourly.csv\")\n"
   ]
  },
  {
   "cell_type": "code",
   "execution_count": null,
   "id": "b7a4f36f",
   "metadata": {
    "papermill": {
     "duration": 0.003001,
     "end_time": "2025-06-11T13:46:50.650899",
     "exception": false,
     "start_time": "2025-06-11T13:46:50.647898",
     "status": "completed"
    },
    "tags": []
   },
   "outputs": [],
   "source": []
  }
 ],
 "metadata": {
  "kernelspec": {
   "display_name": "Python 3",
   "language": "python",
   "name": "python3"
  },
  "language_info": {
   "codemirror_mode": {
    "name": "ipython",
    "version": 3
   },
   "file_extension": ".py",
   "mimetype": "text/x-python",
   "name": "python",
   "nbconvert_exporter": "python",
   "pygments_lexer": "ipython3",
   "version": "3.12.5"
  },
  "papermill": {
   "default_parameters": {},
   "duration": 19.349686,
   "end_time": "2025-06-11T13:46:51.003748",
   "environment_variables": {},
   "exception": null,
   "input_path": "reporting.ipynb",
   "output_path": "reporting.ipynb",
   "parameters": {},
   "start_time": "2025-06-11T13:46:31.654062",
   "version": "2.6.0"
  }
 },
 "nbformat": 4,
 "nbformat_minor": 5
}