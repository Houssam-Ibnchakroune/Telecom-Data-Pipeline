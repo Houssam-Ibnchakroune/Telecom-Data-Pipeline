{
 "cells": [
  {
   "cell_type": "code",
   "execution_count": 1,
   "id": "046b0674",
   "metadata": {
    "execution": {
     "iopub.execute_input": "2025-06-11T18:07:18.461390Z",
     "iopub.status.busy": "2025-06-11T18:07:18.460388Z",
     "iopub.status.idle": "2025-06-11T18:07:21.661191Z",
     "shell.execute_reply": "2025-06-11T18:07:21.660909Z"
    },
    "papermill": {
     "duration": 3.211644,
     "end_time": "2025-06-11T18:07:21.662955",
     "exception": false,
     "start_time": "2025-06-11T18:07:18.451311",
     "status": "completed"
    },
    "tags": []
   },
   "outputs": [],
   "source": [
    "from pyspark.sql import SparkSession\n",
    "spark = (SparkSession.builder\n",
    "         .appName(\"Reporting\")\n",
    "         .getOrCreate())"
   ]
  },
  {
   "cell_type": "code",
   "execution_count": 2,
   "id": "9ec60e51",
   "metadata": {
    "execution": {
     "iopub.execute_input": "2025-06-11T18:07:21.669835Z",
     "iopub.status.busy": "2025-06-11T18:07:21.668801Z",
     "iopub.status.idle": "2025-06-11T18:07:27.113947Z",
     "shell.execute_reply": "2025-06-11T18:07:27.113440Z"
    },
    "papermill": {
     "duration": 5.450161,
     "end_time": "2025-06-11T18:07:27.115954",
     "exception": false,
     "start_time": "2025-06-11T18:07:21.665793",
     "status": "completed"
    },
    "tags": []
   },
   "outputs": [],
   "source": [
    "from pyspark.sql import functions as F\n",
    "rated = spark.read.parquet(\"rated_cdrs/\")\n",
    "# 1) Top 10 data consumers (sur le mois courant)\n",
    "top10 = (rated\n",
    "         .filter(\"record_type = 'data' AND rating_status IN ('rated','imputed')\")\n",
    "         .groupBy(\"customer_id\")\n",
    "         .agg(F.sum(\"billable_units\").alias(\"total_MB\"),\n",
    "              F.sum(\"cost\").alias(\"amount_due\"))\n",
    "         .orderBy(F.desc(\"total_MB\"))\n",
    "         .limit(10))\n",
    "\n",
    "top10.write.mode(\"overwrite\").option(\"header\", True).csv(\"report/top10_consumers.csv\")"
   ]
  },
  {
   "cell_type": "code",
   "execution_count": 3,
   "id": "d7eebd1e",
   "metadata": {
    "execution": {
     "iopub.execute_input": "2025-06-11T18:07:27.122953Z",
     "iopub.status.busy": "2025-06-11T18:07:27.122953Z",
     "iopub.status.idle": "2025-06-11T18:07:27.737509Z",
     "shell.execute_reply": "2025-06-11T18:07:27.736502Z"
    },
    "papermill": {
     "duration": 0.619556,
     "end_time": "2025-06-11T18:07:27.738510",
     "exception": false,
     "start_time": "2025-06-11T18:07:27.118954",
     "status": "completed"
    },
    "tags": []
   },
   "outputs": [],
   "source": [
    "# 2) Revenus TTC par plan tarifaire (\n",
    "facturation_complete = spark.read.parquet(\"billing/\")\n",
    "rev_plan = (facturation_complete\n",
    "            .groupBy(\"rate_plan_id\")\n",
    "            .agg(F.sum(\"amount_due\").alias(\"revenue_TTC\"))\n",
    "            .orderBy(F.desc(\"revenue_TTC\")))\n",
    "\n",
    "rev_plan.write.mode(\"overwrite\").option(\"header\", True).csv(\"report/revenue_by_plan.csv\")\n"
   ]
  },
  {
   "cell_type": "code",
   "execution_count": 4,
   "id": "842083db",
   "metadata": {
    "execution": {
     "iopub.execute_input": "2025-06-11T18:07:27.746521Z",
     "iopub.status.busy": "2025-06-11T18:07:27.746521Z",
     "iopub.status.idle": "2025-06-11T18:07:28.599314Z",
     "shell.execute_reply": "2025-06-11T18:07:28.598805Z"
    },
    "papermill": {
     "duration": 0.858815,
     "end_time": "2025-06-11T18:07:28.601323",
     "exception": false,
     "start_time": "2025-06-11T18:07:27.742508",
     "status": "completed"
    },
    "tags": []
   },
   "outputs": [],
   "source": [
    "#3) revenu de chaque record_type par region\n",
    "# a) rattacher la région au rated_cdrs\n",
    "rated_reg = rated.join(\n",
    "    facturation_complete.select(\"customer_id\", \"region\"), \"customer_id\", \"left\"\n",
    ")\n",
    "# b) agréger le revenu par service et région\n",
    "mix_region = (rated_reg\n",
    "    .filter(rated_reg.rating_status==\"rated\")\n",
    "    .groupBy(\"region\", \"record_type\")\n",
    "    .agg(F.sum(\"cost\").alias(\"revenue\"))\n",
    "    .orderBy(\"region\")\n",
    ")\n",
    "mix_region.write.mode(\"overwrite\")\\\n",
    "    .option(\"header\", True)\\\n",
    "    .csv(\"report/mix_by_region.csv\")"
   ]
  },
  {
   "cell_type": "code",
   "execution_count": 5,
   "id": "cc565ef5",
   "metadata": {
    "execution": {
     "iopub.execute_input": "2025-06-11T18:07:28.608360Z",
     "iopub.status.busy": "2025-06-11T18:07:28.607324Z",
     "iopub.status.idle": "2025-06-11T18:07:29.179043Z",
     "shell.execute_reply": "2025-06-11T18:07:29.178034Z"
    },
    "papermill": {
     "duration": 0.57672,
     "end_time": "2025-06-11T18:07:29.180044",
     "exception": false,
     "start_time": "2025-06-11T18:07:28.603324",
     "status": "completed"
    },
    "tags": []
   },
   "outputs": [],
   "source": [
    "# 4)revenu de chaque plan par region\n",
    "plan_region = (facturation_complete\n",
    "    .groupBy(\"region\", \"rate_plan_id\")\n",
    "    .agg(F.sum(\"amount_due\").alias(\"revenue_TTC\"))\n",
    "    .orderBy(\"region\", F.desc(\"revenue_TTC\"))\n",
    ")\n",
    "\n",
    "plan_region.write.mode(\"overwrite\")\\\n",
    "    .option(\"header\", True)\\\n",
    "    .csv(\"report/plan_by_region.csv\")\n"
   ]
  },
  {
   "cell_type": "code",
   "execution_count": 6,
   "id": "644d7b1d",
   "metadata": {
    "execution": {
     "iopub.execute_input": "2025-06-11T18:07:29.188044Z",
     "iopub.status.busy": "2025-06-11T18:07:29.187041Z",
     "iopub.status.idle": "2025-06-11T18:07:29.697562Z",
     "shell.execute_reply": "2025-06-11T18:07:29.697562Z"
    },
    "papermill": {
     "duration": 0.516529,
     "end_time": "2025-06-11T18:07:29.699571",
     "exception": false,
     "start_time": "2025-06-11T18:07:29.183042",
     "status": "completed"
    },
    "tags": []
   },
   "outputs": [],
   "source": [
    "from pyspark.sql import functions as F\n",
    "\n",
    "daily_revenue = (\n",
    "    rated\n",
    "    .filter(F.col(\"rating_status\").isin(\"rated\", \"imputed\"))\n",
    "    .withColumn(\"billing_date\", F.to_date(\"timestamp\"))          # yyyy-MM-dd\n",
    "    .groupBy(\"billing_date\")\n",
    "    .agg(F.round(F.sum(\"cost\"), 4).alias(\"revenue_TTC\"))         # montant total TTC\n",
    "    .orderBy(\"billing_date\")\n",
    ")\n",
    "\n",
    "daily_revenue.write \\\n",
    "    .mode(\"overwrite\") \\\n",
    "    .option(\"header\", True) \\\n",
    "    .csv(\"report/daily_revenue.csv\")\n"
   ]
  },
  {
   "cell_type": "code",
   "execution_count": 7,
   "id": "e44bb98e",
   "metadata": {
    "execution": {
     "iopub.execute_input": "2025-06-11T18:07:29.707569Z",
     "iopub.status.busy": "2025-06-11T18:07:29.707569Z",
     "iopub.status.idle": "2025-06-11T18:07:30.259036Z",
     "shell.execute_reply": "2025-06-11T18:07:30.259036Z"
    },
    "papermill": {
     "duration": 0.558475,
     "end_time": "2025-06-11T18:07:30.261044",
     "exception": false,
     "start_time": "2025-06-11T18:07:29.702569",
     "status": "completed"
    },
    "tags": []
   },
   "outputs": [],
   "source": [
    "traffic_hourly = (\n",
    "    rated\n",
    "    .filter( (F.col(\"record_type\") == \"data\")\n",
    "           & F.col(\"rating_status\").isin(\"rated\", \"imputed\") )\n",
    "    .withColumn(\"billing_date\", F.to_date(\"timestamp\"))          # pour filtre éventuel\n",
    "    .withColumn(\"hour\", F.hour(\"timestamp\"))                     # 0-23\n",
    "    .withColumn(\"GB\", F.col(\"billable_units\") / 1024)            # MB → GB\n",
    "    .groupBy(\"billing_date\", \"hour\")\n",
    "    .agg(F.round(F.sum(\"GB\"), 3).alias(\"total_GB\"))\n",
    "    .orderBy(\"billing_date\", \"hour\")\n",
    ")\n",
    "\n",
    "traffic_hourly.write \\\n",
    "    .mode(\"overwrite\") \\\n",
    "    .option(\"header\", True) \\\n",
    "    .csv(\"report/traffic_hourly.csv\")\n"
   ]
  }
 ],
 "metadata": {
  "kernelspec": {
   "display_name": "Python 3",
   "language": "python",
   "name": "python3"
  },
  "language_info": {
   "codemirror_mode": {
    "name": "ipython",
    "version": 3
   },
   "file_extension": ".py",
   "mimetype": "text/x-python",
   "name": "python",
   "nbconvert_exporter": "python",
   "pygments_lexer": "ipython3",
   "version": "3.12.5"
  },
  "papermill": {
   "default_parameters": {},
   "duration": 13.464083,
   "end_time": "2025-06-11T18:07:30.586432",
   "environment_variables": {},
   "exception": null,
   "input_path": "reporting.ipynb",
   "output_path": "reporting.ipynb",
   "parameters": {},
   "start_time": "2025-06-11T18:07:17.122349",
   "version": "2.6.0"
  }
 },
 "nbformat": 4,
 "nbformat_minor": 5
}
