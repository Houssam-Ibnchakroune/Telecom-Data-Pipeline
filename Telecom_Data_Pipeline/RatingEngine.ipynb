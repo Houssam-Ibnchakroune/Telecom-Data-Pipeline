{
 "cells": [
  {
   "cell_type": "code",
   "execution_count": 1,
   "id": "0eafc561",
   "metadata": {},
   "outputs": [],
   "source": [
    "from pyspark.sql import SparkSession\n",
    "from pyspark.sql.functions import  when,mean ,lit,ceil\n",
    "# Création d'une session Spark\n",
    "spark = SparkSession.builder\\\n",
    "         .appName(\"RatingEngine\")\\\n",
    "         .config(\"spark.jars\", r\".conf\\postgresql-42.7.6.jar\")\\\n",
    "         .config(\"spark.driver.extraClassPath\", r\".\\conf\\postgresql-42.7.6.jar\")\\\n",
    "         .config(\"spark.executor.extraClassPath\", r\".\\conf\\\\postgresql-42.7.6.jar\")\\\n",
    "         .config(\"spark.sql.shuffle.partitions\", \"50\")\\\n",
    "         .config(\"spark.sql.autoBroadcastJoinThreshold\", \"10485760\")\\\n",
    "         .config(\"spark.driver.memory\", \"6g\")\\\n",
    "         .getOrCreate()\n",
    "\n",
    "\n"
   ]
  },
  {
   "cell_type": "code",
   "execution_count": 2,
   "id": "2ce7d8c2",
   "metadata": {},
   "outputs": [],
   "source": [
    "data_path = r\".\\output_dir\" \n",
    "cleanedCdrsDf  = spark.read.format(\"parquet\") \\\n",
    "    .option(\"header\", \"true\") \\\n",
    "    .option(\"inferSchema\", \"true\") \\\n",
    "    .load(data_path)"
   ]
  },
  {
   "cell_type": "code",
   "execution_count": 3,
   "id": "65ab5c4e",
   "metadata": {},
   "outputs": [
    {
     "name": "stdout",
     "output_type": "stream",
     "text": [
      "+------------+-----------------+-----------------+------------+---------------+------+--------------------+\n",
      "| customer_id|    customer_name|subscription_type|rate_plan_id|activation_date|status|              region|\n",
      "+------------+-----------------+-----------------+------------+---------------+------+--------------------+\n",
      "|212768116861|    Anwar Kettani|         postpaid|      PLAN_C|     2024-04-29|active|Béni Mellal-Khénifra|\n",
      "|212760204113|Naoual El Othmani|         postpaid|      PLAN_A|     2024-12-07|active|      Drâa-Tafilalet|\n",
      "|212704344822|     Ehab Ouchrif|         postpaid|      PLAN_A|     2023-07-29|active|Laâyoune-Sakia El...|\n",
      "|212658901536|     Selma Msaddi|         postpaid|      PLAN_C|     2023-06-16|active|         Souss-Massa|\n",
      "|212699900093| Brahim El Hilali|         postpaid|      PLAN_A|     2024-07-27|active|Dakhla-Oued Ed Dahab|\n",
      "+------------+-----------------+-----------------+------------+---------------+------+--------------------+\n",
      "only showing top 5 rows\n",
      "\n"
     ]
    }
   ],
   "source": [
    "customersDf = spark.read \\\n",
    "    .format(\"jdbc\")\\\n",
    "    .option(\"url\",      \"jdbc:postgresql://localhost:5432/projet_spark\")\\\n",
    "    .option(\"dbtable\",  \"customers\")\\\n",
    "    .option(\"user\",     \"postgres\")\\\n",
    "    .option(\"password\", \"0000\")\\\n",
    "    .load() \n",
    "\n",
    "customersDf.show(5)\n"
   ]
  },
  {
   "cell_type": "code",
   "execution_count": 4,
   "id": "b6195e08",
   "metadata": {},
   "outputs": [],
   "source": [
    "catalogDf = spark.read \\\n",
    "    .option(\"header\", True) \\\n",
    "    .csv(\"ressources/product_catalog.csv\")\n"
   ]
  },
  {
   "cell_type": "code",
   "execution_count": 5,
   "id": "a7161cb2",
   "metadata": {},
   "outputs": [],
   "source": [
    "from pyspark.sql.functions import col\n",
    "\n",
    "ratePlansDf = spark.read \\\n",
    "    .option(\"header\", True) \\\n",
    "    .csv(\"ressources/rate_plans.csv\") \\\n",
    "    .withColumn(\"unit_price\", col(\"unit_price\").cast(\"double\")) \\\n",
    "    .withColumn(\"free_units\", col(\"free_units\").cast(\"int\")) \\\n",
    "    .withColumn(\"tier_threshold\", col(\"tier_threshold\").cast(\"int\")) \\\n",
    "    .withColumn(\"tier_price\", col(\"tier_price\").cast(\"double\"))\n"
   ]
  },
  {
   "cell_type": "code",
   "execution_count": 6,
   "id": "645907fe",
   "metadata": {},
   "outputs": [],
   "source": [
    "cdrs = (cleanedCdrsDf\n",
    "        .withColumn(\n",
    "            \"customer_id\",\n",
    "            when(col(\"record_type\") == \"voice\", col(\"caller_id\"))\n",
    "            .when(col(\"record_type\") == \"sms\",  col(\"sender_id\"))\n",
    "            .otherwise(col(\"user_id\"))\n",
    "        ))"
   ]
  },
  {
   "cell_type": "code",
   "execution_count": 7,
   "id": "72c6e9c5",
   "metadata": {},
   "outputs": [
    {
     "name": "stdout",
     "output_type": "stream",
     "text": [
      "+------------+--------------------+-------------------+-------------+----------+------------+-------------+------------+------------+-------------+------------+------------+------------+--------------------+--------------+--------+-----------+------------+\n",
      "| customer_id|           record_ID|          timestamp|      cell_id|technology|   caller_id|    callee_id|duration_sec|product_code|rating_status|   sender_id| receiver_id|     user_id|session_duration_sec|data_volume_mb|batch_id|record_type|rate_plan_id|\n",
      "+------------+--------------------+-------------------+-------------+----------+------------+-------------+------------+------------+-------------+------------+------------+------------+--------------------+--------------+--------+-----------+------------+\n",
      "|212658901536|868c539c-4283-400...|2025-06-01 04:22:17|    MEKNES_01|        4G|212658901536| 212668884253|         294|   VOICE_NAT|        ready|        NULL|        NULL|        NULL|                NULL|          NULL|      11|      voice|      PLAN_C|\n",
      "|212652067719|74449cd2-c093-4bb...|2025-06-01 05:36:10|    AGADIR_02|        4G|212652067719| 212798154200|         356|   VOICE_NAT|        ready|        NULL|        NULL|        NULL|                NULL|          NULL|      15|      voice|      PLAN_C|\n",
      "|212646492701|b1dfc166-8841-4a5...|2025-06-01 02:10:55|      TAZA_01|        4G|212646492701| 212744444606|         450|   VOICE_NAT|        ready|        NULL|        NULL|        NULL|                NULL|          NULL|       5|      voice|      PLAN_B|\n",
      "|212646492701|889b1299-4687-40e...|2025-06-01 06:01:42|      TAZA_01|        4G|212646492701|4965098532902|         440|   VOICE_INT|        ready|        NULL|        NULL|        NULL|                NULL|          NULL|      16|      voice|      PLAN_B|\n",
      "|212667715696|4e141f40-d80c-492...|2025-06-01 01:25:02|CASABLANCA_03|        3G|        NULL|         NULL|        NULL|  DATA_BASIC| needs_review|        NULL|        NULL|212667715696|             inconnu|       1295.18|       3|       data|      PLAN_C|\n",
      "|212680680385|c1b06d5e-0c95-460...|2025-06-01 02:47:20|      inconnu|        4G|        NULL|         NULL|        NULL|DATA_PREMIUM|        ready|        NULL|        NULL|212680680385|                 156|       1684.81|       7|       data|      PLAN_C|\n",
      "|212605918824|a9b5c952-17f6-4f8...|2025-06-01 05:27:39|    DAKHLA_01|        4G|212605918824| 212713149055|         486|   VOICE_NAT|        ready|        NULL|        NULL|        NULL|                NULL|          NULL|      15|      voice|      PLAN_B|\n",
      "|212664023127|34ef0c3e-d992-4a9...|2025-06-01 01:31:33|  LAAYOUNE_01|        5G|212664023127| 212717333836|         384|   VOICE_NAT|        ready|        NULL|        NULL|        NULL|                NULL|          NULL|       3|      voice|      PLAN_C|\n",
      "|212698922773|b61e526b-bab8-494...|2025-06-01 06:21:50|     RABAT_02|        2G|        NULL|         NULL|        NULL|DATA_PREMIUM|        ready|        NULL|        NULL|212698922773|                 323|          9.33|      18|       data|      PLAN_B|\n",
      "|212698922773|3a1157c0-2c81-426...|2025-06-01 05:53:31|      TAZA_01|        2G|212698922773| 971905208873|         224|   VOICE_INT|        ready|        NULL|        NULL|        NULL|                NULL|          NULL|      16|      voice|      PLAN_B|\n",
      "|212671433374|76647f73-d40a-417...|2025-06-01 01:42:51|      inconnu|        2G|212671433374|  34561556408|         278|   VOICE_INT|        ready|        NULL|        NULL|        NULL|                NULL|          NULL|       4|      voice|      PLAN_C|\n",
      "|212761832236|7cee1c8b-2feb-46c...|2025-06-01 04:30:56|     NADOR_01|        4G|        NULL|         NULL|        NULL|  DATA_BASIC| needs_review|        NULL|        NULL|212761832236|             inconnu|        216.76|      12|       data|      PLAN_A|\n",
      "|212643565571|fe683d23-4c46-41e...|2025-06-01 06:16:34|      inconnu|        4G|212643565571| 212707236227|         131|   VOICE_NAT|        ready|        NULL|        NULL|        NULL|                NULL|          NULL|      17|      voice|      PLAN_C|\n",
      "|212788280911|83ebc052-781a-47b...|2025-06-01 03:10:00|  ELJADIDA_01|        5G|        NULL|         NULL|        NULL|  DATA_BASIC|        ready|        NULL|        NULL|212788280911|                 520|       1505.64|       8|       data|      PLAN_C|\n",
      "|212696130284|418c7afd-bb0a-463...|2025-06-01 01:56:49|    AGADIR_02|        4G|        NULL|         NULL|        NULL|     SMS_NAT|        ready|212696130284|212694759148|        NULL|                NULL|          NULL|       4|        sms|      PLAN_C|\n",
      "|212798323701|0f39e283-5d0a-440...|2025-06-01 06:26:26|      inconnu|        4G|212798323701| 212635005747|         378|   VOICE_NAT|        ready|        NULL|        NULL|        NULL|                NULL|          NULL|      18|      voice|      PLAN_A|\n",
      "|212662936924|54197ab0-a313-42e...|2025-06-01 05:21:59|CASABLANCA_01|        4G|212662936924| 212676025590|         138|   VOICE_NAT|        ready|        NULL|        NULL|        NULL|                NULL|          NULL|      14|      voice|      PLAN_B|\n",
      "|212665963185|b96fc21a-ac4c-427...|2025-06-01 02:27:47|CASABLANCA_02|        3G|212665963185| 441169792613|         276|   VOICE_INT|        ready|        NULL|        NULL|        NULL|                NULL|          NULL|       6|      voice|      PLAN_A|\n",
      "|212633839320|038cb179-65ec-4e5...|2025-06-01 03:15:56|     RABAT_02|        4G|        NULL|         NULL|        NULL|  DATA_BASIC|        ready|        NULL|        NULL|212633839320|                 233|        913.78|       8|       data|      PLAN_C|\n",
      "|212759996520|9708a456-d5b6-430...|2025-06-01 01:28:42|       FES_01|        4G|212759996520|      inconnu|         158|   VOICE_NAT|        ready|        NULL|        NULL|        NULL|                NULL|          NULL|       3|      voice|      PLAN_A|\n",
      "+------------+--------------------+-------------------+-------------+----------+------------+-------------+------------+------------+-------------+------------+------------+------------+--------------------+--------------+--------+-----------+------------+\n",
      "only showing top 20 rows\n",
      "\n"
     ]
    }
   ],
   "source": [
    "# ─── jointure client → plan ─────────────────────────────────────────────\n",
    "cdrs1 = cdrs.join(\n",
    "    customersDf.filter((col(\"status\") == \"active\") &\n",
    "                       (col(\"subscription_type\") == \"postpaid\"))\n",
    "               .select(\"customer_id\", \"rate_plan_id\"),\n",
    "    on=\"customer_id\",\n",
    "    how=\"inner\"\n",
    ")\n",
    "cdrs1.show()"
   ]
  },
  {
   "cell_type": "code",
   "execution_count": 8,
   "id": "d92da766",
   "metadata": {},
   "outputs": [
    {
     "name": "stdout",
     "output_type": "stream",
     "text": [
      "+------------+------------+--------------------+-------------------+-------------+----------+------------+-------------+------------+-------------+------------+------------+------------+--------------------+--------------+--------+-----------+------------+------------+------+---------+--------------------+\n",
      "|product_code| customer_id|           record_ID|          timestamp|      cell_id|technology|   caller_id|    callee_id|duration_sec|rating_status|   sender_id| receiver_id|     user_id|session_duration_sec|data_volume_mb|batch_id|record_type|rate_plan_id|service_type|  unit|rate_type|         description|\n",
      "+------------+------------+--------------------+-------------------+-------------+----------+------------+-------------+------------+-------------+------------+------------+------------+--------------------+--------------+--------+-----------+------------+------------+------+---------+--------------------+\n",
      "|   VOICE_NAT|212658901536|868c539c-4283-400...|2025-06-01 04:22:17|    MEKNES_01|        4G|212658901536| 212668884253|         294|        ready|        NULL|        NULL|        NULL|                NULL|          NULL|      11|      voice|      PLAN_C|       voice|minute|     flat|Appel vocal natio...|\n",
      "|   VOICE_NAT|212652067719|74449cd2-c093-4bb...|2025-06-01 05:36:10|    AGADIR_02|        4G|212652067719| 212798154200|         356|        ready|        NULL|        NULL|        NULL|                NULL|          NULL|      15|      voice|      PLAN_C|       voice|minute|     flat|Appel vocal natio...|\n",
      "|   VOICE_NAT|212646492701|b1dfc166-8841-4a5...|2025-06-01 02:10:55|      TAZA_01|        4G|212646492701| 212744444606|         450|        ready|        NULL|        NULL|        NULL|                NULL|          NULL|       5|      voice|      PLAN_B|       voice|minute|     flat|Appel vocal natio...|\n",
      "|   VOICE_INT|212646492701|889b1299-4687-40e...|2025-06-01 06:01:42|      TAZA_01|        4G|212646492701|4965098532902|         440|        ready|        NULL|        NULL|        NULL|                NULL|          NULL|      16|      voice|      PLAN_B|       voice|minute|     flat|Appel vocal inter...|\n",
      "|  DATA_BASIC|212667715696|4e141f40-d80c-492...|2025-06-01 01:25:02|CASABLANCA_03|        3G|        NULL|         NULL|        NULL| needs_review|        NULL|        NULL|212667715696|             inconnu|       1295.18|       3|       data|      PLAN_C|        data|    MB|     flat|Session Data basi...|\n",
      "|DATA_PREMIUM|212680680385|c1b06d5e-0c95-460...|2025-06-01 02:47:20|      inconnu|        4G|        NULL|         NULL|        NULL|        ready|        NULL|        NULL|212680680385|                 156|       1684.81|       7|       data|      PLAN_C|        data|    MB|   tiered|Session Data prem...|\n",
      "|   VOICE_NAT|212605918824|a9b5c952-17f6-4f8...|2025-06-01 05:27:39|    DAKHLA_01|        4G|212605918824| 212713149055|         486|        ready|        NULL|        NULL|        NULL|                NULL|          NULL|      15|      voice|      PLAN_B|       voice|minute|     flat|Appel vocal natio...|\n",
      "|   VOICE_NAT|212664023127|34ef0c3e-d992-4a9...|2025-06-01 01:31:33|  LAAYOUNE_01|        5G|212664023127| 212717333836|         384|        ready|        NULL|        NULL|        NULL|                NULL|          NULL|       3|      voice|      PLAN_C|       voice|minute|     flat|Appel vocal natio...|\n",
      "|DATA_PREMIUM|212698922773|b61e526b-bab8-494...|2025-06-01 06:21:50|     RABAT_02|        2G|        NULL|         NULL|        NULL|        ready|        NULL|        NULL|212698922773|                 323|          9.33|      18|       data|      PLAN_B|        data|    MB|   tiered|Session Data prem...|\n",
      "|   VOICE_INT|212698922773|3a1157c0-2c81-426...|2025-06-01 05:53:31|      TAZA_01|        2G|212698922773| 971905208873|         224|        ready|        NULL|        NULL|        NULL|                NULL|          NULL|      16|      voice|      PLAN_B|       voice|minute|     flat|Appel vocal inter...|\n",
      "|   VOICE_INT|212671433374|76647f73-d40a-417...|2025-06-01 01:42:51|      inconnu|        2G|212671433374|  34561556408|         278|        ready|        NULL|        NULL|        NULL|                NULL|          NULL|       4|      voice|      PLAN_C|       voice|minute|     flat|Appel vocal inter...|\n",
      "|  DATA_BASIC|212761832236|7cee1c8b-2feb-46c...|2025-06-01 04:30:56|     NADOR_01|        4G|        NULL|         NULL|        NULL| needs_review|        NULL|        NULL|212761832236|             inconnu|        216.76|      12|       data|      PLAN_A|        data|    MB|     flat|Session Data basi...|\n",
      "|   VOICE_NAT|212643565571|fe683d23-4c46-41e...|2025-06-01 06:16:34|      inconnu|        4G|212643565571| 212707236227|         131|        ready|        NULL|        NULL|        NULL|                NULL|          NULL|      17|      voice|      PLAN_C|       voice|minute|     flat|Appel vocal natio...|\n",
      "|  DATA_BASIC|212788280911|83ebc052-781a-47b...|2025-06-01 03:10:00|  ELJADIDA_01|        5G|        NULL|         NULL|        NULL|        ready|        NULL|        NULL|212788280911|                 520|       1505.64|       8|       data|      PLAN_C|        data|    MB|     flat|Session Data basi...|\n",
      "|     SMS_NAT|212696130284|418c7afd-bb0a-463...|2025-06-01 01:56:49|    AGADIR_02|        4G|        NULL|         NULL|        NULL|        ready|212696130284|212694759148|        NULL|                NULL|          NULL|       4|        sms|      PLAN_C|         sms| event|     flat|Envoi SMS standar...|\n",
      "|   VOICE_NAT|212798323701|0f39e283-5d0a-440...|2025-06-01 06:26:26|      inconnu|        4G|212798323701| 212635005747|         378|        ready|        NULL|        NULL|        NULL|                NULL|          NULL|      18|      voice|      PLAN_A|       voice|minute|     flat|Appel vocal natio...|\n",
      "|   VOICE_NAT|212662936924|54197ab0-a313-42e...|2025-06-01 05:21:59|CASABLANCA_01|        4G|212662936924| 212676025590|         138|        ready|        NULL|        NULL|        NULL|                NULL|          NULL|      14|      voice|      PLAN_B|       voice|minute|     flat|Appel vocal natio...|\n",
      "|   VOICE_INT|212665963185|b96fc21a-ac4c-427...|2025-06-01 02:27:47|CASABLANCA_02|        3G|212665963185| 441169792613|         276|        ready|        NULL|        NULL|        NULL|                NULL|          NULL|       6|      voice|      PLAN_A|       voice|minute|     flat|Appel vocal inter...|\n",
      "|  DATA_BASIC|212633839320|038cb179-65ec-4e5...|2025-06-01 03:15:56|     RABAT_02|        4G|        NULL|         NULL|        NULL|        ready|        NULL|        NULL|212633839320|                 233|        913.78|       8|       data|      PLAN_C|        data|    MB|     flat|Session Data basi...|\n",
      "|   VOICE_NAT|212759996520|9708a456-d5b6-430...|2025-06-01 01:28:42|       FES_01|        4G|212759996520|      inconnu|         158|        ready|        NULL|        NULL|        NULL|                NULL|          NULL|       3|      voice|      PLAN_A|       voice|minute|     flat|Appel vocal natio...|\n",
      "+------------+------------+--------------------+-------------------+-------------+----------+------------+-------------+------------+-------------+------------+------------+------------+--------------------+--------------+--------+-----------+------------+------------+------+---------+--------------------+\n",
      "only showing top 20 rows\n",
      "\n"
     ]
    }
   ],
   "source": [
    "# ─── jointure produit (rate_type, service_type) ────────────────────────\n",
    "cdrs2 = cdrs1.join(catalogDf, on=\"product_code\", how=\"left\")\n",
    "cdrs2.show()"
   ]
  },
  {
   "cell_type": "code",
   "execution_count": 9,
   "id": "6212e60b",
   "metadata": {},
   "outputs": [],
   "source": [
    "cdrs3 = cdrs2.join(ratePlansDf,\n",
    "                   on=[\"rate_plan_id\", \"product_code\"],\n",
    "                   how=\"left\")"
   ]
  },
  {
   "cell_type": "code",
   "execution_count": 10,
   "id": "dde74800",
   "metadata": {},
   "outputs": [
    {
     "name": "stdout",
     "output_type": "stream",
     "text": [
      "+------------+------------+------------+--------------------+-------------------+-------------+----------+------------+-------------+------------+-------------+------------+------------+------------+--------------------+--------------+--------+-----------+------------+------+---------+--------------------+------------+----------+----------+--------------+----------+\n",
      "|rate_plan_id|product_code| customer_id|           record_ID|          timestamp|      cell_id|technology|   caller_id|    callee_id|duration_sec|rating_status|   sender_id| receiver_id|     user_id|session_duration_sec|data_volume_mb|batch_id|record_type|service_type|  unit|rate_type|         description|service_type|unit_price|free_units|tier_threshold|tier_price|\n",
      "+------------+------------+------------+--------------------+-------------------+-------------+----------+------------+-------------+------------+-------------+------------+------------+------------+--------------------+--------------+--------+-----------+------------+------+---------+--------------------+------------+----------+----------+--------------+----------+\n",
      "|      PLAN_C|   VOICE_NAT|212658901536|868c539c-4283-400...|2025-06-01 04:22:17|    MEKNES_01|        4G|212658901536| 212668884253|         294|        ready|        NULL|        NULL|        NULL|                NULL|          NULL|      11|      voice|       voice|minute|     flat|Appel vocal natio...|       voice|     0.008|        10|          NULL|      NULL|\n",
      "|      PLAN_C|   VOICE_NAT|212652067719|74449cd2-c093-4bb...|2025-06-01 05:36:10|    AGADIR_02|        4G|212652067719| 212798154200|         356|        ready|        NULL|        NULL|        NULL|                NULL|          NULL|      15|      voice|       voice|minute|     flat|Appel vocal natio...|       voice|     0.008|        10|          NULL|      NULL|\n",
      "|      PLAN_B|   VOICE_NAT|212646492701|b1dfc166-8841-4a5...|2025-06-01 02:10:55|      TAZA_01|        4G|212646492701| 212744444606|         450|        ready|        NULL|        NULL|        NULL|                NULL|          NULL|       5|      voice|       voice|minute|     flat|Appel vocal natio...|       voice|     0.012|         6|          NULL|      NULL|\n",
      "|      PLAN_B|   VOICE_INT|212646492701|889b1299-4687-40e...|2025-06-01 06:01:42|      TAZA_01|        4G|212646492701|4965098532902|         440|        ready|        NULL|        NULL|        NULL|                NULL|          NULL|      16|      voice|       voice|minute|     flat|Appel vocal inter...|       voice|     0.025|         0|          NULL|      NULL|\n",
      "|      PLAN_C|  DATA_BASIC|212667715696|4e141f40-d80c-492...|2025-06-01 01:25:02|CASABLANCA_03|        3G|        NULL|         NULL|        NULL| needs_review|        NULL|        NULL|212667715696|             inconnu|       1295.18|       3|       data|        data|    MB|     flat|Session Data basi...|        data|     0.018|        20|          NULL|      NULL|\n",
      "|      PLAN_C|DATA_PREMIUM|212680680385|c1b06d5e-0c95-460...|2025-06-01 02:47:20|      inconnu|        4G|        NULL|         NULL|        NULL|        ready|        NULL|        NULL|212680680385|                 156|       1684.81|       7|       data|        data|    MB|   tiered|Session Data prem...|        data|     0.015|        40|          2048|      0.05|\n",
      "|      PLAN_B|   VOICE_NAT|212605918824|a9b5c952-17f6-4f8...|2025-06-01 05:27:39|    DAKHLA_01|        4G|212605918824| 212713149055|         486|        ready|        NULL|        NULL|        NULL|                NULL|          NULL|      15|      voice|       voice|minute|     flat|Appel vocal natio...|       voice|     0.012|         6|          NULL|      NULL|\n",
      "|      PLAN_C|   VOICE_NAT|212664023127|34ef0c3e-d992-4a9...|2025-06-01 01:31:33|  LAAYOUNE_01|        5G|212664023127| 212717333836|         384|        ready|        NULL|        NULL|        NULL|                NULL|          NULL|       3|      voice|       voice|minute|     flat|Appel vocal natio...|       voice|     0.008|        10|          NULL|      NULL|\n",
      "|      PLAN_B|DATA_PREMIUM|212698922773|b61e526b-bab8-494...|2025-06-01 06:21:50|     RABAT_02|        2G|        NULL|         NULL|        NULL|        ready|        NULL|        NULL|212698922773|                 323|          9.33|      18|       data|        data|    MB|   tiered|Session Data prem...|        data|     0.018|        60|          1024|     0.055|\n",
      "|      PLAN_B|   VOICE_INT|212698922773|3a1157c0-2c81-426...|2025-06-01 05:53:31|      TAZA_01|        2G|212698922773| 971905208873|         224|        ready|        NULL|        NULL|        NULL|                NULL|          NULL|      16|      voice|       voice|minute|     flat|Appel vocal inter...|       voice|     0.025|         0|          NULL|      NULL|\n",
      "|      PLAN_C|   VOICE_INT|212671433374|76647f73-d40a-417...|2025-06-01 01:42:51|      inconnu|        2G|212671433374|  34561556408|         278|        ready|        NULL|        NULL|        NULL|                NULL|          NULL|       4|      voice|       voice|minute|     flat|Appel vocal inter...|       voice|     0.018|         0|          NULL|      NULL|\n",
      "|      PLAN_A|  DATA_BASIC|212761832236|7cee1c8b-2feb-46c...|2025-06-01 04:30:56|     NADOR_01|        4G|        NULL|         NULL|        NULL| needs_review|        NULL|        NULL|212761832236|             inconnu|        216.76|      12|       data|        data|    MB|     flat|Session Data basi...|        data|      0.02|        20|          NULL|      NULL|\n",
      "|      PLAN_C|   VOICE_NAT|212643565571|fe683d23-4c46-41e...|2025-06-01 06:16:34|      inconnu|        4G|212643565571| 212707236227|         131|        ready|        NULL|        NULL|        NULL|                NULL|          NULL|      17|      voice|       voice|minute|     flat|Appel vocal natio...|       voice|     0.008|        10|          NULL|      NULL|\n",
      "|      PLAN_C|  DATA_BASIC|212788280911|83ebc052-781a-47b...|2025-06-01 03:10:00|  ELJADIDA_01|        5G|        NULL|         NULL|        NULL|        ready|        NULL|        NULL|212788280911|                 520|       1505.64|       8|       data|        data|    MB|     flat|Session Data basi...|        data|     0.018|        20|          NULL|      NULL|\n",
      "|      PLAN_C|     SMS_NAT|212696130284|418c7afd-bb0a-463...|2025-06-01 01:56:49|    AGADIR_02|        4G|        NULL|         NULL|        NULL|        ready|212696130284|212694759148|        NULL|                NULL|          NULL|       4|        sms|         sms| event|     flat|Envoi SMS standar...|         sms|     0.035|         2|          NULL|      NULL|\n",
      "|      PLAN_A|   VOICE_NAT|212798323701|0f39e283-5d0a-440...|2025-06-01 06:26:26|      inconnu|        4G|212798323701| 212635005747|         378|        ready|        NULL|        NULL|        NULL|                NULL|          NULL|      18|      voice|       voice|minute|     flat|Appel vocal natio...|       voice|      0.01|         5|          NULL|      NULL|\n",
      "|      PLAN_B|   VOICE_NAT|212662936924|54197ab0-a313-42e...|2025-06-01 05:21:59|CASABLANCA_01|        4G|212662936924| 212676025590|         138|        ready|        NULL|        NULL|        NULL|                NULL|          NULL|      14|      voice|       voice|minute|     flat|Appel vocal natio...|       voice|     0.012|         6|          NULL|      NULL|\n",
      "|      PLAN_A|   VOICE_INT|212665963185|b96fc21a-ac4c-427...|2025-06-01 02:27:47|CASABLANCA_02|        3G|212665963185| 441169792613|         276|        ready|        NULL|        NULL|        NULL|                NULL|          NULL|       6|      voice|       voice|minute|     flat|Appel vocal inter...|       voice|      0.02|         0|          NULL|      NULL|\n",
      "|      PLAN_C|  DATA_BASIC|212633839320|038cb179-65ec-4e5...|2025-06-01 03:15:56|     RABAT_02|        4G|        NULL|         NULL|        NULL|        ready|        NULL|        NULL|212633839320|                 233|        913.78|       8|       data|        data|    MB|     flat|Session Data basi...|        data|     0.018|        20|          NULL|      NULL|\n",
      "|      PLAN_A|   VOICE_NAT|212759996520|9708a456-d5b6-430...|2025-06-01 01:28:42|       FES_01|        4G|212759996520|      inconnu|         158|        ready|        NULL|        NULL|        NULL|                NULL|          NULL|       3|      voice|       voice|minute|     flat|Appel vocal natio...|       voice|      0.01|         5|          NULL|      NULL|\n",
      "+------------+------------+------------+--------------------+-------------------+-------------+----------+------------+-------------+------------+-------------+------------+------------+------------+--------------------+--------------+--------+-----------+------------+------+---------+--------------------+------------+----------+----------+--------------+----------+\n",
      "only showing top 20 rows\n",
      "\n"
     ]
    }
   ],
   "source": [
    "cdrs3.show()"
   ]
  },
  {
   "cell_type": "code",
   "execution_count": 11,
   "id": "bd2697ab",
   "metadata": {},
   "outputs": [
    {
     "name": "stdout",
     "output_type": "stream",
     "text": [
      "+------------+------------+------------+--------------------+-------------------+-------------+----------+------------+-------------+------------+-------------+------------+------------+------------+--------------------+--------------+--------+-----------+------+---------+--------------------+----------+----------+--------------+----------+\n",
      "|rate_plan_id|product_code| customer_id|           record_ID|          timestamp|      cell_id|technology|   caller_id|    callee_id|duration_sec|rating_status|   sender_id| receiver_id|     user_id|session_duration_sec|data_volume_mb|batch_id|record_type|  unit|rate_type|         description|unit_price|free_units|tier_threshold|tier_price|\n",
      "+------------+------------+------------+--------------------+-------------------+-------------+----------+------------+-------------+------------+-------------+------------+------------+------------+--------------------+--------------+--------+-----------+------+---------+--------------------+----------+----------+--------------+----------+\n",
      "|      PLAN_C|   VOICE_NAT|212658901536|868c539c-4283-400...|2025-06-01 04:22:17|    MEKNES_01|        4G|212658901536| 212668884253|         294|        ready|        NULL|        NULL|        NULL|                NULL|          NULL|      11|      voice|minute|     flat|Appel vocal natio...|     0.008|        10|          NULL|      NULL|\n",
      "|      PLAN_C|   VOICE_NAT|212652067719|74449cd2-c093-4bb...|2025-06-01 05:36:10|    AGADIR_02|        4G|212652067719| 212798154200|         356|        ready|        NULL|        NULL|        NULL|                NULL|          NULL|      15|      voice|minute|     flat|Appel vocal natio...|     0.008|        10|          NULL|      NULL|\n",
      "|      PLAN_B|   VOICE_NAT|212646492701|b1dfc166-8841-4a5...|2025-06-01 02:10:55|      TAZA_01|        4G|212646492701| 212744444606|         450|        ready|        NULL|        NULL|        NULL|                NULL|          NULL|       5|      voice|minute|     flat|Appel vocal natio...|     0.012|         6|          NULL|      NULL|\n",
      "|      PLAN_B|   VOICE_INT|212646492701|889b1299-4687-40e...|2025-06-01 06:01:42|      TAZA_01|        4G|212646492701|4965098532902|         440|        ready|        NULL|        NULL|        NULL|                NULL|          NULL|      16|      voice|minute|     flat|Appel vocal inter...|     0.025|         0|          NULL|      NULL|\n",
      "|      PLAN_C|  DATA_BASIC|212667715696|4e141f40-d80c-492...|2025-06-01 01:25:02|CASABLANCA_03|        3G|        NULL|         NULL|        NULL| needs_review|        NULL|        NULL|212667715696|             inconnu|       1295.18|       3|       data|    MB|     flat|Session Data basi...|     0.018|        20|          NULL|      NULL|\n",
      "|      PLAN_C|DATA_PREMIUM|212680680385|c1b06d5e-0c95-460...|2025-06-01 02:47:20|      inconnu|        4G|        NULL|         NULL|        NULL|        ready|        NULL|        NULL|212680680385|                 156|       1684.81|       7|       data|    MB|   tiered|Session Data prem...|     0.015|        40|          2048|      0.05|\n",
      "|      PLAN_B|   VOICE_NAT|212605918824|a9b5c952-17f6-4f8...|2025-06-01 05:27:39|    DAKHLA_01|        4G|212605918824| 212713149055|         486|        ready|        NULL|        NULL|        NULL|                NULL|          NULL|      15|      voice|minute|     flat|Appel vocal natio...|     0.012|         6|          NULL|      NULL|\n",
      "|      PLAN_C|   VOICE_NAT|212664023127|34ef0c3e-d992-4a9...|2025-06-01 01:31:33|  LAAYOUNE_01|        5G|212664023127| 212717333836|         384|        ready|        NULL|        NULL|        NULL|                NULL|          NULL|       3|      voice|minute|     flat|Appel vocal natio...|     0.008|        10|          NULL|      NULL|\n",
      "|      PLAN_B|DATA_PREMIUM|212698922773|b61e526b-bab8-494...|2025-06-01 06:21:50|     RABAT_02|        2G|        NULL|         NULL|        NULL|        ready|        NULL|        NULL|212698922773|                 323|          9.33|      18|       data|    MB|   tiered|Session Data prem...|     0.018|        60|          1024|     0.055|\n",
      "|      PLAN_B|   VOICE_INT|212698922773|3a1157c0-2c81-426...|2025-06-01 05:53:31|      TAZA_01|        2G|212698922773| 971905208873|         224|        ready|        NULL|        NULL|        NULL|                NULL|          NULL|      16|      voice|minute|     flat|Appel vocal inter...|     0.025|         0|          NULL|      NULL|\n",
      "|      PLAN_C|   VOICE_INT|212671433374|76647f73-d40a-417...|2025-06-01 01:42:51|      inconnu|        2G|212671433374|  34561556408|         278|        ready|        NULL|        NULL|        NULL|                NULL|          NULL|       4|      voice|minute|     flat|Appel vocal inter...|     0.018|         0|          NULL|      NULL|\n",
      "|      PLAN_A|  DATA_BASIC|212761832236|7cee1c8b-2feb-46c...|2025-06-01 04:30:56|     NADOR_01|        4G|        NULL|         NULL|        NULL| needs_review|        NULL|        NULL|212761832236|             inconnu|        216.76|      12|       data|    MB|     flat|Session Data basi...|      0.02|        20|          NULL|      NULL|\n",
      "|      PLAN_C|   VOICE_NAT|212643565571|fe683d23-4c46-41e...|2025-06-01 06:16:34|      inconnu|        4G|212643565571| 212707236227|         131|        ready|        NULL|        NULL|        NULL|                NULL|          NULL|      17|      voice|minute|     flat|Appel vocal natio...|     0.008|        10|          NULL|      NULL|\n",
      "|      PLAN_C|  DATA_BASIC|212788280911|83ebc052-781a-47b...|2025-06-01 03:10:00|  ELJADIDA_01|        5G|        NULL|         NULL|        NULL|        ready|        NULL|        NULL|212788280911|                 520|       1505.64|       8|       data|    MB|     flat|Session Data basi...|     0.018|        20|          NULL|      NULL|\n",
      "|      PLAN_C|     SMS_NAT|212696130284|418c7afd-bb0a-463...|2025-06-01 01:56:49|    AGADIR_02|        4G|        NULL|         NULL|        NULL|        ready|212696130284|212694759148|        NULL|                NULL|          NULL|       4|        sms| event|     flat|Envoi SMS standar...|     0.035|         2|          NULL|      NULL|\n",
      "|      PLAN_A|   VOICE_NAT|212798323701|0f39e283-5d0a-440...|2025-06-01 06:26:26|      inconnu|        4G|212798323701| 212635005747|         378|        ready|        NULL|        NULL|        NULL|                NULL|          NULL|      18|      voice|minute|     flat|Appel vocal natio...|      0.01|         5|          NULL|      NULL|\n",
      "|      PLAN_B|   VOICE_NAT|212662936924|54197ab0-a313-42e...|2025-06-01 05:21:59|CASABLANCA_01|        4G|212662936924| 212676025590|         138|        ready|        NULL|        NULL|        NULL|                NULL|          NULL|      14|      voice|minute|     flat|Appel vocal natio...|     0.012|         6|          NULL|      NULL|\n",
      "|      PLAN_A|   VOICE_INT|212665963185|b96fc21a-ac4c-427...|2025-06-01 02:27:47|CASABLANCA_02|        3G|212665963185| 441169792613|         276|        ready|        NULL|        NULL|        NULL|                NULL|          NULL|       6|      voice|minute|     flat|Appel vocal inter...|      0.02|         0|          NULL|      NULL|\n",
      "|      PLAN_C|  DATA_BASIC|212633839320|038cb179-65ec-4e5...|2025-06-01 03:15:56|     RABAT_02|        4G|        NULL|         NULL|        NULL|        ready|        NULL|        NULL|212633839320|                 233|        913.78|       8|       data|    MB|     flat|Session Data basi...|     0.018|        20|          NULL|      NULL|\n",
      "|      PLAN_A|   VOICE_NAT|212759996520|9708a456-d5b6-430...|2025-06-01 01:28:42|       FES_01|        4G|212759996520|      inconnu|         158|        ready|        NULL|        NULL|        NULL|                NULL|          NULL|       3|      voice|minute|     flat|Appel vocal natio...|      0.01|         5|          NULL|      NULL|\n",
      "+------------+------------+------------+--------------------+-------------------+-------------+----------+------------+-------------+------------+-------------+------------+------------+------------+--------------------+--------------+--------+-----------+------+---------+--------------------+----------+----------+--------------+----------+\n",
      "only showing top 20 rows\n",
      "\n"
     ]
    }
   ],
   "source": [
    "cdrs3=cdrs3.drop(\"service_type\")\n",
    "cdrs3.show()"
   ]
  },
  {
   "cell_type": "code",
   "execution_count": 12,
   "id": "a1b07d59",
   "metadata": {},
   "outputs": [],
   "source": [
    "from pyspark.sql.functions import col, min as spark_min\n",
    "\n",
    "agg = (cdrs3\n",
    "       .filter(col(\"record_type\") == \"data\")\n",
    "       .groupBy(\"customer_id\")\n",
    "       .agg(\n",
    "           spark_min(\"data_volume_mb\")\n",
    "           .alias(\"user_min_mb\")\n",
    "       )\n",
    ")\n",
    "\n",
    "cdrs4 = cdrs3.join(agg, on=\"customer_id\", how=\"left\")"
   ]
  },
  {
   "cell_type": "code",
   "execution_count": 13,
   "id": "31aa9336",
   "metadata": {},
   "outputs": [
    {
     "name": "stdout",
     "output_type": "stream",
     "text": [
      "+------------+------------+------------+--------------------+-------------------+-------------+----------+------------+-------------+------------+-------------+------------+------------+------------+--------------------+--------------+--------+-----------+------+---------+--------------------+----------+----------+--------------+----------+-----------+\n",
      "| customer_id|rate_plan_id|product_code|           record_ID|          timestamp|      cell_id|technology|   caller_id|    callee_id|duration_sec|rating_status|   sender_id| receiver_id|     user_id|session_duration_sec|data_volume_mb|batch_id|record_type|  unit|rate_type|         description|unit_price|free_units|tier_threshold|tier_price|user_min_mb|\n",
      "+------------+------------+------------+--------------------+-------------------+-------------+----------+------------+-------------+------------+-------------+------------+------------+------------+--------------------+--------------+--------+-----------+------+---------+--------------------+----------+----------+--------------+----------+-----------+\n",
      "|212798323701|      PLAN_A|   VOICE_NAT|0f39e283-5d0a-440...|2025-06-01 06:26:26|      inconnu|        4G|212798323701| 212635005747|         378|        ready|        NULL|        NULL|        NULL|                NULL|          NULL|      18|      voice|minute|     flat|Appel vocal natio...|      0.01|         5|          NULL|      NULL|       NULL|\n",
      "|212662936924|      PLAN_B|   VOICE_NAT|54197ab0-a313-42e...|2025-06-01 05:21:59|CASABLANCA_01|        4G|212662936924| 212676025590|         138|        ready|        NULL|        NULL|        NULL|                NULL|          NULL|      14|      voice|minute|     flat|Appel vocal natio...|     0.012|         6|          NULL|      NULL|       NULL|\n",
      "|212667715696|      PLAN_C|  DATA_BASIC|4e141f40-d80c-492...|2025-06-01 01:25:02|CASABLANCA_03|        3G|        NULL|         NULL|        NULL| needs_review|        NULL|        NULL|212667715696|             inconnu|       1295.18|       3|       data|    MB|     flat|Session Data basi...|     0.018|        20|          NULL|      NULL|    1295.18|\n",
      "|212788280911|      PLAN_C|  DATA_BASIC|83ebc052-781a-47b...|2025-06-01 03:10:00|  ELJADIDA_01|        5G|        NULL|         NULL|        NULL|        ready|        NULL|        NULL|212788280911|                 520|       1505.64|       8|       data|    MB|     flat|Session Data basi...|     0.018|        20|          NULL|      NULL|    1505.64|\n",
      "|212696130284|      PLAN_C|     SMS_NAT|418c7afd-bb0a-463...|2025-06-01 01:56:49|    AGADIR_02|        4G|        NULL|         NULL|        NULL|        ready|212696130284|212694759148|        NULL|                NULL|          NULL|       4|        sms| event|     flat|Envoi SMS standar...|     0.035|         2|          NULL|      NULL|       NULL|\n",
      "|212665963185|      PLAN_A|   VOICE_INT|b96fc21a-ac4c-427...|2025-06-01 02:27:47|CASABLANCA_02|        3G|212665963185| 441169792613|         276|        ready|        NULL|        NULL|        NULL|                NULL|          NULL|       6|      voice|minute|     flat|Appel vocal inter...|      0.02|         0|          NULL|      NULL|       NULL|\n",
      "|212761832236|      PLAN_A|  DATA_BASIC|7cee1c8b-2feb-46c...|2025-06-01 04:30:56|     NADOR_01|        4G|        NULL|         NULL|        NULL| needs_review|        NULL|        NULL|212761832236|             inconnu|        216.76|      12|       data|    MB|     flat|Session Data basi...|      0.02|        20|          NULL|      NULL|     216.76|\n",
      "|212605918824|      PLAN_B|   VOICE_NAT|a9b5c952-17f6-4f8...|2025-06-01 05:27:39|    DAKHLA_01|        4G|212605918824| 212713149055|         486|        ready|        NULL|        NULL|        NULL|                NULL|          NULL|      15|      voice|minute|     flat|Appel vocal natio...|     0.012|         6|          NULL|      NULL|       NULL|\n",
      "|212658901536|      PLAN_C|   VOICE_NAT|868c539c-4283-400...|2025-06-01 04:22:17|    MEKNES_01|        4G|212658901536| 212668884253|         294|        ready|        NULL|        NULL|        NULL|                NULL|          NULL|      11|      voice|minute|     flat|Appel vocal natio...|     0.008|        10|          NULL|      NULL|       NULL|\n",
      "|212643565571|      PLAN_C|   VOICE_NAT|fe683d23-4c46-41e...|2025-06-01 06:16:34|      inconnu|        4G|212643565571| 212707236227|         131|        ready|        NULL|        NULL|        NULL|                NULL|          NULL|      17|      voice|minute|     flat|Appel vocal natio...|     0.008|        10|          NULL|      NULL|       NULL|\n",
      "|212633839320|      PLAN_C|  DATA_BASIC|038cb179-65ec-4e5...|2025-06-01 03:15:56|     RABAT_02|        4G|        NULL|         NULL|        NULL|        ready|        NULL|        NULL|212633839320|                 233|        913.78|       8|       data|    MB|     flat|Session Data basi...|     0.018|        20|          NULL|      NULL|     913.78|\n",
      "|212664023127|      PLAN_C|   VOICE_NAT|34ef0c3e-d992-4a9...|2025-06-01 01:31:33|  LAAYOUNE_01|        5G|212664023127| 212717333836|         384|        ready|        NULL|        NULL|        NULL|                NULL|          NULL|       3|      voice|minute|     flat|Appel vocal natio...|     0.008|        10|          NULL|      NULL|       NULL|\n",
      "|212646492701|      PLAN_B|   VOICE_NAT|b1dfc166-8841-4a5...|2025-06-01 02:10:55|      TAZA_01|        4G|212646492701| 212744444606|         450|        ready|        NULL|        NULL|        NULL|                NULL|          NULL|       5|      voice|minute|     flat|Appel vocal natio...|     0.012|         6|          NULL|      NULL|       NULL|\n",
      "|212646492701|      PLAN_B|   VOICE_INT|889b1299-4687-40e...|2025-06-01 06:01:42|      TAZA_01|        4G|212646492701|4965098532902|         440|        ready|        NULL|        NULL|        NULL|                NULL|          NULL|      16|      voice|minute|     flat|Appel vocal inter...|     0.025|         0|          NULL|      NULL|       NULL|\n",
      "|212652067719|      PLAN_C|   VOICE_NAT|74449cd2-c093-4bb...|2025-06-01 05:36:10|    AGADIR_02|        4G|212652067719| 212798154200|         356|        ready|        NULL|        NULL|        NULL|                NULL|          NULL|      15|      voice|minute|     flat|Appel vocal natio...|     0.008|        10|          NULL|      NULL|       NULL|\n",
      "|212698922773|      PLAN_B|DATA_PREMIUM|b61e526b-bab8-494...|2025-06-01 06:21:50|     RABAT_02|        2G|        NULL|         NULL|        NULL|        ready|        NULL|        NULL|212698922773|                 323|          9.33|      18|       data|    MB|   tiered|Session Data prem...|     0.018|        60|          1024|     0.055|       9.33|\n",
      "|212698922773|      PLAN_B|   VOICE_INT|3a1157c0-2c81-426...|2025-06-01 05:53:31|      TAZA_01|        2G|212698922773| 971905208873|         224|        ready|        NULL|        NULL|        NULL|                NULL|          NULL|      16|      voice|minute|     flat|Appel vocal inter...|     0.025|         0|          NULL|      NULL|       9.33|\n",
      "|212759996520|      PLAN_A|   VOICE_NAT|9708a456-d5b6-430...|2025-06-01 01:28:42|       FES_01|        4G|212759996520|      inconnu|         158|        ready|        NULL|        NULL|        NULL|                NULL|          NULL|       3|      voice|minute|     flat|Appel vocal natio...|      0.01|         5|          NULL|      NULL|       NULL|\n",
      "|212759996520|      PLAN_A|   VOICE_NAT|6a74e440-c1a3-429...|2025-06-01 04:23:00|    TANGER_03|        4G|212759996520| 212645399309|         560|        ready|        NULL|        NULL|        NULL|                NULL|          NULL|      11|      voice|minute|     flat|Appel vocal natio...|      0.01|         5|          NULL|      NULL|       NULL|\n",
      "|212680680385|      PLAN_C|DATA_PREMIUM|c1b06d5e-0c95-460...|2025-06-01 02:47:20|      inconnu|        4G|        NULL|         NULL|        NULL|        ready|        NULL|        NULL|212680680385|                 156|       1684.81|       7|       data|    MB|   tiered|Session Data prem...|     0.015|        40|          2048|      0.05|    1684.81|\n",
      "+------------+------------+------------+--------------------+-------------------+-------------+----------+------------+-------------+------------+-------------+------------+------------+------------+--------------------+--------------+--------+-----------+------+---------+--------------------+----------+----------+--------------+----------+-----------+\n",
      "only showing top 20 rows\n",
      "\n"
     ]
    }
   ],
   "source": [
    "cdrs4.show()"
   ]
  },
  {
   "cell_type": "code",
   "execution_count": 14,
   "id": "95afade2",
   "metadata": {},
   "outputs": [],
   "source": [
    "cdrs4 = cdrs4.withColumn(\n",
    "    \"data_volume_mb\",\n",
    "    when( (col(\"data_volume_mb\")==\"inconnu\"), col(\"user_min_mb\"))\n",
    "    .otherwise(col(\"data_volume_mb\"))\n",
    ")"
   ]
  },
  {
   "cell_type": "code",
   "execution_count": 15,
   "id": "1767020d",
   "metadata": {},
   "outputs": [],
   "source": [
    "cdrs4 = cdrs4.withColumn(\n",
    "    \"data_volume_mb\",\n",
    "    when( ((col(\"user_min_mb\")==\"inconnu\") &(col(\"data_volume_mb\")==\"inconnu\")), lit(0)).otherwise(col(\"data_volume_mb\")))"
   ]
  },
  {
   "cell_type": "code",
   "execution_count": 16,
   "id": "0c150671",
   "metadata": {},
   "outputs": [],
   "source": [
    "cdrs4 = cdrs4.withColumn(\n",
    "    \"rating_status\",\n",
    "    when((col(\"rating_status\")==\"needs_review\")&(col(\"data_volume_mb\")==\"inconnu\"), \"unmatched\").otherwise(col(\"rating_status\"))\n",
    ")"
   ]
  },
  {
   "cell_type": "code",
   "execution_count": 17,
   "id": "4e867c4a",
   "metadata": {},
   "outputs": [],
   "source": [
    "cdrs4 = cdrs4.withColumn(\n",
    "    \"rating_status\",\n",
    "    when((col(\"rating_status\")==\"needs_review\"), \"ready\").otherwise(col(\"rating_status\"))\n",
    ")"
   ]
  },
  {
   "cell_type": "code",
   "execution_count": 18,
   "id": "ceac3ad1",
   "metadata": {},
   "outputs": [
    {
     "name": "stdout",
     "output_type": "stream",
     "text": [
      "+------------+------------+------------+--------------------+-------------------+-------------+----------+------------+------------+------------+-------------+------------+------------+------------+--------------------+--------------+--------+-----------+------+---------+--------------------+----------+----------+--------------+----------+-----------+\n",
      "| customer_id|rate_plan_id|product_code|           record_ID|          timestamp|      cell_id|technology|   caller_id|   callee_id|duration_sec|rating_status|   sender_id| receiver_id|     user_id|session_duration_sec|data_volume_mb|batch_id|record_type|  unit|rate_type|         description|unit_price|free_units|tier_threshold|tier_price|user_min_mb|\n",
      "+------------+------------+------------+--------------------+-------------------+-------------+----------+------------+------------+------------+-------------+------------+------------+------------+--------------------+--------------+--------+-----------+------+---------+--------------------+----------+----------+--------------+----------+-----------+\n",
      "|212668884253|      PLAN_A|  DATA_BASIC|96af330e-77c2-48f...|2025-06-01 03:49:21|CASABLANCA_03|        5G|        NULL|        NULL|        NULL|        ready|        NULL|        NULL|212668884253|                 234|       1870.31|      10|       data|    MB|     flat|Session Data basi...|      0.02|        20|          NULL|      NULL|    1870.31|\n",
      "|212688471605|      PLAN_C|   VOICE_NAT|d63fac77-d085-43f...|2025-06-01 06:19:39| MARRAKECH_02|        3G|212688471605|212750895297|         285|        ready|        NULL|        NULL|        NULL|                NULL|          NULL|      17|      voice|minute|     flat|Appel vocal natio...|     0.008|        10|          NULL|      NULL|       NULL|\n",
      "|212791719863|      PLAN_C|   VOICE_NAT|05b4d747-47fc-439...|2025-06-01 01:08:02|     OUJDA_01|        4G|212791719863|212736864154|         557|        ready|        NULL|        NULL|        NULL|                NULL|          NULL|       2|      voice|minute|     flat|Appel vocal natio...|     0.008|        10|          NULL|      NULL|       NULL|\n",
      "|212635113323|      PLAN_A|   VOICE_NAT|f91826d8-ffeb-435...|2025-06-01 02:56:48|      inconnu|        4G|212635113323|212752178182|          60|        ready|        NULL|        NULL|        NULL|                NULL|          NULL|       8|      voice|minute|     flat|Appel vocal natio...|      0.01|         5|          NULL|      NULL|       NULL|\n",
      "|212798323701|      PLAN_A|   VOICE_NAT|0f39e283-5d0a-440...|2025-06-01 06:26:26|      inconnu|        4G|212798323701|212635005747|         378|        ready|        NULL|        NULL|        NULL|                NULL|          NULL|      18|      voice|minute|     flat|Appel vocal natio...|      0.01|         5|          NULL|      NULL|       NULL|\n",
      "|212694887704|      PLAN_C|   VOICE_NAT|a6320a81-75ca-4e6...|2025-06-01 04:01:22|       FES_01|        3G|212694887704|212673237006|         406|        ready|        NULL|        NULL|        NULL|                NULL|          NULL|      10|      voice|minute|     flat|Appel vocal natio...|     0.008|        10|          NULL|      NULL|       NULL|\n",
      "|212703276390|      PLAN_B|   VOICE_NAT|8a32d54d-62ec-46f...|2025-06-01 02:53:33|     RABAT_02|        4G|212703276390|212682271319|         494|        ready|        NULL|        NULL|        NULL|                NULL|          NULL|       7|      voice|minute|     flat|Appel vocal natio...|     0.012|         6|          NULL|      NULL|       NULL|\n",
      "|212688120480|      PLAN_C|   VOICE_INT|41d6bf5b-407b-473...|2025-06-01 01:54:52|    TANGER_01|        2G|212688120480|971272739207|         526|        ready|        NULL|        NULL|        NULL|                NULL|          NULL|       4|      voice|minute|     flat|Appel vocal inter...|     0.018|         0|          NULL|      NULL|    inconnu|\n",
      "|212688120480|      PLAN_C|  DATA_BASIC|76ed5ce0-bf11-49c...|2025-06-01 05:14:41|      inconnu|        4G|        NULL|        NULL|        NULL|        ready|        NULL|        NULL|212688120480|                 139|             0|      14|       data|    MB|     flat|Session Data basi...|     0.018|        20|          NULL|      NULL|    inconnu|\n",
      "|212684990378|      PLAN_C|   VOICE_NAT|a663281d-7734-4db...|2025-06-01 04:02:36|CASABLANCA_01|        5G|212684990378|212633593932|         157|        ready|        NULL|        NULL|        NULL|                NULL|          NULL|      10|      voice|minute|     flat|Appel vocal natio...|     0.008|        10|          NULL|      NULL|       NULL|\n",
      "|212662936924|      PLAN_B|   VOICE_NAT|54197ab0-a313-42e...|2025-06-01 05:21:59|CASABLANCA_01|        4G|212662936924|212676025590|         138|        ready|        NULL|        NULL|        NULL|                NULL|          NULL|      14|      voice|minute|     flat|Appel vocal natio...|     0.012|         6|          NULL|      NULL|       NULL|\n",
      "|212792223109|      PLAN_C|     SMS_NAT|afb8bd86-5cdf-42a...|2025-06-01 00:47:47|   TETOUAN_01|        5G|        NULL|        NULL|        NULL|        ready|212792223109|     inconnu|        NULL|                NULL|          NULL|       1|        sms| event|     flat|Envoi SMS standar...|     0.035|         2|          NULL|      NULL|       NULL|\n",
      "|212792223109|      PLAN_C|   VOICE_NAT|a4d8111d-cb2b-467...|2025-06-01 05:59:31|     RABAT_02|        5G|212792223109|     inconnu|         455|        ready|        NULL|        NULL|        NULL|                NULL|          NULL|      16|      voice|minute|     flat|Appel vocal natio...|     0.008|        10|          NULL|      NULL|       NULL|\n",
      "|212784783590|      PLAN_C|     SMS_NAT|f066742b-5e29-4b0...|2025-06-01 02:40:02|     RABAT_03|        4G|        NULL|        NULL|        NULL|        ready|212784783590|212731394047|        NULL|                NULL|          NULL|       7|        sms| event|     flat|Envoi SMS standar...|     0.035|         2|          NULL|      NULL|       NULL|\n",
      "|212683014733|      PLAN_A|  DATA_BASIC|8fc28801-3863-43c...|2025-06-01 01:45:31|CASABLANCA_04|        3G|        NULL|        NULL|        NULL|        ready|        NULL|        NULL|212683014733|                 128|        573.76|       4|       data|    MB|     flat|Session Data basi...|      0.02|        20|          NULL|      NULL|     573.76|\n",
      "|212611292364|      PLAN_A|   VOICE_INT|618e6671-70c8-4ea...|2025-06-01 04:10:34|    AGADIR_02|        5G|212611292364| 10295913378|         436|        ready|        NULL|        NULL|        NULL|                NULL|          NULL|      11|      voice|minute|     flat|Appel vocal inter...|      0.02|         0|          NULL|      NULL|       NULL|\n",
      "|212722439922|      PLAN_C|   VOICE_NAT|4486c45d-8e32-47a...|2025-06-01 04:53:14|    AGADIR_01|        5G|212722439922|212766462242|         196|        ready|        NULL|        NULL|        NULL|                NULL|          NULL|      13|      voice|minute|     flat|Appel vocal natio...|     0.008|        10|          NULL|      NULL|       NULL|\n",
      "|212778559034|      PLAN_C|  DATA_BASIC|09f2563c-b5dd-40e...|2025-06-01 03:19:25|      SAFI_01|        5G|        NULL|        NULL|        NULL|        ready|        NULL|        NULL|212778559034|                 476|       1558.06|       9|       data|    MB|     flat|Session Data basi...|     0.018|        20|          NULL|      NULL|    1558.06|\n",
      "|212787457610|      PLAN_A|   VOICE_NAT|b67962af-3c36-402...|2025-06-01 02:03:03|      inconnu|        4G|212787457610|212642449800|         314|        ready|        NULL|        NULL|        NULL|                NULL|          NULL|       5|      voice|minute|     flat|Appel vocal natio...|      0.01|         5|          NULL|      NULL|       NULL|\n",
      "|212606958022|      PLAN_B|  DATA_BASIC|bae6fa6b-f206-474...|2025-06-01 01:58:41|    MEKNES_02|        4G|        NULL|        NULL|        NULL|        ready|        NULL|        NULL|212606958022|                 471|       1382.49|       4|       data|    MB|     flat|Session Data basi...|     0.022|        25|          NULL|      NULL|    1382.49|\n",
      "+------------+------------+------------+--------------------+-------------------+-------------+----------+------------+------------+------------+-------------+------------+------------+------------+--------------------+--------------+--------+-----------+------+---------+--------------------+----------+----------+--------------+----------+-----------+\n",
      "only showing top 20 rows\n",
      "\n"
     ]
    }
   ],
   "source": [
    "cdrsss=cdrs4.filter(cdrs4.rating_status == \"ready\")\n",
    "cdrsss.show()"
   ]
  },
  {
   "cell_type": "code",
   "execution_count": 19,
   "id": "94a9c421",
   "metadata": {},
   "outputs": [
    {
     "name": "stdout",
     "output_type": "stream",
     "text": [
      "+------------+------------+------------+--------------------+-------------------+-------------+----------+------------+------------+------------+-------------+------------+------------+------------+--------------------+--------------+--------+-----------+------+---------+--------------------+----------+----------+--------------+----------+-----------+\n",
      "| customer_id|rate_plan_id|product_code|           record_ID|          timestamp|      cell_id|technology|   caller_id|   callee_id|duration_sec|rating_status|   sender_id| receiver_id|     user_id|session_duration_sec|data_volume_mb|batch_id|record_type|  unit|rate_type|         description|unit_price|free_units|tier_threshold|tier_price|user_min_mb|\n",
      "+------------+------------+------------+--------------------+-------------------+-------------+----------+------------+------------+------------+-------------+------------+------------+------------+--------------------+--------------+--------+-----------+------+---------+--------------------+----------+----------+--------------+----------+-----------+\n",
      "|212668884253|      PLAN_A|  DATA_BASIC|96af330e-77c2-48f...|2025-06-01 03:49:21|CASABLANCA_03|        5G|        NULL|        NULL|        NULL|        ready|        NULL|        NULL|212668884253|                 234|       1870.31|      10|       data|    MB|     flat|Session Data basi...|      0.02|        20|          NULL|      NULL|    1870.31|\n",
      "|212688471605|      PLAN_C|   VOICE_NAT|d63fac77-d085-43f...|2025-06-01 06:19:39| MARRAKECH_02|        3G|212688471605|212750895297|         285|        ready|        NULL|        NULL|        NULL|                NULL|          NULL|      17|      voice|minute|     flat|Appel vocal natio...|     0.008|        10|          NULL|      NULL|       NULL|\n",
      "|212791719863|      PLAN_C|   VOICE_NAT|05b4d747-47fc-439...|2025-06-01 01:08:02|     OUJDA_01|        4G|212791719863|212736864154|         557|        ready|        NULL|        NULL|        NULL|                NULL|          NULL|       2|      voice|minute|     flat|Appel vocal natio...|     0.008|        10|          NULL|      NULL|       NULL|\n",
      "|212635113323|      PLAN_A|   VOICE_NAT|f91826d8-ffeb-435...|2025-06-01 02:56:48|      inconnu|        4G|212635113323|212752178182|          60|        ready|        NULL|        NULL|        NULL|                NULL|          NULL|       8|      voice|minute|     flat|Appel vocal natio...|      0.01|         5|          NULL|      NULL|       NULL|\n",
      "|212798323701|      PLAN_A|   VOICE_NAT|0f39e283-5d0a-440...|2025-06-01 06:26:26|      inconnu|        4G|212798323701|212635005747|         378|        ready|        NULL|        NULL|        NULL|                NULL|          NULL|      18|      voice|minute|     flat|Appel vocal natio...|      0.01|         5|          NULL|      NULL|       NULL|\n",
      "|212694887704|      PLAN_C|   VOICE_NAT|a6320a81-75ca-4e6...|2025-06-01 04:01:22|       FES_01|        3G|212694887704|212673237006|         406|        ready|        NULL|        NULL|        NULL|                NULL|          NULL|      10|      voice|minute|     flat|Appel vocal natio...|     0.008|        10|          NULL|      NULL|       NULL|\n",
      "|212703276390|      PLAN_B|   VOICE_NAT|8a32d54d-62ec-46f...|2025-06-01 02:53:33|     RABAT_02|        4G|212703276390|212682271319|         494|        ready|        NULL|        NULL|        NULL|                NULL|          NULL|       7|      voice|minute|     flat|Appel vocal natio...|     0.012|         6|          NULL|      NULL|       NULL|\n",
      "|212688120480|      PLAN_C|   VOICE_INT|41d6bf5b-407b-473...|2025-06-01 01:54:52|    TANGER_01|        2G|212688120480|971272739207|         526|        ready|        NULL|        NULL|        NULL|                NULL|          NULL|       4|      voice|minute|     flat|Appel vocal inter...|     0.018|         0|          NULL|      NULL|    inconnu|\n",
      "|212688120480|      PLAN_C|  DATA_BASIC|76ed5ce0-bf11-49c...|2025-06-01 05:14:41|      inconnu|        4G|        NULL|        NULL|        NULL|        ready|        NULL|        NULL|212688120480|                 139|             0|      14|       data|    MB|     flat|Session Data basi...|     0.018|        20|          NULL|      NULL|    inconnu|\n",
      "|212684990378|      PLAN_C|   VOICE_NAT|a663281d-7734-4db...|2025-06-01 04:02:36|CASABLANCA_01|        5G|212684990378|212633593932|         157|        ready|        NULL|        NULL|        NULL|                NULL|          NULL|      10|      voice|minute|     flat|Appel vocal natio...|     0.008|        10|          NULL|      NULL|       NULL|\n",
      "|212662936924|      PLAN_B|   VOICE_NAT|54197ab0-a313-42e...|2025-06-01 05:21:59|CASABLANCA_01|        4G|212662936924|212676025590|         138|        ready|        NULL|        NULL|        NULL|                NULL|          NULL|      14|      voice|minute|     flat|Appel vocal natio...|     0.012|         6|          NULL|      NULL|       NULL|\n",
      "|212792223109|      PLAN_C|     SMS_NAT|afb8bd86-5cdf-42a...|2025-06-01 00:47:47|   TETOUAN_01|        5G|        NULL|        NULL|        NULL|        ready|212792223109|     inconnu|        NULL|                NULL|          NULL|       1|        sms| event|     flat|Envoi SMS standar...|     0.035|         2|          NULL|      NULL|       NULL|\n",
      "|212792223109|      PLAN_C|   VOICE_NAT|a4d8111d-cb2b-467...|2025-06-01 05:59:31|     RABAT_02|        5G|212792223109|     inconnu|         455|        ready|        NULL|        NULL|        NULL|                NULL|          NULL|      16|      voice|minute|     flat|Appel vocal natio...|     0.008|        10|          NULL|      NULL|       NULL|\n",
      "|212784783590|      PLAN_C|     SMS_NAT|f066742b-5e29-4b0...|2025-06-01 02:40:02|     RABAT_03|        4G|        NULL|        NULL|        NULL|        ready|212784783590|212731394047|        NULL|                NULL|          NULL|       7|        sms| event|     flat|Envoi SMS standar...|     0.035|         2|          NULL|      NULL|       NULL|\n",
      "|212683014733|      PLAN_A|  DATA_BASIC|8fc28801-3863-43c...|2025-06-01 01:45:31|CASABLANCA_04|        3G|        NULL|        NULL|        NULL|        ready|        NULL|        NULL|212683014733|                 128|        573.76|       4|       data|    MB|     flat|Session Data basi...|      0.02|        20|          NULL|      NULL|     573.76|\n",
      "|212611292364|      PLAN_A|   VOICE_INT|618e6671-70c8-4ea...|2025-06-01 04:10:34|    AGADIR_02|        5G|212611292364| 10295913378|         436|        ready|        NULL|        NULL|        NULL|                NULL|          NULL|      11|      voice|minute|     flat|Appel vocal inter...|      0.02|         0|          NULL|      NULL|       NULL|\n",
      "|212722439922|      PLAN_C|   VOICE_NAT|4486c45d-8e32-47a...|2025-06-01 04:53:14|    AGADIR_01|        5G|212722439922|212766462242|         196|        ready|        NULL|        NULL|        NULL|                NULL|          NULL|      13|      voice|minute|     flat|Appel vocal natio...|     0.008|        10|          NULL|      NULL|       NULL|\n",
      "|212778559034|      PLAN_C|  DATA_BASIC|09f2563c-b5dd-40e...|2025-06-01 03:19:25|      SAFI_01|        5G|        NULL|        NULL|        NULL|        ready|        NULL|        NULL|212778559034|                 476|       1558.06|       9|       data|    MB|     flat|Session Data basi...|     0.018|        20|          NULL|      NULL|    1558.06|\n",
      "|212787457610|      PLAN_A|   VOICE_NAT|b67962af-3c36-402...|2025-06-01 02:03:03|      inconnu|        4G|212787457610|212642449800|         314|        ready|        NULL|        NULL|        NULL|                NULL|          NULL|       5|      voice|minute|     flat|Appel vocal natio...|      0.01|         5|          NULL|      NULL|       NULL|\n",
      "|212606958022|      PLAN_B|  DATA_BASIC|bae6fa6b-f206-474...|2025-06-01 01:58:41|    MEKNES_02|        4G|        NULL|        NULL|        NULL|        ready|        NULL|        NULL|212606958022|                 471|       1382.49|       4|       data|    MB|     flat|Session Data basi...|     0.022|        25|          NULL|      NULL|    1382.49|\n",
      "+------------+------------+------------+--------------------+-------------------+-------------+----------+------------+------------+------------+-------------+------------+------------+------------+--------------------+--------------+--------+-----------+------+---------+--------------------+----------+----------+--------------+----------+-----------+\n",
      "only showing top 20 rows\n",
      "\n"
     ]
    }
   ],
   "source": [
    "cdrs4.show()"
   ]
  },
  {
   "cell_type": "code",
   "execution_count": 20,
   "id": "f90936d6",
   "metadata": {},
   "outputs": [],
   "source": [
    "cdrs4 = cdrs4.withColumn(\n",
    "    \"session_duration_sec\",\n",
    "    when((col(\"session_duration_sec\").isNull() | (col(\"session_duration_sec\") < 0))&(col(\"record_type\")==\"data\"), lit(0))\n",
    "    .otherwise(col(\"session_duration_sec\"))\n",
    ")"
   ]
  },
  {
   "cell_type": "code",
   "execution_count": 21,
   "id": "bb662ace",
   "metadata": {},
   "outputs": [],
   "source": [
    "cdrs4 = cdrs4.withColumn(\n",
    "    \"billable_units\",\n",
    "    when(col(\"record_type\") == \"voice\",\n",
    "         ceil(col(\"duration_sec\") / 60))       \n",
    "    .when(col(\"record_type\") == \"sms\",\n",
    "         lit(1))\n",
    "    .otherwise(                               # data\n",
    "         col(\"data_volume_mb\"))\n",
    ")\n"
   ]
  },
  {
   "cell_type": "code",
   "execution_count": 22,
   "id": "26f0b329",
   "metadata": {},
   "outputs": [
    {
     "name": "stdout",
     "output_type": "stream",
     "text": [
      "+------------+------------+------------+--------------------+-------------------+-------------+----------+------------+------------+------------+-------------+------------+------------+------------+--------------------+--------------+--------+-----------+------+---------+--------------------+----------+----------+--------------+----------+-----------+--------------+\n",
      "| customer_id|rate_plan_id|product_code|           record_ID|          timestamp|      cell_id|technology|   caller_id|   callee_id|duration_sec|rating_status|   sender_id| receiver_id|     user_id|session_duration_sec|data_volume_mb|batch_id|record_type|  unit|rate_type|         description|unit_price|free_units|tier_threshold|tier_price|user_min_mb|billable_units|\n",
      "+------------+------------+------------+--------------------+-------------------+-------------+----------+------------+------------+------------+-------------+------------+------------+------------+--------------------+--------------+--------+-----------+------+---------+--------------------+----------+----------+--------------+----------+-----------+--------------+\n",
      "|212668884253|      PLAN_A|  DATA_BASIC|96af330e-77c2-48f...|2025-06-01 03:49:21|CASABLANCA_03|        5G|        NULL|        NULL|        NULL|        ready|        NULL|        NULL|212668884253|                 234|       1870.31|      10|       data|    MB|     flat|Session Data basi...|      0.02|        20|          NULL|      NULL|    1870.31|       1870.31|\n",
      "|212688471605|      PLAN_C|   VOICE_NAT|d63fac77-d085-43f...|2025-06-01 06:19:39| MARRAKECH_02|        3G|212688471605|212750895297|         285|        ready|        NULL|        NULL|        NULL|                NULL|          NULL|      17|      voice|minute|     flat|Appel vocal natio...|     0.008|        10|          NULL|      NULL|       NULL|             5|\n",
      "|212791719863|      PLAN_C|   VOICE_NAT|05b4d747-47fc-439...|2025-06-01 01:08:02|     OUJDA_01|        4G|212791719863|212736864154|         557|        ready|        NULL|        NULL|        NULL|                NULL|          NULL|       2|      voice|minute|     flat|Appel vocal natio...|     0.008|        10|          NULL|      NULL|       NULL|            10|\n",
      "|212635113323|      PLAN_A|   VOICE_NAT|f91826d8-ffeb-435...|2025-06-01 02:56:48|      inconnu|        4G|212635113323|212752178182|          60|        ready|        NULL|        NULL|        NULL|                NULL|          NULL|       8|      voice|minute|     flat|Appel vocal natio...|      0.01|         5|          NULL|      NULL|       NULL|             1|\n",
      "|212798323701|      PLAN_A|   VOICE_NAT|0f39e283-5d0a-440...|2025-06-01 06:26:26|      inconnu|        4G|212798323701|212635005747|         378|        ready|        NULL|        NULL|        NULL|                NULL|          NULL|      18|      voice|minute|     flat|Appel vocal natio...|      0.01|         5|          NULL|      NULL|       NULL|             7|\n",
      "|212694887704|      PLAN_C|   VOICE_NAT|a6320a81-75ca-4e6...|2025-06-01 04:01:22|       FES_01|        3G|212694887704|212673237006|         406|        ready|        NULL|        NULL|        NULL|                NULL|          NULL|      10|      voice|minute|     flat|Appel vocal natio...|     0.008|        10|          NULL|      NULL|       NULL|             7|\n",
      "|212703276390|      PLAN_B|   VOICE_NAT|8a32d54d-62ec-46f...|2025-06-01 02:53:33|     RABAT_02|        4G|212703276390|212682271319|         494|        ready|        NULL|        NULL|        NULL|                NULL|          NULL|       7|      voice|minute|     flat|Appel vocal natio...|     0.012|         6|          NULL|      NULL|       NULL|             9|\n",
      "|212688120480|      PLAN_C|   VOICE_INT|41d6bf5b-407b-473...|2025-06-01 01:54:52|    TANGER_01|        2G|212688120480|971272739207|         526|        ready|        NULL|        NULL|        NULL|                NULL|          NULL|       4|      voice|minute|     flat|Appel vocal inter...|     0.018|         0|          NULL|      NULL|    inconnu|             9|\n",
      "|212688120480|      PLAN_C|  DATA_BASIC|76ed5ce0-bf11-49c...|2025-06-01 05:14:41|      inconnu|        4G|        NULL|        NULL|        NULL|        ready|        NULL|        NULL|212688120480|                 139|             0|      14|       data|    MB|     flat|Session Data basi...|     0.018|        20|          NULL|      NULL|    inconnu|             0|\n",
      "|212684990378|      PLAN_C|   VOICE_NAT|a663281d-7734-4db...|2025-06-01 04:02:36|CASABLANCA_01|        5G|212684990378|212633593932|         157|        ready|        NULL|        NULL|        NULL|                NULL|          NULL|      10|      voice|minute|     flat|Appel vocal natio...|     0.008|        10|          NULL|      NULL|       NULL|             3|\n",
      "|212662936924|      PLAN_B|   VOICE_NAT|54197ab0-a313-42e...|2025-06-01 05:21:59|CASABLANCA_01|        4G|212662936924|212676025590|         138|        ready|        NULL|        NULL|        NULL|                NULL|          NULL|      14|      voice|minute|     flat|Appel vocal natio...|     0.012|         6|          NULL|      NULL|       NULL|             3|\n",
      "|212792223109|      PLAN_C|     SMS_NAT|afb8bd86-5cdf-42a...|2025-06-01 00:47:47|   TETOUAN_01|        5G|        NULL|        NULL|        NULL|        ready|212792223109|     inconnu|        NULL|                NULL|          NULL|       1|        sms| event|     flat|Envoi SMS standar...|     0.035|         2|          NULL|      NULL|       NULL|             1|\n",
      "|212792223109|      PLAN_C|   VOICE_NAT|a4d8111d-cb2b-467...|2025-06-01 05:59:31|     RABAT_02|        5G|212792223109|     inconnu|         455|        ready|        NULL|        NULL|        NULL|                NULL|          NULL|      16|      voice|minute|     flat|Appel vocal natio...|     0.008|        10|          NULL|      NULL|       NULL|             8|\n",
      "|212784783590|      PLAN_C|     SMS_NAT|f066742b-5e29-4b0...|2025-06-01 02:40:02|     RABAT_03|        4G|        NULL|        NULL|        NULL|        ready|212784783590|212731394047|        NULL|                NULL|          NULL|       7|        sms| event|     flat|Envoi SMS standar...|     0.035|         2|          NULL|      NULL|       NULL|             1|\n",
      "|212683014733|      PLAN_A|  DATA_BASIC|8fc28801-3863-43c...|2025-06-01 01:45:31|CASABLANCA_04|        3G|        NULL|        NULL|        NULL|        ready|        NULL|        NULL|212683014733|                 128|        573.76|       4|       data|    MB|     flat|Session Data basi...|      0.02|        20|          NULL|      NULL|     573.76|        573.76|\n",
      "|212611292364|      PLAN_A|   VOICE_INT|618e6671-70c8-4ea...|2025-06-01 04:10:34|    AGADIR_02|        5G|212611292364| 10295913378|         436|        ready|        NULL|        NULL|        NULL|                NULL|          NULL|      11|      voice|minute|     flat|Appel vocal inter...|      0.02|         0|          NULL|      NULL|       NULL|             8|\n",
      "|212722439922|      PLAN_C|   VOICE_NAT|4486c45d-8e32-47a...|2025-06-01 04:53:14|    AGADIR_01|        5G|212722439922|212766462242|         196|        ready|        NULL|        NULL|        NULL|                NULL|          NULL|      13|      voice|minute|     flat|Appel vocal natio...|     0.008|        10|          NULL|      NULL|       NULL|             4|\n",
      "|212778559034|      PLAN_C|  DATA_BASIC|09f2563c-b5dd-40e...|2025-06-01 03:19:25|      SAFI_01|        5G|        NULL|        NULL|        NULL|        ready|        NULL|        NULL|212778559034|                 476|       1558.06|       9|       data|    MB|     flat|Session Data basi...|     0.018|        20|          NULL|      NULL|    1558.06|       1558.06|\n",
      "|212787457610|      PLAN_A|   VOICE_NAT|b67962af-3c36-402...|2025-06-01 02:03:03|      inconnu|        4G|212787457610|212642449800|         314|        ready|        NULL|        NULL|        NULL|                NULL|          NULL|       5|      voice|minute|     flat|Appel vocal natio...|      0.01|         5|          NULL|      NULL|       NULL|             6|\n",
      "|212606958022|      PLAN_B|  DATA_BASIC|bae6fa6b-f206-474...|2025-06-01 01:58:41|    MEKNES_02|        4G|        NULL|        NULL|        NULL|        ready|        NULL|        NULL|212606958022|                 471|       1382.49|       4|       data|    MB|     flat|Session Data basi...|     0.022|        25|          NULL|      NULL|    1382.49|       1382.49|\n",
      "+------------+------------+------------+--------------------+-------------------+-------------+----------+------------+------------+------------+-------------+------------+------------+------------+--------------------+--------------+--------+-----------+------+---------+--------------------+----------+----------+--------------+----------+-----------+--------------+\n",
      "only showing top 20 rows\n",
      "\n"
     ]
    }
   ],
   "source": [
    "cdrs4.show()"
   ]
  },
  {
   "cell_type": "code",
   "execution_count": 23,
   "id": "a9a6a4fd",
   "metadata": {},
   "outputs": [],
   "source": [
    "from pyspark.sql.functions import coalesce\n",
    "\n",
    "cdrs4 = (cdrs4\n",
    "    .withColumn(\"free_units\",    coalesce(col(\"free_units\"),    lit(0)))\n",
    "    .withColumn(\"tier_threshold\",coalesce(col(\"tier_threshold\"),lit(0)))\n",
    "    .withColumn(\"unit_price\",    coalesce(col(\"unit_price\"),    lit(0.0)))\n",
    "    .withColumn(\"tier_price\",    coalesce(col(\"tier_price\"),    lit(0.0)))\n",
    ")\n"
   ]
  },
  {
   "cell_type": "code",
   "execution_count": 24,
   "id": "5ba8ab70",
   "metadata": {},
   "outputs": [],
   "source": [
    "cdrsRated = cdrs4.withColumn(\n",
    "    \"cost\",\n",
    "    when(col(\"rate_type\") == \"flat\",\n",
    "         when(col(\"billable_units\") <= col(\"free_units\"), lit(0))\n",
    "         .otherwise((col(\"billable_units\") - col(\"free_units\")) * col(\"unit_price\")))\n",
    "    .when(col(\"rate_type\") == \"tiered\",\n",
    "         when(col(\"billable_units\") <= col(\"free_units\"), lit(0))\n",
    "         .when(col(\"billable_units\") <= col(\"tier_threshold\"),\n",
    "               (col(\"billable_units\") - col(\"free_units\")) * col(\"unit_price\"))\n",
    "         .otherwise(\n",
    "               (col(\"tier_threshold\") - col(\"free_units\")) * col(\"unit_price\") +\n",
    "               (col(\"billable_units\") - col(\"tier_threshold\")) * col(\"tier_price\")))\n",
    ")\n",
    "\n",
    "cdrsRated = cdrsRated.withColumn(\n",
    "    \"rating_status\",\n",
    "    when(col(\"cost\").isNull(), \"unmatched\")\n",
    "    .otherwise(\"rated\")\n",
    ")\n"
   ]
  },
  {
   "cell_type": "code",
   "execution_count": 25,
   "id": "a279048f",
   "metadata": {},
   "outputs": [
    {
     "name": "stdout",
     "output_type": "stream",
     "text": [
      "+------------------------------------+------------+------------+--------------+----------+--------------------+-------------+\n",
      "|record_ID                           |customer_id |product_code|billable_units|unit_price|cost                |rating_status|\n",
      "+------------------------------------+------------+------------+--------------+----------+--------------------+-------------+\n",
      "|96af330e-77c2-48f8-9e21-4a1f8eb8d683|212668884253|DATA_BASIC  |1870.31       |0.02      |37.0062             |rated        |\n",
      "|d63fac77-d085-43f0-b449-71fcd30363d6|212688471605|VOICE_NAT   |5             |0.008     |0.0                 |rated        |\n",
      "|05b4d747-47fc-439f-8d2c-e3f424e7932b|212791719863|VOICE_NAT   |10            |0.008     |0.0                 |rated        |\n",
      "|f91826d8-ffeb-4355-9127-b493c88346c5|212635113323|VOICE_NAT   |1             |0.01      |0.0                 |rated        |\n",
      "|0f39e283-5d0a-4401-936a-159fbe3088c9|212798323701|VOICE_NAT   |7             |0.01      |0.02                |rated        |\n",
      "|a6320a81-75ca-4e6a-96f7-97c18b9aff11|212694887704|VOICE_NAT   |7             |0.008     |0.0                 |rated        |\n",
      "|8a32d54d-62ec-46ff-acc3-9503ab0e0978|212703276390|VOICE_NAT   |9             |0.012     |0.036000000000000004|rated        |\n",
      "|41d6bf5b-407b-473e-a798-217488bdb6a0|212688120480|VOICE_INT   |9             |0.018     |0.16199999999999998 |rated        |\n",
      "|76ed5ce0-bf11-49c8-898e-93c10429b3d5|212688120480|DATA_BASIC  |0             |0.018     |0.0                 |rated        |\n",
      "|a663281d-7734-4db3-b6ca-c4787e314ffd|212684990378|VOICE_NAT   |3             |0.008     |0.0                 |rated        |\n",
      "|54197ab0-a313-42e4-8849-e41d9d73face|212662936924|VOICE_NAT   |3             |0.012     |0.0                 |rated        |\n",
      "|afb8bd86-5cdf-42a0-a51b-565222efa20d|212792223109|SMS_NAT     |1             |0.035     |0.0                 |rated        |\n",
      "|a4d8111d-cb2b-467b-93ce-f5d669f2120e|212792223109|VOICE_NAT   |8             |0.008     |0.0                 |rated        |\n",
      "|f066742b-5e29-4b0f-b4aa-c39181741e6b|212784783590|SMS_NAT     |1             |0.035     |0.0                 |rated        |\n",
      "|8fc28801-3863-43c6-8514-68fc9a25b454|212683014733|DATA_BASIC  |573.76        |0.02      |11.0752             |rated        |\n",
      "|618e6671-70c8-4eac-9dc2-817ae4c7d30d|212611292364|VOICE_INT   |8             |0.02      |0.16                |rated        |\n",
      "|4486c45d-8e32-47aa-b864-b8488803bd50|212722439922|VOICE_NAT   |4             |0.008     |0.0                 |rated        |\n",
      "|09f2563c-b5dd-40e7-81d3-cfe14821e110|212778559034|DATA_BASIC  |1558.06       |0.018     |27.685079999999996  |rated        |\n",
      "|b67962af-3c36-402f-8c4f-76a96493bf7e|212787457610|VOICE_NAT   |6             |0.01      |0.01                |rated        |\n",
      "|bae6fa6b-f206-4743-a426-23ad2376e9e8|212606958022|DATA_BASIC  |1382.49       |0.022     |29.86478            |rated        |\n",
      "+------------------------------------+------------+------------+--------------+----------+--------------------+-------------+\n",
      "only showing top 20 rows\n",
      "\n"
     ]
    }
   ],
   "source": [
    "cdrsRated.select(\"record_ID\",\"customer_id\",\"product_code\",\n",
    "                 \"billable_units\",\"unit_price\",\"cost\",\"rating_status\") \\\n",
    "         .show(truncate=False)\n"
   ]
  },
  {
   "cell_type": "code",
   "execution_count": 26,
   "id": "dfa86650",
   "metadata": {},
   "outputs": [],
   "source": [
    "from pyspark.sql.functions import date_format\n",
    "\n",
    "cdrsRated = cdrsRated.withColumn(\n",
    "    \"billing_period\",\n",
    "    date_format(col(\"timestamp\"), \"yyyy-MM\")\n",
    ")\n",
    "cdrsRated=cdrsRated.drop(\"user_min_mb\")"
   ]
  },
  {
   "cell_type": "code",
   "execution_count": 27,
   "id": "441201ec",
   "metadata": {},
   "outputs": [
    {
     "name": "stdout",
     "output_type": "stream",
     "text": [
      "✓ Rating terminé : Parquet écrit dans rated_cdrs/\n"
     ]
    }
   ],
   "source": [
    "(\n",
    " cdrsRated\n",
    " .write\n",
    " .mode(\"overwrite\")\n",
    " .partitionBy(\"billing_period\")\n",
    " .parquet(\"rated_cdrs/\")\n",
    ")\n",
    "\n",
    "print(\"✓ Rating terminé : Parquet écrit dans rated_cdrs/\")\n"
   ]
  },
  {
   "cell_type": "code",
   "execution_count": 28,
   "id": "8a2d4730",
   "metadata": {},
   "outputs": [
    {
     "name": "stdout",
     "output_type": "stream",
     "text": [
      "+------------+------------+------------+--------------------+-------------------+-------------+----------+------------+------------+------------+-------------+------------+------------+------------+--------------------+--------------+--------+-----------+------+---------+--------------------+----------+----------+--------------+----------+--------------+--------------------+--------------+\n",
      "| customer_id|rate_plan_id|product_code|           record_ID|          timestamp|      cell_id|technology|   caller_id|   callee_id|duration_sec|rating_status|   sender_id| receiver_id|     user_id|session_duration_sec|data_volume_mb|batch_id|record_type|  unit|rate_type|         description|unit_price|free_units|tier_threshold|tier_price|billable_units|                cost|billing_period|\n",
      "+------------+------------+------------+--------------------+-------------------+-------------+----------+------------+------------+------------+-------------+------------+------------+------------+--------------------+--------------+--------+-----------+------+---------+--------------------+----------+----------+--------------+----------+--------------+--------------------+--------------+\n",
      "|212668884253|      PLAN_A|  DATA_BASIC|96af330e-77c2-48f...|2025-06-01 03:49:21|CASABLANCA_03|        5G|        NULL|        NULL|        NULL|        rated|        NULL|        NULL|212668884253|                 234|       1870.31|      10|       data|    MB|     flat|Session Data basi...|      0.02|        20|             0|       0.0|       1870.31|             37.0062|       2025-06|\n",
      "|212688471605|      PLAN_C|   VOICE_NAT|d63fac77-d085-43f...|2025-06-01 06:19:39| MARRAKECH_02|        3G|212688471605|212750895297|         285|        rated|        NULL|        NULL|        NULL|                NULL|          NULL|      17|      voice|minute|     flat|Appel vocal natio...|     0.008|        10|             0|       0.0|             5|                 0.0|       2025-06|\n",
      "|212791719863|      PLAN_C|   VOICE_NAT|05b4d747-47fc-439...|2025-06-01 01:08:02|     OUJDA_01|        4G|212791719863|212736864154|         557|        rated|        NULL|        NULL|        NULL|                NULL|          NULL|       2|      voice|minute|     flat|Appel vocal natio...|     0.008|        10|             0|       0.0|            10|                 0.0|       2025-06|\n",
      "|212635113323|      PLAN_A|   VOICE_NAT|f91826d8-ffeb-435...|2025-06-01 02:56:48|      inconnu|        4G|212635113323|212752178182|          60|        rated|        NULL|        NULL|        NULL|                NULL|          NULL|       8|      voice|minute|     flat|Appel vocal natio...|      0.01|         5|             0|       0.0|             1|                 0.0|       2025-06|\n",
      "|212798323701|      PLAN_A|   VOICE_NAT|0f39e283-5d0a-440...|2025-06-01 06:26:26|      inconnu|        4G|212798323701|212635005747|         378|        rated|        NULL|        NULL|        NULL|                NULL|          NULL|      18|      voice|minute|     flat|Appel vocal natio...|      0.01|         5|             0|       0.0|             7|                0.02|       2025-06|\n",
      "|212694887704|      PLAN_C|   VOICE_NAT|a6320a81-75ca-4e6...|2025-06-01 04:01:22|       FES_01|        3G|212694887704|212673237006|         406|        rated|        NULL|        NULL|        NULL|                NULL|          NULL|      10|      voice|minute|     flat|Appel vocal natio...|     0.008|        10|             0|       0.0|             7|                 0.0|       2025-06|\n",
      "|212703276390|      PLAN_B|   VOICE_NAT|8a32d54d-62ec-46f...|2025-06-01 02:53:33|     RABAT_02|        4G|212703276390|212682271319|         494|        rated|        NULL|        NULL|        NULL|                NULL|          NULL|       7|      voice|minute|     flat|Appel vocal natio...|     0.012|         6|             0|       0.0|             9|0.036000000000000004|       2025-06|\n",
      "|212688120480|      PLAN_C|   VOICE_INT|41d6bf5b-407b-473...|2025-06-01 01:54:52|    TANGER_01|        2G|212688120480|971272739207|         526|        rated|        NULL|        NULL|        NULL|                NULL|          NULL|       4|      voice|minute|     flat|Appel vocal inter...|     0.018|         0|             0|       0.0|             9| 0.16199999999999998|       2025-06|\n",
      "|212688120480|      PLAN_C|  DATA_BASIC|76ed5ce0-bf11-49c...|2025-06-01 05:14:41|      inconnu|        4G|        NULL|        NULL|        NULL|        rated|        NULL|        NULL|212688120480|                 139|             0|      14|       data|    MB|     flat|Session Data basi...|     0.018|        20|             0|       0.0|             0|                 0.0|       2025-06|\n",
      "|212684990378|      PLAN_C|   VOICE_NAT|a663281d-7734-4db...|2025-06-01 04:02:36|CASABLANCA_01|        5G|212684990378|212633593932|         157|        rated|        NULL|        NULL|        NULL|                NULL|          NULL|      10|      voice|minute|     flat|Appel vocal natio...|     0.008|        10|             0|       0.0|             3|                 0.0|       2025-06|\n",
      "|212662936924|      PLAN_B|   VOICE_NAT|54197ab0-a313-42e...|2025-06-01 05:21:59|CASABLANCA_01|        4G|212662936924|212676025590|         138|        rated|        NULL|        NULL|        NULL|                NULL|          NULL|      14|      voice|minute|     flat|Appel vocal natio...|     0.012|         6|             0|       0.0|             3|                 0.0|       2025-06|\n",
      "|212792223109|      PLAN_C|     SMS_NAT|afb8bd86-5cdf-42a...|2025-06-01 00:47:47|   TETOUAN_01|        5G|        NULL|        NULL|        NULL|        rated|212792223109|     inconnu|        NULL|                NULL|          NULL|       1|        sms| event|     flat|Envoi SMS standar...|     0.035|         2|             0|       0.0|             1|                 0.0|       2025-06|\n",
      "|212792223109|      PLAN_C|   VOICE_NAT|a4d8111d-cb2b-467...|2025-06-01 05:59:31|     RABAT_02|        5G|212792223109|     inconnu|         455|        rated|        NULL|        NULL|        NULL|                NULL|          NULL|      16|      voice|minute|     flat|Appel vocal natio...|     0.008|        10|             0|       0.0|             8|                 0.0|       2025-06|\n",
      "|212784783590|      PLAN_C|     SMS_NAT|f066742b-5e29-4b0...|2025-06-01 02:40:02|     RABAT_03|        4G|        NULL|        NULL|        NULL|        rated|212784783590|212731394047|        NULL|                NULL|          NULL|       7|        sms| event|     flat|Envoi SMS standar...|     0.035|         2|             0|       0.0|             1|                 0.0|       2025-06|\n",
      "|212683014733|      PLAN_A|  DATA_BASIC|8fc28801-3863-43c...|2025-06-01 01:45:31|CASABLANCA_04|        3G|        NULL|        NULL|        NULL|        rated|        NULL|        NULL|212683014733|                 128|        573.76|       4|       data|    MB|     flat|Session Data basi...|      0.02|        20|             0|       0.0|        573.76|             11.0752|       2025-06|\n",
      "|212611292364|      PLAN_A|   VOICE_INT|618e6671-70c8-4ea...|2025-06-01 04:10:34|    AGADIR_02|        5G|212611292364| 10295913378|         436|        rated|        NULL|        NULL|        NULL|                NULL|          NULL|      11|      voice|minute|     flat|Appel vocal inter...|      0.02|         0|             0|       0.0|             8|                0.16|       2025-06|\n",
      "|212722439922|      PLAN_C|   VOICE_NAT|4486c45d-8e32-47a...|2025-06-01 04:53:14|    AGADIR_01|        5G|212722439922|212766462242|         196|        rated|        NULL|        NULL|        NULL|                NULL|          NULL|      13|      voice|minute|     flat|Appel vocal natio...|     0.008|        10|             0|       0.0|             4|                 0.0|       2025-06|\n",
      "|212778559034|      PLAN_C|  DATA_BASIC|09f2563c-b5dd-40e...|2025-06-01 03:19:25|      SAFI_01|        5G|        NULL|        NULL|        NULL|        rated|        NULL|        NULL|212778559034|                 476|       1558.06|       9|       data|    MB|     flat|Session Data basi...|     0.018|        20|             0|       0.0|       1558.06|  27.685079999999996|       2025-06|\n",
      "|212787457610|      PLAN_A|   VOICE_NAT|b67962af-3c36-402...|2025-06-01 02:03:03|      inconnu|        4G|212787457610|212642449800|         314|        rated|        NULL|        NULL|        NULL|                NULL|          NULL|       5|      voice|minute|     flat|Appel vocal natio...|      0.01|         5|             0|       0.0|             6|                0.01|       2025-06|\n",
      "|212606958022|      PLAN_B|  DATA_BASIC|bae6fa6b-f206-474...|2025-06-01 01:58:41|    MEKNES_02|        4G|        NULL|        NULL|        NULL|        rated|        NULL|        NULL|212606958022|                 471|       1382.49|       4|       data|    MB|     flat|Session Data basi...|     0.022|        25|             0|       0.0|       1382.49|            29.86478|       2025-06|\n",
      "+------------+------------+------------+--------------------+-------------------+-------------+----------+------------+------------+------------+-------------+------------+------------+------------+--------------------+--------------+--------+-----------+------+---------+--------------------+----------+----------+--------------+----------+--------------+--------------------+--------------+\n",
      "only showing top 20 rows\n",
      "\n"
     ]
    }
   ],
   "source": [
    "cdrsRated.show()"
   ]
  }
 ],
 "metadata": {
  "kernelspec": {
   "display_name": "Python 3",
   "language": "python",
   "name": "python3"
  },
  "language_info": {
   "codemirror_mode": {
    "name": "ipython",
    "version": 3
   },
   "file_extension": ".py",
   "mimetype": "text/x-python",
   "name": "python",
   "nbconvert_exporter": "python",
   "pygments_lexer": "ipython3",
   "version": "3.12.5"
  }
 },
 "nbformat": 4,
 "nbformat_minor": 5
}
