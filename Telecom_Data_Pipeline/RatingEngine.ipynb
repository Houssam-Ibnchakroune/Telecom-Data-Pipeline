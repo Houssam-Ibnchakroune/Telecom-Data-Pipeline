{
 "cells": [
  {
   "cell_type": "code",
   "execution_count": 1,
   "id": "0eafc561",
   "metadata": {
    "execution": {
     "iopub.execute_input": "2025-06-11T13:45:40.696194Z",
     "iopub.status.busy": "2025-06-11T13:45:40.696194Z",
     "iopub.status.idle": "2025-06-11T13:45:46.122494Z",
     "shell.execute_reply": "2025-06-11T13:45:46.121989Z"
    },
    "papermill": {
     "duration": 5.434467,
     "end_time": "2025-06-11T13:45:46.124499",
     "exception": false,
     "start_time": "2025-06-11T13:45:40.690032",
     "status": "completed"
    },
    "tags": []
   },
   "outputs": [],
   "source": [
    "from pyspark.sql import SparkSession\n",
    "from pyspark.sql.functions import  when,mean ,lit,ceil\n",
    "# Création d'une session Spark\n",
    "spark = SparkSession.builder\\\n",
    "         .appName(\"RatingEngine\")\\\n",
    "         .config(\"spark.jars\", r\".conf\\postgresql-42.7.6.jar\")\\\n",
    "         .config(\"spark.driver.extraClassPath\", r\".\\conf\\postgresql-42.7.6.jar\")\\\n",
    "         .config(\"spark.executor.extraClassPath\", r\".\\conf\\\\postgresql-42.7.6.jar\")\\\n",
    "         .config(\"spark.sql.shuffle.partitions\", \"50\")\\\n",
    "         .config(\"spark.sql.autoBroadcastJoinThreshold\", \"10485760\")\\\n",
    "         .config(\"spark.driver.memory\", \"6g\")\\\n",
    "         .getOrCreate()\n",
    "\n",
    "\n"
   ]
  },
  {
   "cell_type": "code",
   "execution_count": 2,
   "id": "2ce7d8c2",
   "metadata": {
    "execution": {
     "iopub.execute_input": "2025-06-11T13:45:46.134209Z",
     "iopub.status.busy": "2025-06-11T13:45:46.132750Z",
     "iopub.status.idle": "2025-06-11T13:45:50.669072Z",
     "shell.execute_reply": "2025-06-11T13:45:50.669072Z"
    },
    "papermill": {
     "duration": 4.542997,
     "end_time": "2025-06-11T13:45:50.671497",
     "exception": false,
     "start_time": "2025-06-11T13:45:46.128500",
     "status": "completed"
    },
    "tags": []
   },
   "outputs": [],
   "source": [
    "data_path = r\".\\output_dir\" \n",
    "cleanedCdrsDf  = spark.read.format(\"parquet\") \\\n",
    "    .option(\"header\", \"true\") \\\n",
    "    .option(\"inferSchema\", \"true\") \\\n",
    "    .load(data_path)"
   ]
  },
  {
   "cell_type": "code",
   "execution_count": 3,
   "id": "65ab5c4e",
   "metadata": {
    "execution": {
     "iopub.execute_input": "2025-06-11T13:45:50.682852Z",
     "iopub.status.busy": "2025-06-11T13:45:50.681856Z",
     "iopub.status.idle": "2025-06-11T13:45:54.095720Z",
     "shell.execute_reply": "2025-06-11T13:45:54.094710Z"
    },
    "papermill": {
     "duration": 3.420859,
     "end_time": "2025-06-11T13:45:54.097719",
     "exception": false,
     "start_time": "2025-06-11T13:45:50.676860",
     "status": "completed"
    },
    "tags": []
   },
   "outputs": [
    {
     "name": "stdout",
     "output_type": "stream",
     "text": [
      "+------------+-----------------+-----------------+------------+---------------+------+--------------------+\n",
      "| customer_id|    customer_name|subscription_type|rate_plan_id|activation_date|status|              region|\n",
      "+------------+-----------------+-----------------+------------+---------------+------+--------------------+\n",
      "|212768116861|    Anwar Kettani|         postpaid|      PLAN_C|     2024-04-29|active|Béni Mellal-Khénifra|\n",
      "|212760204113|Naoual El Othmani|         postpaid|      PLAN_A|     2024-12-07|active|      Drâa-Tafilalet|\n",
      "|212704344822|     Ehab Ouchrif|         postpaid|      PLAN_A|     2023-07-29|active|Laâyoune-Sakia El...|\n",
      "|212658901536|     Selma Msaddi|         postpaid|      PLAN_C|     2023-06-16|active|         Souss-Massa|\n",
      "|212699900093| Brahim El Hilali|         postpaid|      PLAN_A|     2024-07-27|active|Dakhla-Oued Ed Dahab|\n",
      "+------------+-----------------+-----------------+------------+---------------+------+--------------------+\n",
      "only showing top 5 rows\n",
      "\n"
     ]
    }
   ],
   "source": [
    "customersDf = spark.read \\\n",
    "    .format(\"jdbc\")\\\n",
    "    .option(\"url\",      \"jdbc:postgresql://localhost:5432/projet_spark\")\\\n",
    "    .option(\"dbtable\",  \"customers\")\\\n",
    "    .option(\"user\",     \"postgres\")\\\n",
    "    .option(\"password\", \"0000\")\\\n",
    "    .load() \n",
    "\n",
    "customersDf.show(5)\n"
   ]
  },
  {
   "cell_type": "code",
   "execution_count": 4,
   "id": "b6195e08",
   "metadata": {
    "execution": {
     "iopub.execute_input": "2025-06-11T13:45:54.110718Z",
     "iopub.status.busy": "2025-06-11T13:45:54.110718Z",
     "iopub.status.idle": "2025-06-11T13:45:55.080342Z",
     "shell.execute_reply": "2025-06-11T13:45:55.079834Z"
    },
    "papermill": {
     "duration": 0.977634,
     "end_time": "2025-06-11T13:45:55.082353",
     "exception": false,
     "start_time": "2025-06-11T13:45:54.104719",
     "status": "completed"
    },
    "tags": []
   },
   "outputs": [],
   "source": [
    "catalogDf = spark.read \\\n",
    "    .option(\"header\", True) \\\n",
    "    .csv(\"ressources/product_catalog.csv\")\n"
   ]
  },
  {
   "cell_type": "code",
   "execution_count": 5,
   "id": "a7161cb2",
   "metadata": {
    "execution": {
     "iopub.execute_input": "2025-06-11T13:45:55.093350Z",
     "iopub.status.busy": "2025-06-11T13:45:55.092353Z",
     "iopub.status.idle": "2025-06-11T13:45:55.480952Z",
     "shell.execute_reply": "2025-06-11T13:45:55.480952Z"
    },
    "papermill": {
     "duration": 0.395615,
     "end_time": "2025-06-11T13:45:55.482963",
     "exception": false,
     "start_time": "2025-06-11T13:45:55.087348",
     "status": "completed"
    },
    "tags": []
   },
   "outputs": [],
   "source": [
    "from pyspark.sql.functions import col\n",
    "\n",
    "ratePlansDf = spark.read \\\n",
    "    .option(\"header\", True) \\\n",
    "    .csv(\"ressources/rate_plans.csv\") \\\n",
    "    .withColumn(\"unit_price\", col(\"unit_price\").cast(\"double\")) \\\n",
    "    .withColumn(\"free_units\", col(\"free_units\").cast(\"int\")) \\\n",
    "    .withColumn(\"tier_threshold\", col(\"tier_threshold\").cast(\"int\")) \\\n",
    "    .withColumn(\"tier_price\", col(\"tier_price\").cast(\"double\"))\n"
   ]
  },
  {
   "cell_type": "code",
   "execution_count": 6,
   "id": "645907fe",
   "metadata": {
    "execution": {
     "iopub.execute_input": "2025-06-11T13:45:55.497968Z",
     "iopub.status.busy": "2025-06-11T13:45:55.496969Z",
     "iopub.status.idle": "2025-06-11T13:45:55.545315Z",
     "shell.execute_reply": "2025-06-11T13:45:55.544810Z"
    },
    "papermill": {
     "duration": 0.058363,
     "end_time": "2025-06-11T13:45:55.547323",
     "exception": false,
     "start_time": "2025-06-11T13:45:55.488960",
     "status": "completed"
    },
    "tags": []
   },
   "outputs": [],
   "source": [
    "cdrs = (cleanedCdrsDf\n",
    "        .withColumn(\n",
    "            \"customer_id\",\n",
    "            when(col(\"record_type\") == \"voice\", col(\"caller_id\"))\n",
    "            .when(col(\"record_type\") == \"sms\",  col(\"sender_id\"))\n",
    "            .otherwise(col(\"user_id\"))\n",
    "        ))"
   ]
  },
  {
   "cell_type": "code",
   "execution_count": 7,
   "id": "72c6e9c5",
   "metadata": {
    "execution": {
     "iopub.execute_input": "2025-06-11T13:45:55.562323Z",
     "iopub.status.busy": "2025-06-11T13:45:55.561322Z",
     "iopub.status.idle": "2025-06-11T13:45:57.234190Z",
     "shell.execute_reply": "2025-06-11T13:45:57.233180Z"
    },
    "papermill": {
     "duration": 1.681864,
     "end_time": "2025-06-11T13:45:57.236189",
     "exception": false,
     "start_time": "2025-06-11T13:45:55.554325",
     "status": "completed"
    },
    "tags": []
   },
   "outputs": [
    {
     "name": "stdout",
     "output_type": "stream",
     "text": [
      "+------------+--------------------+-------------------+-------------+----------+------------+------------+------------+------------+-------------+------------+------------+------------+--------------------+--------------+--------+-----------+------------+\n",
      "| customer_id|           record_ID|          timestamp|      cell_id|technology|   caller_id|   callee_id|duration_sec|product_code|rating_status|   sender_id| receiver_id|     user_id|session_duration_sec|data_volume_mb|batch_id|record_type|rate_plan_id|\n",
      "+------------+--------------------+-------------------+-------------+----------+------------+------------+------------+------------+-------------+------------+------------+------------+--------------------+--------------+--------+-----------+------------+\n",
      "|212614448367|9629906d-85c3-4a0...|2025-06-01 01:41:07|CASABLANCA_01|        4G|212614448367|212748169479|          73|   VOICE_NAT|        ready|        NULL|        NULL|        NULL|                NULL|          NULL|       3|      voice|      PLAN_A|\n",
      "|212795556760|83a92a23-060f-4c9...|2025-06-01 00:57:08|     NADOR_01|        4G|212795556760|212782379177|         379|   VOICE_NAT|        ready|        NULL|        NULL|        NULL|                NULL|          NULL|       2|      voice|      PLAN_C|\n",
      "|212660506300|29506be5-afc0-4fe...|2025-06-01 01:23:50|      inconnu|        4G|212660506300|966666577302|         335|   VOICE_INT|        ready|        NULL|        NULL|        NULL|                NULL|          NULL|       3|      voice|      PLAN_C|\n",
      "|212616842798|22e56f7a-b88b-4e8...|2025-06-01 00:42:33|CASABLANCA_02|        4G|212616842798|212730989235|          40|   VOICE_NAT|        ready|        NULL|        NULL|        NULL|                NULL|          NULL|       1|      voice|      PLAN_C|\n",
      "|212715956664|ce572266-1b58-45c...|2025-06-01 01:05:47|    TANGER_02|        4G|        NULL|        NULL|        NULL|     SMS_NAT|        ready|212715956664|     inconnu|        NULL|                NULL|          NULL|       2|        sms|      PLAN_A|\n",
      "|212602633142|c227825b-ba6c-423...|2025-06-01 01:16:33|      inconnu|        5G|212602633142|212778981013|          58|   VOICE_NAT|        ready|        NULL|        NULL|        NULL|                NULL|          NULL|       2|      voice|      PLAN_C|\n",
      "|212754025100|d6206f12-82ff-498...|2025-06-01 01:58:29|      SAFI_01|        4G|212754025100|212633593932|         435|   VOICE_NAT|        ready|        NULL|        NULL|        NULL|                NULL|          NULL|       4|      voice|      PLAN_B|\n",
      "|212738098493|ed8a11f3-401e-483...|2025-06-01 01:04:35|CASABLANCA_01|        2G|        NULL|        NULL|        NULL|     SMS_NAT|        ready|212738098493|212627620442|        NULL|                NULL|          NULL|       2|        sms|      PLAN_A|\n",
      "|212634021486|4ba25cbc-113b-40a...|2025-06-01 01:35:09|    AGADIR_01|        3G|        NULL|        NULL|        NULL|     SMS_NAT|        ready|212634021486|212789651955|        NULL|                NULL|          NULL|       3|        sms|      PLAN_B|\n",
      "|212698691597|5a0a0dd0-25e8-435...|2025-06-01 01:33:23|      inconnu|        4G|        NULL|        NULL|        NULL|     SMS_NAT|        ready|212698691597|212631948827|        NULL|                NULL|          NULL|       3|        sms|      PLAN_C|\n",
      "|212781115917|b6817632-016e-441...|2025-06-01 01:56:42|       FES_01|        2G|        NULL|        NULL|        NULL|     SMS_NAT|        ready|212781115917|212667505040|        NULL|                NULL|          NULL|       4|        sms|      PLAN_B|\n",
      "|212736864154|1d110936-bcf3-474...|2025-06-01 01:21:35|      inconnu|        5G|212736864154| 33538966300|         298|   VOICE_INT|        ready|        NULL|        NULL|        NULL|                NULL|          NULL|       3|      voice|      PLAN_A|\n",
      "|212681362376|802e206a-83d9-43f...|2025-06-01 01:50:39|     RABAT_02|        5G|        NULL|        NULL|        NULL|  DATA_BASIC|        ready|        NULL|        NULL|212681362376|                 367|       1291.63|       4|       data|      PLAN_A|\n",
      "|212790291029|f3f97c1e-0249-433...|2025-06-01 01:10:49| MARRAKECH_02|        2G|        NULL|        NULL|        NULL|     SMS_NAT|        ready|212790291029|212782729873|        NULL|                NULL|          NULL|       2|        sms|      PLAN_A|\n",
      "|212755017347|634520f0-cc6d-4ac...|2025-06-01 01:48:46|      inconnu|        2G|212755017347|212607149592|         195|   VOICE_NAT|        ready|        NULL|        NULL|        NULL|                NULL|          NULL|       4|      voice|      PLAN_A|\n",
      "|212653516080|b31e260e-eaa8-4af...|2025-06-01 01:02:05|      inconnu|        5G|212653516080|212649883632|         126|   VOICE_NAT|        ready|        NULL|        NULL|        NULL|                NULL|          NULL|       2|      voice|      PLAN_C|\n",
      "|212681757995|6044c31f-4946-4c7...|2025-06-01 01:20:29|  ELJADIDA_01|        5G|212681757995|212765652473|         429|   VOICE_NAT|        ready|        NULL|        NULL|        NULL|                NULL|          NULL|       3|      voice|      PLAN_C|\n",
      "|212727690707|e560ae5f-e26b-472...|2025-06-01 01:13:25|    TANGER_02|        4G|        NULL|        NULL|        NULL|     SMS_NAT|        ready|212727690707|212783026298|        NULL|                NULL|          NULL|       2|        sms|      PLAN_C|\n",
      "|212738097085|4d235312-f4f5-470...|2025-06-01 01:18:32|CASABLANCA_02|        3G|        NULL|        NULL|        NULL|  DATA_BASIC|        ready|        NULL|        NULL|212738097085|                 124|       1584.06|       3|       data|      PLAN_C|\n",
      "|212792223109|0ea3ee1b-ddf8-489...|2025-06-01 00:52:46|CASABLANCA_03|        4G|212792223109|212600388215|          87|   VOICE_NAT|        ready|        NULL|        NULL|        NULL|                NULL|          NULL|       2|      voice|      PLAN_C|\n",
      "+------------+--------------------+-------------------+-------------+----------+------------+------------+------------+------------+-------------+------------+------------+------------+--------------------+--------------+--------+-----------+------------+\n",
      "only showing top 20 rows\n",
      "\n"
     ]
    }
   ],
   "source": [
    "# ─── jointure client → plan ─────────────────────────────────────────────\n",
    "cdrs1 = cdrs.join(\n",
    "    customersDf.filter((col(\"status\") == \"active\") &\n",
    "                       (col(\"subscription_type\") == \"postpaid\"))\n",
    "               .select(\"customer_id\", \"rate_plan_id\"),\n",
    "    on=\"customer_id\",\n",
    "    how=\"inner\"\n",
    ")\n",
    "cdrs1.show()"
   ]
  },
  {
   "cell_type": "code",
   "execution_count": 8,
   "id": "d92da766",
   "metadata": {
    "execution": {
     "iopub.execute_input": "2025-06-11T13:45:57.250190Z",
     "iopub.status.busy": "2025-06-11T13:45:57.250190Z",
     "iopub.status.idle": "2025-06-11T13:45:58.101541Z",
     "shell.execute_reply": "2025-06-11T13:45:58.099529Z"
    },
    "papermill": {
     "duration": 0.861357,
     "end_time": "2025-06-11T13:45:58.105547",
     "exception": false,
     "start_time": "2025-06-11T13:45:57.244190",
     "status": "completed"
    },
    "tags": []
   },
   "outputs": [
    {
     "name": "stdout",
     "output_type": "stream",
     "text": [
      "+------------+------------+--------------------+-------------------+-------------+----------+------------+------------+------------+-------------+------------+------------+------------+--------------------+--------------+--------+-----------+------------+------------+------+---------+--------------------+\n",
      "|product_code| customer_id|           record_ID|          timestamp|      cell_id|technology|   caller_id|   callee_id|duration_sec|rating_status|   sender_id| receiver_id|     user_id|session_duration_sec|data_volume_mb|batch_id|record_type|rate_plan_id|service_type|  unit|rate_type|         description|\n",
      "+------------+------------+--------------------+-------------------+-------------+----------+------------+------------+------------+-------------+------------+------------+------------+--------------------+--------------+--------+-----------+------------+------------+------+---------+--------------------+\n",
      "|   VOICE_NAT|212614448367|9629906d-85c3-4a0...|2025-06-01 01:41:07|CASABLANCA_01|        4G|212614448367|212748169479|          73|        ready|        NULL|        NULL|        NULL|                NULL|          NULL|       3|      voice|      PLAN_A|       voice|minute|     flat|Appel vocal natio...|\n",
      "|   VOICE_NAT|212795556760|83a92a23-060f-4c9...|2025-06-01 00:57:08|     NADOR_01|        4G|212795556760|212782379177|         379|        ready|        NULL|        NULL|        NULL|                NULL|          NULL|       2|      voice|      PLAN_C|       voice|minute|     flat|Appel vocal natio...|\n",
      "|   VOICE_INT|212660506300|29506be5-afc0-4fe...|2025-06-01 01:23:50|      inconnu|        4G|212660506300|966666577302|         335|        ready|        NULL|        NULL|        NULL|                NULL|          NULL|       3|      voice|      PLAN_C|       voice|minute|     flat|Appel vocal inter...|\n",
      "|   VOICE_NAT|212616842798|22e56f7a-b88b-4e8...|2025-06-01 00:42:33|CASABLANCA_02|        4G|212616842798|212730989235|          40|        ready|        NULL|        NULL|        NULL|                NULL|          NULL|       1|      voice|      PLAN_C|       voice|minute|     flat|Appel vocal natio...|\n",
      "|     SMS_NAT|212715956664|ce572266-1b58-45c...|2025-06-01 01:05:47|    TANGER_02|        4G|        NULL|        NULL|        NULL|        ready|212715956664|     inconnu|        NULL|                NULL|          NULL|       2|        sms|      PLAN_A|         sms| event|     flat|Envoi SMS standar...|\n",
      "|   VOICE_NAT|212602633142|c227825b-ba6c-423...|2025-06-01 01:16:33|      inconnu|        5G|212602633142|212778981013|          58|        ready|        NULL|        NULL|        NULL|                NULL|          NULL|       2|      voice|      PLAN_C|       voice|minute|     flat|Appel vocal natio...|\n",
      "|   VOICE_NAT|212754025100|d6206f12-82ff-498...|2025-06-01 01:58:29|      SAFI_01|        4G|212754025100|212633593932|         435|        ready|        NULL|        NULL|        NULL|                NULL|          NULL|       4|      voice|      PLAN_B|       voice|minute|     flat|Appel vocal natio...|\n",
      "|     SMS_NAT|212738098493|ed8a11f3-401e-483...|2025-06-01 01:04:35|CASABLANCA_01|        2G|        NULL|        NULL|        NULL|        ready|212738098493|212627620442|        NULL|                NULL|          NULL|       2|        sms|      PLAN_A|         sms| event|     flat|Envoi SMS standar...|\n",
      "|     SMS_NAT|212634021486|4ba25cbc-113b-40a...|2025-06-01 01:35:09|    AGADIR_01|        3G|        NULL|        NULL|        NULL|        ready|212634021486|212789651955|        NULL|                NULL|          NULL|       3|        sms|      PLAN_B|         sms| event|     flat|Envoi SMS standar...|\n",
      "|     SMS_NAT|212698691597|5a0a0dd0-25e8-435...|2025-06-01 01:33:23|      inconnu|        4G|        NULL|        NULL|        NULL|        ready|212698691597|212631948827|        NULL|                NULL|          NULL|       3|        sms|      PLAN_C|         sms| event|     flat|Envoi SMS standar...|\n",
      "|     SMS_NAT|212781115917|b6817632-016e-441...|2025-06-01 01:56:42|       FES_01|        2G|        NULL|        NULL|        NULL|        ready|212781115917|212667505040|        NULL|                NULL|          NULL|       4|        sms|      PLAN_B|         sms| event|     flat|Envoi SMS standar...|\n",
      "|   VOICE_INT|212736864154|1d110936-bcf3-474...|2025-06-01 01:21:35|      inconnu|        5G|212736864154| 33538966300|         298|        ready|        NULL|        NULL|        NULL|                NULL|          NULL|       3|      voice|      PLAN_A|       voice|minute|     flat|Appel vocal inter...|\n",
      "|  DATA_BASIC|212681362376|802e206a-83d9-43f...|2025-06-01 01:50:39|     RABAT_02|        5G|        NULL|        NULL|        NULL|        ready|        NULL|        NULL|212681362376|                 367|       1291.63|       4|       data|      PLAN_A|        data|    MB|     flat|Session Data basi...|\n",
      "|     SMS_NAT|212790291029|f3f97c1e-0249-433...|2025-06-01 01:10:49| MARRAKECH_02|        2G|        NULL|        NULL|        NULL|        ready|212790291029|212782729873|        NULL|                NULL|          NULL|       2|        sms|      PLAN_A|         sms| event|     flat|Envoi SMS standar...|\n",
      "|   VOICE_NAT|212755017347|634520f0-cc6d-4ac...|2025-06-01 01:48:46|      inconnu|        2G|212755017347|212607149592|         195|        ready|        NULL|        NULL|        NULL|                NULL|          NULL|       4|      voice|      PLAN_A|       voice|minute|     flat|Appel vocal natio...|\n",
      "|   VOICE_NAT|212653516080|b31e260e-eaa8-4af...|2025-06-01 01:02:05|      inconnu|        5G|212653516080|212649883632|         126|        ready|        NULL|        NULL|        NULL|                NULL|          NULL|       2|      voice|      PLAN_C|       voice|minute|     flat|Appel vocal natio...|\n",
      "|   VOICE_NAT|212681757995|6044c31f-4946-4c7...|2025-06-01 01:20:29|  ELJADIDA_01|        5G|212681757995|212765652473|         429|        ready|        NULL|        NULL|        NULL|                NULL|          NULL|       3|      voice|      PLAN_C|       voice|minute|     flat|Appel vocal natio...|\n",
      "|     SMS_NAT|212727690707|e560ae5f-e26b-472...|2025-06-01 01:13:25|    TANGER_02|        4G|        NULL|        NULL|        NULL|        ready|212727690707|212783026298|        NULL|                NULL|          NULL|       2|        sms|      PLAN_C|         sms| event|     flat|Envoi SMS standar...|\n",
      "|  DATA_BASIC|212738097085|4d235312-f4f5-470...|2025-06-01 01:18:32|CASABLANCA_02|        3G|        NULL|        NULL|        NULL|        ready|        NULL|        NULL|212738097085|                 124|       1584.06|       3|       data|      PLAN_C|        data|    MB|     flat|Session Data basi...|\n",
      "|   VOICE_NAT|212792223109|0ea3ee1b-ddf8-489...|2025-06-01 00:52:46|CASABLANCA_03|        4G|212792223109|212600388215|          87|        ready|        NULL|        NULL|        NULL|                NULL|          NULL|       2|      voice|      PLAN_C|       voice|minute|     flat|Appel vocal natio...|\n",
      "+------------+------------+--------------------+-------------------+-------------+----------+------------+------------+------------+-------------+------------+------------+------------+--------------------+--------------+--------+-----------+------------+------------+------+---------+--------------------+\n",
      "only showing top 20 rows\n",
      "\n"
     ]
    }
   ],
   "source": [
    "# ─── jointure produit (rate_type, service_type) ────────────────────────\n",
    "cdrs2 = cdrs1.join(catalogDf, on=\"product_code\", how=\"left\")\n",
    "cdrs2.show()"
   ]
  },
  {
   "cell_type": "code",
   "execution_count": 9,
   "id": "6212e60b",
   "metadata": {
    "execution": {
     "iopub.execute_input": "2025-06-11T13:45:58.118539Z",
     "iopub.status.busy": "2025-06-11T13:45:58.118539Z",
     "iopub.status.idle": "2025-06-11T13:45:58.141051Z",
     "shell.execute_reply": "2025-06-11T13:45:58.140541Z"
    },
    "papermill": {
     "duration": 0.03252,
     "end_time": "2025-06-11T13:45:58.143059",
     "exception": false,
     "start_time": "2025-06-11T13:45:58.110539",
     "status": "completed"
    },
    "tags": []
   },
   "outputs": [],
   "source": [
    "cdrs3 = cdrs2.join(ratePlansDf,\n",
    "                   on=[\"rate_plan_id\", \"product_code\"],\n",
    "                   how=\"left\")"
   ]
  },
  {
   "cell_type": "code",
   "execution_count": 10,
   "id": "dde74800",
   "metadata": {
    "execution": {
     "iopub.execute_input": "2025-06-11T13:45:58.155081Z",
     "iopub.status.busy": "2025-06-11T13:45:58.154058Z",
     "iopub.status.idle": "2025-06-11T13:45:59.040083Z",
     "shell.execute_reply": "2025-06-11T13:45:59.039070Z"
    },
    "papermill": {
     "duration": 0.894022,
     "end_time": "2025-06-11T13:45:59.043079",
     "exception": false,
     "start_time": "2025-06-11T13:45:58.149057",
     "status": "completed"
    },
    "tags": []
   },
   "outputs": [
    {
     "name": "stdout",
     "output_type": "stream",
     "text": [
      "+------------+------------+------------+--------------------+-------------------+-------------+----------+------------+------------+------------+-------------+------------+------------+------------+--------------------+--------------+--------+-----------+------------+------+---------+--------------------+------------+----------+----------+--------------+----------+\n",
      "|rate_plan_id|product_code| customer_id|           record_ID|          timestamp|      cell_id|technology|   caller_id|   callee_id|duration_sec|rating_status|   sender_id| receiver_id|     user_id|session_duration_sec|data_volume_mb|batch_id|record_type|service_type|  unit|rate_type|         description|service_type|unit_price|free_units|tier_threshold|tier_price|\n",
      "+------------+------------+------------+--------------------+-------------------+-------------+----------+------------+------------+------------+-------------+------------+------------+------------+--------------------+--------------+--------+-----------+------------+------+---------+--------------------+------------+----------+----------+--------------+----------+\n",
      "|      PLAN_A|   VOICE_NAT|212614448367|9629906d-85c3-4a0...|2025-06-01 01:41:07|CASABLANCA_01|        4G|212614448367|212748169479|          73|        ready|        NULL|        NULL|        NULL|                NULL|          NULL|       3|      voice|       voice|minute|     flat|Appel vocal natio...|       voice|      0.01|         5|          NULL|      NULL|\n",
      "|      PLAN_C|   VOICE_NAT|212795556760|83a92a23-060f-4c9...|2025-06-01 00:57:08|     NADOR_01|        4G|212795556760|212782379177|         379|        ready|        NULL|        NULL|        NULL|                NULL|          NULL|       2|      voice|       voice|minute|     flat|Appel vocal natio...|       voice|     0.008|        10|          NULL|      NULL|\n",
      "|      PLAN_C|   VOICE_INT|212660506300|29506be5-afc0-4fe...|2025-06-01 01:23:50|      inconnu|        4G|212660506300|966666577302|         335|        ready|        NULL|        NULL|        NULL|                NULL|          NULL|       3|      voice|       voice|minute|     flat|Appel vocal inter...|       voice|     0.018|         0|          NULL|      NULL|\n",
      "|      PLAN_C|   VOICE_NAT|212616842798|22e56f7a-b88b-4e8...|2025-06-01 00:42:33|CASABLANCA_02|        4G|212616842798|212730989235|          40|        ready|        NULL|        NULL|        NULL|                NULL|          NULL|       1|      voice|       voice|minute|     flat|Appel vocal natio...|       voice|     0.008|        10|          NULL|      NULL|\n",
      "|      PLAN_A|     SMS_NAT|212715956664|ce572266-1b58-45c...|2025-06-01 01:05:47|    TANGER_02|        4G|        NULL|        NULL|        NULL|        ready|212715956664|     inconnu|        NULL|                NULL|          NULL|       2|        sms|         sms| event|     flat|Envoi SMS standar...|         sms|      0.04|         5|          NULL|      NULL|\n",
      "|      PLAN_C|   VOICE_NAT|212602633142|c227825b-ba6c-423...|2025-06-01 01:16:33|      inconnu|        5G|212602633142|212778981013|          58|        ready|        NULL|        NULL|        NULL|                NULL|          NULL|       2|      voice|       voice|minute|     flat|Appel vocal natio...|       voice|     0.008|        10|          NULL|      NULL|\n",
      "|      PLAN_B|   VOICE_NAT|212754025100|d6206f12-82ff-498...|2025-06-01 01:58:29|      SAFI_01|        4G|212754025100|212633593932|         435|        ready|        NULL|        NULL|        NULL|                NULL|          NULL|       4|      voice|       voice|minute|     flat|Appel vocal natio...|       voice|     0.012|         6|          NULL|      NULL|\n",
      "|      PLAN_A|     SMS_NAT|212738098493|ed8a11f3-401e-483...|2025-06-01 01:04:35|CASABLANCA_01|        2G|        NULL|        NULL|        NULL|        ready|212738098493|212627620442|        NULL|                NULL|          NULL|       2|        sms|         sms| event|     flat|Envoi SMS standar...|         sms|      0.04|         5|          NULL|      NULL|\n",
      "|      PLAN_B|     SMS_NAT|212634021486|4ba25cbc-113b-40a...|2025-06-01 01:35:09|    AGADIR_01|        3G|        NULL|        NULL|        NULL|        ready|212634021486|212789651955|        NULL|                NULL|          NULL|       3|        sms|         sms| event|     flat|Envoi SMS standar...|         sms|     0.035|         3|          NULL|      NULL|\n",
      "|      PLAN_C|     SMS_NAT|212698691597|5a0a0dd0-25e8-435...|2025-06-01 01:33:23|      inconnu|        4G|        NULL|        NULL|        NULL|        ready|212698691597|212631948827|        NULL|                NULL|          NULL|       3|        sms|         sms| event|     flat|Envoi SMS standar...|         sms|     0.035|         2|          NULL|      NULL|\n",
      "|      PLAN_B|     SMS_NAT|212781115917|b6817632-016e-441...|2025-06-01 01:56:42|       FES_01|        2G|        NULL|        NULL|        NULL|        ready|212781115917|212667505040|        NULL|                NULL|          NULL|       4|        sms|         sms| event|     flat|Envoi SMS standar...|         sms|     0.035|         3|          NULL|      NULL|\n",
      "|      PLAN_A|   VOICE_INT|212736864154|1d110936-bcf3-474...|2025-06-01 01:21:35|      inconnu|        5G|212736864154| 33538966300|         298|        ready|        NULL|        NULL|        NULL|                NULL|          NULL|       3|      voice|       voice|minute|     flat|Appel vocal inter...|       voice|      0.02|         0|          NULL|      NULL|\n",
      "|      PLAN_A|  DATA_BASIC|212681362376|802e206a-83d9-43f...|2025-06-01 01:50:39|     RABAT_02|        5G|        NULL|        NULL|        NULL|        ready|        NULL|        NULL|212681362376|                 367|       1291.63|       4|       data|        data|    MB|     flat|Session Data basi...|        data|      0.02|        20|          NULL|      NULL|\n",
      "|      PLAN_A|     SMS_NAT|212790291029|f3f97c1e-0249-433...|2025-06-01 01:10:49| MARRAKECH_02|        2G|        NULL|        NULL|        NULL|        ready|212790291029|212782729873|        NULL|                NULL|          NULL|       2|        sms|         sms| event|     flat|Envoi SMS standar...|         sms|      0.04|         5|          NULL|      NULL|\n",
      "|      PLAN_A|   VOICE_NAT|212755017347|634520f0-cc6d-4ac...|2025-06-01 01:48:46|      inconnu|        2G|212755017347|212607149592|         195|        ready|        NULL|        NULL|        NULL|                NULL|          NULL|       4|      voice|       voice|minute|     flat|Appel vocal natio...|       voice|      0.01|         5|          NULL|      NULL|\n",
      "|      PLAN_C|   VOICE_NAT|212653516080|b31e260e-eaa8-4af...|2025-06-01 01:02:05|      inconnu|        5G|212653516080|212649883632|         126|        ready|        NULL|        NULL|        NULL|                NULL|          NULL|       2|      voice|       voice|minute|     flat|Appel vocal natio...|       voice|     0.008|        10|          NULL|      NULL|\n",
      "|      PLAN_C|   VOICE_NAT|212681757995|6044c31f-4946-4c7...|2025-06-01 01:20:29|  ELJADIDA_01|        5G|212681757995|212765652473|         429|        ready|        NULL|        NULL|        NULL|                NULL|          NULL|       3|      voice|       voice|minute|     flat|Appel vocal natio...|       voice|     0.008|        10|          NULL|      NULL|\n",
      "|      PLAN_C|     SMS_NAT|212727690707|e560ae5f-e26b-472...|2025-06-01 01:13:25|    TANGER_02|        4G|        NULL|        NULL|        NULL|        ready|212727690707|212783026298|        NULL|                NULL|          NULL|       2|        sms|         sms| event|     flat|Envoi SMS standar...|         sms|     0.035|         2|          NULL|      NULL|\n",
      "|      PLAN_C|  DATA_BASIC|212738097085|4d235312-f4f5-470...|2025-06-01 01:18:32|CASABLANCA_02|        3G|        NULL|        NULL|        NULL|        ready|        NULL|        NULL|212738097085|                 124|       1584.06|       3|       data|        data|    MB|     flat|Session Data basi...|        data|     0.018|        20|          NULL|      NULL|\n",
      "|      PLAN_C|   VOICE_NAT|212792223109|0ea3ee1b-ddf8-489...|2025-06-01 00:52:46|CASABLANCA_03|        4G|212792223109|212600388215|          87|        ready|        NULL|        NULL|        NULL|                NULL|          NULL|       2|      voice|       voice|minute|     flat|Appel vocal natio...|       voice|     0.008|        10|          NULL|      NULL|\n",
      "+------------+------------+------------+--------------------+-------------------+-------------+----------+------------+------------+------------+-------------+------------+------------+------------+--------------------+--------------+--------+-----------+------------+------+---------+--------------------+------------+----------+----------+--------------+----------+\n",
      "only showing top 20 rows\n",
      "\n"
     ]
    }
   ],
   "source": [
    "cdrs3.show()"
   ]
  },
  {
   "cell_type": "code",
   "execution_count": 11,
   "id": "bd2697ab",
   "metadata": {
    "execution": {
     "iopub.execute_input": "2025-06-11T13:45:59.064075Z",
     "iopub.status.busy": "2025-06-11T13:45:59.064075Z",
     "iopub.status.idle": "2025-06-11T13:45:59.959988Z",
     "shell.execute_reply": "2025-06-11T13:45:59.958988Z"
    },
    "papermill": {
     "duration": 0.908912,
     "end_time": "2025-06-11T13:45:59.961988",
     "exception": false,
     "start_time": "2025-06-11T13:45:59.053076",
     "status": "completed"
    },
    "tags": []
   },
   "outputs": [
    {
     "name": "stdout",
     "output_type": "stream",
     "text": [
      "+------------+------------+------------+--------------------+-------------------+-------------+----------+------------+------------+------------+-------------+------------+------------+------------+--------------------+--------------+--------+-----------+------+---------+--------------------+----------+----------+--------------+----------+\n",
      "|rate_plan_id|product_code| customer_id|           record_ID|          timestamp|      cell_id|technology|   caller_id|   callee_id|duration_sec|rating_status|   sender_id| receiver_id|     user_id|session_duration_sec|data_volume_mb|batch_id|record_type|  unit|rate_type|         description|unit_price|free_units|tier_threshold|tier_price|\n",
      "+------------+------------+------------+--------------------+-------------------+-------------+----------+------------+------------+------------+-------------+------------+------------+------------+--------------------+--------------+--------+-----------+------+---------+--------------------+----------+----------+--------------+----------+\n",
      "|      PLAN_A|   VOICE_NAT|212614448367|9629906d-85c3-4a0...|2025-06-01 01:41:07|CASABLANCA_01|        4G|212614448367|212748169479|          73|        ready|        NULL|        NULL|        NULL|                NULL|          NULL|       3|      voice|minute|     flat|Appel vocal natio...|      0.01|         5|          NULL|      NULL|\n",
      "|      PLAN_C|   VOICE_NAT|212795556760|83a92a23-060f-4c9...|2025-06-01 00:57:08|     NADOR_01|        4G|212795556760|212782379177|         379|        ready|        NULL|        NULL|        NULL|                NULL|          NULL|       2|      voice|minute|     flat|Appel vocal natio...|     0.008|        10|          NULL|      NULL|\n",
      "|      PLAN_C|   VOICE_INT|212660506300|29506be5-afc0-4fe...|2025-06-01 01:23:50|      inconnu|        4G|212660506300|966666577302|         335|        ready|        NULL|        NULL|        NULL|                NULL|          NULL|       3|      voice|minute|     flat|Appel vocal inter...|     0.018|         0|          NULL|      NULL|\n",
      "|      PLAN_C|   VOICE_NAT|212616842798|22e56f7a-b88b-4e8...|2025-06-01 00:42:33|CASABLANCA_02|        4G|212616842798|212730989235|          40|        ready|        NULL|        NULL|        NULL|                NULL|          NULL|       1|      voice|minute|     flat|Appel vocal natio...|     0.008|        10|          NULL|      NULL|\n",
      "|      PLAN_A|     SMS_NAT|212715956664|ce572266-1b58-45c...|2025-06-01 01:05:47|    TANGER_02|        4G|        NULL|        NULL|        NULL|        ready|212715956664|     inconnu|        NULL|                NULL|          NULL|       2|        sms| event|     flat|Envoi SMS standar...|      0.04|         5|          NULL|      NULL|\n",
      "|      PLAN_C|   VOICE_NAT|212602633142|c227825b-ba6c-423...|2025-06-01 01:16:33|      inconnu|        5G|212602633142|212778981013|          58|        ready|        NULL|        NULL|        NULL|                NULL|          NULL|       2|      voice|minute|     flat|Appel vocal natio...|     0.008|        10|          NULL|      NULL|\n",
      "|      PLAN_B|   VOICE_NAT|212754025100|d6206f12-82ff-498...|2025-06-01 01:58:29|      SAFI_01|        4G|212754025100|212633593932|         435|        ready|        NULL|        NULL|        NULL|                NULL|          NULL|       4|      voice|minute|     flat|Appel vocal natio...|     0.012|         6|          NULL|      NULL|\n",
      "|      PLAN_A|     SMS_NAT|212738098493|ed8a11f3-401e-483...|2025-06-01 01:04:35|CASABLANCA_01|        2G|        NULL|        NULL|        NULL|        ready|212738098493|212627620442|        NULL|                NULL|          NULL|       2|        sms| event|     flat|Envoi SMS standar...|      0.04|         5|          NULL|      NULL|\n",
      "|      PLAN_B|     SMS_NAT|212634021486|4ba25cbc-113b-40a...|2025-06-01 01:35:09|    AGADIR_01|        3G|        NULL|        NULL|        NULL|        ready|212634021486|212789651955|        NULL|                NULL|          NULL|       3|        sms| event|     flat|Envoi SMS standar...|     0.035|         3|          NULL|      NULL|\n",
      "|      PLAN_C|     SMS_NAT|212698691597|5a0a0dd0-25e8-435...|2025-06-01 01:33:23|      inconnu|        4G|        NULL|        NULL|        NULL|        ready|212698691597|212631948827|        NULL|                NULL|          NULL|       3|        sms| event|     flat|Envoi SMS standar...|     0.035|         2|          NULL|      NULL|\n",
      "|      PLAN_B|     SMS_NAT|212781115917|b6817632-016e-441...|2025-06-01 01:56:42|       FES_01|        2G|        NULL|        NULL|        NULL|        ready|212781115917|212667505040|        NULL|                NULL|          NULL|       4|        sms| event|     flat|Envoi SMS standar...|     0.035|         3|          NULL|      NULL|\n",
      "|      PLAN_A|   VOICE_INT|212736864154|1d110936-bcf3-474...|2025-06-01 01:21:35|      inconnu|        5G|212736864154| 33538966300|         298|        ready|        NULL|        NULL|        NULL|                NULL|          NULL|       3|      voice|minute|     flat|Appel vocal inter...|      0.02|         0|          NULL|      NULL|\n",
      "|      PLAN_A|  DATA_BASIC|212681362376|802e206a-83d9-43f...|2025-06-01 01:50:39|     RABAT_02|        5G|        NULL|        NULL|        NULL|        ready|        NULL|        NULL|212681362376|                 367|       1291.63|       4|       data|    MB|     flat|Session Data basi...|      0.02|        20|          NULL|      NULL|\n",
      "|      PLAN_A|     SMS_NAT|212790291029|f3f97c1e-0249-433...|2025-06-01 01:10:49| MARRAKECH_02|        2G|        NULL|        NULL|        NULL|        ready|212790291029|212782729873|        NULL|                NULL|          NULL|       2|        sms| event|     flat|Envoi SMS standar...|      0.04|         5|          NULL|      NULL|\n",
      "|      PLAN_A|   VOICE_NAT|212755017347|634520f0-cc6d-4ac...|2025-06-01 01:48:46|      inconnu|        2G|212755017347|212607149592|         195|        ready|        NULL|        NULL|        NULL|                NULL|          NULL|       4|      voice|minute|     flat|Appel vocal natio...|      0.01|         5|          NULL|      NULL|\n",
      "|      PLAN_C|   VOICE_NAT|212653516080|b31e260e-eaa8-4af...|2025-06-01 01:02:05|      inconnu|        5G|212653516080|212649883632|         126|        ready|        NULL|        NULL|        NULL|                NULL|          NULL|       2|      voice|minute|     flat|Appel vocal natio...|     0.008|        10|          NULL|      NULL|\n",
      "|      PLAN_C|   VOICE_NAT|212681757995|6044c31f-4946-4c7...|2025-06-01 01:20:29|  ELJADIDA_01|        5G|212681757995|212765652473|         429|        ready|        NULL|        NULL|        NULL|                NULL|          NULL|       3|      voice|minute|     flat|Appel vocal natio...|     0.008|        10|          NULL|      NULL|\n",
      "|      PLAN_C|     SMS_NAT|212727690707|e560ae5f-e26b-472...|2025-06-01 01:13:25|    TANGER_02|        4G|        NULL|        NULL|        NULL|        ready|212727690707|212783026298|        NULL|                NULL|          NULL|       2|        sms| event|     flat|Envoi SMS standar...|     0.035|         2|          NULL|      NULL|\n",
      "|      PLAN_C|  DATA_BASIC|212738097085|4d235312-f4f5-470...|2025-06-01 01:18:32|CASABLANCA_02|        3G|        NULL|        NULL|        NULL|        ready|        NULL|        NULL|212738097085|                 124|       1584.06|       3|       data|    MB|     flat|Session Data basi...|     0.018|        20|          NULL|      NULL|\n",
      "|      PLAN_C|   VOICE_NAT|212792223109|0ea3ee1b-ddf8-489...|2025-06-01 00:52:46|CASABLANCA_03|        4G|212792223109|212600388215|          87|        ready|        NULL|        NULL|        NULL|                NULL|          NULL|       2|      voice|minute|     flat|Appel vocal natio...|     0.008|        10|          NULL|      NULL|\n",
      "+------------+------------+------------+--------------------+-------------------+-------------+----------+------------+------------+------------+-------------+------------+------------+------------+--------------------+--------------+--------+-----------+------+---------+--------------------+----------+----------+--------------+----------+\n",
      "only showing top 20 rows\n",
      "\n"
     ]
    }
   ],
   "source": [
    "cdrs3=cdrs3.drop(\"service_type\")\n",
    "cdrs3.show()"
   ]
  },
  {
   "cell_type": "code",
   "execution_count": 12,
   "id": "a1b07d59",
   "metadata": {
    "execution": {
     "iopub.execute_input": "2025-06-11T13:45:59.978992Z",
     "iopub.status.busy": "2025-06-11T13:45:59.978992Z",
     "iopub.status.idle": "2025-06-11T13:46:00.167593Z",
     "shell.execute_reply": "2025-06-11T13:46:00.166585Z"
    },
    "papermill": {
     "duration": 0.200607,
     "end_time": "2025-06-11T13:46:00.171600",
     "exception": false,
     "start_time": "2025-06-11T13:45:59.970993",
     "status": "completed"
    },
    "tags": []
   },
   "outputs": [],
   "source": [
    "from pyspark.sql.functions import col, min as spark_min\n",
    "\n",
    "agg = (cdrs3\n",
    "       .filter(col(\"record_type\") == \"data\")\n",
    "       .groupBy(\"customer_id\")\n",
    "       .agg(\n",
    "           spark_min(\"data_volume_mb\")\n",
    "           .alias(\"user_min_mb\")\n",
    "       )\n",
    ")\n",
    "\n",
    "cdrs4 = cdrs3.join(agg, on=\"customer_id\", how=\"left\")"
   ]
  },
  {
   "cell_type": "code",
   "execution_count": 13,
   "id": "31aa9336",
   "metadata": {
    "execution": {
     "iopub.execute_input": "2025-06-11T13:46:00.183594Z",
     "iopub.status.busy": "2025-06-11T13:46:00.182592Z",
     "iopub.status.idle": "2025-06-11T13:46:02.205352Z",
     "shell.execute_reply": "2025-06-11T13:46:02.205352Z"
    },
    "papermill": {
     "duration": 2.031771,
     "end_time": "2025-06-11T13:46:02.208363",
     "exception": false,
     "start_time": "2025-06-11T13:46:00.176592",
     "status": "completed"
    },
    "tags": []
   },
   "outputs": [
    {
     "name": "stdout",
     "output_type": "stream",
     "text": [
      "+------------+------------+------------+--------------------+-------------------+-------------+----------+------------+------------+------------+-------------+------------+------------+------------+--------------------+--------------+--------+-----------+------+---------+--------------------+----------+----------+--------------+----------+-----------+\n",
      "| customer_id|rate_plan_id|product_code|           record_ID|          timestamp|      cell_id|technology|   caller_id|   callee_id|duration_sec|rating_status|   sender_id| receiver_id|     user_id|session_duration_sec|data_volume_mb|batch_id|record_type|  unit|rate_type|         description|unit_price|free_units|tier_threshold|tier_price|user_min_mb|\n",
      "+------------+------------+------------+--------------------+-------------------+-------------+----------+------------+------------+------------+-------------+------------+------------+------------+--------------------+--------------+--------+-----------+------+---------+--------------------+----------+----------+--------------+----------+-----------+\n",
      "|212736864154|      PLAN_A|   VOICE_INT|1d110936-bcf3-474...|2025-06-01 01:21:35|      inconnu|        5G|212736864154| 33538966300|         298|        ready|        NULL|        NULL|        NULL|                NULL|          NULL|       3|      voice|minute|     flat|Appel vocal inter...|      0.02|         0|          NULL|      NULL|       NULL|\n",
      "|212792223109|      PLAN_C|   VOICE_NAT|0ea3ee1b-ddf8-489...|2025-06-01 00:52:46|CASABLANCA_03|        4G|212792223109|212600388215|          87|        ready|        NULL|        NULL|        NULL|                NULL|          NULL|       2|      voice|minute|     flat|Appel vocal natio...|     0.008|        10|          NULL|      NULL|       NULL|\n",
      "|212755017347|      PLAN_A|   VOICE_NAT|634520f0-cc6d-4ac...|2025-06-01 01:48:46|      inconnu|        2G|212755017347|212607149592|         195|        ready|        NULL|        NULL|        NULL|                NULL|          NULL|       4|      voice|minute|     flat|Appel vocal natio...|      0.01|         5|          NULL|      NULL|       NULL|\n",
      "|212713149055|      PLAN_C|   VOICE_NAT|4a326623-7bf5-4ad...|2025-06-01 00:59:50|      inconnu|        3G|212713149055|212681757995|         374|        ready|        NULL|        NULL|        NULL|                NULL|          NULL|       2|      voice|minute|     flat|Appel vocal natio...|     0.008|        10|          NULL|      NULL|       NULL|\n",
      "|212738098493|      PLAN_A|     SMS_NAT|ed8a11f3-401e-483...|2025-06-01 01:04:35|CASABLANCA_01|        2G|        NULL|        NULL|        NULL|        ready|212738098493|212627620442|        NULL|                NULL|          NULL|       2|        sms| event|     flat|Envoi SMS standar...|      0.04|         5|          NULL|      NULL|       NULL|\n",
      "|212616842798|      PLAN_C|   VOICE_NAT|22e56f7a-b88b-4e8...|2025-06-01 00:42:33|CASABLANCA_02|        4G|212616842798|212730989235|          40|        ready|        NULL|        NULL|        NULL|                NULL|          NULL|       1|      voice|minute|     flat|Appel vocal natio...|     0.008|        10|          NULL|      NULL|       NULL|\n",
      "|212790291029|      PLAN_A|     SMS_NAT|f3f97c1e-0249-433...|2025-06-01 01:10:49| MARRAKECH_02|        2G|        NULL|        NULL|        NULL|        ready|212790291029|212782729873|        NULL|                NULL|          NULL|       2|        sms| event|     flat|Envoi SMS standar...|      0.04|         5|          NULL|      NULL|       NULL|\n",
      "|212681757995|      PLAN_C|   VOICE_NAT|6044c31f-4946-4c7...|2025-06-01 01:20:29|  ELJADIDA_01|        5G|212681757995|212765652473|         429|        ready|        NULL|        NULL|        NULL|                NULL|          NULL|       3|      voice|minute|     flat|Appel vocal natio...|     0.008|        10|          NULL|      NULL|       NULL|\n",
      "|212781115917|      PLAN_B|     SMS_NAT|b6817632-016e-441...|2025-06-01 01:56:42|       FES_01|        2G|        NULL|        NULL|        NULL|        ready|212781115917|212667505040|        NULL|                NULL|          NULL|       4|        sms| event|     flat|Envoi SMS standar...|     0.035|         3|          NULL|      NULL|       NULL|\n",
      "|212738097085|      PLAN_C|  DATA_BASIC|4d235312-f4f5-470...|2025-06-01 01:18:32|CASABLANCA_02|        3G|        NULL|        NULL|        NULL|        ready|        NULL|        NULL|212738097085|                 124|       1584.06|       3|       data|    MB|     flat|Session Data basi...|     0.018|        20|          NULL|      NULL|    1584.06|\n",
      "|212795556760|      PLAN_C|   VOICE_NAT|83a92a23-060f-4c9...|2025-06-01 00:57:08|     NADOR_01|        4G|212795556760|212782379177|         379|        ready|        NULL|        NULL|        NULL|                NULL|          NULL|       2|      voice|minute|     flat|Appel vocal natio...|     0.008|        10|          NULL|      NULL|       NULL|\n",
      "|212653516080|      PLAN_C|   VOICE_NAT|b31e260e-eaa8-4af...|2025-06-01 01:02:05|      inconnu|        5G|212653516080|212649883632|         126|        ready|        NULL|        NULL|        NULL|                NULL|          NULL|       2|      voice|minute|     flat|Appel vocal natio...|     0.008|        10|          NULL|      NULL|       NULL|\n",
      "|212681362376|      PLAN_A|  DATA_BASIC|802e206a-83d9-43f...|2025-06-01 01:50:39|     RABAT_02|        5G|        NULL|        NULL|        NULL|        ready|        NULL|        NULL|212681362376|                 367|       1291.63|       4|       data|    MB|     flat|Session Data basi...|      0.02|        20|          NULL|      NULL|    1291.63|\n",
      "|212715956664|      PLAN_A|     SMS_NAT|ce572266-1b58-45c...|2025-06-01 01:05:47|    TANGER_02|        4G|        NULL|        NULL|        NULL|        ready|212715956664|     inconnu|        NULL|                NULL|          NULL|       2|        sms| event|     flat|Envoi SMS standar...|      0.04|         5|          NULL|      NULL|       NULL|\n",
      "|212660506300|      PLAN_C|   VOICE_INT|29506be5-afc0-4fe...|2025-06-01 01:23:50|      inconnu|        4G|212660506300|966666577302|         335|        ready|        NULL|        NULL|        NULL|                NULL|          NULL|       3|      voice|minute|     flat|Appel vocal inter...|     0.018|         0|          NULL|      NULL|       NULL|\n",
      "|212602633142|      PLAN_C|   VOICE_NAT|c227825b-ba6c-423...|2025-06-01 01:16:33|      inconnu|        5G|212602633142|212778981013|          58|        ready|        NULL|        NULL|        NULL|                NULL|          NULL|       2|      voice|minute|     flat|Appel vocal natio...|     0.008|        10|          NULL|      NULL|       NULL|\n",
      "|212634021486|      PLAN_B|     SMS_NAT|4ba25cbc-113b-40a...|2025-06-01 01:35:09|    AGADIR_01|        3G|        NULL|        NULL|        NULL|        ready|212634021486|212789651955|        NULL|                NULL|          NULL|       3|        sms| event|     flat|Envoi SMS standar...|     0.035|         3|          NULL|      NULL|       NULL|\n",
      "|212727690707|      PLAN_C|     SMS_NAT|e560ae5f-e26b-472...|2025-06-01 01:13:25|    TANGER_02|        4G|        NULL|        NULL|        NULL|        ready|212727690707|212783026298|        NULL|                NULL|          NULL|       2|        sms| event|     flat|Envoi SMS standar...|     0.035|         2|          NULL|      NULL|       NULL|\n",
      "|212614448367|      PLAN_A|   VOICE_NAT|9629906d-85c3-4a0...|2025-06-01 01:41:07|CASABLANCA_01|        4G|212614448367|212748169479|          73|        ready|        NULL|        NULL|        NULL|                NULL|          NULL|       3|      voice|minute|     flat|Appel vocal natio...|      0.01|         5|          NULL|      NULL|       NULL|\n",
      "|212698691597|      PLAN_C|     SMS_NAT|5a0a0dd0-25e8-435...|2025-06-01 01:33:23|      inconnu|        4G|        NULL|        NULL|        NULL|        ready|212698691597|212631948827|        NULL|                NULL|          NULL|       3|        sms| event|     flat|Envoi SMS standar...|     0.035|         2|          NULL|      NULL|       NULL|\n",
      "+------------+------------+------------+--------------------+-------------------+-------------+----------+------------+------------+------------+-------------+------------+------------+------------+--------------------+--------------+--------+-----------+------+---------+--------------------+----------+----------+--------------+----------+-----------+\n",
      "only showing top 20 rows\n",
      "\n"
     ]
    }
   ],
   "source": [
    "cdrs4.show()"
   ]
  },
  {
   "cell_type": "code",
   "execution_count": 14,
   "id": "95afade2",
   "metadata": {
    "execution": {
     "iopub.execute_input": "2025-06-11T13:46:02.225194Z",
     "iopub.status.busy": "2025-06-11T13:46:02.225194Z",
     "iopub.status.idle": "2025-06-11T13:46:02.261284Z",
     "shell.execute_reply": "2025-06-11T13:46:02.260275Z"
    },
    "papermill": {
     "duration": 0.045923,
     "end_time": "2025-06-11T13:46:02.263283",
     "exception": false,
     "start_time": "2025-06-11T13:46:02.217360",
     "status": "completed"
    },
    "tags": []
   },
   "outputs": [],
   "source": [
    "cdrs4 = cdrs4.withColumn(\n",
    "    \"data_volume_mb\",\n",
    "    when( (col(\"data_volume_mb\")==\"inconnu\"), col(\"user_min_mb\"))\n",
    "    .otherwise(col(\"data_volume_mb\"))\n",
    ")"
   ]
  },
  {
   "cell_type": "code",
   "execution_count": 15,
   "id": "1767020d",
   "metadata": {
    "execution": {
     "iopub.execute_input": "2025-06-11T13:46:02.285287Z",
     "iopub.status.busy": "2025-06-11T13:46:02.284287Z",
     "iopub.status.idle": "2025-06-11T13:46:02.331190Z",
     "shell.execute_reply": "2025-06-11T13:46:02.331190Z"
    },
    "papermill": {
     "duration": 0.060915,
     "end_time": "2025-06-11T13:46:02.333199",
     "exception": false,
     "start_time": "2025-06-11T13:46:02.272284",
     "status": "completed"
    },
    "tags": []
   },
   "outputs": [],
   "source": [
    "cdrs4 = cdrs4.withColumn(\n",
    "    \"data_volume_mb\",\n",
    "    when( ((col(\"user_min_mb\")==\"inconnu\") &(col(\"data_volume_mb\")==\"inconnu\")), lit(0)).otherwise(col(\"data_volume_mb\")))"
   ]
  },
  {
   "cell_type": "code",
   "execution_count": 16,
   "id": "0c150671",
   "metadata": {
    "execution": {
     "iopub.execute_input": "2025-06-11T13:46:02.355201Z",
     "iopub.status.busy": "2025-06-11T13:46:02.354200Z",
     "iopub.status.idle": "2025-06-11T13:46:02.391620Z",
     "shell.execute_reply": "2025-06-11T13:46:02.390612Z"
    },
    "papermill": {
     "duration": 0.050421,
     "end_time": "2025-06-11T13:46:02.392620",
     "exception": false,
     "start_time": "2025-06-11T13:46:02.342199",
     "status": "completed"
    },
    "tags": []
   },
   "outputs": [],
   "source": [
    "cdrs4 = cdrs4.withColumn(\n",
    "    \"rating_status\",\n",
    "    when((col(\"rating_status\")==\"needs_review\")&(col(\"data_volume_mb\")==\"inconnu\"), \"unmatched\").otherwise(col(\"rating_status\"))\n",
    ")"
   ]
  },
  {
   "cell_type": "code",
   "execution_count": 17,
   "id": "4e867c4a",
   "metadata": {
    "execution": {
     "iopub.execute_input": "2025-06-11T13:46:02.406619Z",
     "iopub.status.busy": "2025-06-11T13:46:02.406619Z",
     "iopub.status.idle": "2025-06-11T13:46:02.436566Z",
     "shell.execute_reply": "2025-06-11T13:46:02.435557Z"
    },
    "papermill": {
     "duration": 0.039944,
     "end_time": "2025-06-11T13:46:02.439564",
     "exception": false,
     "start_time": "2025-06-11T13:46:02.399620",
     "status": "completed"
    },
    "tags": []
   },
   "outputs": [],
   "source": [
    "cdrs4 = cdrs4.withColumn(\n",
    "    \"rating_status\",\n",
    "    when((col(\"rating_status\")==\"needs_review\"), \"ready\").otherwise(col(\"rating_status\"))\n",
    ")"
   ]
  },
  {
   "cell_type": "code",
   "execution_count": 18,
   "id": "ceac3ad1",
   "metadata": {
    "execution": {
     "iopub.execute_input": "2025-06-11T13:46:02.456568Z",
     "iopub.status.busy": "2025-06-11T13:46:02.455567Z",
     "iopub.status.idle": "2025-06-11T13:46:03.522374Z",
     "shell.execute_reply": "2025-06-11T13:46:03.520365Z"
    },
    "papermill": {
     "duration": 1.078806,
     "end_time": "2025-06-11T13:46:03.523374",
     "exception": false,
     "start_time": "2025-06-11T13:46:02.444568",
     "status": "completed"
    },
    "tags": []
   },
   "outputs": [
    {
     "name": "stdout",
     "output_type": "stream",
     "text": [
      "+------------+------------+------------+--------------------+-------------------+-------------+----------+------------+------------+------------+-------------+------------+------------+------------+--------------------+--------------+--------+-----------+------+---------+--------------------+----------+----------+--------------+----------+-----------+\n",
      "| customer_id|rate_plan_id|product_code|           record_ID|          timestamp|      cell_id|technology|   caller_id|   callee_id|duration_sec|rating_status|   sender_id| receiver_id|     user_id|session_duration_sec|data_volume_mb|batch_id|record_type|  unit|rate_type|         description|unit_price|free_units|tier_threshold|tier_price|user_min_mb|\n",
      "+------------+------------+------------+--------------------+-------------------+-------------+----------+------------+------------+------------+-------------+------------+------------+------------+--------------------+--------------+--------+-----------+------+---------+--------------------+----------+----------+--------------+----------+-----------+\n",
      "|212736864154|      PLAN_A|   VOICE_INT|1d110936-bcf3-474...|2025-06-01 01:21:35|      inconnu|        5G|212736864154| 33538966300|         298|        ready|        NULL|        NULL|        NULL|                NULL|          NULL|       3|      voice|minute|     flat|Appel vocal inter...|      0.02|         0|          NULL|      NULL|       NULL|\n",
      "|212722584949|      PLAN_B|   VOICE_NAT|5c9e0c0e-e648-450...|2025-06-01 01:06:11|       FES_01|        4G|212722584949|212798091750|         199|        ready|        NULL|        NULL|        NULL|                NULL|          NULL|       2|      voice|minute|     flat|Appel vocal natio...|     0.012|         6|          NULL|      NULL|       NULL|\n",
      "|212792223109|      PLAN_C|   VOICE_NAT|0ea3ee1b-ddf8-489...|2025-06-01 00:52:46|CASABLANCA_03|        4G|212792223109|212600388215|          87|        ready|        NULL|        NULL|        NULL|                NULL|          NULL|       2|      voice|minute|     flat|Appel vocal natio...|     0.008|        10|          NULL|      NULL|       NULL|\n",
      "|212729028258|      PLAN_A|   VOICE_INT|2f62889b-409c-441...|2025-06-01 01:28:59|      inconnu|        5G|212729028258|447722254052|          35|        ready|        NULL|        NULL|        NULL|                NULL|          NULL|       3|      voice|minute|     flat|Appel vocal inter...|      0.02|         0|          NULL|      NULL|       NULL|\n",
      "|212765779578|      PLAN_B|   VOICE_NAT|6515f775-994c-4ee...|2025-06-01 01:30:19|   TETOUAN_01|        4G|212765779578|212676538038|          18|        ready|        NULL|        NULL|        NULL|                NULL|          NULL|       3|      voice|minute|     flat|Appel vocal natio...|     0.012|         6|          NULL|      NULL|       NULL|\n",
      "|212606574857|      PLAN_C|DATA_PREMIUM|d0543fad-b9d3-443...|2025-06-01 00:49:40|     OUJDA_01|        3G|        NULL|        NULL|        NULL|        ready|        NULL|        NULL|212606574857|                 551|        508.18|       1|       data|    MB|   tiered|Session Data prem...|     0.015|        40|          2048|      0.05|     508.18|\n",
      "|212755017347|      PLAN_A|   VOICE_NAT|634520f0-cc6d-4ac...|2025-06-01 01:48:46|      inconnu|        2G|212755017347|212607149592|         195|        ready|        NULL|        NULL|        NULL|                NULL|          NULL|       4|      voice|minute|     flat|Appel vocal natio...|      0.01|         5|          NULL|      NULL|       NULL|\n",
      "|212713149055|      PLAN_C|   VOICE_NAT|4a326623-7bf5-4ad...|2025-06-01 00:59:50|      inconnu|        3G|212713149055|212681757995|         374|        ready|        NULL|        NULL|        NULL|                NULL|          NULL|       2|      voice|minute|     flat|Appel vocal natio...|     0.008|        10|          NULL|      NULL|       NULL|\n",
      "|212651156096|      PLAN_B|   VOICE_NAT|3b6489cc-3ba7-4b8...|2025-06-01 01:52:11|      inconnu|        2G|212651156096|212632879292|         336|        ready|        NULL|        NULL|        NULL|                NULL|          NULL|       4|      voice|minute|     flat|Appel vocal natio...|     0.012|         6|          NULL|      NULL|       NULL|\n",
      "|212670692800|      PLAN_B|  DATA_BASIC|ac8e2997-22b6-40e...|2025-06-01 01:47:25|      inconnu|        4G|        NULL|        NULL|        NULL|        ready|        NULL|        NULL|212670692800|                 221|       1468.83|       4|       data|    MB|     flat|Session Data basi...|     0.022|        25|          NULL|      NULL|    1468.83|\n",
      "|212673265429|      PLAN_B|  DATA_BASIC|348c726c-e1e1-411...|2025-06-01 00:44:10|       FES_01|        5G|        NULL|        NULL|        NULL|        ready|        NULL|        NULL|212673265429|                 115|       1929.31|       1|       data|    MB|     flat|Session Data basi...|     0.022|        25|          NULL|      NULL|    1929.31|\n",
      "|212738098493|      PLAN_A|     SMS_NAT|ed8a11f3-401e-483...|2025-06-01 01:04:35|CASABLANCA_01|        2G|        NULL|        NULL|        NULL|        ready|212738098493|212627620442|        NULL|                NULL|          NULL|       2|        sms| event|     flat|Envoi SMS standar...|      0.04|         5|          NULL|      NULL|       NULL|\n",
      "|212631101815|      PLAN_C|   VOICE_NAT|2a23356a-f7a0-4fb...|2025-06-01 01:53:07|  ELJADIDA_01|        5G|212631101815|212613108047|         444|        ready|        NULL|        NULL|        NULL|                NULL|          NULL|       4|      voice|minute|     flat|Appel vocal natio...|     0.008|        10|          NULL|      NULL|       NULL|\n",
      "|212667703272|      PLAN_A|   VOICE_NAT|7198ce15-36fa-4e7...|2025-06-01 00:46:11|      inconnu|        3G|212667703272|212663531220|         551|        ready|        NULL|        NULL|        NULL|                NULL|          NULL|       1|      voice|minute|     flat|Appel vocal natio...|      0.01|         5|          NULL|      NULL|       NULL|\n",
      "|212616842798|      PLAN_C|   VOICE_NAT|22e56f7a-b88b-4e8...|2025-06-01 00:42:33|CASABLANCA_02|        4G|212616842798|212730989235|          40|        ready|        NULL|        NULL|        NULL|                NULL|          NULL|       1|      voice|minute|     flat|Appel vocal natio...|     0.008|        10|          NULL|      NULL|       NULL|\n",
      "|212720144950|      PLAN_A|     SMS_INT|7746126e-cf56-44d...|2025-06-01 01:15:29|     RABAT_01|        2G|        NULL|        NULL|        NULL|        ready|212720144950|819652283861|        NULL|                NULL|          NULL|       2|        sms| event|     flat|Envoi SMS standar...|      0.08|         0|          NULL|      NULL|       NULL|\n",
      "|212790291029|      PLAN_A|     SMS_NAT|f3f97c1e-0249-433...|2025-06-01 01:10:49| MARRAKECH_02|        2G|        NULL|        NULL|        NULL|        ready|212790291029|212782729873|        NULL|                NULL|          NULL|       2|        sms| event|     flat|Envoi SMS standar...|      0.04|         5|          NULL|      NULL|       NULL|\n",
      "|212728230411|      PLAN_B|   VOICE_NAT|3323dbce-b848-4ba...|2025-06-01 01:54:46|      inconnu|        4G|212728230411|212740217014|          92|        ready|        NULL|        NULL|        NULL|                NULL|          NULL|       4|      voice|minute|     flat|Appel vocal natio...|     0.012|         6|          NULL|      NULL|       NULL|\n",
      "|212681757995|      PLAN_C|   VOICE_NAT|6044c31f-4946-4c7...|2025-06-01 01:20:29|  ELJADIDA_01|        5G|212681757995|212765652473|         429|        ready|        NULL|        NULL|        NULL|                NULL|          NULL|       3|      voice|minute|     flat|Appel vocal natio...|     0.008|        10|          NULL|      NULL|       NULL|\n",
      "|212781115917|      PLAN_B|     SMS_NAT|b6817632-016e-441...|2025-06-01 01:56:42|       FES_01|        2G|        NULL|        NULL|        NULL|        ready|212781115917|212667505040|        NULL|                NULL|          NULL|       4|        sms| event|     flat|Envoi SMS standar...|     0.035|         3|          NULL|      NULL|       NULL|\n",
      "+------------+------------+------------+--------------------+-------------------+-------------+----------+------------+------------+------------+-------------+------------+------------+------------+--------------------+--------------+--------+-----------+------+---------+--------------------+----------+----------+--------------+----------+-----------+\n",
      "only showing top 20 rows\n",
      "\n"
     ]
    }
   ],
   "source": [
    "cdrsss=cdrs4.filter(cdrs4.rating_status == \"ready\")\n",
    "cdrsss.show()"
   ]
  },
  {
   "cell_type": "code",
   "execution_count": 19,
   "id": "94a9c421",
   "metadata": {
    "execution": {
     "iopub.execute_input": "2025-06-11T13:46:03.539052Z",
     "iopub.status.busy": "2025-06-11T13:46:03.538056Z",
     "iopub.status.idle": "2025-06-11T13:46:04.326071Z",
     "shell.execute_reply": "2025-06-11T13:46:04.326071Z"
    },
    "papermill": {
     "duration": 0.797258,
     "end_time": "2025-06-11T13:46:04.328312",
     "exception": false,
     "start_time": "2025-06-11T13:46:03.531054",
     "status": "completed"
    },
    "tags": []
   },
   "outputs": [
    {
     "name": "stdout",
     "output_type": "stream",
     "text": [
      "+------------+------------+------------+--------------------+-------------------+-------------+----------+------------+------------+------------+-------------+------------+------------+------------+--------------------+--------------+--------+-----------+------+---------+--------------------+----------+----------+--------------+----------+-----------+\n",
      "| customer_id|rate_plan_id|product_code|           record_ID|          timestamp|      cell_id|technology|   caller_id|   callee_id|duration_sec|rating_status|   sender_id| receiver_id|     user_id|session_duration_sec|data_volume_mb|batch_id|record_type|  unit|rate_type|         description|unit_price|free_units|tier_threshold|tier_price|user_min_mb|\n",
      "+------------+------------+------------+--------------------+-------------------+-------------+----------+------------+------------+------------+-------------+------------+------------+------------+--------------------+--------------+--------+-----------+------+---------+--------------------+----------+----------+--------------+----------+-----------+\n",
      "|212736864154|      PLAN_A|   VOICE_INT|1d110936-bcf3-474...|2025-06-01 01:21:35|      inconnu|        5G|212736864154| 33538966300|         298|        ready|        NULL|        NULL|        NULL|                NULL|          NULL|       3|      voice|minute|     flat|Appel vocal inter...|      0.02|         0|          NULL|      NULL|       NULL|\n",
      "|212722584949|      PLAN_B|   VOICE_NAT|5c9e0c0e-e648-450...|2025-06-01 01:06:11|       FES_01|        4G|212722584949|212798091750|         199|        ready|        NULL|        NULL|        NULL|                NULL|          NULL|       2|      voice|minute|     flat|Appel vocal natio...|     0.012|         6|          NULL|      NULL|       NULL|\n",
      "|212792223109|      PLAN_C|   VOICE_NAT|0ea3ee1b-ddf8-489...|2025-06-01 00:52:46|CASABLANCA_03|        4G|212792223109|212600388215|          87|        ready|        NULL|        NULL|        NULL|                NULL|          NULL|       2|      voice|minute|     flat|Appel vocal natio...|     0.008|        10|          NULL|      NULL|       NULL|\n",
      "|212729028258|      PLAN_A|   VOICE_INT|2f62889b-409c-441...|2025-06-01 01:28:59|      inconnu|        5G|212729028258|447722254052|          35|        ready|        NULL|        NULL|        NULL|                NULL|          NULL|       3|      voice|minute|     flat|Appel vocal inter...|      0.02|         0|          NULL|      NULL|       NULL|\n",
      "|212765779578|      PLAN_B|   VOICE_NAT|6515f775-994c-4ee...|2025-06-01 01:30:19|   TETOUAN_01|        4G|212765779578|212676538038|          18|        ready|        NULL|        NULL|        NULL|                NULL|          NULL|       3|      voice|minute|     flat|Appel vocal natio...|     0.012|         6|          NULL|      NULL|       NULL|\n",
      "|212606574857|      PLAN_C|DATA_PREMIUM|d0543fad-b9d3-443...|2025-06-01 00:49:40|     OUJDA_01|        3G|        NULL|        NULL|        NULL|        ready|        NULL|        NULL|212606574857|                 551|        508.18|       1|       data|    MB|   tiered|Session Data prem...|     0.015|        40|          2048|      0.05|     508.18|\n",
      "|212755017347|      PLAN_A|   VOICE_NAT|634520f0-cc6d-4ac...|2025-06-01 01:48:46|      inconnu|        2G|212755017347|212607149592|         195|        ready|        NULL|        NULL|        NULL|                NULL|          NULL|       4|      voice|minute|     flat|Appel vocal natio...|      0.01|         5|          NULL|      NULL|       NULL|\n",
      "|212713149055|      PLAN_C|   VOICE_NAT|4a326623-7bf5-4ad...|2025-06-01 00:59:50|      inconnu|        3G|212713149055|212681757995|         374|        ready|        NULL|        NULL|        NULL|                NULL|          NULL|       2|      voice|minute|     flat|Appel vocal natio...|     0.008|        10|          NULL|      NULL|       NULL|\n",
      "|212651156096|      PLAN_B|   VOICE_NAT|3b6489cc-3ba7-4b8...|2025-06-01 01:52:11|      inconnu|        2G|212651156096|212632879292|         336|        ready|        NULL|        NULL|        NULL|                NULL|          NULL|       4|      voice|minute|     flat|Appel vocal natio...|     0.012|         6|          NULL|      NULL|       NULL|\n",
      "|212670692800|      PLAN_B|  DATA_BASIC|ac8e2997-22b6-40e...|2025-06-01 01:47:25|      inconnu|        4G|        NULL|        NULL|        NULL|        ready|        NULL|        NULL|212670692800|                 221|       1468.83|       4|       data|    MB|     flat|Session Data basi...|     0.022|        25|          NULL|      NULL|    1468.83|\n",
      "|212673265429|      PLAN_B|  DATA_BASIC|348c726c-e1e1-411...|2025-06-01 00:44:10|       FES_01|        5G|        NULL|        NULL|        NULL|        ready|        NULL|        NULL|212673265429|                 115|       1929.31|       1|       data|    MB|     flat|Session Data basi...|     0.022|        25|          NULL|      NULL|    1929.31|\n",
      "|212738098493|      PLAN_A|     SMS_NAT|ed8a11f3-401e-483...|2025-06-01 01:04:35|CASABLANCA_01|        2G|        NULL|        NULL|        NULL|        ready|212738098493|212627620442|        NULL|                NULL|          NULL|       2|        sms| event|     flat|Envoi SMS standar...|      0.04|         5|          NULL|      NULL|       NULL|\n",
      "|212631101815|      PLAN_C|   VOICE_NAT|2a23356a-f7a0-4fb...|2025-06-01 01:53:07|  ELJADIDA_01|        5G|212631101815|212613108047|         444|        ready|        NULL|        NULL|        NULL|                NULL|          NULL|       4|      voice|minute|     flat|Appel vocal natio...|     0.008|        10|          NULL|      NULL|       NULL|\n",
      "|212667703272|      PLAN_A|   VOICE_NAT|7198ce15-36fa-4e7...|2025-06-01 00:46:11|      inconnu|        3G|212667703272|212663531220|         551|        ready|        NULL|        NULL|        NULL|                NULL|          NULL|       1|      voice|minute|     flat|Appel vocal natio...|      0.01|         5|          NULL|      NULL|       NULL|\n",
      "|212616842798|      PLAN_C|   VOICE_NAT|22e56f7a-b88b-4e8...|2025-06-01 00:42:33|CASABLANCA_02|        4G|212616842798|212730989235|          40|        ready|        NULL|        NULL|        NULL|                NULL|          NULL|       1|      voice|minute|     flat|Appel vocal natio...|     0.008|        10|          NULL|      NULL|       NULL|\n",
      "|212720144950|      PLAN_A|     SMS_INT|7746126e-cf56-44d...|2025-06-01 01:15:29|     RABAT_01|        2G|        NULL|        NULL|        NULL|        ready|212720144950|819652283861|        NULL|                NULL|          NULL|       2|        sms| event|     flat|Envoi SMS standar...|      0.08|         0|          NULL|      NULL|       NULL|\n",
      "|212790291029|      PLAN_A|     SMS_NAT|f3f97c1e-0249-433...|2025-06-01 01:10:49| MARRAKECH_02|        2G|        NULL|        NULL|        NULL|        ready|212790291029|212782729873|        NULL|                NULL|          NULL|       2|        sms| event|     flat|Envoi SMS standar...|      0.04|         5|          NULL|      NULL|       NULL|\n",
      "|212728230411|      PLAN_B|   VOICE_NAT|3323dbce-b848-4ba...|2025-06-01 01:54:46|      inconnu|        4G|212728230411|212740217014|          92|        ready|        NULL|        NULL|        NULL|                NULL|          NULL|       4|      voice|minute|     flat|Appel vocal natio...|     0.012|         6|          NULL|      NULL|       NULL|\n",
      "|212681757995|      PLAN_C|   VOICE_NAT|6044c31f-4946-4c7...|2025-06-01 01:20:29|  ELJADIDA_01|        5G|212681757995|212765652473|         429|        ready|        NULL|        NULL|        NULL|                NULL|          NULL|       3|      voice|minute|     flat|Appel vocal natio...|     0.008|        10|          NULL|      NULL|       NULL|\n",
      "|212781115917|      PLAN_B|     SMS_NAT|b6817632-016e-441...|2025-06-01 01:56:42|       FES_01|        2G|        NULL|        NULL|        NULL|        ready|212781115917|212667505040|        NULL|                NULL|          NULL|       4|        sms| event|     flat|Envoi SMS standar...|     0.035|         3|          NULL|      NULL|       NULL|\n",
      "+------------+------------+------------+--------------------+-------------------+-------------+----------+------------+------------+------------+-------------+------------+------------+------------+--------------------+--------------+--------+-----------+------+---------+--------------------+----------+----------+--------------+----------+-----------+\n",
      "only showing top 20 rows\n",
      "\n"
     ]
    }
   ],
   "source": [
    "cdrs4.show()"
   ]
  },
  {
   "cell_type": "code",
   "execution_count": 20,
   "id": "f90936d6",
   "metadata": {
    "execution": {
     "iopub.execute_input": "2025-06-11T13:46:04.340310Z",
     "iopub.status.busy": "2025-06-11T13:46:04.340310Z",
     "iopub.status.idle": "2025-06-11T13:46:04.364719Z",
     "shell.execute_reply": "2025-06-11T13:46:04.364719Z"
    },
    "papermill": {
     "duration": 0.032415,
     "end_time": "2025-06-11T13:46:04.367726",
     "exception": false,
     "start_time": "2025-06-11T13:46:04.335311",
     "status": "completed"
    },
    "tags": []
   },
   "outputs": [],
   "source": [
    "cdrs4 = cdrs4.withColumn(\n",
    "    \"session_duration_sec\",\n",
    "    when((col(\"session_duration_sec\").isNull() | (col(\"session_duration_sec\") < 0))&(col(\"record_type\")==\"data\"), lit(0))\n",
    "    .otherwise(col(\"session_duration_sec\"))\n",
    ")"
   ]
  },
  {
   "cell_type": "code",
   "execution_count": 21,
   "id": "bb662ace",
   "metadata": {
    "execution": {
     "iopub.execute_input": "2025-06-11T13:46:04.375726Z",
     "iopub.status.busy": "2025-06-11T13:46:04.375726Z",
     "iopub.status.idle": "2025-06-11T13:46:04.413952Z",
     "shell.execute_reply": "2025-06-11T13:46:04.413446Z"
    },
    "papermill": {
     "duration": 0.043233,
     "end_time": "2025-06-11T13:46:04.414960",
     "exception": false,
     "start_time": "2025-06-11T13:46:04.371727",
     "status": "completed"
    },
    "tags": []
   },
   "outputs": [],
   "source": [
    "cdrs4 = cdrs4.withColumn(\n",
    "    \"billable_units\",\n",
    "    when(col(\"record_type\") == \"voice\",\n",
    "         ceil(col(\"duration_sec\") / 60))       \n",
    "    .when(col(\"record_type\") == \"sms\",\n",
    "         lit(1))\n",
    "    .otherwise(                               # data\n",
    "         col(\"data_volume_mb\"))\n",
    ")\n"
   ]
  },
  {
   "cell_type": "code",
   "execution_count": 22,
   "id": "26f0b329",
   "metadata": {
    "execution": {
     "iopub.execute_input": "2025-06-11T13:46:04.422960Z",
     "iopub.status.busy": "2025-06-11T13:46:04.422960Z",
     "iopub.status.idle": "2025-06-11T13:46:05.091939Z",
     "shell.execute_reply": "2025-06-11T13:46:05.091939Z"
    },
    "papermill": {
     "duration": 0.674966,
     "end_time": "2025-06-11T13:46:05.093945",
     "exception": false,
     "start_time": "2025-06-11T13:46:04.418979",
     "status": "completed"
    },
    "tags": []
   },
   "outputs": [
    {
     "name": "stdout",
     "output_type": "stream",
     "text": [
      "+------------+------------+------------+--------------------+-------------------+-------------+----------+------------+------------+------------+-------------+------------+------------+------------+--------------------+--------------+--------+-----------+------+---------+--------------------+----------+----------+--------------+----------+-----------+--------------+\n",
      "| customer_id|rate_plan_id|product_code|           record_ID|          timestamp|      cell_id|technology|   caller_id|   callee_id|duration_sec|rating_status|   sender_id| receiver_id|     user_id|session_duration_sec|data_volume_mb|batch_id|record_type|  unit|rate_type|         description|unit_price|free_units|tier_threshold|tier_price|user_min_mb|billable_units|\n",
      "+------------+------------+------------+--------------------+-------------------+-------------+----------+------------+------------+------------+-------------+------------+------------+------------+--------------------+--------------+--------+-----------+------+---------+--------------------+----------+----------+--------------+----------+-----------+--------------+\n",
      "|212736864154|      PLAN_A|   VOICE_INT|1d110936-bcf3-474...|2025-06-01 01:21:35|      inconnu|        5G|212736864154| 33538966300|         298|        ready|        NULL|        NULL|        NULL|                NULL|          NULL|       3|      voice|minute|     flat|Appel vocal inter...|      0.02|         0|          NULL|      NULL|       NULL|             5|\n",
      "|212722584949|      PLAN_B|   VOICE_NAT|5c9e0c0e-e648-450...|2025-06-01 01:06:11|       FES_01|        4G|212722584949|212798091750|         199|        ready|        NULL|        NULL|        NULL|                NULL|          NULL|       2|      voice|minute|     flat|Appel vocal natio...|     0.012|         6|          NULL|      NULL|       NULL|             4|\n",
      "|212792223109|      PLAN_C|   VOICE_NAT|0ea3ee1b-ddf8-489...|2025-06-01 00:52:46|CASABLANCA_03|        4G|212792223109|212600388215|          87|        ready|        NULL|        NULL|        NULL|                NULL|          NULL|       2|      voice|minute|     flat|Appel vocal natio...|     0.008|        10|          NULL|      NULL|       NULL|             2|\n",
      "|212729028258|      PLAN_A|   VOICE_INT|2f62889b-409c-441...|2025-06-01 01:28:59|      inconnu|        5G|212729028258|447722254052|          35|        ready|        NULL|        NULL|        NULL|                NULL|          NULL|       3|      voice|minute|     flat|Appel vocal inter...|      0.02|         0|          NULL|      NULL|       NULL|             1|\n",
      "|212765779578|      PLAN_B|   VOICE_NAT|6515f775-994c-4ee...|2025-06-01 01:30:19|   TETOUAN_01|        4G|212765779578|212676538038|          18|        ready|        NULL|        NULL|        NULL|                NULL|          NULL|       3|      voice|minute|     flat|Appel vocal natio...|     0.012|         6|          NULL|      NULL|       NULL|             1|\n",
      "|212606574857|      PLAN_C|DATA_PREMIUM|d0543fad-b9d3-443...|2025-06-01 00:49:40|     OUJDA_01|        3G|        NULL|        NULL|        NULL|        ready|        NULL|        NULL|212606574857|                 551|        508.18|       1|       data|    MB|   tiered|Session Data prem...|     0.015|        40|          2048|      0.05|     508.18|        508.18|\n",
      "|212755017347|      PLAN_A|   VOICE_NAT|634520f0-cc6d-4ac...|2025-06-01 01:48:46|      inconnu|        2G|212755017347|212607149592|         195|        ready|        NULL|        NULL|        NULL|                NULL|          NULL|       4|      voice|minute|     flat|Appel vocal natio...|      0.01|         5|          NULL|      NULL|       NULL|             4|\n",
      "|212713149055|      PLAN_C|   VOICE_NAT|4a326623-7bf5-4ad...|2025-06-01 00:59:50|      inconnu|        3G|212713149055|212681757995|         374|        ready|        NULL|        NULL|        NULL|                NULL|          NULL|       2|      voice|minute|     flat|Appel vocal natio...|     0.008|        10|          NULL|      NULL|       NULL|             7|\n",
      "|212651156096|      PLAN_B|   VOICE_NAT|3b6489cc-3ba7-4b8...|2025-06-01 01:52:11|      inconnu|        2G|212651156096|212632879292|         336|        ready|        NULL|        NULL|        NULL|                NULL|          NULL|       4|      voice|minute|     flat|Appel vocal natio...|     0.012|         6|          NULL|      NULL|       NULL|             6|\n",
      "|212670692800|      PLAN_B|  DATA_BASIC|ac8e2997-22b6-40e...|2025-06-01 01:47:25|      inconnu|        4G|        NULL|        NULL|        NULL|        ready|        NULL|        NULL|212670692800|                 221|       1468.83|       4|       data|    MB|     flat|Session Data basi...|     0.022|        25|          NULL|      NULL|    1468.83|       1468.83|\n",
      "|212673265429|      PLAN_B|  DATA_BASIC|348c726c-e1e1-411...|2025-06-01 00:44:10|       FES_01|        5G|        NULL|        NULL|        NULL|        ready|        NULL|        NULL|212673265429|                 115|       1929.31|       1|       data|    MB|     flat|Session Data basi...|     0.022|        25|          NULL|      NULL|    1929.31|       1929.31|\n",
      "|212738098493|      PLAN_A|     SMS_NAT|ed8a11f3-401e-483...|2025-06-01 01:04:35|CASABLANCA_01|        2G|        NULL|        NULL|        NULL|        ready|212738098493|212627620442|        NULL|                NULL|          NULL|       2|        sms| event|     flat|Envoi SMS standar...|      0.04|         5|          NULL|      NULL|       NULL|             1|\n",
      "|212631101815|      PLAN_C|   VOICE_NAT|2a23356a-f7a0-4fb...|2025-06-01 01:53:07|  ELJADIDA_01|        5G|212631101815|212613108047|         444|        ready|        NULL|        NULL|        NULL|                NULL|          NULL|       4|      voice|minute|     flat|Appel vocal natio...|     0.008|        10|          NULL|      NULL|       NULL|             8|\n",
      "|212667703272|      PLAN_A|   VOICE_NAT|7198ce15-36fa-4e7...|2025-06-01 00:46:11|      inconnu|        3G|212667703272|212663531220|         551|        ready|        NULL|        NULL|        NULL|                NULL|          NULL|       1|      voice|minute|     flat|Appel vocal natio...|      0.01|         5|          NULL|      NULL|       NULL|            10|\n",
      "|212616842798|      PLAN_C|   VOICE_NAT|22e56f7a-b88b-4e8...|2025-06-01 00:42:33|CASABLANCA_02|        4G|212616842798|212730989235|          40|        ready|        NULL|        NULL|        NULL|                NULL|          NULL|       1|      voice|minute|     flat|Appel vocal natio...|     0.008|        10|          NULL|      NULL|       NULL|             1|\n",
      "|212720144950|      PLAN_A|     SMS_INT|7746126e-cf56-44d...|2025-06-01 01:15:29|     RABAT_01|        2G|        NULL|        NULL|        NULL|        ready|212720144950|819652283861|        NULL|                NULL|          NULL|       2|        sms| event|     flat|Envoi SMS standar...|      0.08|         0|          NULL|      NULL|       NULL|             1|\n",
      "|212790291029|      PLAN_A|     SMS_NAT|f3f97c1e-0249-433...|2025-06-01 01:10:49| MARRAKECH_02|        2G|        NULL|        NULL|        NULL|        ready|212790291029|212782729873|        NULL|                NULL|          NULL|       2|        sms| event|     flat|Envoi SMS standar...|      0.04|         5|          NULL|      NULL|       NULL|             1|\n",
      "|212728230411|      PLAN_B|   VOICE_NAT|3323dbce-b848-4ba...|2025-06-01 01:54:46|      inconnu|        4G|212728230411|212740217014|          92|        ready|        NULL|        NULL|        NULL|                NULL|          NULL|       4|      voice|minute|     flat|Appel vocal natio...|     0.012|         6|          NULL|      NULL|       NULL|             2|\n",
      "|212681757995|      PLAN_C|   VOICE_NAT|6044c31f-4946-4c7...|2025-06-01 01:20:29|  ELJADIDA_01|        5G|212681757995|212765652473|         429|        ready|        NULL|        NULL|        NULL|                NULL|          NULL|       3|      voice|minute|     flat|Appel vocal natio...|     0.008|        10|          NULL|      NULL|       NULL|             8|\n",
      "|212781115917|      PLAN_B|     SMS_NAT|b6817632-016e-441...|2025-06-01 01:56:42|       FES_01|        2G|        NULL|        NULL|        NULL|        ready|212781115917|212667505040|        NULL|                NULL|          NULL|       4|        sms| event|     flat|Envoi SMS standar...|     0.035|         3|          NULL|      NULL|       NULL|             1|\n",
      "+------------+------------+------------+--------------------+-------------------+-------------+----------+------------+------------+------------+-------------+------------+------------+------------+--------------------+--------------+--------+-----------+------+---------+--------------------+----------+----------+--------------+----------+-----------+--------------+\n",
      "only showing top 20 rows\n",
      "\n"
     ]
    }
   ],
   "source": [
    "cdrs4.show()"
   ]
  },
  {
   "cell_type": "code",
   "execution_count": 23,
   "id": "a9a6a4fd",
   "metadata": {
    "execution": {
     "iopub.execute_input": "2025-06-11T13:46:05.107944Z",
     "iopub.status.busy": "2025-06-11T13:46:05.106944Z",
     "iopub.status.idle": "2025-06-11T13:46:05.161363Z",
     "shell.execute_reply": "2025-06-11T13:46:05.161363Z"
    },
    "papermill": {
     "duration": 0.060422,
     "end_time": "2025-06-11T13:46:05.162368",
     "exception": false,
     "start_time": "2025-06-11T13:46:05.101946",
     "status": "completed"
    },
    "tags": []
   },
   "outputs": [],
   "source": [
    "from pyspark.sql.functions import coalesce\n",
    "\n",
    "cdrs4 = (cdrs4\n",
    "    .withColumn(\"free_units\",    coalesce(col(\"free_units\"),    lit(0)))\n",
    "    .withColumn(\"tier_threshold\",coalesce(col(\"tier_threshold\"),lit(0)))\n",
    "    .withColumn(\"unit_price\",    coalesce(col(\"unit_price\"),    lit(0.0)))\n",
    "    .withColumn(\"tier_price\",    coalesce(col(\"tier_price\"),    lit(0.0)))\n",
    ")\n"
   ]
  },
  {
   "cell_type": "code",
   "execution_count": 24,
   "id": "5ba8ab70",
   "metadata": {
    "execution": {
     "iopub.execute_input": "2025-06-11T13:46:05.172369Z",
     "iopub.status.busy": "2025-06-11T13:46:05.172369Z",
     "iopub.status.idle": "2025-06-11T13:46:05.247904Z",
     "shell.execute_reply": "2025-06-11T13:46:05.247904Z"
    },
    "papermill": {
     "duration": 0.08286,
     "end_time": "2025-06-11T13:46:05.249229",
     "exception": false,
     "start_time": "2025-06-11T13:46:05.166369",
     "status": "completed"
    },
    "tags": []
   },
   "outputs": [],
   "source": [
    "cdrsRated = cdrs4.withColumn(\n",
    "    \"cost\",\n",
    "    when(col(\"rate_type\") == \"flat\",\n",
    "         when(col(\"billable_units\") <= col(\"free_units\"), lit(0))\n",
    "         .otherwise((col(\"billable_units\") - col(\"free_units\")) * col(\"unit_price\")))\n",
    "    .when(col(\"rate_type\") == \"tiered\",\n",
    "         when(col(\"billable_units\") <= col(\"free_units\"), lit(0))\n",
    "         .when(col(\"billable_units\") <= col(\"tier_threshold\"),\n",
    "               (col(\"billable_units\") - col(\"free_units\")) * col(\"unit_price\"))\n",
    "         .otherwise(\n",
    "               (col(\"tier_threshold\") - col(\"free_units\")) * col(\"unit_price\") +\n",
    "               (col(\"billable_units\") - col(\"tier_threshold\")) * col(\"tier_price\")))\n",
    ")\n",
    "\n",
    "cdrsRated = cdrsRated.withColumn(\n",
    "    \"rating_status\",\n",
    "    when(col(\"cost\").isNull(), \"unmatched\")\n",
    "    .otherwise(\"rated\")\n",
    ")\n"
   ]
  },
  {
   "cell_type": "code",
   "execution_count": 25,
   "id": "a279048f",
   "metadata": {
    "execution": {
     "iopub.execute_input": "2025-06-11T13:46:05.258227Z",
     "iopub.status.busy": "2025-06-11T13:46:05.257227Z",
     "iopub.status.idle": "2025-06-11T13:46:06.493196Z",
     "shell.execute_reply": "2025-06-11T13:46:06.492680Z"
    },
    "papermill": {
     "duration": 1.242988,
     "end_time": "2025-06-11T13:46:06.496215",
     "exception": false,
     "start_time": "2025-06-11T13:46:05.253227",
     "status": "completed"
    },
    "tags": []
   },
   "outputs": [
    {
     "name": "stdout",
     "output_type": "stream",
     "text": [
      "+------------------------------------+------------+------------+--------------+----------+------------------+-------------+\n",
      "|record_ID                           |customer_id |product_code|billable_units|unit_price|cost              |rating_status|\n",
      "+------------------------------------+------------+------------+--------------+----------+------------------+-------------+\n",
      "|1d110936-bcf3-4743-84d4-b84cfef9f629|212736864154|VOICE_INT   |5             |0.02      |0.1               |rated        |\n",
      "|5c9e0c0e-e648-4505-a6f7-f58ec0cd965d|212722584949|VOICE_NAT   |4             |0.012     |0.0               |rated        |\n",
      "|0ea3ee1b-ddf8-4891-b5e5-03c3a19c9a73|212792223109|VOICE_NAT   |2             |0.008     |0.0               |rated        |\n",
      "|2f62889b-409c-4411-ae1d-cd53536db9c5|212729028258|VOICE_INT   |1             |0.02      |0.02              |rated        |\n",
      "|6515f775-994c-4eeb-8440-e20b3b30aa84|212765779578|VOICE_NAT   |1             |0.012     |0.0               |rated        |\n",
      "|d0543fad-b9d3-4430-933b-16ba8d2ae3c6|212606574857|DATA_PREMIUM|508.18        |0.015     |7.0226999999999995|rated        |\n",
      "|634520f0-cc6d-4ac7-bafc-11b751143fd1|212755017347|VOICE_NAT   |4             |0.01      |0.0               |rated        |\n",
      "|4a326623-7bf5-4add-be44-64153df4ec2b|212713149055|VOICE_NAT   |7             |0.008     |0.0               |rated        |\n",
      "|3b6489cc-3ba7-4b8a-96d4-2d97a643eb45|212651156096|VOICE_NAT   |6             |0.012     |0.0               |rated        |\n",
      "|ac8e2997-22b6-40e6-9358-1655949e1d07|212670692800|DATA_BASIC  |1468.83       |0.022     |31.764259999999997|rated        |\n",
      "|348c726c-e1e1-411b-b3be-2e8c61b2e18d|212673265429|DATA_BASIC  |1929.31       |0.022     |41.894819999999996|rated        |\n",
      "|ed8a11f3-401e-483c-863d-2067d8b742db|212738098493|SMS_NAT     |1             |0.04      |0.0               |rated        |\n",
      "|2a23356a-f7a0-4fb3-a9ec-4e317d665cbb|212631101815|VOICE_NAT   |8             |0.008     |0.0               |rated        |\n",
      "|7198ce15-36fa-4e74-872f-efb4f8d65482|212667703272|VOICE_NAT   |10            |0.01      |0.05              |rated        |\n",
      "|22e56f7a-b88b-4e8f-89f8-cf6e416374fb|212616842798|VOICE_NAT   |1             |0.008     |0.0               |rated        |\n",
      "|7746126e-cf56-44d1-b541-6e735a758f4d|212720144950|SMS_INT     |1             |0.08      |0.08              |rated        |\n",
      "|f3f97c1e-0249-4332-b272-20e37ad72ecd|212790291029|SMS_NAT     |1             |0.04      |0.0               |rated        |\n",
      "|3323dbce-b848-4ba0-a19f-9b29f378e34f|212728230411|VOICE_NAT   |2             |0.012     |0.0               |rated        |\n",
      "|6044c31f-4946-4c7e-8840-a4ce11b5f539|212681757995|VOICE_NAT   |8             |0.008     |0.0               |rated        |\n",
      "|b6817632-016e-441e-a2e6-792ce5aa370d|212781115917|SMS_NAT     |1             |0.035     |0.0               |rated        |\n",
      "+------------------------------------+------------+------------+--------------+----------+------------------+-------------+\n",
      "only showing top 20 rows\n",
      "\n"
     ]
    }
   ],
   "source": [
    "cdrsRated.select(\"record_ID\",\"customer_id\",\"product_code\",\n",
    "                 \"billable_units\",\"unit_price\",\"cost\",\"rating_status\") \\\n",
    "         .show(truncate=False)\n"
   ]
  },
  {
   "cell_type": "code",
   "execution_count": 26,
   "id": "dfa86650",
   "metadata": {
    "execution": {
     "iopub.execute_input": "2025-06-11T13:46:06.511215Z",
     "iopub.status.busy": "2025-06-11T13:46:06.511215Z",
     "iopub.status.idle": "2025-06-11T13:46:06.560626Z",
     "shell.execute_reply": "2025-06-11T13:46:06.559611Z"
    },
    "papermill": {
     "duration": 0.06041,
     "end_time": "2025-06-11T13:46:06.563626",
     "exception": false,
     "start_time": "2025-06-11T13:46:06.503216",
     "status": "completed"
    },
    "tags": []
   },
   "outputs": [],
   "source": [
    "from pyspark.sql.functions import date_format\n",
    "\n",
    "cdrsRated = cdrsRated.withColumn(\n",
    "    \"billing_period\",\n",
    "    date_format(col(\"timestamp\"), \"yyyy-MM\")\n",
    ")\n",
    "cdrsRated=cdrsRated.drop(\"user_min_mb\")"
   ]
  },
  {
   "cell_type": "code",
   "execution_count": 27,
   "id": "441201ec",
   "metadata": {
    "execution": {
     "iopub.execute_input": "2025-06-11T13:46:06.585345Z",
     "iopub.status.busy": "2025-06-11T13:46:06.585345Z",
     "iopub.status.idle": "2025-06-11T13:46:07.998184Z",
     "shell.execute_reply": "2025-06-11T13:46:07.998184Z"
    },
    "papermill": {
     "duration": 1.423845,
     "end_time": "2025-06-11T13:46:08.000191",
     "exception": false,
     "start_time": "2025-06-11T13:46:06.576346",
     "status": "completed"
    },
    "tags": []
   },
   "outputs": [
    {
     "name": "stdout",
     "output_type": "stream",
     "text": [
      "✓ Rating terminé : Parquet écrit dans rated_cdrs/\n"
     ]
    }
   ],
   "source": [
    "(\n",
    " cdrsRated\n",
    " .write\n",
    " .mode(\"overwrite\")\n",
    " .partitionBy(\"billing_period\")\n",
    " .parquet(\"rated_cdrs/\")\n",
    ")\n",
    "\n",
    "print(\"✓ Rating terminé : Parquet écrit dans rated_cdrs/\")\n"
   ]
  },
  {
   "cell_type": "code",
   "execution_count": 28,
   "id": "8a2d4730",
   "metadata": {
    "execution": {
     "iopub.execute_input": "2025-06-11T13:46:08.013709Z",
     "iopub.status.busy": "2025-06-11T13:46:08.013709Z",
     "iopub.status.idle": "2025-06-11T13:46:08.922678Z",
     "shell.execute_reply": "2025-06-11T13:46:08.922171Z"
    },
    "papermill": {
     "duration": 0.920976,
     "end_time": "2025-06-11T13:46:08.927689",
     "exception": false,
     "start_time": "2025-06-11T13:46:08.006713",
     "status": "completed"
    },
    "tags": []
   },
   "outputs": [
    {
     "name": "stdout",
     "output_type": "stream",
     "text": [
      "+------------+------------+------------+--------------------+-------------------+-------------+----------+------------+------------+------------+-------------+------------+------------+------------+--------------------+--------------+--------+-----------+------+---------+--------------------+----------+----------+--------------+----------+--------------+------------------+--------------+\n",
      "| customer_id|rate_plan_id|product_code|           record_ID|          timestamp|      cell_id|technology|   caller_id|   callee_id|duration_sec|rating_status|   sender_id| receiver_id|     user_id|session_duration_sec|data_volume_mb|batch_id|record_type|  unit|rate_type|         description|unit_price|free_units|tier_threshold|tier_price|billable_units|              cost|billing_period|\n",
      "+------------+------------+------------+--------------------+-------------------+-------------+----------+------------+------------+------------+-------------+------------+------------+------------+--------------------+--------------+--------+-----------+------+---------+--------------------+----------+----------+--------------+----------+--------------+------------------+--------------+\n",
      "|212736864154|      PLAN_A|   VOICE_INT|1d110936-bcf3-474...|2025-06-01 01:21:35|      inconnu|        5G|212736864154| 33538966300|         298|        rated|        NULL|        NULL|        NULL|                NULL|          NULL|       3|      voice|minute|     flat|Appel vocal inter...|      0.02|         0|             0|       0.0|             5|               0.1|       2025-06|\n",
      "|212722584949|      PLAN_B|   VOICE_NAT|5c9e0c0e-e648-450...|2025-06-01 01:06:11|       FES_01|        4G|212722584949|212798091750|         199|        rated|        NULL|        NULL|        NULL|                NULL|          NULL|       2|      voice|minute|     flat|Appel vocal natio...|     0.012|         6|             0|       0.0|             4|               0.0|       2025-06|\n",
      "|212792223109|      PLAN_C|   VOICE_NAT|0ea3ee1b-ddf8-489...|2025-06-01 00:52:46|CASABLANCA_03|        4G|212792223109|212600388215|          87|        rated|        NULL|        NULL|        NULL|                NULL|          NULL|       2|      voice|minute|     flat|Appel vocal natio...|     0.008|        10|             0|       0.0|             2|               0.0|       2025-06|\n",
      "|212729028258|      PLAN_A|   VOICE_INT|2f62889b-409c-441...|2025-06-01 01:28:59|      inconnu|        5G|212729028258|447722254052|          35|        rated|        NULL|        NULL|        NULL|                NULL|          NULL|       3|      voice|minute|     flat|Appel vocal inter...|      0.02|         0|             0|       0.0|             1|              0.02|       2025-06|\n",
      "|212765779578|      PLAN_B|   VOICE_NAT|6515f775-994c-4ee...|2025-06-01 01:30:19|   TETOUAN_01|        4G|212765779578|212676538038|          18|        rated|        NULL|        NULL|        NULL|                NULL|          NULL|       3|      voice|minute|     flat|Appel vocal natio...|     0.012|         6|             0|       0.0|             1|               0.0|       2025-06|\n",
      "|212606574857|      PLAN_C|DATA_PREMIUM|d0543fad-b9d3-443...|2025-06-01 00:49:40|     OUJDA_01|        3G|        NULL|        NULL|        NULL|        rated|        NULL|        NULL|212606574857|                 551|        508.18|       1|       data|    MB|   tiered|Session Data prem...|     0.015|        40|          2048|      0.05|        508.18|7.0226999999999995|       2025-06|\n",
      "|212755017347|      PLAN_A|   VOICE_NAT|634520f0-cc6d-4ac...|2025-06-01 01:48:46|      inconnu|        2G|212755017347|212607149592|         195|        rated|        NULL|        NULL|        NULL|                NULL|          NULL|       4|      voice|minute|     flat|Appel vocal natio...|      0.01|         5|             0|       0.0|             4|               0.0|       2025-06|\n",
      "|212713149055|      PLAN_C|   VOICE_NAT|4a326623-7bf5-4ad...|2025-06-01 00:59:50|      inconnu|        3G|212713149055|212681757995|         374|        rated|        NULL|        NULL|        NULL|                NULL|          NULL|       2|      voice|minute|     flat|Appel vocal natio...|     0.008|        10|             0|       0.0|             7|               0.0|       2025-06|\n",
      "|212651156096|      PLAN_B|   VOICE_NAT|3b6489cc-3ba7-4b8...|2025-06-01 01:52:11|      inconnu|        2G|212651156096|212632879292|         336|        rated|        NULL|        NULL|        NULL|                NULL|          NULL|       4|      voice|minute|     flat|Appel vocal natio...|     0.012|         6|             0|       0.0|             6|               0.0|       2025-06|\n",
      "|212670692800|      PLAN_B|  DATA_BASIC|ac8e2997-22b6-40e...|2025-06-01 01:47:25|      inconnu|        4G|        NULL|        NULL|        NULL|        rated|        NULL|        NULL|212670692800|                 221|       1468.83|       4|       data|    MB|     flat|Session Data basi...|     0.022|        25|             0|       0.0|       1468.83|31.764259999999997|       2025-06|\n",
      "|212673265429|      PLAN_B|  DATA_BASIC|348c726c-e1e1-411...|2025-06-01 00:44:10|       FES_01|        5G|        NULL|        NULL|        NULL|        rated|        NULL|        NULL|212673265429|                 115|       1929.31|       1|       data|    MB|     flat|Session Data basi...|     0.022|        25|             0|       0.0|       1929.31|41.894819999999996|       2025-06|\n",
      "|212738098493|      PLAN_A|     SMS_NAT|ed8a11f3-401e-483...|2025-06-01 01:04:35|CASABLANCA_01|        2G|        NULL|        NULL|        NULL|        rated|212738098493|212627620442|        NULL|                NULL|          NULL|       2|        sms| event|     flat|Envoi SMS standar...|      0.04|         5|             0|       0.0|             1|               0.0|       2025-06|\n",
      "|212631101815|      PLAN_C|   VOICE_NAT|2a23356a-f7a0-4fb...|2025-06-01 01:53:07|  ELJADIDA_01|        5G|212631101815|212613108047|         444|        rated|        NULL|        NULL|        NULL|                NULL|          NULL|       4|      voice|minute|     flat|Appel vocal natio...|     0.008|        10|             0|       0.0|             8|               0.0|       2025-06|\n",
      "|212667703272|      PLAN_A|   VOICE_NAT|7198ce15-36fa-4e7...|2025-06-01 00:46:11|      inconnu|        3G|212667703272|212663531220|         551|        rated|        NULL|        NULL|        NULL|                NULL|          NULL|       1|      voice|minute|     flat|Appel vocal natio...|      0.01|         5|             0|       0.0|            10|              0.05|       2025-06|\n",
      "|212616842798|      PLAN_C|   VOICE_NAT|22e56f7a-b88b-4e8...|2025-06-01 00:42:33|CASABLANCA_02|        4G|212616842798|212730989235|          40|        rated|        NULL|        NULL|        NULL|                NULL|          NULL|       1|      voice|minute|     flat|Appel vocal natio...|     0.008|        10|             0|       0.0|             1|               0.0|       2025-06|\n",
      "|212720144950|      PLAN_A|     SMS_INT|7746126e-cf56-44d...|2025-06-01 01:15:29|     RABAT_01|        2G|        NULL|        NULL|        NULL|        rated|212720144950|819652283861|        NULL|                NULL|          NULL|       2|        sms| event|     flat|Envoi SMS standar...|      0.08|         0|             0|       0.0|             1|              0.08|       2025-06|\n",
      "|212790291029|      PLAN_A|     SMS_NAT|f3f97c1e-0249-433...|2025-06-01 01:10:49| MARRAKECH_02|        2G|        NULL|        NULL|        NULL|        rated|212790291029|212782729873|        NULL|                NULL|          NULL|       2|        sms| event|     flat|Envoi SMS standar...|      0.04|         5|             0|       0.0|             1|               0.0|       2025-06|\n",
      "|212728230411|      PLAN_B|   VOICE_NAT|3323dbce-b848-4ba...|2025-06-01 01:54:46|      inconnu|        4G|212728230411|212740217014|          92|        rated|        NULL|        NULL|        NULL|                NULL|          NULL|       4|      voice|minute|     flat|Appel vocal natio...|     0.012|         6|             0|       0.0|             2|               0.0|       2025-06|\n",
      "|212681757995|      PLAN_C|   VOICE_NAT|6044c31f-4946-4c7...|2025-06-01 01:20:29|  ELJADIDA_01|        5G|212681757995|212765652473|         429|        rated|        NULL|        NULL|        NULL|                NULL|          NULL|       3|      voice|minute|     flat|Appel vocal natio...|     0.008|        10|             0|       0.0|             8|               0.0|       2025-06|\n",
      "|212781115917|      PLAN_B|     SMS_NAT|b6817632-016e-441...|2025-06-01 01:56:42|       FES_01|        2G|        NULL|        NULL|        NULL|        rated|212781115917|212667505040|        NULL|                NULL|          NULL|       4|        sms| event|     flat|Envoi SMS standar...|     0.035|         3|             0|       0.0|             1|               0.0|       2025-06|\n",
      "+------------+------------+------------+--------------------+-------------------+-------------+----------+------------+------------+------------+-------------+------------+------------+------------+--------------------+--------------+--------+-----------+------+---------+--------------------+----------+----------+--------------+----------+--------------+------------------+--------------+\n",
      "only showing top 20 rows\n",
      "\n"
     ]
    }
   ],
   "source": [
    "cdrsRated.show()"
   ]
  }
 ],
 "metadata": {
  "kernelspec": {
   "display_name": "Python 3",
   "language": "python",
   "name": "python3"
  },
  "language_info": {
   "codemirror_mode": {
    "name": "ipython",
    "version": 3
   },
   "file_extension": ".py",
   "mimetype": "text/x-python",
   "name": "python",
   "nbconvert_exporter": "python",
   "pygments_lexer": "ipython3",
   "version": "3.12.5"
  },
  "papermill": {
   "default_parameters": {},
   "duration": 31.455762,
   "end_time": "2025-06-11T13:46:09.398725",
   "environment_variables": {},
   "exception": null,
   "input_path": "RatingEngine.ipynb",
   "output_path": "RatingEngine.ipynb",
   "parameters": {},
   "start_time": "2025-06-11T13:45:37.942963",
   "version": "2.6.0"
  }
 },
 "nbformat": 4,
 "nbformat_minor": 5
}