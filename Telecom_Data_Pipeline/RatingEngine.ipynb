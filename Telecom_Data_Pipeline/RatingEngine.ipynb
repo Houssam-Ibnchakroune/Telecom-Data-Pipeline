{
 "cells": [
  {
   "cell_type": "code",
   "execution_count": 255,
   "id": "0eafc561",
   "metadata": {},
   "outputs": [],
   "source": [
    "from pyspark.sql import SparkSession\n",
    "from pyspark.sql.functions import  when,mean ,lit,ceil\n",
    "# Création d'une session Spark\n",
    "spark = SparkSession.builder\\\n",
    "         .appName(\"RatingEngine\")\\\n",
    "         .config(\"spark.jars\", r\".conf\\postgresql-42.7.6.jar\")\\\n",
    "         .config(\"spark.driver.extraClassPath\", r\".\\conf\\postgresql-42.7.6.jar\")\\\n",
    "         .config(\"spark.executor.extraClassPath\", r\".\\conf\\\\postgresql-42.7.6.jar\")\\\n",
    "         .config(\"spark.sql.shuffle.partitions\", \"50\")\\\n",
    "         .config(\"spark.sql.autoBroadcastJoinThreshold\", \"10485760\")\\\n",
    "         .config(\"spark.driver.memory\", \"6g\")\\\n",
    "         .getOrCreate()\n",
    "\n",
    "\n"
   ]
  },
  {
   "cell_type": "code",
   "execution_count": 256,
   "id": "2ce7d8c2",
   "metadata": {},
   "outputs": [],
   "source": [
    "data_path = r\".\\output_dir\" \n",
    "cleanedCdrsDf  = spark.read.format(\"parquet\") \\\n",
    "    .option(\"header\", \"true\") \\\n",
    "    .option(\"inferSchema\", \"true\") \\\n",
    "    .load(data_path)"
   ]
  },
  {
   "cell_type": "code",
   "execution_count": 257,
   "id": "65ab5c4e",
   "metadata": {},
   "outputs": [
    {
     "name": "stdout",
     "output_type": "stream",
     "text": [
      "+------------+-----------------+-----------------+------------+---------------+------+--------------------+\n",
      "| customer_id|    customer_name|subscription_type|rate_plan_id|activation_date|status|              region|\n",
      "+------------+-----------------+-----------------+------------+---------------+------+--------------------+\n",
      "|212768116861|    Anwar Kettani|         postpaid|      PLAN_C|     2024-04-29|active|Béni Mellal-Khénifra|\n",
      "|212760204113|Naoual El Othmani|         postpaid|      PLAN_A|     2024-12-07|active|      Drâa-Tafilalet|\n",
      "|212704344822|     Ehab Ouchrif|         postpaid|      PLAN_A|     2023-07-29|active|Laâyoune-Sakia El...|\n",
      "|212658901536|     Selma Msaddi|         postpaid|      PLAN_C|     2023-06-16|active|         Souss-Massa|\n",
      "|212699900093| Brahim El Hilali|         postpaid|      PLAN_A|     2024-07-27|active|Dakhla-Oued Ed Dahab|\n",
      "+------------+-----------------+-----------------+------------+---------------+------+--------------------+\n",
      "only showing top 5 rows\n",
      "\n"
     ]
    }
   ],
   "source": [
    "customersDf = spark.read \\\n",
    "    .format(\"jdbc\")\\\n",
    "    .option(\"url\",      \"jdbc:postgresql://localhost:5432/projet_spark\")\\\n",
    "    .option(\"dbtable\",  \"customers\")\\\n",
    "    .option(\"user\",     \"postgres\")\\\n",
    "    .option(\"password\", \"0000\")\\\n",
    "    .load() \n",
    "\n",
    "customersDf.show(5)\n"
   ]
  },
  {
   "cell_type": "code",
   "execution_count": 258,
   "id": "b6195e08",
   "metadata": {},
   "outputs": [],
   "source": [
    "catalogDf = spark.read \\\n",
    "    .option(\"header\", True) \\\n",
    "    .csv(\"ressources/product_catalog.csv\")\n"
   ]
  },
  {
   "cell_type": "code",
   "execution_count": 259,
   "id": "a7161cb2",
   "metadata": {},
   "outputs": [],
   "source": [
    "from pyspark.sql.functions import col\n",
    "\n",
    "ratePlansDf = spark.read \\\n",
    "    .option(\"header\", True) \\\n",
    "    .csv(\"ressources/rate_plans.csv\") \\\n",
    "    .withColumn(\"unit_price\", col(\"unit_price\").cast(\"double\")) \\\n",
    "    .withColumn(\"free_units\", col(\"free_units\").cast(\"int\")) \\\n",
    "    .withColumn(\"tier_threshold\", col(\"tier_threshold\").cast(\"int\")) \\\n",
    "    .withColumn(\"tier_price\", col(\"tier_price\").cast(\"double\"))\n"
   ]
  },
  {
   "cell_type": "code",
   "execution_count": 260,
   "id": "645907fe",
   "metadata": {},
   "outputs": [],
   "source": [
    "cdrs = (cleanedCdrsDf\n",
    "        .withColumn(\n",
    "            \"customer_id\",\n",
    "            when(col(\"record_type\") == \"voice\", col(\"caller_id\"))\n",
    "            .when(col(\"record_type\") == \"sms\",  col(\"sender_id\"))\n",
    "            .otherwise(col(\"user_id\"))\n",
    "        ))"
   ]
  },
  {
   "cell_type": "code",
   "execution_count": 261,
   "id": "72c6e9c5",
   "metadata": {},
   "outputs": [
    {
     "name": "stdout",
     "output_type": "stream",
     "text": [
      "+------------+--------------------+-------------------+-------------+----------+------------+------------+------------+------------+-------------+------------+------------+-----------+------------+--------------------+--------------+--------+-----------+------------+\n",
      "| customer_id|           record_ID|          timestamp|      cell_id|technology|   caller_id|   callee_id|duration_sec|product_code|rating_status|   sender_id| receiver_id|receiver_cc|     user_id|session_duration_sec|data_volume_mb|batch_id|record_type|rate_plan_id|\n",
      "+------------+--------------------+-------------------+-------------+----------+------------+------------+------------+------------+-------------+------------+------------+-----------+------------+--------------------+--------------+--------+-----------+------------+\n",
      "|212768116861|30fcd930-6ec0-4e6...|2025-06-01 14:55:06|       FES_02|        4G|        NULL|        NULL|        NULL|  DATA_BASIC|        ready|        NULL|        NULL|       NULL|212768116861|                 385|       1888.71|      58|       data|      PLAN_C|\n",
      "|212760204113|349612e5-c29f-44f...|2025-06-01 23:16:14| MARRAKECH_01|        3G|        NULL|        NULL|        NULL|  DATA_BASIC|        ready|        NULL|        NULL|       NULL|212760204113|                 205|       1613.08|      92|       data|      PLAN_A|\n",
      "|212760204113|1f63e4d2-a14d-483...|2025-06-02 01:04:07|      inconnu|        4G|        NULL|        NULL|        NULL|DATA_PREMIUM| needs_review|        NULL|        NULL|       NULL|212760204113|             inconnu|        621.54|      99|       data|      PLAN_A|\n",
      "|212704344822|33bdd5c3-9b25-4d2...|2025-06-01 15:18:15|      inconnu|        4G|212704344822|212654446372|          86|   VOICE_NAT|        ready|        NULL|        NULL|       NULL|        NULL|                NULL|          NULL|      60|      voice|      PLAN_A|\n",
      "|212704344822|2693d3b2-9032-4e8...|2025-06-01 23:00:48|  ELJADIDA_01|        4G|212704344822|212694293445|         554|   VOICE_NAT|        ready|        NULL|        NULL|       NULL|        NULL|                NULL|          NULL|      91|      voice|      PLAN_A|\n",
      "|212699900093|bdf74e7c-dff2-417...|2025-06-01 15:35:05|      inconnu|        4G|        NULL|        NULL|        NULL|  DATA_BASIC|        ready|        NULL|        NULL|       NULL|212699900093|                 521|        703.04|      61|       data|      PLAN_A|\n",
      "|212755443149|f8377036-c089-40d...|2025-06-01 21:07:07|      inconnu|        4G|        NULL|        NULL|        NULL|     SMS_NAT|        ready|212755443149|212794640895|        212|        NULL|                NULL|          NULL|      83|        sms|      PLAN_B|\n",
      "|212755443149|afaa617b-b477-486...|2025-06-01 03:02:28|    MEKNES_02|        4G|212755443149|212761657564|         116|   VOICE_NAT|        ready|        NULL|        NULL|       NULL|        NULL|                NULL|          NULL|      11|      voice|      PLAN_B|\n",
      "|212755443149|a66f366a-a8f7-4b5...|2025-06-01 13:04:31|    AGADIR_02|        4G|        NULL|        NULL|        NULL|  DATA_BASIC| needs_review|        NULL|        NULL|       NULL|212755443149|             inconnu|        923.23|      52|       data|      PLAN_B|\n",
      "|212755443149|9925f799-f655-4df...|2025-06-01 08:45:26|    DAKHLA_01|        3G|212755443149|212796102015|         404|   VOICE_NAT|        ready|        NULL|        NULL|       NULL|        NULL|                NULL|          NULL|      35|      voice|      PLAN_B|\n",
      "|212755443149|da1598fc-026e-4ac...|2025-06-01 13:39:43|     OUJDA_01|        4G|212755443149|212712884946|         540|   VOICE_NAT|        ready|        NULL|        NULL|       NULL|        NULL|                NULL|          NULL|      54|      voice|      PLAN_B|\n",
      "|212608231036|930e84c1-37f8-469...|2025-06-01 20:53:49|    AGADIR_01|        4G|212608231036| 34946014194|         218|   VOICE_INT|        ready|        NULL|        NULL|       NULL|        NULL|                NULL|          NULL|      82|      voice|      PLAN_C|\n",
      "|212631419586|6df6619d-ba21-454...|2025-06-01 16:19:40|      TAZA_01|        2G|        NULL|        NULL|        NULL|DATA_PREMIUM|        ready|        NULL|        NULL|       NULL|212631419586|                 140|        306.22|      63|       data|      PLAN_C|\n",
      "|212631419586|85daecb7-60e7-40a...|2025-06-01 06:33:12|    DAKHLA_01|        5G|212631419586| 16346504970|          80|   VOICE_INT|        ready|        NULL|        NULL|       NULL|        NULL|                NULL|          NULL|      26|      voice|      PLAN_C|\n",
      "|212781716466|3b24f128-4a88-46e...|2025-06-01 21:18:08|    MEKNES_02|        4G|        NULL|        NULL|        NULL|  DATA_BASIC|        ready|        NULL|        NULL|       NULL|212781716466|                 210|        402.11|      84|       data|      PLAN_A|\n",
      "|212785912578|6ee73aab-7e96-417...|2025-06-01 15:31:44|   TETOUAN_01|        4G|212785912578|212646761876|         353|   VOICE_NAT|        ready|        NULL|        NULL|       NULL|        NULL|                NULL|          NULL|      61|      voice|      PLAN_C|\n",
      "|212607086270|919adc37-1180-47a...|2025-06-01 11:57:49|CASABLANCA_01|        5G|        NULL|        NULL|        NULL|     SMS_NAT|        ready|212607086270|212774524674|        212|        NULL|                NULL|          NULL|      47|        sms|      PLAN_A|\n",
      "|212607086270|d56e083c-48f5-421...|2025-06-01 17:43:33|      inconnu|        2G|212607086270|212614448367|         339|   VOICE_NAT|        ready|        NULL|        NULL|       NULL|        NULL|                NULL|          NULL|      69|      voice|      PLAN_A|\n",
      "|212799208680|fa2239d2-6a62-4ca...|2025-06-01 09:23:09|   KENITRA_01|        4G|212799208680|212663533503|         310|   VOICE_NAT|        ready|        NULL|        NULL|       NULL|        NULL|                NULL|          NULL|      37|      voice|      PLAN_C|\n",
      "|212770862917|d50246f0-463f-4d7...|2025-06-01 22:12:45|      inconnu|        4G|        NULL|        NULL|        NULL|  DATA_BASIC| needs_review|        NULL|        NULL|       NULL|212770862917|                 453|       inconnu|      88|       data|      PLAN_B|\n",
      "+------------+--------------------+-------------------+-------------+----------+------------+------------+------------+------------+-------------+------------+------------+-----------+------------+--------------------+--------------+--------+-----------+------------+\n",
      "only showing top 20 rows\n",
      "\n"
     ]
    }
   ],
   "source": [
    "# ─── jointure client → plan ─────────────────────────────────────────────\n",
    "cdrs1 = cdrs.join(\n",
    "    customersDf.filter((col(\"status\") == \"active\") &\n",
    "                       (col(\"subscription_type\") == \"postpaid\"))\n",
    "               .select(\"customer_id\", \"rate_plan_id\"),\n",
    "    on=\"customer_id\",\n",
    "    how=\"inner\"\n",
    ")\n",
    "cdrs1.show()"
   ]
  },
  {
   "cell_type": "code",
   "execution_count": 262,
   "id": "d92da766",
   "metadata": {},
   "outputs": [
    {
     "name": "stdout",
     "output_type": "stream",
     "text": [
      "+------------+------------+--------------------+-------------------+-------------+----------+------------+------------+------------+-------------+------------+------------+-----------+------------+--------------------+--------------+--------+-----------+------------+------------+------+---------+--------------------+\n",
      "|product_code| customer_id|           record_ID|          timestamp|      cell_id|technology|   caller_id|   callee_id|duration_sec|rating_status|   sender_id| receiver_id|receiver_cc|     user_id|session_duration_sec|data_volume_mb|batch_id|record_type|rate_plan_id|service_type|  unit|rate_type|         description|\n",
      "+------------+------------+--------------------+-------------------+-------------+----------+------------+------------+------------+-------------+------------+------------+-----------+------------+--------------------+--------------+--------+-----------+------------+------------+------+---------+--------------------+\n",
      "|  DATA_BASIC|212768116861|30fcd930-6ec0-4e6...|2025-06-01 14:55:06|       FES_02|        4G|        NULL|        NULL|        NULL|        ready|        NULL|        NULL|       NULL|212768116861|                 385|       1888.71|      58|       data|      PLAN_C|        data|    MB|     flat|Session Data basi...|\n",
      "|  DATA_BASIC|212760204113|349612e5-c29f-44f...|2025-06-01 23:16:14| MARRAKECH_01|        3G|        NULL|        NULL|        NULL|        ready|        NULL|        NULL|       NULL|212760204113|                 205|       1613.08|      92|       data|      PLAN_A|        data|    MB|     flat|Session Data basi...|\n",
      "|DATA_PREMIUM|212760204113|1f63e4d2-a14d-483...|2025-06-02 01:04:07|      inconnu|        4G|        NULL|        NULL|        NULL| needs_review|        NULL|        NULL|       NULL|212760204113|             inconnu|        621.54|      99|       data|      PLAN_A|        data|    MB|   tiered|Session Data prem...|\n",
      "|   VOICE_NAT|212704344822|33bdd5c3-9b25-4d2...|2025-06-01 15:18:15|      inconnu|        4G|212704344822|212654446372|          86|        ready|        NULL|        NULL|       NULL|        NULL|                NULL|          NULL|      60|      voice|      PLAN_A|       voice|minute|     flat|Appel vocal natio...|\n",
      "|   VOICE_NAT|212704344822|2693d3b2-9032-4e8...|2025-06-01 23:00:48|  ELJADIDA_01|        4G|212704344822|212694293445|         554|        ready|        NULL|        NULL|       NULL|        NULL|                NULL|          NULL|      91|      voice|      PLAN_A|       voice|minute|     flat|Appel vocal natio...|\n",
      "|  DATA_BASIC|212699900093|bdf74e7c-dff2-417...|2025-06-01 15:35:05|      inconnu|        4G|        NULL|        NULL|        NULL|        ready|        NULL|        NULL|       NULL|212699900093|                 521|        703.04|      61|       data|      PLAN_A|        data|    MB|     flat|Session Data basi...|\n",
      "|     SMS_NAT|212755443149|f8377036-c089-40d...|2025-06-01 21:07:07|      inconnu|        4G|        NULL|        NULL|        NULL|        ready|212755443149|212794640895|        212|        NULL|                NULL|          NULL|      83|        sms|      PLAN_B|         sms| event|     flat|Envoi SMS standar...|\n",
      "|   VOICE_NAT|212755443149|afaa617b-b477-486...|2025-06-01 03:02:28|    MEKNES_02|        4G|212755443149|212761657564|         116|        ready|        NULL|        NULL|       NULL|        NULL|                NULL|          NULL|      11|      voice|      PLAN_B|       voice|minute|     flat|Appel vocal natio...|\n",
      "|  DATA_BASIC|212755443149|a66f366a-a8f7-4b5...|2025-06-01 13:04:31|    AGADIR_02|        4G|        NULL|        NULL|        NULL| needs_review|        NULL|        NULL|       NULL|212755443149|             inconnu|        923.23|      52|       data|      PLAN_B|        data|    MB|     flat|Session Data basi...|\n",
      "|   VOICE_NAT|212755443149|9925f799-f655-4df...|2025-06-01 08:45:26|    DAKHLA_01|        3G|212755443149|212796102015|         404|        ready|        NULL|        NULL|       NULL|        NULL|                NULL|          NULL|      35|      voice|      PLAN_B|       voice|minute|     flat|Appel vocal natio...|\n",
      "|   VOICE_NAT|212755443149|da1598fc-026e-4ac...|2025-06-01 13:39:43|     OUJDA_01|        4G|212755443149|212712884946|         540|        ready|        NULL|        NULL|       NULL|        NULL|                NULL|          NULL|      54|      voice|      PLAN_B|       voice|minute|     flat|Appel vocal natio...|\n",
      "|   VOICE_INT|212608231036|930e84c1-37f8-469...|2025-06-01 20:53:49|    AGADIR_01|        4G|212608231036| 34946014194|         218|        ready|        NULL|        NULL|       NULL|        NULL|                NULL|          NULL|      82|      voice|      PLAN_C|       voice|minute|     flat|Appel vocal inter...|\n",
      "|DATA_PREMIUM|212631419586|6df6619d-ba21-454...|2025-06-01 16:19:40|      TAZA_01|        2G|        NULL|        NULL|        NULL|        ready|        NULL|        NULL|       NULL|212631419586|                 140|        306.22|      63|       data|      PLAN_C|        data|    MB|   tiered|Session Data prem...|\n",
      "|   VOICE_INT|212631419586|85daecb7-60e7-40a...|2025-06-01 06:33:12|    DAKHLA_01|        5G|212631419586| 16346504970|          80|        ready|        NULL|        NULL|       NULL|        NULL|                NULL|          NULL|      26|      voice|      PLAN_C|       voice|minute|     flat|Appel vocal inter...|\n",
      "|  DATA_BASIC|212781716466|3b24f128-4a88-46e...|2025-06-01 21:18:08|    MEKNES_02|        4G|        NULL|        NULL|        NULL|        ready|        NULL|        NULL|       NULL|212781716466|                 210|        402.11|      84|       data|      PLAN_A|        data|    MB|     flat|Session Data basi...|\n",
      "|   VOICE_NAT|212785912578|6ee73aab-7e96-417...|2025-06-01 15:31:44|   TETOUAN_01|        4G|212785912578|212646761876|         353|        ready|        NULL|        NULL|       NULL|        NULL|                NULL|          NULL|      61|      voice|      PLAN_C|       voice|minute|     flat|Appel vocal natio...|\n",
      "|     SMS_NAT|212607086270|919adc37-1180-47a...|2025-06-01 11:57:49|CASABLANCA_01|        5G|        NULL|        NULL|        NULL|        ready|212607086270|212774524674|        212|        NULL|                NULL|          NULL|      47|        sms|      PLAN_A|         sms| event|     flat|Envoi SMS standar...|\n",
      "|   VOICE_NAT|212607086270|d56e083c-48f5-421...|2025-06-01 17:43:33|      inconnu|        2G|212607086270|212614448367|         339|        ready|        NULL|        NULL|       NULL|        NULL|                NULL|          NULL|      69|      voice|      PLAN_A|       voice|minute|     flat|Appel vocal natio...|\n",
      "|   VOICE_NAT|212799208680|fa2239d2-6a62-4ca...|2025-06-01 09:23:09|   KENITRA_01|        4G|212799208680|212663533503|         310|        ready|        NULL|        NULL|       NULL|        NULL|                NULL|          NULL|      37|      voice|      PLAN_C|       voice|minute|     flat|Appel vocal natio...|\n",
      "|  DATA_BASIC|212770862917|d50246f0-463f-4d7...|2025-06-01 22:12:45|      inconnu|        4G|        NULL|        NULL|        NULL| needs_review|        NULL|        NULL|       NULL|212770862917|                 453|       inconnu|      88|       data|      PLAN_B|        data|    MB|     flat|Session Data basi...|\n",
      "+------------+------------+--------------------+-------------------+-------------+----------+------------+------------+------------+-------------+------------+------------+-----------+------------+--------------------+--------------+--------+-----------+------------+------------+------+---------+--------------------+\n",
      "only showing top 20 rows\n",
      "\n"
     ]
    }
   ],
   "source": [
    "# ─── jointure produit (rate_type, service_type) ────────────────────────\n",
    "cdrs2 = cdrs1.join(catalogDf, on=\"product_code\", how=\"left\")\n",
    "cdrs2.show()"
   ]
  },
  {
   "cell_type": "code",
   "execution_count": 263,
   "id": "6212e60b",
   "metadata": {},
   "outputs": [],
   "source": [
    "cdrs3 = cdrs2.join(ratePlansDf,\n",
    "                   on=[\"rate_plan_id\", \"product_code\"],\n",
    "                   how=\"left\")"
   ]
  },
  {
   "cell_type": "code",
   "execution_count": 264,
   "id": "dde74800",
   "metadata": {},
   "outputs": [
    {
     "name": "stdout",
     "output_type": "stream",
     "text": [
      "+------------+------------+------------+--------------------+-------------------+-------------+----------+------------+------------+------------+-------------+------------+------------+-----------+------------+--------------------+--------------+--------+-----------+------------+------+---------+--------------------+------------+----------+----------+--------------+----------+\n",
      "|rate_plan_id|product_code| customer_id|           record_ID|          timestamp|      cell_id|technology|   caller_id|   callee_id|duration_sec|rating_status|   sender_id| receiver_id|receiver_cc|     user_id|session_duration_sec|data_volume_mb|batch_id|record_type|service_type|  unit|rate_type|         description|service_type|unit_price|free_units|tier_threshold|tier_price|\n",
      "+------------+------------+------------+--------------------+-------------------+-------------+----------+------------+------------+------------+-------------+------------+------------+-----------+------------+--------------------+--------------+--------+-----------+------------+------+---------+--------------------+------------+----------+----------+--------------+----------+\n",
      "|      PLAN_C|  DATA_BASIC|212768116861|30fcd930-6ec0-4e6...|2025-06-01 14:55:06|       FES_02|        4G|        NULL|        NULL|        NULL|        ready|        NULL|        NULL|       NULL|212768116861|                 385|       1888.71|      58|       data|        data|    MB|     flat|Session Data basi...|        data|     0.018|        20|          NULL|      NULL|\n",
      "|      PLAN_A|  DATA_BASIC|212760204113|349612e5-c29f-44f...|2025-06-01 23:16:14| MARRAKECH_01|        3G|        NULL|        NULL|        NULL|        ready|        NULL|        NULL|       NULL|212760204113|                 205|       1613.08|      92|       data|        data|    MB|     flat|Session Data basi...|        data|      0.02|        20|          NULL|      NULL|\n",
      "|      PLAN_A|DATA_PREMIUM|212760204113|1f63e4d2-a14d-483...|2025-06-02 01:04:07|      inconnu|        4G|        NULL|        NULL|        NULL| needs_review|        NULL|        NULL|       NULL|212760204113|             inconnu|        621.54|      99|       data|        data|    MB|   tiered|Session Data prem...|        data|     0.015|        50|          1024|      0.05|\n",
      "|      PLAN_A|   VOICE_NAT|212704344822|33bdd5c3-9b25-4d2...|2025-06-01 15:18:15|      inconnu|        4G|212704344822|212654446372|          86|        ready|        NULL|        NULL|       NULL|        NULL|                NULL|          NULL|      60|      voice|       voice|minute|     flat|Appel vocal natio...|       voice|      0.01|         5|          NULL|      NULL|\n",
      "|      PLAN_A|   VOICE_NAT|212704344822|2693d3b2-9032-4e8...|2025-06-01 23:00:48|  ELJADIDA_01|        4G|212704344822|212694293445|         554|        ready|        NULL|        NULL|       NULL|        NULL|                NULL|          NULL|      91|      voice|       voice|minute|     flat|Appel vocal natio...|       voice|      0.01|         5|          NULL|      NULL|\n",
      "|      PLAN_A|  DATA_BASIC|212699900093|bdf74e7c-dff2-417...|2025-06-01 15:35:05|      inconnu|        4G|        NULL|        NULL|        NULL|        ready|        NULL|        NULL|       NULL|212699900093|                 521|        703.04|      61|       data|        data|    MB|     flat|Session Data basi...|        data|      0.02|        20|          NULL|      NULL|\n",
      "|      PLAN_B|     SMS_NAT|212755443149|f8377036-c089-40d...|2025-06-01 21:07:07|      inconnu|        4G|        NULL|        NULL|        NULL|        ready|212755443149|212794640895|        212|        NULL|                NULL|          NULL|      83|        sms|         sms| event|     flat|Envoi SMS standar...|         sms|     0.035|         3|          NULL|      NULL|\n",
      "|      PLAN_B|   VOICE_NAT|212755443149|afaa617b-b477-486...|2025-06-01 03:02:28|    MEKNES_02|        4G|212755443149|212761657564|         116|        ready|        NULL|        NULL|       NULL|        NULL|                NULL|          NULL|      11|      voice|       voice|minute|     flat|Appel vocal natio...|       voice|     0.012|         6|          NULL|      NULL|\n",
      "|      PLAN_B|  DATA_BASIC|212755443149|a66f366a-a8f7-4b5...|2025-06-01 13:04:31|    AGADIR_02|        4G|        NULL|        NULL|        NULL| needs_review|        NULL|        NULL|       NULL|212755443149|             inconnu|        923.23|      52|       data|        data|    MB|     flat|Session Data basi...|        data|     0.022|        25|          NULL|      NULL|\n",
      "|      PLAN_B|   VOICE_NAT|212755443149|9925f799-f655-4df...|2025-06-01 08:45:26|    DAKHLA_01|        3G|212755443149|212796102015|         404|        ready|        NULL|        NULL|       NULL|        NULL|                NULL|          NULL|      35|      voice|       voice|minute|     flat|Appel vocal natio...|       voice|     0.012|         6|          NULL|      NULL|\n",
      "|      PLAN_B|   VOICE_NAT|212755443149|da1598fc-026e-4ac...|2025-06-01 13:39:43|     OUJDA_01|        4G|212755443149|212712884946|         540|        ready|        NULL|        NULL|       NULL|        NULL|                NULL|          NULL|      54|      voice|       voice|minute|     flat|Appel vocal natio...|       voice|     0.012|         6|          NULL|      NULL|\n",
      "|      PLAN_C|   VOICE_INT|212608231036|930e84c1-37f8-469...|2025-06-01 20:53:49|    AGADIR_01|        4G|212608231036| 34946014194|         218|        ready|        NULL|        NULL|       NULL|        NULL|                NULL|          NULL|      82|      voice|       voice|minute|     flat|Appel vocal inter...|       voice|     0.018|         0|          NULL|      NULL|\n",
      "|      PLAN_C|DATA_PREMIUM|212631419586|6df6619d-ba21-454...|2025-06-01 16:19:40|      TAZA_01|        2G|        NULL|        NULL|        NULL|        ready|        NULL|        NULL|       NULL|212631419586|                 140|        306.22|      63|       data|        data|    MB|   tiered|Session Data prem...|        data|     0.015|        40|          2048|      0.05|\n",
      "|      PLAN_C|   VOICE_INT|212631419586|85daecb7-60e7-40a...|2025-06-01 06:33:12|    DAKHLA_01|        5G|212631419586| 16346504970|          80|        ready|        NULL|        NULL|       NULL|        NULL|                NULL|          NULL|      26|      voice|       voice|minute|     flat|Appel vocal inter...|       voice|     0.018|         0|          NULL|      NULL|\n",
      "|      PLAN_A|  DATA_BASIC|212781716466|3b24f128-4a88-46e...|2025-06-01 21:18:08|    MEKNES_02|        4G|        NULL|        NULL|        NULL|        ready|        NULL|        NULL|       NULL|212781716466|                 210|        402.11|      84|       data|        data|    MB|     flat|Session Data basi...|        data|      0.02|        20|          NULL|      NULL|\n",
      "|      PLAN_C|   VOICE_NAT|212785912578|6ee73aab-7e96-417...|2025-06-01 15:31:44|   TETOUAN_01|        4G|212785912578|212646761876|         353|        ready|        NULL|        NULL|       NULL|        NULL|                NULL|          NULL|      61|      voice|       voice|minute|     flat|Appel vocal natio...|       voice|     0.008|        10|          NULL|      NULL|\n",
      "|      PLAN_A|     SMS_NAT|212607086270|919adc37-1180-47a...|2025-06-01 11:57:49|CASABLANCA_01|        5G|        NULL|        NULL|        NULL|        ready|212607086270|212774524674|        212|        NULL|                NULL|          NULL|      47|        sms|         sms| event|     flat|Envoi SMS standar...|         sms|      0.04|         5|          NULL|      NULL|\n",
      "|      PLAN_A|   VOICE_NAT|212607086270|d56e083c-48f5-421...|2025-06-01 17:43:33|      inconnu|        2G|212607086270|212614448367|         339|        ready|        NULL|        NULL|       NULL|        NULL|                NULL|          NULL|      69|      voice|       voice|minute|     flat|Appel vocal natio...|       voice|      0.01|         5|          NULL|      NULL|\n",
      "|      PLAN_C|   VOICE_NAT|212799208680|fa2239d2-6a62-4ca...|2025-06-01 09:23:09|   KENITRA_01|        4G|212799208680|212663533503|         310|        ready|        NULL|        NULL|       NULL|        NULL|                NULL|          NULL|      37|      voice|       voice|minute|     flat|Appel vocal natio...|       voice|     0.008|        10|          NULL|      NULL|\n",
      "|      PLAN_B|  DATA_BASIC|212770862917|d50246f0-463f-4d7...|2025-06-01 22:12:45|      inconnu|        4G|        NULL|        NULL|        NULL| needs_review|        NULL|        NULL|       NULL|212770862917|                 453|       inconnu|      88|       data|        data|    MB|     flat|Session Data basi...|        data|     0.022|        25|          NULL|      NULL|\n",
      "+------------+------------+------------+--------------------+-------------------+-------------+----------+------------+------------+------------+-------------+------------+------------+-----------+------------+--------------------+--------------+--------+-----------+------------+------+---------+--------------------+------------+----------+----------+--------------+----------+\n",
      "only showing top 20 rows\n",
      "\n"
     ]
    }
   ],
   "source": [
    "cdrs3.show()"
   ]
  },
  {
   "cell_type": "code",
   "execution_count": 265,
   "id": "bd2697ab",
   "metadata": {},
   "outputs": [
    {
     "name": "stdout",
     "output_type": "stream",
     "text": [
      "+------------+------------+------------+--------------------+-------------------+-------------+----------+------------+------------+------------+-------------+------------+------------+-----------+------------+--------------------+--------------+--------+-----------+------+---------+--------------------+----------+----------+--------------+----------+\n",
      "|rate_plan_id|product_code| customer_id|           record_ID|          timestamp|      cell_id|technology|   caller_id|   callee_id|duration_sec|rating_status|   sender_id| receiver_id|receiver_cc|     user_id|session_duration_sec|data_volume_mb|batch_id|record_type|  unit|rate_type|         description|unit_price|free_units|tier_threshold|tier_price|\n",
      "+------------+------------+------------+--------------------+-------------------+-------------+----------+------------+------------+------------+-------------+------------+------------+-----------+------------+--------------------+--------------+--------+-----------+------+---------+--------------------+----------+----------+--------------+----------+\n",
      "|      PLAN_C|  DATA_BASIC|212768116861|30fcd930-6ec0-4e6...|2025-06-01 14:55:06|       FES_02|        4G|        NULL|        NULL|        NULL|        ready|        NULL|        NULL|       NULL|212768116861|                 385|       1888.71|      58|       data|    MB|     flat|Session Data basi...|     0.018|        20|          NULL|      NULL|\n",
      "|      PLAN_A|  DATA_BASIC|212760204113|349612e5-c29f-44f...|2025-06-01 23:16:14| MARRAKECH_01|        3G|        NULL|        NULL|        NULL|        ready|        NULL|        NULL|       NULL|212760204113|                 205|       1613.08|      92|       data|    MB|     flat|Session Data basi...|      0.02|        20|          NULL|      NULL|\n",
      "|      PLAN_A|DATA_PREMIUM|212760204113|1f63e4d2-a14d-483...|2025-06-02 01:04:07|      inconnu|        4G|        NULL|        NULL|        NULL| needs_review|        NULL|        NULL|       NULL|212760204113|             inconnu|        621.54|      99|       data|    MB|   tiered|Session Data prem...|     0.015|        50|          1024|      0.05|\n",
      "|      PLAN_A|   VOICE_NAT|212704344822|33bdd5c3-9b25-4d2...|2025-06-01 15:18:15|      inconnu|        4G|212704344822|212654446372|          86|        ready|        NULL|        NULL|       NULL|        NULL|                NULL|          NULL|      60|      voice|minute|     flat|Appel vocal natio...|      0.01|         5|          NULL|      NULL|\n",
      "|      PLAN_A|   VOICE_NAT|212704344822|2693d3b2-9032-4e8...|2025-06-01 23:00:48|  ELJADIDA_01|        4G|212704344822|212694293445|         554|        ready|        NULL|        NULL|       NULL|        NULL|                NULL|          NULL|      91|      voice|minute|     flat|Appel vocal natio...|      0.01|         5|          NULL|      NULL|\n",
      "|      PLAN_A|  DATA_BASIC|212699900093|bdf74e7c-dff2-417...|2025-06-01 15:35:05|      inconnu|        4G|        NULL|        NULL|        NULL|        ready|        NULL|        NULL|       NULL|212699900093|                 521|        703.04|      61|       data|    MB|     flat|Session Data basi...|      0.02|        20|          NULL|      NULL|\n",
      "|      PLAN_B|     SMS_NAT|212755443149|f8377036-c089-40d...|2025-06-01 21:07:07|      inconnu|        4G|        NULL|        NULL|        NULL|        ready|212755443149|212794640895|        212|        NULL|                NULL|          NULL|      83|        sms| event|     flat|Envoi SMS standar...|     0.035|         3|          NULL|      NULL|\n",
      "|      PLAN_B|   VOICE_NAT|212755443149|afaa617b-b477-486...|2025-06-01 03:02:28|    MEKNES_02|        4G|212755443149|212761657564|         116|        ready|        NULL|        NULL|       NULL|        NULL|                NULL|          NULL|      11|      voice|minute|     flat|Appel vocal natio...|     0.012|         6|          NULL|      NULL|\n",
      "|      PLAN_B|  DATA_BASIC|212755443149|a66f366a-a8f7-4b5...|2025-06-01 13:04:31|    AGADIR_02|        4G|        NULL|        NULL|        NULL| needs_review|        NULL|        NULL|       NULL|212755443149|             inconnu|        923.23|      52|       data|    MB|     flat|Session Data basi...|     0.022|        25|          NULL|      NULL|\n",
      "|      PLAN_B|   VOICE_NAT|212755443149|9925f799-f655-4df...|2025-06-01 08:45:26|    DAKHLA_01|        3G|212755443149|212796102015|         404|        ready|        NULL|        NULL|       NULL|        NULL|                NULL|          NULL|      35|      voice|minute|     flat|Appel vocal natio...|     0.012|         6|          NULL|      NULL|\n",
      "|      PLAN_B|   VOICE_NAT|212755443149|da1598fc-026e-4ac...|2025-06-01 13:39:43|     OUJDA_01|        4G|212755443149|212712884946|         540|        ready|        NULL|        NULL|       NULL|        NULL|                NULL|          NULL|      54|      voice|minute|     flat|Appel vocal natio...|     0.012|         6|          NULL|      NULL|\n",
      "|      PLAN_C|   VOICE_INT|212608231036|930e84c1-37f8-469...|2025-06-01 20:53:49|    AGADIR_01|        4G|212608231036| 34946014194|         218|        ready|        NULL|        NULL|       NULL|        NULL|                NULL|          NULL|      82|      voice|minute|     flat|Appel vocal inter...|     0.018|         0|          NULL|      NULL|\n",
      "|      PLAN_C|DATA_PREMIUM|212631419586|6df6619d-ba21-454...|2025-06-01 16:19:40|      TAZA_01|        2G|        NULL|        NULL|        NULL|        ready|        NULL|        NULL|       NULL|212631419586|                 140|        306.22|      63|       data|    MB|   tiered|Session Data prem...|     0.015|        40|          2048|      0.05|\n",
      "|      PLAN_C|   VOICE_INT|212631419586|85daecb7-60e7-40a...|2025-06-01 06:33:12|    DAKHLA_01|        5G|212631419586| 16346504970|          80|        ready|        NULL|        NULL|       NULL|        NULL|                NULL|          NULL|      26|      voice|minute|     flat|Appel vocal inter...|     0.018|         0|          NULL|      NULL|\n",
      "|      PLAN_A|  DATA_BASIC|212781716466|3b24f128-4a88-46e...|2025-06-01 21:18:08|    MEKNES_02|        4G|        NULL|        NULL|        NULL|        ready|        NULL|        NULL|       NULL|212781716466|                 210|        402.11|      84|       data|    MB|     flat|Session Data basi...|      0.02|        20|          NULL|      NULL|\n",
      "|      PLAN_C|   VOICE_NAT|212785912578|6ee73aab-7e96-417...|2025-06-01 15:31:44|   TETOUAN_01|        4G|212785912578|212646761876|         353|        ready|        NULL|        NULL|       NULL|        NULL|                NULL|          NULL|      61|      voice|minute|     flat|Appel vocal natio...|     0.008|        10|          NULL|      NULL|\n",
      "|      PLAN_A|     SMS_NAT|212607086270|919adc37-1180-47a...|2025-06-01 11:57:49|CASABLANCA_01|        5G|        NULL|        NULL|        NULL|        ready|212607086270|212774524674|        212|        NULL|                NULL|          NULL|      47|        sms| event|     flat|Envoi SMS standar...|      0.04|         5|          NULL|      NULL|\n",
      "|      PLAN_A|   VOICE_NAT|212607086270|d56e083c-48f5-421...|2025-06-01 17:43:33|      inconnu|        2G|212607086270|212614448367|         339|        ready|        NULL|        NULL|       NULL|        NULL|                NULL|          NULL|      69|      voice|minute|     flat|Appel vocal natio...|      0.01|         5|          NULL|      NULL|\n",
      "|      PLAN_C|   VOICE_NAT|212799208680|fa2239d2-6a62-4ca...|2025-06-01 09:23:09|   KENITRA_01|        4G|212799208680|212663533503|         310|        ready|        NULL|        NULL|       NULL|        NULL|                NULL|          NULL|      37|      voice|minute|     flat|Appel vocal natio...|     0.008|        10|          NULL|      NULL|\n",
      "|      PLAN_B|  DATA_BASIC|212770862917|d50246f0-463f-4d7...|2025-06-01 22:12:45|      inconnu|        4G|        NULL|        NULL|        NULL| needs_review|        NULL|        NULL|       NULL|212770862917|                 453|       inconnu|      88|       data|    MB|     flat|Session Data basi...|     0.022|        25|          NULL|      NULL|\n",
      "+------------+------------+------------+--------------------+-------------------+-------------+----------+------------+------------+------------+-------------+------------+------------+-----------+------------+--------------------+--------------+--------+-----------+------+---------+--------------------+----------+----------+--------------+----------+\n",
      "only showing top 20 rows\n",
      "\n"
     ]
    }
   ],
   "source": [
    "cdrs3=cdrs3.drop(\"service_type\")\n",
    "cdrs3.show()"
   ]
  },
  {
   "cell_type": "code",
   "execution_count": 266,
   "id": "a1b07d59",
   "metadata": {},
   "outputs": [],
   "source": [
    "from pyspark.sql.functions import col, min as spark_min\n",
    "\n",
    "agg = (cdrs3\n",
    "       .filter(col(\"record_type\") == \"data\")\n",
    "       .groupBy(\"customer_id\")\n",
    "       .agg(\n",
    "           spark_min(\"data_volume_mb\")\n",
    "           .alias(\"user_min_mb\")\n",
    "       )\n",
    ")\n",
    "\n",
    "cdrs4 = cdrs3.join(agg, on=\"customer_id\", how=\"left\")"
   ]
  },
  {
   "cell_type": "code",
   "execution_count": 267,
   "id": "31aa9336",
   "metadata": {},
   "outputs": [
    {
     "name": "stdout",
     "output_type": "stream",
     "text": [
      "+------------+------------+------------+--------------------+-------------------+-------------+----------+------------+------------+------------+-------------+------------+------------+-----------+------------+--------------------+--------------+--------+-----------+------+---------+--------------------+----------+----------+--------------+----------+-----------+\n",
      "| customer_id|rate_plan_id|product_code|           record_ID|          timestamp|      cell_id|technology|   caller_id|   callee_id|duration_sec|rating_status|   sender_id| receiver_id|receiver_cc|     user_id|session_duration_sec|data_volume_mb|batch_id|record_type|  unit|rate_type|         description|unit_price|free_units|tier_threshold|tier_price|user_min_mb|\n",
      "+------------+------------+------------+--------------------+-------------------+-------------+----------+------------+------------+------------+-------------+------------+------------+-----------+------------+--------------------+--------------+--------+-----------+------+---------+--------------------+----------+----------+--------------+----------+-----------+\n",
      "|212699900093|      PLAN_A|  DATA_BASIC|bdf74e7c-dff2-417...|2025-06-01 15:35:05|      inconnu|        4G|        NULL|        NULL|        NULL|        ready|        NULL|        NULL|       NULL|212699900093|                 521|        703.04|      61|       data|    MB|     flat|Session Data basi...|      0.02|        20|          NULL|      NULL|     703.04|\n",
      "|212755443149|      PLAN_B|     SMS_NAT|f8377036-c089-40d...|2025-06-01 21:07:07|      inconnu|        4G|        NULL|        NULL|        NULL|        ready|212755443149|212794640895|        212|        NULL|                NULL|          NULL|      83|        sms| event|     flat|Envoi SMS standar...|     0.035|         3|          NULL|      NULL|     923.23|\n",
      "|212755443149|      PLAN_B|   VOICE_NAT|afaa617b-b477-486...|2025-06-01 03:02:28|    MEKNES_02|        4G|212755443149|212761657564|         116|        ready|        NULL|        NULL|       NULL|        NULL|                NULL|          NULL|      11|      voice|minute|     flat|Appel vocal natio...|     0.012|         6|          NULL|      NULL|     923.23|\n",
      "|212755443149|      PLAN_B|  DATA_BASIC|a66f366a-a8f7-4b5...|2025-06-01 13:04:31|    AGADIR_02|        4G|        NULL|        NULL|        NULL| needs_review|        NULL|        NULL|       NULL|212755443149|             inconnu|        923.23|      52|       data|    MB|     flat|Session Data basi...|     0.022|        25|          NULL|      NULL|     923.23|\n",
      "|212755443149|      PLAN_B|   VOICE_NAT|9925f799-f655-4df...|2025-06-01 08:45:26|    DAKHLA_01|        3G|212755443149|212796102015|         404|        ready|        NULL|        NULL|       NULL|        NULL|                NULL|          NULL|      35|      voice|minute|     flat|Appel vocal natio...|     0.012|         6|          NULL|      NULL|     923.23|\n",
      "|212755443149|      PLAN_B|   VOICE_NAT|da1598fc-026e-4ac...|2025-06-01 13:39:43|     OUJDA_01|        4G|212755443149|212712884946|         540|        ready|        NULL|        NULL|       NULL|        NULL|                NULL|          NULL|      54|      voice|minute|     flat|Appel vocal natio...|     0.012|         6|          NULL|      NULL|     923.23|\n",
      "|212799208680|      PLAN_C|   VOICE_NAT|fa2239d2-6a62-4ca...|2025-06-01 09:23:09|   KENITRA_01|        4G|212799208680|212663533503|         310|        ready|        NULL|        NULL|       NULL|        NULL|                NULL|          NULL|      37|      voice|minute|     flat|Appel vocal natio...|     0.008|        10|          NULL|      NULL|       NULL|\n",
      "|212760204113|      PLAN_A|  DATA_BASIC|349612e5-c29f-44f...|2025-06-01 23:16:14| MARRAKECH_01|        3G|        NULL|        NULL|        NULL|        ready|        NULL|        NULL|       NULL|212760204113|                 205|       1613.08|      92|       data|    MB|     flat|Session Data basi...|      0.02|        20|          NULL|      NULL|    1613.08|\n",
      "|212760204113|      PLAN_A|DATA_PREMIUM|1f63e4d2-a14d-483...|2025-06-02 01:04:07|      inconnu|        4G|        NULL|        NULL|        NULL| needs_review|        NULL|        NULL|       NULL|212760204113|             inconnu|        621.54|      99|       data|    MB|   tiered|Session Data prem...|     0.015|        50|          1024|      0.05|    1613.08|\n",
      "|212785912578|      PLAN_C|   VOICE_NAT|6ee73aab-7e96-417...|2025-06-01 15:31:44|   TETOUAN_01|        4G|212785912578|212646761876|         353|        ready|        NULL|        NULL|       NULL|        NULL|                NULL|          NULL|      61|      voice|minute|     flat|Appel vocal natio...|     0.008|        10|          NULL|      NULL|       NULL|\n",
      "|212631419586|      PLAN_C|DATA_PREMIUM|6df6619d-ba21-454...|2025-06-01 16:19:40|      TAZA_01|        2G|        NULL|        NULL|        NULL|        ready|        NULL|        NULL|       NULL|212631419586|                 140|        306.22|      63|       data|    MB|   tiered|Session Data prem...|     0.015|        40|          2048|      0.05|     306.22|\n",
      "|212631419586|      PLAN_C|   VOICE_INT|85daecb7-60e7-40a...|2025-06-01 06:33:12|    DAKHLA_01|        5G|212631419586| 16346504970|          80|        ready|        NULL|        NULL|       NULL|        NULL|                NULL|          NULL|      26|      voice|minute|     flat|Appel vocal inter...|     0.018|         0|          NULL|      NULL|     306.22|\n",
      "|212768116861|      PLAN_C|  DATA_BASIC|30fcd930-6ec0-4e6...|2025-06-01 14:55:06|       FES_02|        4G|        NULL|        NULL|        NULL|        ready|        NULL|        NULL|       NULL|212768116861|                 385|       1888.71|      58|       data|    MB|     flat|Session Data basi...|     0.018|        20|          NULL|      NULL|    1888.71|\n",
      "|212770862917|      PLAN_B|  DATA_BASIC|d50246f0-463f-4d7...|2025-06-01 22:12:45|      inconnu|        4G|        NULL|        NULL|        NULL| needs_review|        NULL|        NULL|       NULL|212770862917|                 453|       inconnu|      88|       data|    MB|     flat|Session Data basi...|     0.022|        25|          NULL|      NULL|     890.08|\n",
      "|212770862917|      PLAN_B|  DATA_BASIC|c3c54ee4-d194-465...|2025-06-01 20:55:00| ALHOCEIMA_02|        4G|        NULL|        NULL|        NULL|        ready|        NULL|        NULL|       NULL|212770862917|                 249|        890.08|      83|       data|    MB|     flat|Session Data basi...|     0.022|        25|          NULL|      NULL|     890.08|\n",
      "|212704344822|      PLAN_A|   VOICE_NAT|33bdd5c3-9b25-4d2...|2025-06-01 15:18:15|      inconnu|        4G|212704344822|212654446372|          86|        ready|        NULL|        NULL|       NULL|        NULL|                NULL|          NULL|      60|      voice|minute|     flat|Appel vocal natio...|      0.01|         5|          NULL|      NULL|       NULL|\n",
      "|212704344822|      PLAN_A|   VOICE_NAT|2693d3b2-9032-4e8...|2025-06-01 23:00:48|  ELJADIDA_01|        4G|212704344822|212694293445|         554|        ready|        NULL|        NULL|       NULL|        NULL|                NULL|          NULL|      91|      voice|minute|     flat|Appel vocal natio...|      0.01|         5|          NULL|      NULL|       NULL|\n",
      "|212608231036|      PLAN_C|   VOICE_INT|930e84c1-37f8-469...|2025-06-01 20:53:49|    AGADIR_01|        4G|212608231036| 34946014194|         218|        ready|        NULL|        NULL|       NULL|        NULL|                NULL|          NULL|      82|      voice|minute|     flat|Appel vocal inter...|     0.018|         0|          NULL|      NULL|       NULL|\n",
      "|212607086270|      PLAN_A|     SMS_NAT|919adc37-1180-47a...|2025-06-01 11:57:49|CASABLANCA_01|        5G|        NULL|        NULL|        NULL|        ready|212607086270|212774524674|        212|        NULL|                NULL|          NULL|      47|        sms| event|     flat|Envoi SMS standar...|      0.04|         5|          NULL|      NULL|       NULL|\n",
      "|212607086270|      PLAN_A|   VOICE_NAT|d56e083c-48f5-421...|2025-06-01 17:43:33|      inconnu|        2G|212607086270|212614448367|         339|        ready|        NULL|        NULL|       NULL|        NULL|                NULL|          NULL|      69|      voice|minute|     flat|Appel vocal natio...|      0.01|         5|          NULL|      NULL|       NULL|\n",
      "+------------+------------+------------+--------------------+-------------------+-------------+----------+------------+------------+------------+-------------+------------+------------+-----------+------------+--------------------+--------------+--------+-----------+------+---------+--------------------+----------+----------+--------------+----------+-----------+\n",
      "only showing top 20 rows\n",
      "\n"
     ]
    }
   ],
   "source": [
    "cdrs4.show()"
   ]
  },
  {
   "cell_type": "code",
   "execution_count": 268,
   "id": "95afade2",
   "metadata": {},
   "outputs": [],
   "source": [
    "cdrs4 = cdrs4.withColumn(\n",
    "    \"data_volume_mb\",\n",
    "    when( (col(\"data_volume_mb\")==\"inconnu\"), col(\"user_min_mb\"))\n",
    "    .otherwise(col(\"data_volume_mb\"))\n",
    ")"
   ]
  },
  {
   "cell_type": "code",
   "execution_count": 269,
   "id": "1767020d",
   "metadata": {},
   "outputs": [],
   "source": [
    "cdrs4 = cdrs4.withColumn(\n",
    "    \"data_volume_mb\",\n",
    "    when( ((col(\"user_min_mb\")==\"inconnu\") &(col(\"data_volume_mb\")==\"inconnu\")), lit(0)).otherwise(col(\"data_volume_mb\")))"
   ]
  },
  {
   "cell_type": "code",
   "execution_count": 270,
   "id": "0c150671",
   "metadata": {},
   "outputs": [],
   "source": [
    "cdrs4 = cdrs4.withColumn(\n",
    "    \"rating_status\",\n",
    "    when((col(\"rating_status\")==\"needs_review\")&(col(\"data_volume_mb\")==\"inconnu\"), \"unmatched\").otherwise(col(\"rating_status\"))\n",
    ")"
   ]
  },
  {
   "cell_type": "code",
   "execution_count": 271,
   "id": "4e867c4a",
   "metadata": {},
   "outputs": [],
   "source": [
    "cdrs4 = cdrs4.withColumn(\n",
    "    \"rating_status\",\n",
    "    when((col(\"rating_status\")==\"needs_review\"), \"ready\").otherwise(col(\"rating_status\"))\n",
    ")"
   ]
  },
  {
   "cell_type": "code",
   "execution_count": 272,
   "id": "ceac3ad1",
   "metadata": {},
   "outputs": [
    {
     "name": "stdout",
     "output_type": "stream",
     "text": [
      "+------------+------------+------------+--------------------+-------------------+-------------+----------+------------+------------+------------+-------------+------------+-----------+-----------+------------+--------------------+--------------+--------+-----------+------+---------+--------------------+----------+----------+--------------+----------+-----------+\n",
      "| customer_id|rate_plan_id|product_code|           record_ID|          timestamp|      cell_id|technology|   caller_id|   callee_id|duration_sec|rating_status|   sender_id|receiver_id|receiver_cc|     user_id|session_duration_sec|data_volume_mb|batch_id|record_type|  unit|rate_type|         description|unit_price|free_units|tier_threshold|tier_price|user_min_mb|\n",
      "+------------+------------+------------+--------------------+-------------------+-------------+----------+------------+------------+------------+-------------+------------+-----------+-----------+------------+--------------------+--------------+--------+-----------+------+---------+--------------------+----------+----------+--------------+----------+-----------+\n",
      "|212668884253|      PLAN_A|DATA_PREMIUM|f6911324-9ca7-43b...|2025-06-01 15:25:59| MARRAKECH_01|        4G|        NULL|        NULL|        NULL|        ready|        NULL|       NULL|       NULL|212668884253|                  81|       1889.31|      60|       data|    MB|   tiered|Session Data prem...|     0.015|        50|          1024|      0.05|    1889.31|\n",
      "|212619280249|      PLAN_B|  DATA_BASIC|f988375f-7a1a-484...|2025-06-01 17:27:08|      inconnu|        4G|        NULL|        NULL|        NULL|        ready|        NULL|       NULL|       NULL|212619280249|                 434|        207.05|      68|       data|    MB|     flat|Session Data basi...|     0.022|        25|          NULL|      NULL|     207.05|\n",
      "|212619280249|      PLAN_B|   VOICE_NAT|6c8b6730-6d33-447...|2025-06-01 01:12:57|CASABLANCA_03|        4G|212619280249|212631108268|         485|        ready|        NULL|       NULL|       NULL|        NULL|                NULL|          NULL|       4|      voice|minute|     flat|Appel vocal natio...|     0.012|         6|          NULL|      NULL|     207.05|\n",
      "|212736864154|      PLAN_A|   VOICE_NAT|5fbc4373-b04e-4d9...|2025-06-01 07:11:43| KHOURIBGA_01|        5G|212736864154|212720742156|          35|        ready|        NULL|       NULL|       NULL|        NULL|                NULL|          NULL|      28|      voice|minute|     flat|Appel vocal natio...|      0.01|         5|          NULL|      NULL|       NULL|\n",
      "|212774638478|      PLAN_C|  DATA_BASIC|514b5909-5061-471...|2025-06-01 14:17:39|     RABAT_03|        4G|        NULL|        NULL|        NULL|        ready|        NULL|       NULL|       NULL|212774638478|                 111|             0|      56|       data|    MB|     flat|Session Data basi...|     0.018|        20|          NULL|      NULL|    inconnu|\n",
      "|212774638478|      PLAN_C|     SMS_INT|eb4d74be-2298-420...|2025-06-01 09:55:37|   TETOUAN_01|        3G|        NULL|        NULL|        NULL|        ready|212774638478|72398478984|        723|        NULL|                NULL|          NULL|      39|        sms| event|     flat|Envoi SMS standar...|     0.065|         0|          NULL|      NULL|    inconnu|\n",
      "|212693151256|      PLAN_A|  DATA_BASIC|b66e9bf4-7710-40f...|2025-06-02 00:08:17|   KENITRA_01|        4G|        NULL|        NULL|        NULL|        ready|        NULL|       NULL|       NULL|212693151256|                 313|        722.53|      96|       data|    MB|     flat|Session Data basi...|      0.02|        20|          NULL|      NULL|     722.53|\n",
      "|212693151256|      PLAN_A|   VOICE_NAT|3157c05f-0a64-4d5...|2025-06-01 14:17:49|     NADOR_01|        5G|212693151256|212621831445|          56|        ready|        NULL|       NULL|       NULL|        NULL|                NULL|          NULL|      56|      voice|minute|     flat|Appel vocal natio...|      0.01|         5|          NULL|      NULL|     722.53|\n",
      "|212610535303|      PLAN_B|  DATA_BASIC|de36e032-f55e-496...|2025-06-01 16:46:07|      inconnu|        4G|        NULL|        NULL|        NULL|        ready|        NULL|       NULL|       NULL|212610535303|             inconnu|         833.4|      65|       data|    MB|     flat|Session Data basi...|     0.022|        25|          NULL|      NULL|      833.4|\n",
      "|212733255826|      PLAN_A|   VOICE_INT|e13c242e-76d2-446...|2025-06-02 00:26:17|   TETOUAN_01|        2G|212733255826| 34911825512|         119|        ready|        NULL|       NULL|       NULL|        NULL|                NULL|          NULL|      97|      voice|minute|     flat|Appel vocal inter...|      0.02|         0|          NULL|      NULL|       NULL|\n",
      "|212608908413|      PLAN_C|   VOICE_NAT|9a725bd6-2d0e-46f...|2025-06-01 04:47:25|      SAFI_01|        4G|212608908413|212631948827|         149|        ready|        NULL|       NULL|       NULL|        NULL|                NULL|          NULL|      18|      voice|minute|     flat|Appel vocal natio...|     0.008|        10|          NULL|      NULL|       NULL|\n",
      "|212695299965|      PLAN_B|  DATA_BASIC|db1bd74f-a058-42d...|2025-06-01 09:48:49|     NADOR_01|        5G|        NULL|        NULL|        NULL|        ready|        NULL|       NULL|       NULL|212695299965|                  84|             0|      39|       data|    MB|     flat|Session Data basi...|     0.022|        25|          NULL|      NULL|    inconnu|\n",
      "|212657887314|      PLAN_B|   VOICE_NAT|e8c9c439-d04d-43e...|2025-06-01 17:46:23|       FES_02|        5G|212657887314|212715182823|         246|        ready|        NULL|       NULL|       NULL|        NULL|                NULL|          NULL|      69|      voice|minute|     flat|Appel vocal natio...|     0.012|         6|          NULL|      NULL|       NULL|\n",
      "|212756586304|      PLAN_A|   VOICE_NAT|d69514d5-7482-470...|2025-06-01 20:41:10|      inconnu|        3G|212756586304|212626577114|         270|        ready|        NULL|       NULL|       NULL|        NULL|                NULL|          NULL|      81|      voice|minute|     flat|Appel vocal natio...|      0.01|         5|          NULL|      NULL|       NULL|\n",
      "|212798522530|      PLAN_A|   VOICE_NAT|ee7c74c8-5325-42a...|2025-06-01 21:00:22|      SAFI_01|        4G|212798522530|212786242104|         256|        ready|        NULL|       NULL|       NULL|        NULL|                NULL|          NULL|      83|      voice|minute|     flat|Appel vocal natio...|      0.01|         5|          NULL|      NULL|       NULL|\n",
      "|212762520131|      PLAN_B|   VOICE_NAT|794b745b-de72-436...|2025-06-01 03:13:12|     RABAT_01|        2G|212762520131|     inconnu|         348|        ready|        NULL|       NULL|       NULL|        NULL|                NULL|          NULL|      12|      voice|minute|     flat|Appel vocal natio...|     0.012|         6|          NULL|      NULL|       NULL|\n",
      "|212738807348|      PLAN_C|DATA_PREMIUM|358413a5-22a4-48a...|2025-06-01 05:50:33|      TAZA_01|        4G|        NULL|        NULL|        NULL|        ready|        NULL|       NULL|       NULL|212738807348|                 485|        504.09|      23|       data|    MB|   tiered|Session Data prem...|     0.015|        40|          2048|      0.05|     504.09|\n",
      "|212658300892|      PLAN_C|   VOICE_NAT|201c5416-a4a1-432...|2025-06-01 02:03:18|      inconnu|        4G|212658300892|212765779578|         161|        ready|        NULL|       NULL|       NULL|        NULL|                NULL|          NULL|       7|      voice|minute|     flat|Appel vocal natio...|     0.008|        10|          NULL|      NULL|     290.33|\n",
      "|212658300892|      PLAN_C|   VOICE_INT|038e36f1-b834-466...|2025-06-01 04:05:39|     RABAT_02|        3G|212658300892|966914350952|         514|        ready|        NULL|       NULL|       NULL|        NULL|                NULL|          NULL|      15|      voice|minute|     flat|Appel vocal inter...|     0.018|         0|          NULL|      NULL|     290.33|\n",
      "|212658300892|      PLAN_C|  DATA_BASIC|30fcbd0b-a61f-417...|2025-06-01 02:15:58| ALHOCEIMA_01|        3G|        NULL|        NULL|        NULL|        ready|        NULL|       NULL|       NULL|212658300892|                 445|        290.33|       8|       data|    MB|     flat|Session Data basi...|     0.018|        20|          NULL|      NULL|     290.33|\n",
      "+------------+------------+------------+--------------------+-------------------+-------------+----------+------------+------------+------------+-------------+------------+-----------+-----------+------------+--------------------+--------------+--------+-----------+------+---------+--------------------+----------+----------+--------------+----------+-----------+\n",
      "only showing top 20 rows\n",
      "\n"
     ]
    }
   ],
   "source": [
    "cdrsss=cdrs4.filter(cdrs4.rating_status == \"ready\")\n",
    "cdrsss.show()"
   ]
  },
  {
   "cell_type": "code",
   "execution_count": 273,
   "id": "94a9c421",
   "metadata": {},
   "outputs": [
    {
     "name": "stdout",
     "output_type": "stream",
     "text": [
      "+------------+------------+------------+--------------------+-------------------+-------------+----------+------------+------------+------------+-------------+------------+-----------+-----------+------------+--------------------+--------------+--------+-----------+------+---------+--------------------+----------+----------+--------------+----------+-----------+\n",
      "| customer_id|rate_plan_id|product_code|           record_ID|          timestamp|      cell_id|technology|   caller_id|   callee_id|duration_sec|rating_status|   sender_id|receiver_id|receiver_cc|     user_id|session_duration_sec|data_volume_mb|batch_id|record_type|  unit|rate_type|         description|unit_price|free_units|tier_threshold|tier_price|user_min_mb|\n",
      "+------------+------------+------------+--------------------+-------------------+-------------+----------+------------+------------+------------+-------------+------------+-----------+-----------+------------+--------------------+--------------+--------+-----------+------+---------+--------------------+----------+----------+--------------+----------+-----------+\n",
      "|212668884253|      PLAN_A|DATA_PREMIUM|f6911324-9ca7-43b...|2025-06-01 15:25:59| MARRAKECH_01|        4G|        NULL|        NULL|        NULL|        ready|        NULL|       NULL|       NULL|212668884253|                  81|       1889.31|      60|       data|    MB|   tiered|Session Data prem...|     0.015|        50|          1024|      0.05|    1889.31|\n",
      "|212619280249|      PLAN_B|  DATA_BASIC|f988375f-7a1a-484...|2025-06-01 17:27:08|      inconnu|        4G|        NULL|        NULL|        NULL|        ready|        NULL|       NULL|       NULL|212619280249|                 434|        207.05|      68|       data|    MB|     flat|Session Data basi...|     0.022|        25|          NULL|      NULL|     207.05|\n",
      "|212619280249|      PLAN_B|   VOICE_NAT|6c8b6730-6d33-447...|2025-06-01 01:12:57|CASABLANCA_03|        4G|212619280249|212631108268|         485|        ready|        NULL|       NULL|       NULL|        NULL|                NULL|          NULL|       4|      voice|minute|     flat|Appel vocal natio...|     0.012|         6|          NULL|      NULL|     207.05|\n",
      "|212736864154|      PLAN_A|   VOICE_NAT|5fbc4373-b04e-4d9...|2025-06-01 07:11:43| KHOURIBGA_01|        5G|212736864154|212720742156|          35|        ready|        NULL|       NULL|       NULL|        NULL|                NULL|          NULL|      28|      voice|minute|     flat|Appel vocal natio...|      0.01|         5|          NULL|      NULL|       NULL|\n",
      "|212774638478|      PLAN_C|  DATA_BASIC|514b5909-5061-471...|2025-06-01 14:17:39|     RABAT_03|        4G|        NULL|        NULL|        NULL|        ready|        NULL|       NULL|       NULL|212774638478|                 111|             0|      56|       data|    MB|     flat|Session Data basi...|     0.018|        20|          NULL|      NULL|    inconnu|\n",
      "|212774638478|      PLAN_C|     SMS_INT|eb4d74be-2298-420...|2025-06-01 09:55:37|   TETOUAN_01|        3G|        NULL|        NULL|        NULL|        ready|212774638478|72398478984|        723|        NULL|                NULL|          NULL|      39|        sms| event|     flat|Envoi SMS standar...|     0.065|         0|          NULL|      NULL|    inconnu|\n",
      "|212693151256|      PLAN_A|  DATA_BASIC|b66e9bf4-7710-40f...|2025-06-02 00:08:17|   KENITRA_01|        4G|        NULL|        NULL|        NULL|        ready|        NULL|       NULL|       NULL|212693151256|                 313|        722.53|      96|       data|    MB|     flat|Session Data basi...|      0.02|        20|          NULL|      NULL|     722.53|\n",
      "|212693151256|      PLAN_A|   VOICE_NAT|3157c05f-0a64-4d5...|2025-06-01 14:17:49|     NADOR_01|        5G|212693151256|212621831445|          56|        ready|        NULL|       NULL|       NULL|        NULL|                NULL|          NULL|      56|      voice|minute|     flat|Appel vocal natio...|      0.01|         5|          NULL|      NULL|     722.53|\n",
      "|212610535303|      PLAN_B|  DATA_BASIC|de36e032-f55e-496...|2025-06-01 16:46:07|      inconnu|        4G|        NULL|        NULL|        NULL|        ready|        NULL|       NULL|       NULL|212610535303|             inconnu|         833.4|      65|       data|    MB|     flat|Session Data basi...|     0.022|        25|          NULL|      NULL|      833.4|\n",
      "|212733255826|      PLAN_A|   VOICE_INT|e13c242e-76d2-446...|2025-06-02 00:26:17|   TETOUAN_01|        2G|212733255826| 34911825512|         119|        ready|        NULL|       NULL|       NULL|        NULL|                NULL|          NULL|      97|      voice|minute|     flat|Appel vocal inter...|      0.02|         0|          NULL|      NULL|       NULL|\n",
      "|212608908413|      PLAN_C|   VOICE_NAT|9a725bd6-2d0e-46f...|2025-06-01 04:47:25|      SAFI_01|        4G|212608908413|212631948827|         149|        ready|        NULL|       NULL|       NULL|        NULL|                NULL|          NULL|      18|      voice|minute|     flat|Appel vocal natio...|     0.008|        10|          NULL|      NULL|       NULL|\n",
      "|212695299965|      PLAN_B|  DATA_BASIC|db1bd74f-a058-42d...|2025-06-01 09:48:49|     NADOR_01|        5G|        NULL|        NULL|        NULL|        ready|        NULL|       NULL|       NULL|212695299965|                  84|             0|      39|       data|    MB|     flat|Session Data basi...|     0.022|        25|          NULL|      NULL|    inconnu|\n",
      "|212657887314|      PLAN_B|   VOICE_NAT|e8c9c439-d04d-43e...|2025-06-01 17:46:23|       FES_02|        5G|212657887314|212715182823|         246|        ready|        NULL|       NULL|       NULL|        NULL|                NULL|          NULL|      69|      voice|minute|     flat|Appel vocal natio...|     0.012|         6|          NULL|      NULL|       NULL|\n",
      "|212756586304|      PLAN_A|   VOICE_NAT|d69514d5-7482-470...|2025-06-01 20:41:10|      inconnu|        3G|212756586304|212626577114|         270|        ready|        NULL|       NULL|       NULL|        NULL|                NULL|          NULL|      81|      voice|minute|     flat|Appel vocal natio...|      0.01|         5|          NULL|      NULL|       NULL|\n",
      "|212798522530|      PLAN_A|   VOICE_NAT|ee7c74c8-5325-42a...|2025-06-01 21:00:22|      SAFI_01|        4G|212798522530|212786242104|         256|        ready|        NULL|       NULL|       NULL|        NULL|                NULL|          NULL|      83|      voice|minute|     flat|Appel vocal natio...|      0.01|         5|          NULL|      NULL|       NULL|\n",
      "|212762520131|      PLAN_B|   VOICE_NAT|794b745b-de72-436...|2025-06-01 03:13:12|     RABAT_01|        2G|212762520131|     inconnu|         348|        ready|        NULL|       NULL|       NULL|        NULL|                NULL|          NULL|      12|      voice|minute|     flat|Appel vocal natio...|     0.012|         6|          NULL|      NULL|       NULL|\n",
      "|212738807348|      PLAN_C|DATA_PREMIUM|358413a5-22a4-48a...|2025-06-01 05:50:33|      TAZA_01|        4G|        NULL|        NULL|        NULL|        ready|        NULL|       NULL|       NULL|212738807348|                 485|        504.09|      23|       data|    MB|   tiered|Session Data prem...|     0.015|        40|          2048|      0.05|     504.09|\n",
      "|212658300892|      PLAN_C|   VOICE_NAT|201c5416-a4a1-432...|2025-06-01 02:03:18|      inconnu|        4G|212658300892|212765779578|         161|        ready|        NULL|       NULL|       NULL|        NULL|                NULL|          NULL|       7|      voice|minute|     flat|Appel vocal natio...|     0.008|        10|          NULL|      NULL|     290.33|\n",
      "|212658300892|      PLAN_C|   VOICE_INT|038e36f1-b834-466...|2025-06-01 04:05:39|     RABAT_02|        3G|212658300892|966914350952|         514|        ready|        NULL|       NULL|       NULL|        NULL|                NULL|          NULL|      15|      voice|minute|     flat|Appel vocal inter...|     0.018|         0|          NULL|      NULL|     290.33|\n",
      "|212658300892|      PLAN_C|  DATA_BASIC|30fcbd0b-a61f-417...|2025-06-01 02:15:58| ALHOCEIMA_01|        3G|        NULL|        NULL|        NULL|        ready|        NULL|       NULL|       NULL|212658300892|                 445|        290.33|       8|       data|    MB|     flat|Session Data basi...|     0.018|        20|          NULL|      NULL|     290.33|\n",
      "+------------+------------+------------+--------------------+-------------------+-------------+----------+------------+------------+------------+-------------+------------+-----------+-----------+------------+--------------------+--------------+--------+-----------+------+---------+--------------------+----------+----------+--------------+----------+-----------+\n",
      "only showing top 20 rows\n",
      "\n"
     ]
    }
   ],
   "source": [
    "cdrs4.show()"
   ]
  },
  {
   "cell_type": "code",
   "execution_count": 274,
   "id": "f90936d6",
   "metadata": {},
   "outputs": [],
   "source": [
    "cdrs4 = cdrs4.withColumn(\n",
    "    \"session_duration_sec\",\n",
    "    when((col(\"session_duration_sec\").isNull() | (col(\"session_duration_sec\") < 0))&(col(\"record_type\")==\"data\"), lit(0))\n",
    "    .otherwise(col(\"session_duration_sec\"))\n",
    ")"
   ]
  },
  {
   "cell_type": "code",
   "execution_count": 275,
   "id": "bb662ace",
   "metadata": {},
   "outputs": [],
   "source": [
    "cdrs4 = cdrs4.withColumn(\n",
    "    \"billable_units\",\n",
    "    when(col(\"record_type\") == \"voice\",\n",
    "         ceil(col(\"duration_sec\") / 60))       \n",
    "    .when(col(\"record_type\") == \"sms\",\n",
    "         lit(1))\n",
    "    .otherwise(                               # data\n",
    "         col(\"data_volume_mb\"))\n",
    ")\n"
   ]
  },
  {
   "cell_type": "code",
   "execution_count": 276,
   "id": "26f0b329",
   "metadata": {},
   "outputs": [
    {
     "name": "stdout",
     "output_type": "stream",
     "text": [
      "+------------+------------+------------+--------------------+-------------------+-------------+----------+------------+------------+------------+-------------+------------+-----------+-----------+------------+--------------------+--------------+--------+-----------+------+---------+--------------------+----------+----------+--------------+----------+-----------+--------------+\n",
      "| customer_id|rate_plan_id|product_code|           record_ID|          timestamp|      cell_id|technology|   caller_id|   callee_id|duration_sec|rating_status|   sender_id|receiver_id|receiver_cc|     user_id|session_duration_sec|data_volume_mb|batch_id|record_type|  unit|rate_type|         description|unit_price|free_units|tier_threshold|tier_price|user_min_mb|billable_units|\n",
      "+------------+------------+------------+--------------------+-------------------+-------------+----------+------------+------------+------------+-------------+------------+-----------+-----------+------------+--------------------+--------------+--------+-----------+------+---------+--------------------+----------+----------+--------------+----------+-----------+--------------+\n",
      "|212668884253|      PLAN_A|DATA_PREMIUM|f6911324-9ca7-43b...|2025-06-01 15:25:59| MARRAKECH_01|        4G|        NULL|        NULL|        NULL|        ready|        NULL|       NULL|       NULL|212668884253|                  81|       1889.31|      60|       data|    MB|   tiered|Session Data prem...|     0.015|        50|          1024|      0.05|    1889.31|       1889.31|\n",
      "|212619280249|      PLAN_B|  DATA_BASIC|f988375f-7a1a-484...|2025-06-01 17:27:08|      inconnu|        4G|        NULL|        NULL|        NULL|        ready|        NULL|       NULL|       NULL|212619280249|                 434|        207.05|      68|       data|    MB|     flat|Session Data basi...|     0.022|        25|          NULL|      NULL|     207.05|        207.05|\n",
      "|212619280249|      PLAN_B|   VOICE_NAT|6c8b6730-6d33-447...|2025-06-01 01:12:57|CASABLANCA_03|        4G|212619280249|212631108268|         485|        ready|        NULL|       NULL|       NULL|        NULL|                NULL|          NULL|       4|      voice|minute|     flat|Appel vocal natio...|     0.012|         6|          NULL|      NULL|     207.05|             9|\n",
      "|212736864154|      PLAN_A|   VOICE_NAT|5fbc4373-b04e-4d9...|2025-06-01 07:11:43| KHOURIBGA_01|        5G|212736864154|212720742156|          35|        ready|        NULL|       NULL|       NULL|        NULL|                NULL|          NULL|      28|      voice|minute|     flat|Appel vocal natio...|      0.01|         5|          NULL|      NULL|       NULL|             1|\n",
      "|212774638478|      PLAN_C|  DATA_BASIC|514b5909-5061-471...|2025-06-01 14:17:39|     RABAT_03|        4G|        NULL|        NULL|        NULL|        ready|        NULL|       NULL|       NULL|212774638478|                 111|             0|      56|       data|    MB|     flat|Session Data basi...|     0.018|        20|          NULL|      NULL|    inconnu|             0|\n",
      "|212774638478|      PLAN_C|     SMS_INT|eb4d74be-2298-420...|2025-06-01 09:55:37|   TETOUAN_01|        3G|        NULL|        NULL|        NULL|        ready|212774638478|72398478984|        723|        NULL|                NULL|          NULL|      39|        sms| event|     flat|Envoi SMS standar...|     0.065|         0|          NULL|      NULL|    inconnu|             1|\n",
      "|212693151256|      PLAN_A|  DATA_BASIC|b66e9bf4-7710-40f...|2025-06-02 00:08:17|   KENITRA_01|        4G|        NULL|        NULL|        NULL|        ready|        NULL|       NULL|       NULL|212693151256|                 313|        722.53|      96|       data|    MB|     flat|Session Data basi...|      0.02|        20|          NULL|      NULL|     722.53|        722.53|\n",
      "|212693151256|      PLAN_A|   VOICE_NAT|3157c05f-0a64-4d5...|2025-06-01 14:17:49|     NADOR_01|        5G|212693151256|212621831445|          56|        ready|        NULL|       NULL|       NULL|        NULL|                NULL|          NULL|      56|      voice|minute|     flat|Appel vocal natio...|      0.01|         5|          NULL|      NULL|     722.53|             1|\n",
      "|212610535303|      PLAN_B|  DATA_BASIC|de36e032-f55e-496...|2025-06-01 16:46:07|      inconnu|        4G|        NULL|        NULL|        NULL|        ready|        NULL|       NULL|       NULL|212610535303|             inconnu|         833.4|      65|       data|    MB|     flat|Session Data basi...|     0.022|        25|          NULL|      NULL|      833.4|         833.4|\n",
      "|212733255826|      PLAN_A|   VOICE_INT|e13c242e-76d2-446...|2025-06-02 00:26:17|   TETOUAN_01|        2G|212733255826| 34911825512|         119|        ready|        NULL|       NULL|       NULL|        NULL|                NULL|          NULL|      97|      voice|minute|     flat|Appel vocal inter...|      0.02|         0|          NULL|      NULL|       NULL|             2|\n",
      "|212608908413|      PLAN_C|   VOICE_NAT|9a725bd6-2d0e-46f...|2025-06-01 04:47:25|      SAFI_01|        4G|212608908413|212631948827|         149|        ready|        NULL|       NULL|       NULL|        NULL|                NULL|          NULL|      18|      voice|minute|     flat|Appel vocal natio...|     0.008|        10|          NULL|      NULL|       NULL|             3|\n",
      "|212695299965|      PLAN_B|  DATA_BASIC|db1bd74f-a058-42d...|2025-06-01 09:48:49|     NADOR_01|        5G|        NULL|        NULL|        NULL|        ready|        NULL|       NULL|       NULL|212695299965|                  84|             0|      39|       data|    MB|     flat|Session Data basi...|     0.022|        25|          NULL|      NULL|    inconnu|             0|\n",
      "|212657887314|      PLAN_B|   VOICE_NAT|e8c9c439-d04d-43e...|2025-06-01 17:46:23|       FES_02|        5G|212657887314|212715182823|         246|        ready|        NULL|       NULL|       NULL|        NULL|                NULL|          NULL|      69|      voice|minute|     flat|Appel vocal natio...|     0.012|         6|          NULL|      NULL|       NULL|             5|\n",
      "|212756586304|      PLAN_A|   VOICE_NAT|d69514d5-7482-470...|2025-06-01 20:41:10|      inconnu|        3G|212756586304|212626577114|         270|        ready|        NULL|       NULL|       NULL|        NULL|                NULL|          NULL|      81|      voice|minute|     flat|Appel vocal natio...|      0.01|         5|          NULL|      NULL|       NULL|             5|\n",
      "|212798522530|      PLAN_A|   VOICE_NAT|ee7c74c8-5325-42a...|2025-06-01 21:00:22|      SAFI_01|        4G|212798522530|212786242104|         256|        ready|        NULL|       NULL|       NULL|        NULL|                NULL|          NULL|      83|      voice|minute|     flat|Appel vocal natio...|      0.01|         5|          NULL|      NULL|       NULL|             5|\n",
      "|212762520131|      PLAN_B|   VOICE_NAT|794b745b-de72-436...|2025-06-01 03:13:12|     RABAT_01|        2G|212762520131|     inconnu|         348|        ready|        NULL|       NULL|       NULL|        NULL|                NULL|          NULL|      12|      voice|minute|     flat|Appel vocal natio...|     0.012|         6|          NULL|      NULL|       NULL|             6|\n",
      "|212738807348|      PLAN_C|DATA_PREMIUM|358413a5-22a4-48a...|2025-06-01 05:50:33|      TAZA_01|        4G|        NULL|        NULL|        NULL|        ready|        NULL|       NULL|       NULL|212738807348|                 485|        504.09|      23|       data|    MB|   tiered|Session Data prem...|     0.015|        40|          2048|      0.05|     504.09|        504.09|\n",
      "|212658300892|      PLAN_C|   VOICE_NAT|201c5416-a4a1-432...|2025-06-01 02:03:18|      inconnu|        4G|212658300892|212765779578|         161|        ready|        NULL|       NULL|       NULL|        NULL|                NULL|          NULL|       7|      voice|minute|     flat|Appel vocal natio...|     0.008|        10|          NULL|      NULL|     290.33|             3|\n",
      "|212658300892|      PLAN_C|   VOICE_INT|038e36f1-b834-466...|2025-06-01 04:05:39|     RABAT_02|        3G|212658300892|966914350952|         514|        ready|        NULL|       NULL|       NULL|        NULL|                NULL|          NULL|      15|      voice|minute|     flat|Appel vocal inter...|     0.018|         0|          NULL|      NULL|     290.33|             9|\n",
      "|212658300892|      PLAN_C|  DATA_BASIC|30fcbd0b-a61f-417...|2025-06-01 02:15:58| ALHOCEIMA_01|        3G|        NULL|        NULL|        NULL|        ready|        NULL|       NULL|       NULL|212658300892|                 445|        290.33|       8|       data|    MB|     flat|Session Data basi...|     0.018|        20|          NULL|      NULL|     290.33|        290.33|\n",
      "+------------+------------+------------+--------------------+-------------------+-------------+----------+------------+------------+------------+-------------+------------+-----------+-----------+------------+--------------------+--------------+--------+-----------+------+---------+--------------------+----------+----------+--------------+----------+-----------+--------------+\n",
      "only showing top 20 rows\n",
      "\n"
     ]
    }
   ],
   "source": [
    "cdrs4.show()"
   ]
  },
  {
   "cell_type": "code",
   "execution_count": 277,
   "id": "a9a6a4fd",
   "metadata": {},
   "outputs": [],
   "source": [
    "from pyspark.sql.functions import coalesce\n",
    "\n",
    "cdrs4 = (cdrs4\n",
    "    .withColumn(\"free_units\",    coalesce(col(\"free_units\"),    lit(0)))\n",
    "    .withColumn(\"tier_threshold\",coalesce(col(\"tier_threshold\"),lit(0)))\n",
    "    .withColumn(\"unit_price\",    coalesce(col(\"unit_price\"),    lit(0.0)))\n",
    "    .withColumn(\"tier_price\",    coalesce(col(\"tier_price\"),    lit(0.0)))\n",
    ")\n"
   ]
  },
  {
   "cell_type": "code",
   "execution_count": 278,
   "id": "5ba8ab70",
   "metadata": {},
   "outputs": [],
   "source": [
    "cdrsRated = cdrs4.withColumn(\n",
    "    \"cost\",\n",
    "    when(col(\"rate_type\") == \"flat\",\n",
    "         when(col(\"billable_units\") <= col(\"free_units\"), lit(0))\n",
    "         .otherwise((col(\"billable_units\") - col(\"free_units\")) * col(\"unit_price\")))\n",
    "    .when(col(\"rate_type\") == \"tiered\",\n",
    "         when(col(\"billable_units\") <= col(\"free_units\"), lit(0))\n",
    "         .when(col(\"billable_units\") <= col(\"tier_threshold\"),\n",
    "               (col(\"billable_units\") - col(\"free_units\")) * col(\"unit_price\"))\n",
    "         .otherwise(\n",
    "               (col(\"tier_threshold\") - col(\"free_units\")) * col(\"unit_price\") +\n",
    "               (col(\"billable_units\") - col(\"tier_threshold\")) * col(\"tier_price\")))\n",
    ")\n",
    "\n",
    "cdrsRated = cdrsRated.withColumn(\n",
    "    \"rating_status\",\n",
    "    when(col(\"cost\").isNull(), \"unmatched\")\n",
    "    .otherwise(\"rated\")\n",
    ")\n"
   ]
  },
  {
   "cell_type": "code",
   "execution_count": 279,
   "id": "a279048f",
   "metadata": {},
   "outputs": [
    {
     "name": "stdout",
     "output_type": "stream",
     "text": [
      "+------------------------------------+------------+------------+--------------+----------+--------------------+-------------+\n",
      "|record_ID                           |customer_id |product_code|billable_units|unit_price|cost                |rating_status|\n",
      "+------------------------------------+------------+------------+--------------+----------+--------------------+-------------+\n",
      "|f6911324-9ca7-43b6-b17b-bc98deb5f085|212668884253|DATA_PREMIUM|1889.31       |0.015     |57.8755             |rated        |\n",
      "|f988375f-7a1a-484c-9295-84252e696400|212619280249|DATA_BASIC  |207.05        |0.022     |4.0051              |rated        |\n",
      "|6c8b6730-6d33-4471-be29-44390d762e69|212619280249|VOICE_NAT   |9             |0.012     |0.036000000000000004|rated        |\n",
      "|5fbc4373-b04e-4d91-9691-ea790928ba63|212736864154|VOICE_NAT   |1             |0.01      |0.0                 |rated        |\n",
      "|514b5909-5061-4712-be2e-55cd7d38edcb|212774638478|DATA_BASIC  |0             |0.018     |0.0                 |rated        |\n",
      "|eb4d74be-2298-420f-9d42-d910aed73d84|212774638478|SMS_INT     |1             |0.065     |0.065               |rated        |\n",
      "|b66e9bf4-7710-40f2-978d-8303406ae8a0|212693151256|DATA_BASIC  |722.53        |0.02      |14.0506             |rated        |\n",
      "|3157c05f-0a64-4d5b-8202-f90d1fd537d5|212693151256|VOICE_NAT   |1             |0.01      |0.0                 |rated        |\n",
      "|de36e032-f55e-4969-84c2-3b135f35b701|212610535303|DATA_BASIC  |833.4         |0.022     |17.784799999999997  |rated        |\n",
      "|e13c242e-76d2-4461-b188-38d6818605a4|212733255826|VOICE_INT   |2             |0.02      |0.04                |rated        |\n",
      "|9a725bd6-2d0e-46fe-836d-b8ab837f192a|212608908413|VOICE_NAT   |3             |0.008     |0.0                 |rated        |\n",
      "|db1bd74f-a058-42d0-965c-14b43a372861|212695299965|DATA_BASIC  |0             |0.022     |0.0                 |rated        |\n",
      "|e8c9c439-d04d-43eb-a5fd-b0d71f318194|212657887314|VOICE_NAT   |5             |0.012     |0.0                 |rated        |\n",
      "|d69514d5-7482-470e-82cd-7fafdfc7a417|212756586304|VOICE_NAT   |5             |0.01      |0.0                 |rated        |\n",
      "|ee7c74c8-5325-42ae-acdb-33fd05d86c6f|212798522530|VOICE_NAT   |5             |0.01      |0.0                 |rated        |\n",
      "|794b745b-de72-4368-8b81-790ee3d34f23|212762520131|VOICE_NAT   |6             |0.012     |0.0                 |rated        |\n",
      "|358413a5-22a4-48ab-b3e9-296cc0642a01|212738807348|DATA_PREMIUM|504.09        |0.015     |6.9613499999999995  |rated        |\n",
      "|201c5416-a4a1-4320-aa64-0734d3b1da75|212658300892|VOICE_NAT   |3             |0.008     |0.0                 |rated        |\n",
      "|038e36f1-b834-4664-86b9-d2f72de2b8d6|212658300892|VOICE_INT   |9             |0.018     |0.16199999999999998 |rated        |\n",
      "|30fcbd0b-a61f-417f-929c-7ee88c18755c|212658300892|DATA_BASIC  |290.33        |0.018     |4.865939999999999   |rated        |\n",
      "+------------------------------------+------------+------------+--------------+----------+--------------------+-------------+\n",
      "only showing top 20 rows\n",
      "\n"
     ]
    }
   ],
   "source": [
    "cdrsRated.select(\"record_ID\",\"customer_id\",\"product_code\",\n",
    "                 \"billable_units\",\"unit_price\",\"cost\",\"rating_status\") \\\n",
    "         .show(truncate=False)\n"
   ]
  },
  {
   "cell_type": "code",
   "execution_count": 280,
   "id": "dfa86650",
   "metadata": {},
   "outputs": [],
   "source": [
    "from pyspark.sql.functions import date_format\n",
    "\n",
    "cdrsRated = cdrsRated.withColumn(\n",
    "    \"billing_period\",\n",
    "    date_format(col(\"timestamp\"), \"yyyy-MM\")\n",
    ")\n",
    "cdrsRated=cdrsRated.drop(\"user_min_mb\")"
   ]
  },
  {
   "cell_type": "code",
   "execution_count": 281,
   "id": "441201ec",
   "metadata": {},
   "outputs": [
    {
     "name": "stdout",
     "output_type": "stream",
     "text": [
      "✓ Rating terminé : Parquet écrit dans rated_cdrs/\n"
     ]
    }
   ],
   "source": [
    "(\n",
    " cdrsRated\n",
    " .write\n",
    " .mode(\"overwrite\")\n",
    " .partitionBy(\"billing_period\")\n",
    " .parquet(\"rated_cdrs/\")\n",
    ")\n",
    "\n",
    "print(\"✓ Rating terminé : Parquet écrit dans rated_cdrs/\")\n"
   ]
  },
  {
   "cell_type": "code",
   "execution_count": 282,
   "id": "8a2d4730",
   "metadata": {},
   "outputs": [
    {
     "name": "stdout",
     "output_type": "stream",
     "text": [
      "+------------+------------+------------+--------------------+-------------------+-------------+----------+------------+------------+------------+-------------+------------+-----------+-----------+------------+--------------------+--------------+--------+-----------+------+---------+--------------------+----------+----------+--------------+----------+--------------+--------------------+--------------+\n",
      "| customer_id|rate_plan_id|product_code|           record_ID|          timestamp|      cell_id|technology|   caller_id|   callee_id|duration_sec|rating_status|   sender_id|receiver_id|receiver_cc|     user_id|session_duration_sec|data_volume_mb|batch_id|record_type|  unit|rate_type|         description|unit_price|free_units|tier_threshold|tier_price|billable_units|                cost|billing_period|\n",
      "+------------+------------+------------+--------------------+-------------------+-------------+----------+------------+------------+------------+-------------+------------+-----------+-----------+------------+--------------------+--------------+--------+-----------+------+---------+--------------------+----------+----------+--------------+----------+--------------+--------------------+--------------+\n",
      "|212668884253|      PLAN_A|DATA_PREMIUM|f6911324-9ca7-43b...|2025-06-01 15:25:59| MARRAKECH_01|        4G|        NULL|        NULL|        NULL|        rated|        NULL|       NULL|       NULL|212668884253|                  81|       1889.31|      60|       data|    MB|   tiered|Session Data prem...|     0.015|        50|          1024|      0.05|       1889.31|             57.8755|       2025-06|\n",
      "|212619280249|      PLAN_B|  DATA_BASIC|f988375f-7a1a-484...|2025-06-01 17:27:08|      inconnu|        4G|        NULL|        NULL|        NULL|        rated|        NULL|       NULL|       NULL|212619280249|                 434|        207.05|      68|       data|    MB|     flat|Session Data basi...|     0.022|        25|             0|       0.0|        207.05|              4.0051|       2025-06|\n",
      "|212619280249|      PLAN_B|   VOICE_NAT|6c8b6730-6d33-447...|2025-06-01 01:12:57|CASABLANCA_03|        4G|212619280249|212631108268|         485|        rated|        NULL|       NULL|       NULL|        NULL|                NULL|          NULL|       4|      voice|minute|     flat|Appel vocal natio...|     0.012|         6|             0|       0.0|             9|0.036000000000000004|       2025-06|\n",
      "|212736864154|      PLAN_A|   VOICE_NAT|5fbc4373-b04e-4d9...|2025-06-01 07:11:43| KHOURIBGA_01|        5G|212736864154|212720742156|          35|        rated|        NULL|       NULL|       NULL|        NULL|                NULL|          NULL|      28|      voice|minute|     flat|Appel vocal natio...|      0.01|         5|             0|       0.0|             1|                 0.0|       2025-06|\n",
      "|212774638478|      PLAN_C|  DATA_BASIC|514b5909-5061-471...|2025-06-01 14:17:39|     RABAT_03|        4G|        NULL|        NULL|        NULL|        rated|        NULL|       NULL|       NULL|212774638478|                 111|             0|      56|       data|    MB|     flat|Session Data basi...|     0.018|        20|             0|       0.0|             0|                 0.0|       2025-06|\n",
      "|212774638478|      PLAN_C|     SMS_INT|eb4d74be-2298-420...|2025-06-01 09:55:37|   TETOUAN_01|        3G|        NULL|        NULL|        NULL|        rated|212774638478|72398478984|        723|        NULL|                NULL|          NULL|      39|        sms| event|     flat|Envoi SMS standar...|     0.065|         0|             0|       0.0|             1|               0.065|       2025-06|\n",
      "|212693151256|      PLAN_A|  DATA_BASIC|b66e9bf4-7710-40f...|2025-06-02 00:08:17|   KENITRA_01|        4G|        NULL|        NULL|        NULL|        rated|        NULL|       NULL|       NULL|212693151256|                 313|        722.53|      96|       data|    MB|     flat|Session Data basi...|      0.02|        20|             0|       0.0|        722.53|             14.0506|       2025-06|\n",
      "|212693151256|      PLAN_A|   VOICE_NAT|3157c05f-0a64-4d5...|2025-06-01 14:17:49|     NADOR_01|        5G|212693151256|212621831445|          56|        rated|        NULL|       NULL|       NULL|        NULL|                NULL|          NULL|      56|      voice|minute|     flat|Appel vocal natio...|      0.01|         5|             0|       0.0|             1|                 0.0|       2025-06|\n",
      "|212610535303|      PLAN_B|  DATA_BASIC|de36e032-f55e-496...|2025-06-01 16:46:07|      inconnu|        4G|        NULL|        NULL|        NULL|        rated|        NULL|       NULL|       NULL|212610535303|             inconnu|         833.4|      65|       data|    MB|     flat|Session Data basi...|     0.022|        25|             0|       0.0|         833.4|  17.784799999999997|       2025-06|\n",
      "|212733255826|      PLAN_A|   VOICE_INT|e13c242e-76d2-446...|2025-06-02 00:26:17|   TETOUAN_01|        2G|212733255826| 34911825512|         119|        rated|        NULL|       NULL|       NULL|        NULL|                NULL|          NULL|      97|      voice|minute|     flat|Appel vocal inter...|      0.02|         0|             0|       0.0|             2|                0.04|       2025-06|\n",
      "|212608908413|      PLAN_C|   VOICE_NAT|9a725bd6-2d0e-46f...|2025-06-01 04:47:25|      SAFI_01|        4G|212608908413|212631948827|         149|        rated|        NULL|       NULL|       NULL|        NULL|                NULL|          NULL|      18|      voice|minute|     flat|Appel vocal natio...|     0.008|        10|             0|       0.0|             3|                 0.0|       2025-06|\n",
      "|212695299965|      PLAN_B|  DATA_BASIC|db1bd74f-a058-42d...|2025-06-01 09:48:49|     NADOR_01|        5G|        NULL|        NULL|        NULL|        rated|        NULL|       NULL|       NULL|212695299965|                  84|             0|      39|       data|    MB|     flat|Session Data basi...|     0.022|        25|             0|       0.0|             0|                 0.0|       2025-06|\n",
      "|212657887314|      PLAN_B|   VOICE_NAT|e8c9c439-d04d-43e...|2025-06-01 17:46:23|       FES_02|        5G|212657887314|212715182823|         246|        rated|        NULL|       NULL|       NULL|        NULL|                NULL|          NULL|      69|      voice|minute|     flat|Appel vocal natio...|     0.012|         6|             0|       0.0|             5|                 0.0|       2025-06|\n",
      "|212756586304|      PLAN_A|   VOICE_NAT|d69514d5-7482-470...|2025-06-01 20:41:10|      inconnu|        3G|212756586304|212626577114|         270|        rated|        NULL|       NULL|       NULL|        NULL|                NULL|          NULL|      81|      voice|minute|     flat|Appel vocal natio...|      0.01|         5|             0|       0.0|             5|                 0.0|       2025-06|\n",
      "|212798522530|      PLAN_A|   VOICE_NAT|ee7c74c8-5325-42a...|2025-06-01 21:00:22|      SAFI_01|        4G|212798522530|212786242104|         256|        rated|        NULL|       NULL|       NULL|        NULL|                NULL|          NULL|      83|      voice|minute|     flat|Appel vocal natio...|      0.01|         5|             0|       0.0|             5|                 0.0|       2025-06|\n",
      "|212762520131|      PLAN_B|   VOICE_NAT|794b745b-de72-436...|2025-06-01 03:13:12|     RABAT_01|        2G|212762520131|     inconnu|         348|        rated|        NULL|       NULL|       NULL|        NULL|                NULL|          NULL|      12|      voice|minute|     flat|Appel vocal natio...|     0.012|         6|             0|       0.0|             6|                 0.0|       2025-06|\n",
      "|212738807348|      PLAN_C|DATA_PREMIUM|358413a5-22a4-48a...|2025-06-01 05:50:33|      TAZA_01|        4G|        NULL|        NULL|        NULL|        rated|        NULL|       NULL|       NULL|212738807348|                 485|        504.09|      23|       data|    MB|   tiered|Session Data prem...|     0.015|        40|          2048|      0.05|        504.09|  6.9613499999999995|       2025-06|\n",
      "|212658300892|      PLAN_C|   VOICE_NAT|201c5416-a4a1-432...|2025-06-01 02:03:18|      inconnu|        4G|212658300892|212765779578|         161|        rated|        NULL|       NULL|       NULL|        NULL|                NULL|          NULL|       7|      voice|minute|     flat|Appel vocal natio...|     0.008|        10|             0|       0.0|             3|                 0.0|       2025-06|\n",
      "|212658300892|      PLAN_C|   VOICE_INT|038e36f1-b834-466...|2025-06-01 04:05:39|     RABAT_02|        3G|212658300892|966914350952|         514|        rated|        NULL|       NULL|       NULL|        NULL|                NULL|          NULL|      15|      voice|minute|     flat|Appel vocal inter...|     0.018|         0|             0|       0.0|             9| 0.16199999999999998|       2025-06|\n",
      "|212658300892|      PLAN_C|  DATA_BASIC|30fcbd0b-a61f-417...|2025-06-01 02:15:58| ALHOCEIMA_01|        3G|        NULL|        NULL|        NULL|        rated|        NULL|       NULL|       NULL|212658300892|                 445|        290.33|       8|       data|    MB|     flat|Session Data basi...|     0.018|        20|             0|       0.0|        290.33|   4.865939999999999|       2025-06|\n",
      "+------------+------------+------------+--------------------+-------------------+-------------+----------+------------+------------+------------+-------------+------------+-----------+-----------+------------+--------------------+--------------+--------+-----------+------+---------+--------------------+----------+----------+--------------+----------+--------------+--------------------+--------------+\n",
      "only showing top 20 rows\n",
      "\n"
     ]
    }
   ],
   "source": [
    "cdrsRated.show()"
   ]
  }
 ],
 "metadata": {
  "kernelspec": {
   "display_name": "Python 3",
   "language": "python",
   "name": "python3"
  },
  "language_info": {
   "codemirror_mode": {
    "name": "ipython",
    "version": 3
   },
   "file_extension": ".py",
   "mimetype": "text/x-python",
   "name": "python",
   "nbconvert_exporter": "python",
   "pygments_lexer": "ipython3",
   "version": "3.12.5"
  }
 },
 "nbformat": 4,
 "nbformat_minor": 5
}
