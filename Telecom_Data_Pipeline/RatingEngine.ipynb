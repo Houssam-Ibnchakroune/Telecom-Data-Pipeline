{
 "cells": [
  {
   "cell_type": "code",
   "execution_count": 1,
   "id": "0eafc561",
   "metadata": {
    "execution": {
     "iopub.execute_input": "2025-06-11T18:06:01.702383Z",
     "iopub.status.busy": "2025-06-11T18:06:01.701409Z",
     "iopub.status.idle": "2025-06-11T18:06:25.083756Z",
     "shell.execute_reply": "2025-06-11T18:06:25.082744Z"
    },
    "papermill": {
     "duration": 23.394483,
     "end_time": "2025-06-11T18:06:25.085766",
     "exception": false,
     "start_time": "2025-06-11T18:06:01.691283",
     "status": "completed"
    },
    "tags": []
   },
   "outputs": [],
   "source": [
    "from pyspark.sql import SparkSession\n",
    "from pyspark.sql.functions import  when,mean ,lit,ceil\n",
    "# Création d'une session Spark\n",
    "spark = SparkSession.builder\\\n",
    "         .appName(\"RatingEngine\")\\\n",
    "         .config(\"spark.jars\", r\".conf\\postgresql-42.7.6.jar\")\\\n",
    "         .config(\"spark.driver.extraClassPath\", r\".\\conf\\postgresql-42.7.6.jar\")\\\n",
    "         .config(\"spark.executor.extraClassPath\", r\".\\conf\\\\postgresql-42.7.6.jar\")\\\n",
    "         .config(\"spark.sql.shuffle.partitions\", \"50\")\\\n",
    "         .config(\"spark.sql.autoBroadcastJoinThreshold\", \"10485760\")\\\n",
    "         .config(\"spark.driver.memory\", \"6g\")\\\n",
    "         .getOrCreate()\n",
    "\n",
    "\n"
   ]
  },
  {
   "cell_type": "code",
   "execution_count": 2,
   "id": "2ce7d8c2",
   "metadata": {
    "execution": {
     "iopub.execute_input": "2025-06-11T18:06:25.104716Z",
     "iopub.status.busy": "2025-06-11T18:06:25.104716Z",
     "iopub.status.idle": "2025-06-11T18:06:32.466012Z",
     "shell.execute_reply": "2025-06-11T18:06:32.466012Z"
    },
    "papermill": {
     "duration": 7.371796,
     "end_time": "2025-06-11T18:06:32.468114",
     "exception": false,
     "start_time": "2025-06-11T18:06:25.096318",
     "status": "completed"
    },
    "tags": []
   },
   "outputs": [],
   "source": [
    "data_path = r\".\\output_dir\" \n",
    "cleanedCdrsDf  = spark.read.format(\"parquet\") \\\n",
    "    .option(\"header\", \"true\") \\\n",
    "    .option(\"inferSchema\", \"true\") \\\n",
    "    .load(data_path)"
   ]
  },
  {
   "cell_type": "code",
   "execution_count": 3,
   "id": "65ab5c4e",
   "metadata": {
    "execution": {
     "iopub.execute_input": "2025-06-11T18:06:32.487833Z",
     "iopub.status.busy": "2025-06-11T18:06:32.487833Z",
     "iopub.status.idle": "2025-06-11T18:06:36.248120Z",
     "shell.execute_reply": "2025-06-11T18:06:36.247601Z"
    },
    "papermill": {
     "duration": 3.770105,
     "end_time": "2025-06-11T18:06:36.251130",
     "exception": false,
     "start_time": "2025-06-11T18:06:32.481025",
     "status": "completed"
    },
    "tags": []
   },
   "outputs": [
    {
     "name": "stdout",
     "output_type": "stream",
     "text": [
      "+------------+----------------+-----------------+------------+---------------+------+--------------------+\n",
      "| customer_id|   customer_name|subscription_type|rate_plan_id|activation_date|status|              region|\n",
      "+------------+----------------+-----------------+------------+---------------+------+--------------------+\n",
      "|212621008730|  Fouad El Ghazi|         postpaid|      PLAN_B|     2024-09-30|active|Béni Mellal-Khénifra|\n",
      "|212680058037|Soufiane Belkadi|         postpaid|      PLAN_A|     2023-10-16|active|  Rabat-Salé-Kénitra|\n",
      "|212705083484|    Rania Skalli|         postpaid|      PLAN_C|     2023-09-13|active|          L'Oriental|\n",
      "|212742643119|    Hind Belkadi|         postpaid|      PLAN_B|     2024-10-09|active|   Guelmim-Oued Noun|\n",
      "|212625950696|  Ehab El Amrani|         postpaid|      PLAN_C|     2024-12-16|active|      Marrakech-Safi|\n",
      "+------------+----------------+-----------------+------------+---------------+------+--------------------+\n",
      "only showing top 5 rows\n",
      "\n"
     ]
    }
   ],
   "source": [
    "customersDf = spark.read \\\n",
    "    .format(\"jdbc\")\\\n",
    "    .option(\"url\",      \"jdbc:postgresql://localhost:5432/projet_spark\")\\\n",
    "    .option(\"dbtable\",  \"customers\")\\\n",
    "    .option(\"user\",     \"postgres\")\\\n",
    "    .option(\"password\", \"0000\")\\\n",
    "    .load() \n",
    "\n",
    "customersDf.show(5)\n"
   ]
  },
  {
   "cell_type": "code",
   "execution_count": 4,
   "id": "b6195e08",
   "metadata": {
    "execution": {
     "iopub.execute_input": "2025-06-11T18:06:36.266130Z",
     "iopub.status.busy": "2025-06-11T18:06:36.265138Z",
     "iopub.status.idle": "2025-06-11T18:06:37.121096Z",
     "shell.execute_reply": "2025-06-11T18:06:37.119893Z"
    },
    "papermill": {
     "duration": 0.865971,
     "end_time": "2025-06-11T18:06:37.123107",
     "exception": false,
     "start_time": "2025-06-11T18:06:36.257136",
     "status": "completed"
    },
    "tags": []
   },
   "outputs": [],
   "source": [
    "catalogDf = spark.read \\\n",
    "    .option(\"header\", True) \\\n",
    "    .csv(\"ressources/product_catalog.csv\")\n"
   ]
  },
  {
   "cell_type": "code",
   "execution_count": 5,
   "id": "a7161cb2",
   "metadata": {
    "execution": {
     "iopub.execute_input": "2025-06-11T18:06:37.132082Z",
     "iopub.status.busy": "2025-06-11T18:06:37.132082Z",
     "iopub.status.idle": "2025-06-11T18:06:37.433441Z",
     "shell.execute_reply": "2025-06-11T18:06:37.431905Z"
    },
    "papermill": {
     "duration": 0.307401,
     "end_time": "2025-06-11T18:06:37.435450",
     "exception": false,
     "start_time": "2025-06-11T18:06:37.128049",
     "status": "completed"
    },
    "tags": []
   },
   "outputs": [],
   "source": [
    "from pyspark.sql.functions import col\n",
    "\n",
    "ratePlansDf = spark.read \\\n",
    "    .option(\"header\", True) \\\n",
    "    .csv(\"ressources/rate_plans.csv\") \\\n",
    "    .withColumn(\"unit_price\", col(\"unit_price\").cast(\"double\")) \\\n",
    "    .withColumn(\"free_units\", col(\"free_units\").cast(\"int\")) \\\n",
    "    .withColumn(\"tier_threshold\", col(\"tier_threshold\").cast(\"int\")) \\\n",
    "    .withColumn(\"tier_price\", col(\"tier_price\").cast(\"double\"))\n"
   ]
  },
  {
   "cell_type": "code",
   "execution_count": 6,
   "id": "645907fe",
   "metadata": {
    "execution": {
     "iopub.execute_input": "2025-06-11T18:06:37.446458Z",
     "iopub.status.busy": "2025-06-11T18:06:37.445459Z",
     "iopub.status.idle": "2025-06-11T18:06:37.492010Z",
     "shell.execute_reply": "2025-06-11T18:06:37.491503Z"
    },
    "papermill": {
     "duration": 0.052571,
     "end_time": "2025-06-11T18:06:37.494022",
     "exception": false,
     "start_time": "2025-06-11T18:06:37.441451",
     "status": "completed"
    },
    "tags": []
   },
   "outputs": [],
   "source": [
    "cdrs = (cleanedCdrsDf\n",
    "        .withColumn(\n",
    "            \"customer_id\",\n",
    "            when(col(\"record_type\") == \"voice\", col(\"caller_id\"))\n",
    "            .when(col(\"record_type\") == \"sms\",  col(\"sender_id\"))\n",
    "            .otherwise(col(\"user_id\"))\n",
    "        ))"
   ]
  },
  {
   "cell_type": "code",
   "execution_count": 7,
   "id": "72c6e9c5",
   "metadata": {
    "execution": {
     "iopub.execute_input": "2025-06-11T18:06:37.504021Z",
     "iopub.status.busy": "2025-06-11T18:06:37.504021Z",
     "iopub.status.idle": "2025-06-11T18:06:40.280839Z",
     "shell.execute_reply": "2025-06-11T18:06:40.280248Z"
    },
    "papermill": {
     "duration": 2.781891,
     "end_time": "2025-06-11T18:06:40.281912",
     "exception": false,
     "start_time": "2025-06-11T18:06:37.500021",
     "status": "completed"
    },
    "tags": []
   },
   "outputs": [
    {
     "name": "stdout",
     "output_type": "stream",
     "text": [
      "+------------+--------------------+-------------------+-------------+----------+------------+------------+------------+------------+-------------+------------+------------+------------+--------------------+--------------+--------+-----------+------------+\n",
      "| customer_id|           record_ID|          timestamp|      cell_id|technology|   caller_id|   callee_id|duration_sec|product_code|rating_status|   sender_id| receiver_id|     user_id|session_duration_sec|data_volume_mb|batch_id|record_type|rate_plan_id|\n",
      "+------------+--------------------+-------------------+-------------+----------+------------+------------+------------+------------+-------------+------------+------------+------------+--------------------+--------------+--------+-----------+------------+\n",
      "|212621008730|928baca9-3631-422...|2025-05-01 02:42:28|    MEKNES_01|        4G|        NULL|        NULL|        NULL|  DATA_BASIC|        ready|        NULL|        NULL|212621008730|                 140|        336.96|       2|       data|      PLAN_B|\n",
      "|212613659930|10cf5c63-ea79-488...|2025-05-01 04:07:35|     RABAT_03|        4G|        NULL|        NULL|        NULL|DATA_PREMIUM|        ready|        NULL|        NULL|212613659930|                  95|       1605.47|       7|       data|      PLAN_B|\n",
      "|212636497051|ef85aac2-c135-414...|2025-05-01 04:24:34|      inconnu|        4G|        NULL|        NULL|        NULL|  DATA_BASIC|        ready|        NULL|        NULL|212636497051|                 512|       1157.54|       8|       data|      PLAN_A|\n",
      "|212658902556|b39ab5e2-c9d4-415...|2025-05-01 02:48:53|      inconnu|        4G|        NULL|        NULL|        NULL|     SMS_NAT|        ready|212658902556|212716778643|        NULL|                NULL|          NULL|       2|        sms|      PLAN_B|\n",
      "|212735845552|3a349e2c-3a40-43a...|2025-05-01 02:32:27|      TAZA_01|        4G|        NULL|        NULL|        NULL|  DATA_BASIC| needs_review|        NULL|        NULL|212735845552|             inconnu|       1116.14|       2|       data|      PLAN_B|\n",
      "|212650382600|a300ccda-8202-4af...|2025-05-01 03:39:26|      inconnu|        5G|        NULL|        NULL|        NULL|     SMS_NAT|        ready|212650382600|212723197120|        NULL|                NULL|          NULL|       5|        sms|      PLAN_C|\n",
      "|212736499163|a2ae3f33-0db1-499...|2025-05-01 03:46:27|      SAFI_01|        4G|212736499163|396425802862|         394|   VOICE_INT|        ready|        NULL|        NULL|        NULL|                NULL|          NULL|       6|      voice|      PLAN_C|\n",
      "|212606778169|80226256-b00e-474...|2025-05-01 04:44:31|CASABLANCA_04|        5G|        NULL|        NULL|        NULL|  DATA_BASIC| needs_review|        NULL|        NULL|212606778169|                 450|       inconnu|      10|       data|      PLAN_C|\n",
      "|212710564221|41d43787-c44b-40e...|2025-05-01 04:38:37|     RABAT_01|        4G|        NULL|        NULL|        NULL|  DATA_BASIC|        ready|        NULL|        NULL|212710564221|                 443|         830.2|       9|       data|      PLAN_A|\n",
      "|212757941309|7eadd674-0434-421...|2025-05-01 03:03:34|    MEKNES_01|        5G|212757941309|212603262258|         337|   VOICE_NAT|        ready|        NULL|        NULL|        NULL|                NULL|          NULL|       3|      voice|      PLAN_A|\n",
      "|212624960375|5e8dd48a-4591-4c9...|2025-05-01 02:23:57|    TANGER_01|        3G|        NULL|        NULL|        NULL|  DATA_BASIC|        ready|        NULL|        NULL|212624960375|                 215|        762.41|       2|       data|      PLAN_A|\n",
      "|212686591771|fb5e62f1-9d19-43b...|2025-05-01 04:46:38|      inconnu|        4G|        NULL|        NULL|        NULL|  DATA_BASIC|        ready|        NULL|        NULL|212686591771|                  92|        401.91|      10|       data|      PLAN_A|\n",
      "|212799474898|2593391c-6183-487...|2025-05-01 02:36:20|  ELJADIDA_01|        3G|212799474898|212661946686|         596|   VOICE_NAT|        ready|        NULL|        NULL|        NULL|                NULL|          NULL|       2|      voice|      PLAN_C|\n",
      "|212634978656|7a5341d5-8a95-46f...|2025-05-01 05:03:25|   KENITRA_01|        4G|212634978656|212659465798|         528|   VOICE_NAT|        ready|        NULL|        NULL|        NULL|                NULL|          NULL|      11|      voice|      PLAN_A|\n",
      "|212634978656|6321d9b8-8e7d-4dc...|2025-05-01 04:47:33|     RABAT_01|        3G|        NULL|        NULL|        NULL|  DATA_BASIC|        ready|        NULL|        NULL|212634978656|                 588|       1148.28|      10|       data|      PLAN_A|\n",
      "|212685306662|0818e6e0-fd83-4fc...|2025-05-01 03:12:55| MARRAKECH_01|        4G|212685306662|393268949979|         490|   VOICE_INT|        ready|        NULL|        NULL|        NULL|                NULL|          NULL|       4|      voice|      PLAN_C|\n",
      "|212790314462|73ab59cf-daa0-499...|2025-05-01 03:57:03|      inconnu|        4G|212790314462|212612667606|         256|   VOICE_NAT|        ready|        NULL|        NULL|        NULL|                NULL|          NULL|       6|      voice|      PLAN_A|\n",
      "|212616101180|d9775f0d-65d4-42c...|2025-05-01 04:16:12|CASABLANCA_03|        3G|212616101180|212621419079|         457|   VOICE_NAT|        ready|        NULL|        NULL|        NULL|                NULL|          NULL|       8|      voice|      PLAN_A|\n",
      "|212712383843|838c8e9a-63d1-4f8...|2025-05-01 04:49:29|      SAFI_01|        3G|        NULL|        NULL|        NULL|  DATA_BASIC|        ready|        NULL|        NULL|212712383843|                 155|        464.25|      10|       data|      PLAN_A|\n",
      "|212696076381|1b60005a-8cac-4c7...|2025-05-01 05:14:29|       FES_02|        4G|212696076381|212659663360|         377|   VOICE_NAT|        ready|        NULL|        NULL|        NULL|                NULL|          NULL|      12|      voice|      PLAN_A|\n",
      "+------------+--------------------+-------------------+-------------+----------+------------+------------+------------+------------+-------------+------------+------------+------------+--------------------+--------------+--------+-----------+------------+\n",
      "only showing top 20 rows\n",
      "\n"
     ]
    }
   ],
   "source": [
    "# ─── jointure client → plan ─────────────────────────────────────────────\n",
    "cdrs1 = cdrs.join(\n",
    "    customersDf.filter((col(\"status\") == \"active\") &\n",
    "                       (col(\"subscription_type\") == \"postpaid\"))\n",
    "               .select(\"customer_id\", \"rate_plan_id\"),\n",
    "    on=\"customer_id\",\n",
    "    how=\"inner\"\n",
    ")\n",
    "cdrs1.show()"
   ]
  },
  {
   "cell_type": "code",
   "execution_count": 8,
   "id": "d92da766",
   "metadata": {
    "execution": {
     "iopub.execute_input": "2025-06-11T18:06:40.297900Z",
     "iopub.status.busy": "2025-06-11T18:06:40.296918Z",
     "iopub.status.idle": "2025-06-11T18:06:41.751064Z",
     "shell.execute_reply": "2025-06-11T18:06:41.750051Z"
    },
    "papermill": {
     "duration": 1.463353,
     "end_time": "2025-06-11T18:06:41.753206",
     "exception": false,
     "start_time": "2025-06-11T18:06:40.289853",
     "status": "completed"
    },
    "tags": []
   },
   "outputs": [
    {
     "name": "stdout",
     "output_type": "stream",
     "text": [
      "+------------+------------+--------------------+-------------------+-------------+----------+------------+------------+------------+-------------+------------+------------+------------+--------------------+--------------+--------+-----------+------------+------------+------+---------+--------------------+\n",
      "|product_code| customer_id|           record_ID|          timestamp|      cell_id|technology|   caller_id|   callee_id|duration_sec|rating_status|   sender_id| receiver_id|     user_id|session_duration_sec|data_volume_mb|batch_id|record_type|rate_plan_id|service_type|  unit|rate_type|         description|\n",
      "+------------+------------+--------------------+-------------------+-------------+----------+------------+------------+------------+-------------+------------+------------+------------+--------------------+--------------+--------+-----------+------------+------------+------+---------+--------------------+\n",
      "|  DATA_BASIC|212621008730|928baca9-3631-422...|2025-05-01 02:42:28|    MEKNES_01|        4G|        NULL|        NULL|        NULL|        ready|        NULL|        NULL|212621008730|                 140|        336.96|       2|       data|      PLAN_B|        data|    MB|     flat|Session Data basi...|\n",
      "|DATA_PREMIUM|212613659930|10cf5c63-ea79-488...|2025-05-01 04:07:35|     RABAT_03|        4G|        NULL|        NULL|        NULL|        ready|        NULL|        NULL|212613659930|                  95|       1605.47|       7|       data|      PLAN_B|        data|    MB|   tiered|Session Data prem...|\n",
      "|  DATA_BASIC|212636497051|ef85aac2-c135-414...|2025-05-01 04:24:34|      inconnu|        4G|        NULL|        NULL|        NULL|        ready|        NULL|        NULL|212636497051|                 512|       1157.54|       8|       data|      PLAN_A|        data|    MB|     flat|Session Data basi...|\n",
      "|     SMS_NAT|212658902556|b39ab5e2-c9d4-415...|2025-05-01 02:48:53|      inconnu|        4G|        NULL|        NULL|        NULL|        ready|212658902556|212716778643|        NULL|                NULL|          NULL|       2|        sms|      PLAN_B|         sms| event|     flat|Envoi SMS standar...|\n",
      "|  DATA_BASIC|212735845552|3a349e2c-3a40-43a...|2025-05-01 02:32:27|      TAZA_01|        4G|        NULL|        NULL|        NULL| needs_review|        NULL|        NULL|212735845552|             inconnu|       1116.14|       2|       data|      PLAN_B|        data|    MB|     flat|Session Data basi...|\n",
      "|     SMS_NAT|212650382600|a300ccda-8202-4af...|2025-05-01 03:39:26|      inconnu|        5G|        NULL|        NULL|        NULL|        ready|212650382600|212723197120|        NULL|                NULL|          NULL|       5|        sms|      PLAN_C|         sms| event|     flat|Envoi SMS standar...|\n",
      "|   VOICE_INT|212736499163|a2ae3f33-0db1-499...|2025-05-01 03:46:27|      SAFI_01|        4G|212736499163|396425802862|         394|        ready|        NULL|        NULL|        NULL|                NULL|          NULL|       6|      voice|      PLAN_C|       voice|minute|     flat|Appel vocal inter...|\n",
      "|  DATA_BASIC|212606778169|80226256-b00e-474...|2025-05-01 04:44:31|CASABLANCA_04|        5G|        NULL|        NULL|        NULL| needs_review|        NULL|        NULL|212606778169|                 450|       inconnu|      10|       data|      PLAN_C|        data|    MB|     flat|Session Data basi...|\n",
      "|  DATA_BASIC|212710564221|41d43787-c44b-40e...|2025-05-01 04:38:37|     RABAT_01|        4G|        NULL|        NULL|        NULL|        ready|        NULL|        NULL|212710564221|                 443|         830.2|       9|       data|      PLAN_A|        data|    MB|     flat|Session Data basi...|\n",
      "|   VOICE_NAT|212757941309|7eadd674-0434-421...|2025-05-01 03:03:34|    MEKNES_01|        5G|212757941309|212603262258|         337|        ready|        NULL|        NULL|        NULL|                NULL|          NULL|       3|      voice|      PLAN_A|       voice|minute|     flat|Appel vocal natio...|\n",
      "|  DATA_BASIC|212624960375|5e8dd48a-4591-4c9...|2025-05-01 02:23:57|    TANGER_01|        3G|        NULL|        NULL|        NULL|        ready|        NULL|        NULL|212624960375|                 215|        762.41|       2|       data|      PLAN_A|        data|    MB|     flat|Session Data basi...|\n",
      "|  DATA_BASIC|212686591771|fb5e62f1-9d19-43b...|2025-05-01 04:46:38|      inconnu|        4G|        NULL|        NULL|        NULL|        ready|        NULL|        NULL|212686591771|                  92|        401.91|      10|       data|      PLAN_A|        data|    MB|     flat|Session Data basi...|\n",
      "|   VOICE_NAT|212799474898|2593391c-6183-487...|2025-05-01 02:36:20|  ELJADIDA_01|        3G|212799474898|212661946686|         596|        ready|        NULL|        NULL|        NULL|                NULL|          NULL|       2|      voice|      PLAN_C|       voice|minute|     flat|Appel vocal natio...|\n",
      "|   VOICE_NAT|212634978656|7a5341d5-8a95-46f...|2025-05-01 05:03:25|   KENITRA_01|        4G|212634978656|212659465798|         528|        ready|        NULL|        NULL|        NULL|                NULL|          NULL|      11|      voice|      PLAN_A|       voice|minute|     flat|Appel vocal natio...|\n",
      "|  DATA_BASIC|212634978656|6321d9b8-8e7d-4dc...|2025-05-01 04:47:33|     RABAT_01|        3G|        NULL|        NULL|        NULL|        ready|        NULL|        NULL|212634978656|                 588|       1148.28|      10|       data|      PLAN_A|        data|    MB|     flat|Session Data basi...|\n",
      "|   VOICE_INT|212685306662|0818e6e0-fd83-4fc...|2025-05-01 03:12:55| MARRAKECH_01|        4G|212685306662|393268949979|         490|        ready|        NULL|        NULL|        NULL|                NULL|          NULL|       4|      voice|      PLAN_C|       voice|minute|     flat|Appel vocal inter...|\n",
      "|   VOICE_NAT|212790314462|73ab59cf-daa0-499...|2025-05-01 03:57:03|      inconnu|        4G|212790314462|212612667606|         256|        ready|        NULL|        NULL|        NULL|                NULL|          NULL|       6|      voice|      PLAN_A|       voice|minute|     flat|Appel vocal natio...|\n",
      "|   VOICE_NAT|212616101180|d9775f0d-65d4-42c...|2025-05-01 04:16:12|CASABLANCA_03|        3G|212616101180|212621419079|         457|        ready|        NULL|        NULL|        NULL|                NULL|          NULL|       8|      voice|      PLAN_A|       voice|minute|     flat|Appel vocal natio...|\n",
      "|  DATA_BASIC|212712383843|838c8e9a-63d1-4f8...|2025-05-01 04:49:29|      SAFI_01|        3G|        NULL|        NULL|        NULL|        ready|        NULL|        NULL|212712383843|                 155|        464.25|      10|       data|      PLAN_A|        data|    MB|     flat|Session Data basi...|\n",
      "|   VOICE_NAT|212696076381|1b60005a-8cac-4c7...|2025-05-01 05:14:29|       FES_02|        4G|212696076381|212659663360|         377|        ready|        NULL|        NULL|        NULL|                NULL|          NULL|      12|      voice|      PLAN_A|       voice|minute|     flat|Appel vocal natio...|\n",
      "+------------+------------+--------------------+-------------------+-------------+----------+------------+------------+------------+-------------+------------+------------+------------+--------------------+--------------+--------+-----------+------------+------------+------+---------+--------------------+\n",
      "only showing top 20 rows\n",
      "\n"
     ]
    }
   ],
   "source": [
    "# ─── jointure produit (rate_type, service_type) ────────────────────────\n",
    "cdrs2 = cdrs1.join(catalogDf, on=\"product_code\", how=\"left\")\n",
    "cdrs2.show()"
   ]
  },
  {
   "cell_type": "code",
   "execution_count": 9,
   "id": "6212e60b",
   "metadata": {
    "execution": {
     "iopub.execute_input": "2025-06-11T18:06:41.768203Z",
     "iopub.status.busy": "2025-06-11T18:06:41.768203Z",
     "iopub.status.idle": "2025-06-11T18:06:41.797555Z",
     "shell.execute_reply": "2025-06-11T18:06:41.797050Z"
    },
    "papermill": {
     "duration": 0.040051,
     "end_time": "2025-06-11T18:06:41.800252",
     "exception": false,
     "start_time": "2025-06-11T18:06:41.760201",
     "status": "completed"
    },
    "tags": []
   },
   "outputs": [],
   "source": [
    "cdrs3 = cdrs2.join(ratePlansDf,\n",
    "                   on=[\"rate_plan_id\", \"product_code\"],\n",
    "                   how=\"left\")"
   ]
  },
  {
   "cell_type": "code",
   "execution_count": 10,
   "id": "dde74800",
   "metadata": {
    "execution": {
     "iopub.execute_input": "2025-06-11T18:06:41.815369Z",
     "iopub.status.busy": "2025-06-11T18:06:41.814366Z",
     "iopub.status.idle": "2025-06-11T18:06:43.286356Z",
     "shell.execute_reply": "2025-06-11T18:06:43.285841Z"
    },
    "papermill": {
     "duration": 1.48161,
     "end_time": "2025-06-11T18:06:43.289376",
     "exception": false,
     "start_time": "2025-06-11T18:06:41.807766",
     "status": "completed"
    },
    "tags": []
   },
   "outputs": [
    {
     "name": "stdout",
     "output_type": "stream",
     "text": [
      "+------------+------------+------------+--------------------+-------------------+-------------+----------+------------+------------+------------+-------------+------------+------------+------------+--------------------+--------------+--------+-----------+------------+------+---------+--------------------+------------+----------+----------+--------------+----------+\n",
      "|rate_plan_id|product_code| customer_id|           record_ID|          timestamp|      cell_id|technology|   caller_id|   callee_id|duration_sec|rating_status|   sender_id| receiver_id|     user_id|session_duration_sec|data_volume_mb|batch_id|record_type|service_type|  unit|rate_type|         description|service_type|unit_price|free_units|tier_threshold|tier_price|\n",
      "+------------+------------+------------+--------------------+-------------------+-------------+----------+------------+------------+------------+-------------+------------+------------+------------+--------------------+--------------+--------+-----------+------------+------+---------+--------------------+------------+----------+----------+--------------+----------+\n",
      "|      PLAN_B|  DATA_BASIC|212621008730|928baca9-3631-422...|2025-05-01 02:42:28|    MEKNES_01|        4G|        NULL|        NULL|        NULL|        ready|        NULL|        NULL|212621008730|                 140|        336.96|       2|       data|        data|    MB|     flat|Session Data basi...|        data|     0.022|        25|          NULL|      NULL|\n",
      "|      PLAN_B|DATA_PREMIUM|212613659930|10cf5c63-ea79-488...|2025-05-01 04:07:35|     RABAT_03|        4G|        NULL|        NULL|        NULL|        ready|        NULL|        NULL|212613659930|                  95|       1605.47|       7|       data|        data|    MB|   tiered|Session Data prem...|        data|     0.018|        60|          1024|     0.055|\n",
      "|      PLAN_A|  DATA_BASIC|212636497051|ef85aac2-c135-414...|2025-05-01 04:24:34|      inconnu|        4G|        NULL|        NULL|        NULL|        ready|        NULL|        NULL|212636497051|                 512|       1157.54|       8|       data|        data|    MB|     flat|Session Data basi...|        data|      0.02|        20|          NULL|      NULL|\n",
      "|      PLAN_B|     SMS_NAT|212658902556|b39ab5e2-c9d4-415...|2025-05-01 02:48:53|      inconnu|        4G|        NULL|        NULL|        NULL|        ready|212658902556|212716778643|        NULL|                NULL|          NULL|       2|        sms|         sms| event|     flat|Envoi SMS standar...|         sms|     0.035|         3|          NULL|      NULL|\n",
      "|      PLAN_B|  DATA_BASIC|212735845552|3a349e2c-3a40-43a...|2025-05-01 02:32:27|      TAZA_01|        4G|        NULL|        NULL|        NULL| needs_review|        NULL|        NULL|212735845552|             inconnu|       1116.14|       2|       data|        data|    MB|     flat|Session Data basi...|        data|     0.022|        25|          NULL|      NULL|\n",
      "|      PLAN_C|     SMS_NAT|212650382600|a300ccda-8202-4af...|2025-05-01 03:39:26|      inconnu|        5G|        NULL|        NULL|        NULL|        ready|212650382600|212723197120|        NULL|                NULL|          NULL|       5|        sms|         sms| event|     flat|Envoi SMS standar...|         sms|     0.035|         2|          NULL|      NULL|\n",
      "|      PLAN_C|   VOICE_INT|212736499163|a2ae3f33-0db1-499...|2025-05-01 03:46:27|      SAFI_01|        4G|212736499163|396425802862|         394|        ready|        NULL|        NULL|        NULL|                NULL|          NULL|       6|      voice|       voice|minute|     flat|Appel vocal inter...|       voice|     0.018|         0|          NULL|      NULL|\n",
      "|      PLAN_C|  DATA_BASIC|212606778169|80226256-b00e-474...|2025-05-01 04:44:31|CASABLANCA_04|        5G|        NULL|        NULL|        NULL| needs_review|        NULL|        NULL|212606778169|                 450|       inconnu|      10|       data|        data|    MB|     flat|Session Data basi...|        data|     0.018|        20|          NULL|      NULL|\n",
      "|      PLAN_A|  DATA_BASIC|212710564221|41d43787-c44b-40e...|2025-05-01 04:38:37|     RABAT_01|        4G|        NULL|        NULL|        NULL|        ready|        NULL|        NULL|212710564221|                 443|         830.2|       9|       data|        data|    MB|     flat|Session Data basi...|        data|      0.02|        20|          NULL|      NULL|\n",
      "|      PLAN_A|   VOICE_NAT|212757941309|7eadd674-0434-421...|2025-05-01 03:03:34|    MEKNES_01|        5G|212757941309|212603262258|         337|        ready|        NULL|        NULL|        NULL|                NULL|          NULL|       3|      voice|       voice|minute|     flat|Appel vocal natio...|       voice|      0.01|         5|          NULL|      NULL|\n",
      "|      PLAN_A|  DATA_BASIC|212624960375|5e8dd48a-4591-4c9...|2025-05-01 02:23:57|    TANGER_01|        3G|        NULL|        NULL|        NULL|        ready|        NULL|        NULL|212624960375|                 215|        762.41|       2|       data|        data|    MB|     flat|Session Data basi...|        data|      0.02|        20|          NULL|      NULL|\n",
      "|      PLAN_A|  DATA_BASIC|212686591771|fb5e62f1-9d19-43b...|2025-05-01 04:46:38|      inconnu|        4G|        NULL|        NULL|        NULL|        ready|        NULL|        NULL|212686591771|                  92|        401.91|      10|       data|        data|    MB|     flat|Session Data basi...|        data|      0.02|        20|          NULL|      NULL|\n",
      "|      PLAN_C|   VOICE_NAT|212799474898|2593391c-6183-487...|2025-05-01 02:36:20|  ELJADIDA_01|        3G|212799474898|212661946686|         596|        ready|        NULL|        NULL|        NULL|                NULL|          NULL|       2|      voice|       voice|minute|     flat|Appel vocal natio...|       voice|     0.008|        10|          NULL|      NULL|\n",
      "|      PLAN_A|   VOICE_NAT|212634978656|7a5341d5-8a95-46f...|2025-05-01 05:03:25|   KENITRA_01|        4G|212634978656|212659465798|         528|        ready|        NULL|        NULL|        NULL|                NULL|          NULL|      11|      voice|       voice|minute|     flat|Appel vocal natio...|       voice|      0.01|         5|          NULL|      NULL|\n",
      "|      PLAN_A|  DATA_BASIC|212634978656|6321d9b8-8e7d-4dc...|2025-05-01 04:47:33|     RABAT_01|        3G|        NULL|        NULL|        NULL|        ready|        NULL|        NULL|212634978656|                 588|       1148.28|      10|       data|        data|    MB|     flat|Session Data basi...|        data|      0.02|        20|          NULL|      NULL|\n",
      "|      PLAN_C|   VOICE_INT|212685306662|0818e6e0-fd83-4fc...|2025-05-01 03:12:55| MARRAKECH_01|        4G|212685306662|393268949979|         490|        ready|        NULL|        NULL|        NULL|                NULL|          NULL|       4|      voice|       voice|minute|     flat|Appel vocal inter...|       voice|     0.018|         0|          NULL|      NULL|\n",
      "|      PLAN_A|   VOICE_NAT|212790314462|73ab59cf-daa0-499...|2025-05-01 03:57:03|      inconnu|        4G|212790314462|212612667606|         256|        ready|        NULL|        NULL|        NULL|                NULL|          NULL|       6|      voice|       voice|minute|     flat|Appel vocal natio...|       voice|      0.01|         5|          NULL|      NULL|\n",
      "|      PLAN_A|   VOICE_NAT|212616101180|d9775f0d-65d4-42c...|2025-05-01 04:16:12|CASABLANCA_03|        3G|212616101180|212621419079|         457|        ready|        NULL|        NULL|        NULL|                NULL|          NULL|       8|      voice|       voice|minute|     flat|Appel vocal natio...|       voice|      0.01|         5|          NULL|      NULL|\n",
      "|      PLAN_A|  DATA_BASIC|212712383843|838c8e9a-63d1-4f8...|2025-05-01 04:49:29|      SAFI_01|        3G|        NULL|        NULL|        NULL|        ready|        NULL|        NULL|212712383843|                 155|        464.25|      10|       data|        data|    MB|     flat|Session Data basi...|        data|      0.02|        20|          NULL|      NULL|\n",
      "|      PLAN_A|   VOICE_NAT|212696076381|1b60005a-8cac-4c7...|2025-05-01 05:14:29|       FES_02|        4G|212696076381|212659663360|         377|        ready|        NULL|        NULL|        NULL|                NULL|          NULL|      12|      voice|       voice|minute|     flat|Appel vocal natio...|       voice|      0.01|         5|          NULL|      NULL|\n",
      "+------------+------------+------------+--------------------+-------------------+-------------+----------+------------+------------+------------+-------------+------------+------------+------------+--------------------+--------------+--------+-----------+------------+------+---------+--------------------+------------+----------+----------+--------------+----------+\n",
      "only showing top 20 rows\n",
      "\n"
     ]
    }
   ],
   "source": [
    "cdrs3.show()"
   ]
  },
  {
   "cell_type": "code",
   "execution_count": 11,
   "id": "bd2697ab",
   "metadata": {
    "execution": {
     "iopub.execute_input": "2025-06-11T18:06:43.305447Z",
     "iopub.status.busy": "2025-06-11T18:06:43.304418Z",
     "iopub.status.idle": "2025-06-11T18:06:44.553540Z",
     "shell.execute_reply": "2025-06-11T18:06:44.553540Z"
    },
    "papermill": {
     "duration": 1.260184,
     "end_time": "2025-06-11T18:06:44.555548",
     "exception": false,
     "start_time": "2025-06-11T18:06:43.295364",
     "status": "completed"
    },
    "tags": []
   },
   "outputs": [
    {
     "name": "stdout",
     "output_type": "stream",
     "text": [
      "+------------+------------+------------+--------------------+-------------------+-------------+----------+------------+------------+------------+-------------+------------+------------+------------+--------------------+--------------+--------+-----------+------+---------+--------------------+----------+----------+--------------+----------+\n",
      "|rate_plan_id|product_code| customer_id|           record_ID|          timestamp|      cell_id|technology|   caller_id|   callee_id|duration_sec|rating_status|   sender_id| receiver_id|     user_id|session_duration_sec|data_volume_mb|batch_id|record_type|  unit|rate_type|         description|unit_price|free_units|tier_threshold|tier_price|\n",
      "+------------+------------+------------+--------------------+-------------------+-------------+----------+------------+------------+------------+-------------+------------+------------+------------+--------------------+--------------+--------+-----------+------+---------+--------------------+----------+----------+--------------+----------+\n",
      "|      PLAN_B|  DATA_BASIC|212621008730|928baca9-3631-422...|2025-05-01 02:42:28|    MEKNES_01|        4G|        NULL|        NULL|        NULL|        ready|        NULL|        NULL|212621008730|                 140|        336.96|       2|       data|    MB|     flat|Session Data basi...|     0.022|        25|          NULL|      NULL|\n",
      "|      PLAN_B|DATA_PREMIUM|212613659930|10cf5c63-ea79-488...|2025-05-01 04:07:35|     RABAT_03|        4G|        NULL|        NULL|        NULL|        ready|        NULL|        NULL|212613659930|                  95|       1605.47|       7|       data|    MB|   tiered|Session Data prem...|     0.018|        60|          1024|     0.055|\n",
      "|      PLAN_A|  DATA_BASIC|212636497051|ef85aac2-c135-414...|2025-05-01 04:24:34|      inconnu|        4G|        NULL|        NULL|        NULL|        ready|        NULL|        NULL|212636497051|                 512|       1157.54|       8|       data|    MB|     flat|Session Data basi...|      0.02|        20|          NULL|      NULL|\n",
      "|      PLAN_B|     SMS_NAT|212658902556|b39ab5e2-c9d4-415...|2025-05-01 02:48:53|      inconnu|        4G|        NULL|        NULL|        NULL|        ready|212658902556|212716778643|        NULL|                NULL|          NULL|       2|        sms| event|     flat|Envoi SMS standar...|     0.035|         3|          NULL|      NULL|\n",
      "|      PLAN_B|  DATA_BASIC|212735845552|3a349e2c-3a40-43a...|2025-05-01 02:32:27|      TAZA_01|        4G|        NULL|        NULL|        NULL| needs_review|        NULL|        NULL|212735845552|             inconnu|       1116.14|       2|       data|    MB|     flat|Session Data basi...|     0.022|        25|          NULL|      NULL|\n",
      "|      PLAN_C|     SMS_NAT|212650382600|a300ccda-8202-4af...|2025-05-01 03:39:26|      inconnu|        5G|        NULL|        NULL|        NULL|        ready|212650382600|212723197120|        NULL|                NULL|          NULL|       5|        sms| event|     flat|Envoi SMS standar...|     0.035|         2|          NULL|      NULL|\n",
      "|      PLAN_C|   VOICE_INT|212736499163|a2ae3f33-0db1-499...|2025-05-01 03:46:27|      SAFI_01|        4G|212736499163|396425802862|         394|        ready|        NULL|        NULL|        NULL|                NULL|          NULL|       6|      voice|minute|     flat|Appel vocal inter...|     0.018|         0|          NULL|      NULL|\n",
      "|      PLAN_C|  DATA_BASIC|212606778169|80226256-b00e-474...|2025-05-01 04:44:31|CASABLANCA_04|        5G|        NULL|        NULL|        NULL| needs_review|        NULL|        NULL|212606778169|                 450|       inconnu|      10|       data|    MB|     flat|Session Data basi...|     0.018|        20|          NULL|      NULL|\n",
      "|      PLAN_A|  DATA_BASIC|212710564221|41d43787-c44b-40e...|2025-05-01 04:38:37|     RABAT_01|        4G|        NULL|        NULL|        NULL|        ready|        NULL|        NULL|212710564221|                 443|         830.2|       9|       data|    MB|     flat|Session Data basi...|      0.02|        20|          NULL|      NULL|\n",
      "|      PLAN_A|   VOICE_NAT|212757941309|7eadd674-0434-421...|2025-05-01 03:03:34|    MEKNES_01|        5G|212757941309|212603262258|         337|        ready|        NULL|        NULL|        NULL|                NULL|          NULL|       3|      voice|minute|     flat|Appel vocal natio...|      0.01|         5|          NULL|      NULL|\n",
      "|      PLAN_A|  DATA_BASIC|212624960375|5e8dd48a-4591-4c9...|2025-05-01 02:23:57|    TANGER_01|        3G|        NULL|        NULL|        NULL|        ready|        NULL|        NULL|212624960375|                 215|        762.41|       2|       data|    MB|     flat|Session Data basi...|      0.02|        20|          NULL|      NULL|\n",
      "|      PLAN_A|  DATA_BASIC|212686591771|fb5e62f1-9d19-43b...|2025-05-01 04:46:38|      inconnu|        4G|        NULL|        NULL|        NULL|        ready|        NULL|        NULL|212686591771|                  92|        401.91|      10|       data|    MB|     flat|Session Data basi...|      0.02|        20|          NULL|      NULL|\n",
      "|      PLAN_C|   VOICE_NAT|212799474898|2593391c-6183-487...|2025-05-01 02:36:20|  ELJADIDA_01|        3G|212799474898|212661946686|         596|        ready|        NULL|        NULL|        NULL|                NULL|          NULL|       2|      voice|minute|     flat|Appel vocal natio...|     0.008|        10|          NULL|      NULL|\n",
      "|      PLAN_A|   VOICE_NAT|212634978656|7a5341d5-8a95-46f...|2025-05-01 05:03:25|   KENITRA_01|        4G|212634978656|212659465798|         528|        ready|        NULL|        NULL|        NULL|                NULL|          NULL|      11|      voice|minute|     flat|Appel vocal natio...|      0.01|         5|          NULL|      NULL|\n",
      "|      PLAN_A|  DATA_BASIC|212634978656|6321d9b8-8e7d-4dc...|2025-05-01 04:47:33|     RABAT_01|        3G|        NULL|        NULL|        NULL|        ready|        NULL|        NULL|212634978656|                 588|       1148.28|      10|       data|    MB|     flat|Session Data basi...|      0.02|        20|          NULL|      NULL|\n",
      "|      PLAN_C|   VOICE_INT|212685306662|0818e6e0-fd83-4fc...|2025-05-01 03:12:55| MARRAKECH_01|        4G|212685306662|393268949979|         490|        ready|        NULL|        NULL|        NULL|                NULL|          NULL|       4|      voice|minute|     flat|Appel vocal inter...|     0.018|         0|          NULL|      NULL|\n",
      "|      PLAN_A|   VOICE_NAT|212790314462|73ab59cf-daa0-499...|2025-05-01 03:57:03|      inconnu|        4G|212790314462|212612667606|         256|        ready|        NULL|        NULL|        NULL|                NULL|          NULL|       6|      voice|minute|     flat|Appel vocal natio...|      0.01|         5|          NULL|      NULL|\n",
      "|      PLAN_A|   VOICE_NAT|212616101180|d9775f0d-65d4-42c...|2025-05-01 04:16:12|CASABLANCA_03|        3G|212616101180|212621419079|         457|        ready|        NULL|        NULL|        NULL|                NULL|          NULL|       8|      voice|minute|     flat|Appel vocal natio...|      0.01|         5|          NULL|      NULL|\n",
      "|      PLAN_A|  DATA_BASIC|212712383843|838c8e9a-63d1-4f8...|2025-05-01 04:49:29|      SAFI_01|        3G|        NULL|        NULL|        NULL|        ready|        NULL|        NULL|212712383843|                 155|        464.25|      10|       data|    MB|     flat|Session Data basi...|      0.02|        20|          NULL|      NULL|\n",
      "|      PLAN_A|   VOICE_NAT|212696076381|1b60005a-8cac-4c7...|2025-05-01 05:14:29|       FES_02|        4G|212696076381|212659663360|         377|        ready|        NULL|        NULL|        NULL|                NULL|          NULL|      12|      voice|minute|     flat|Appel vocal natio...|      0.01|         5|          NULL|      NULL|\n",
      "+------------+------------+------------+--------------------+-------------------+-------------+----------+------------+------------+------------+-------------+------------+------------+------------+--------------------+--------------+--------+-----------+------+---------+--------------------+----------+----------+--------------+----------+\n",
      "only showing top 20 rows\n",
      "\n"
     ]
    }
   ],
   "source": [
    "cdrs3=cdrs3.drop(\"service_type\")\n",
    "cdrs3.show()"
   ]
  },
  {
   "cell_type": "code",
   "execution_count": 12,
   "id": "a1b07d59",
   "metadata": {
    "execution": {
     "iopub.execute_input": "2025-06-11T18:06:44.569546Z",
     "iopub.status.busy": "2025-06-11T18:06:44.569546Z",
     "iopub.status.idle": "2025-06-11T18:06:44.692118Z",
     "shell.execute_reply": "2025-06-11T18:06:44.691614Z"
    },
    "papermill": {
     "duration": 0.13258,
     "end_time": "2025-06-11T18:06:44.694130",
     "exception": false,
     "start_time": "2025-06-11T18:06:44.561550",
     "status": "completed"
    },
    "tags": []
   },
   "outputs": [],
   "source": [
    "from pyspark.sql.functions import col, min as spark_min\n",
    "\n",
    "agg = (cdrs3\n",
    "       .filter(col(\"record_type\") == \"data\")\n",
    "       .groupBy(\"customer_id\")\n",
    "       .agg(\n",
    "           spark_min(\"data_volume_mb\")\n",
    "           .alias(\"user_min_mb\")\n",
    "       )\n",
    ")\n",
    "\n",
    "cdrs4 = cdrs3.join(agg, on=\"customer_id\", how=\"left\")"
   ]
  },
  {
   "cell_type": "code",
   "execution_count": 13,
   "id": "31aa9336",
   "metadata": {
    "execution": {
     "iopub.execute_input": "2025-06-11T18:06:44.710126Z",
     "iopub.status.busy": "2025-06-11T18:06:44.709125Z",
     "iopub.status.idle": "2025-06-11T18:06:47.217860Z",
     "shell.execute_reply": "2025-06-11T18:06:47.216845Z"
    },
    "papermill": {
     "duration": 2.51873,
     "end_time": "2025-06-11T18:06:47.219858",
     "exception": false,
     "start_time": "2025-06-11T18:06:44.701128",
     "status": "completed"
    },
    "tags": []
   },
   "outputs": [
    {
     "name": "stdout",
     "output_type": "stream",
     "text": [
      "+------------+------------+------------+--------------------+-------------------+-------------+----------+------------+------------+------------+-------------+------------+------------+------------+--------------------+--------------+--------+-----------+------+---------+--------------------+----------+----------+--------------+----------+-----------+\n",
      "| customer_id|rate_plan_id|product_code|           record_ID|          timestamp|      cell_id|technology|   caller_id|   callee_id|duration_sec|rating_status|   sender_id| receiver_id|     user_id|session_duration_sec|data_volume_mb|batch_id|record_type|  unit|rate_type|         description|unit_price|free_units|tier_threshold|tier_price|user_min_mb|\n",
      "+------------+------------+------------+--------------------+-------------------+-------------+----------+------------+------------+------------+-------------+------------+------------+------------+--------------------+--------------+--------+-----------+------+---------+--------------------+----------+----------+--------------+----------+-----------+\n",
      "|212658902556|      PLAN_B|     SMS_NAT|b39ab5e2-c9d4-415...|2025-05-01 02:48:53|      inconnu|        4G|        NULL|        NULL|        NULL|        ready|212658902556|212716778643|        NULL|                NULL|          NULL|       2|        sms| event|     flat|Envoi SMS standar...|     0.035|         3|          NULL|      NULL|       NULL|\n",
      "|212712383843|      PLAN_A|  DATA_BASIC|838c8e9a-63d1-4f8...|2025-05-01 04:49:29|      SAFI_01|        3G|        NULL|        NULL|        NULL|        ready|        NULL|        NULL|212712383843|                 155|        464.25|      10|       data|    MB|     flat|Session Data basi...|      0.02|        20|          NULL|      NULL|     464.25|\n",
      "|212735845552|      PLAN_B|  DATA_BASIC|3a349e2c-3a40-43a...|2025-05-01 02:32:27|      TAZA_01|        4G|        NULL|        NULL|        NULL| needs_review|        NULL|        NULL|212735845552|             inconnu|       1116.14|       2|       data|    MB|     flat|Session Data basi...|     0.022|        25|          NULL|      NULL|    1116.14|\n",
      "|212790314462|      PLAN_A|   VOICE_NAT|73ab59cf-daa0-499...|2025-05-01 03:57:03|      inconnu|        4G|212790314462|212612667606|         256|        ready|        NULL|        NULL|        NULL|                NULL|          NULL|       6|      voice|minute|     flat|Appel vocal natio...|      0.01|         5|          NULL|      NULL|       NULL|\n",
      "|212636497051|      PLAN_A|  DATA_BASIC|ef85aac2-c135-414...|2025-05-01 04:24:34|      inconnu|        4G|        NULL|        NULL|        NULL|        ready|        NULL|        NULL|212636497051|                 512|       1157.54|       8|       data|    MB|     flat|Session Data basi...|      0.02|        20|          NULL|      NULL|    1157.54|\n",
      "|212686591771|      PLAN_A|  DATA_BASIC|fb5e62f1-9d19-43b...|2025-05-01 04:46:38|      inconnu|        4G|        NULL|        NULL|        NULL|        ready|        NULL|        NULL|212686591771|                  92|        401.91|      10|       data|    MB|     flat|Session Data basi...|      0.02|        20|          NULL|      NULL|     401.91|\n",
      "|212650382600|      PLAN_C|     SMS_NAT|a300ccda-8202-4af...|2025-05-01 03:39:26|      inconnu|        5G|        NULL|        NULL|        NULL|        ready|212650382600|212723197120|        NULL|                NULL|          NULL|       5|        sms| event|     flat|Envoi SMS standar...|     0.035|         2|          NULL|      NULL|       NULL|\n",
      "|212616101180|      PLAN_A|   VOICE_NAT|d9775f0d-65d4-42c...|2025-05-01 04:16:12|CASABLANCA_03|        3G|212616101180|212621419079|         457|        ready|        NULL|        NULL|        NULL|                NULL|          NULL|       8|      voice|minute|     flat|Appel vocal natio...|      0.01|         5|          NULL|      NULL|       NULL|\n",
      "|212696076381|      PLAN_A|   VOICE_NAT|1b60005a-8cac-4c7...|2025-05-01 05:14:29|       FES_02|        4G|212696076381|212659663360|         377|        ready|        NULL|        NULL|        NULL|                NULL|          NULL|      12|      voice|minute|     flat|Appel vocal natio...|      0.01|         5|          NULL|      NULL|       NULL|\n",
      "|212799474898|      PLAN_C|   VOICE_NAT|2593391c-6183-487...|2025-05-01 02:36:20|  ELJADIDA_01|        3G|212799474898|212661946686|         596|        ready|        NULL|        NULL|        NULL|                NULL|          NULL|       2|      voice|minute|     flat|Appel vocal natio...|     0.008|        10|          NULL|      NULL|       NULL|\n",
      "|212736499163|      PLAN_C|   VOICE_INT|a2ae3f33-0db1-499...|2025-05-01 03:46:27|      SAFI_01|        4G|212736499163|396425802862|         394|        ready|        NULL|        NULL|        NULL|                NULL|          NULL|       6|      voice|minute|     flat|Appel vocal inter...|     0.018|         0|          NULL|      NULL|       NULL|\n",
      "|212634978656|      PLAN_A|   VOICE_NAT|7a5341d5-8a95-46f...|2025-05-01 05:03:25|   KENITRA_01|        4G|212634978656|212659465798|         528|        ready|        NULL|        NULL|        NULL|                NULL|          NULL|      11|      voice|minute|     flat|Appel vocal natio...|      0.01|         5|          NULL|      NULL|    1148.28|\n",
      "|212634978656|      PLAN_A|  DATA_BASIC|6321d9b8-8e7d-4dc...|2025-05-01 04:47:33|     RABAT_01|        3G|        NULL|        NULL|        NULL|        ready|        NULL|        NULL|212634978656|                 588|       1148.28|      10|       data|    MB|     flat|Session Data basi...|      0.02|        20|          NULL|      NULL|    1148.28|\n",
      "|212613659930|      PLAN_B|DATA_PREMIUM|10cf5c63-ea79-488...|2025-05-01 04:07:35|     RABAT_03|        4G|        NULL|        NULL|        NULL|        ready|        NULL|        NULL|212613659930|                  95|       1605.47|       7|       data|    MB|   tiered|Session Data prem...|     0.018|        60|          1024|     0.055|    1605.47|\n",
      "|212612874249|      PLAN_B|   VOICE_NAT|48e1f725-311b-455...|2025-05-01 04:11:42|    MEKNES_02|        5G|212612874249|212700975213|         203|        ready|        NULL|        NULL|        NULL|                NULL|          NULL|       7|      voice|minute|     flat|Appel vocal natio...|     0.012|         6|          NULL|      NULL|       NULL|\n",
      "|212710564221|      PLAN_A|  DATA_BASIC|41d43787-c44b-40e...|2025-05-01 04:38:37|     RABAT_01|        4G|        NULL|        NULL|        NULL|        ready|        NULL|        NULL|212710564221|                 443|         830.2|       9|       data|    MB|     flat|Session Data basi...|      0.02|        20|          NULL|      NULL|      830.2|\n",
      "|212757941309|      PLAN_A|   VOICE_NAT|7eadd674-0434-421...|2025-05-01 03:03:34|    MEKNES_01|        5G|212757941309|212603262258|         337|        ready|        NULL|        NULL|        NULL|                NULL|          NULL|       3|      voice|minute|     flat|Appel vocal natio...|      0.01|         5|          NULL|      NULL|       NULL|\n",
      "|212606778169|      PLAN_C|  DATA_BASIC|80226256-b00e-474...|2025-05-01 04:44:31|CASABLANCA_04|        5G|        NULL|        NULL|        NULL| needs_review|        NULL|        NULL|212606778169|                 450|       inconnu|      10|       data|    MB|     flat|Session Data basi...|     0.018|        20|          NULL|      NULL|    inconnu|\n",
      "|212624960375|      PLAN_A|  DATA_BASIC|5e8dd48a-4591-4c9...|2025-05-01 02:23:57|    TANGER_01|        3G|        NULL|        NULL|        NULL|        ready|        NULL|        NULL|212624960375|                 215|        762.41|       2|       data|    MB|     flat|Session Data basi...|      0.02|        20|          NULL|      NULL|     762.41|\n",
      "|212685306662|      PLAN_C|   VOICE_INT|0818e6e0-fd83-4fc...|2025-05-01 03:12:55| MARRAKECH_01|        4G|212685306662|393268949979|         490|        ready|        NULL|        NULL|        NULL|                NULL|          NULL|       4|      voice|minute|     flat|Appel vocal inter...|     0.018|         0|          NULL|      NULL|       NULL|\n",
      "+------------+------------+------------+--------------------+-------------------+-------------+----------+------------+------------+------------+-------------+------------+------------+------------+--------------------+--------------+--------+-----------+------+---------+--------------------+----------+----------+--------------+----------+-----------+\n",
      "only showing top 20 rows\n",
      "\n"
     ]
    }
   ],
   "source": [
    "cdrs4.show()"
   ]
  },
  {
   "cell_type": "code",
   "execution_count": 14,
   "id": "95afade2",
   "metadata": {
    "execution": {
     "iopub.execute_input": "2025-06-11T18:06:47.235959Z",
     "iopub.status.busy": "2025-06-11T18:06:47.234950Z",
     "iopub.status.idle": "2025-06-11T18:06:47.259469Z",
     "shell.execute_reply": "2025-06-11T18:06:47.258961Z"
    },
    "papermill": {
     "duration": 0.034625,
     "end_time": "2025-06-11T18:06:47.261481",
     "exception": false,
     "start_time": "2025-06-11T18:06:47.226856",
     "status": "completed"
    },
    "tags": []
   },
   "outputs": [],
   "source": [
    "cdrs4 = cdrs4.withColumn(\n",
    "    \"data_volume_mb\",\n",
    "    when( (col(\"data_volume_mb\")==\"inconnu\"), col(\"user_min_mb\"))\n",
    "    .otherwise(col(\"data_volume_mb\"))\n",
    ")"
   ]
  },
  {
   "cell_type": "code",
   "execution_count": 15,
   "id": "1767020d",
   "metadata": {
    "execution": {
     "iopub.execute_input": "2025-06-11T18:06:47.275479Z",
     "iopub.status.busy": "2025-06-11T18:06:47.275479Z",
     "iopub.status.idle": "2025-06-11T18:06:47.305724Z",
     "shell.execute_reply": "2025-06-11T18:06:47.305724Z"
    },
    "papermill": {
     "duration": 0.039266,
     "end_time": "2025-06-11T18:06:47.307745",
     "exception": false,
     "start_time": "2025-06-11T18:06:47.268479",
     "status": "completed"
    },
    "tags": []
   },
   "outputs": [],
   "source": [
    "cdrs4 = cdrs4.withColumn(\n",
    "    \"data_volume_mb\",\n",
    "    when( ((col(\"user_min_mb\")==\"inconnu\") &(col(\"data_volume_mb\")==\"inconnu\")), lit(0)).otherwise(col(\"data_volume_mb\")))"
   ]
  },
  {
   "cell_type": "code",
   "execution_count": 16,
   "id": "0c150671",
   "metadata": {
    "execution": {
     "iopub.execute_input": "2025-06-11T18:06:47.340743Z",
     "iopub.status.busy": "2025-06-11T18:06:47.340743Z",
     "iopub.status.idle": "2025-06-11T18:06:47.371230Z",
     "shell.execute_reply": "2025-06-11T18:06:47.370723Z"
    },
    "papermill": {
     "duration": 0.060493,
     "end_time": "2025-06-11T18:06:47.373238",
     "exception": false,
     "start_time": "2025-06-11T18:06:47.312745",
     "status": "completed"
    },
    "tags": []
   },
   "outputs": [],
   "source": [
    "cdrs4 = cdrs4.withColumn(\n",
    "    \"rating_status\",\n",
    "    when((col(\"rating_status\")==\"needs_review\")&(col(\"data_volume_mb\")==\"inconnu\"), \"unmatched\").otherwise(col(\"rating_status\"))\n",
    ")"
   ]
  },
  {
   "cell_type": "code",
   "execution_count": 17,
   "id": "4e867c4a",
   "metadata": {
    "execution": {
     "iopub.execute_input": "2025-06-11T18:06:47.389239Z",
     "iopub.status.busy": "2025-06-11T18:06:47.389239Z",
     "iopub.status.idle": "2025-06-11T18:06:47.406706Z",
     "shell.execute_reply": "2025-06-11T18:06:47.406706Z"
    },
    "papermill": {
     "duration": 0.028506,
     "end_time": "2025-06-11T18:06:47.408747",
     "exception": false,
     "start_time": "2025-06-11T18:06:47.380241",
     "status": "completed"
    },
    "tags": []
   },
   "outputs": [],
   "source": [
    "cdrs4 = cdrs4.withColumn(\n",
    "    \"rating_status\",\n",
    "    when((col(\"rating_status\")==\"needs_review\"), \"ready\").otherwise(col(\"rating_status\"))\n",
    ")"
   ]
  },
  {
   "cell_type": "code",
   "execution_count": 18,
   "id": "ceac3ad1",
   "metadata": {
    "execution": {
     "iopub.execute_input": "2025-06-11T18:06:47.420728Z",
     "iopub.status.busy": "2025-06-11T18:06:47.419714Z",
     "iopub.status.idle": "2025-06-11T18:06:49.383050Z",
     "shell.execute_reply": "2025-06-11T18:06:49.382041Z"
    },
    "papermill": {
     "duration": 1.970338,
     "end_time": "2025-06-11T18:06:49.385051",
     "exception": false,
     "start_time": "2025-06-11T18:06:47.414713",
     "status": "completed"
    },
    "tags": []
   },
   "outputs": [
    {
     "name": "stdout",
     "output_type": "stream",
     "text": [
      "+------------+------------+------------+--------------------+-------------------+-------------+----------+------------+-------------+------------+-------------+------------+------------+------------+--------------------+--------------+--------+-----------+------+---------+--------------------+----------+----------+--------------+----------+-----------+\n",
      "| customer_id|rate_plan_id|product_code|           record_ID|          timestamp|      cell_id|technology|   caller_id|    callee_id|duration_sec|rating_status|   sender_id| receiver_id|     user_id|session_duration_sec|data_volume_mb|batch_id|record_type|  unit|rate_type|         description|unit_price|free_units|tier_threshold|tier_price|user_min_mb|\n",
      "+------------+------------+------------+--------------------+-------------------+-------------+----------+------------+-------------+------------+-------------+------------+------------+------------+--------------------+--------------+--------+-----------+------+---------+--------------------+----------+----------+--------------+----------+-----------+\n",
      "|212629151506|      PLAN_A|   VOICE_NAT|49d6cc2b-30a3-459...|2025-05-01 03:04:48|     RABAT_01|        4G|212629151506| 212615038706|         452|        ready|        NULL|        NULL|        NULL|                NULL|          NULL|       3|      voice|minute|     flat|Appel vocal natio...|      0.01|         5|          NULL|      NULL|       NULL|\n",
      "|212706798407|      PLAN_A|   VOICE_NAT|691b3d0c-56e7-485...|2025-05-01 04:29:02|      inconnu|        4G|212706798407| 212625950696|          61|        ready|        NULL|        NULL|        NULL|                NULL|          NULL|       9|      voice|minute|     flat|Appel vocal natio...|      0.01|         5|          NULL|      NULL|       NULL|\n",
      "|212688851505|      PLAN_A|  DATA_BASIC|c270b926-5d1d-463...|2025-05-01 05:06:02| ALHOCEIMA_01|        3G|        NULL|         NULL|        NULL|        ready|        NULL|        NULL|212688851505|                 189|       1977.95|      11|       data|    MB|     flat|Session Data basi...|      0.02|        20|          NULL|      NULL|    1977.95|\n",
      "|212714097600|      PLAN_A|   VOICE_NAT|9c108463-2a61-40b...|2025-05-01 05:27:08| KHOURIBGA_01|        4G|212714097600| 212637260233|          46|        ready|        NULL|        NULL|        NULL|                NULL|          NULL|      13|      voice|minute|     flat|Appel vocal natio...|      0.01|         5|          NULL|      NULL|       NULL|\n",
      "|212658902556|      PLAN_B|     SMS_NAT|b39ab5e2-c9d4-415...|2025-05-01 02:48:53|      inconnu|        4G|        NULL|         NULL|        NULL|        ready|212658902556|212716778643|        NULL|                NULL|          NULL|       2|        sms| event|     flat|Envoi SMS standar...|     0.035|         3|          NULL|      NULL|       NULL|\n",
      "|212753909165|      PLAN_B|   VOICE_NAT|937316f8-3316-44c...|2025-05-01 03:11:56|      inconnu|        4G|212753909165| 212640426499|         485|        ready|        NULL|        NULL|        NULL|                NULL|          NULL|       4|      voice|minute|     flat|Appel vocal natio...|     0.012|         6|          NULL|      NULL|       NULL|\n",
      "|212712383843|      PLAN_A|  DATA_BASIC|838c8e9a-63d1-4f8...|2025-05-01 04:49:29|      SAFI_01|        3G|        NULL|         NULL|        NULL|        ready|        NULL|        NULL|212712383843|                 155|        464.25|      10|       data|    MB|     flat|Session Data basi...|      0.02|        20|          NULL|      NULL|     464.25|\n",
      "|212614243631|      PLAN_B|   VOICE_INT|1fdf2e00-c909-4e4...|2025-05-01 02:21:25|    TANGER_01|        5G|212614243631|  33320346357|         331|        ready|        NULL|        NULL|        NULL|                NULL|          NULL|       2|      voice|minute|     flat|Appel vocal inter...|     0.025|         0|          NULL|      NULL|       NULL|\n",
      "|212640267476|      PLAN_B|   VOICE_NAT|25fab6c5-4bb9-4b4...|2025-05-01 04:50:57|    TANGER_03|        4G|212640267476| 212600740957|         235|        ready|        NULL|        NULL|        NULL|                NULL|          NULL|      10|      voice|minute|     flat|Appel vocal natio...|     0.012|         6|          NULL|      NULL|       NULL|\n",
      "|212659716497|      PLAN_C|  DATA_BASIC|93076688-bf85-44b...|2025-05-01 04:18:12|CASABLANCA_01|        4G|        NULL|         NULL|        NULL|        ready|        NULL|        NULL|212659716497|                 430|        730.72|       8|       data|    MB|     flat|Session Data basi...|     0.018|        20|          NULL|      NULL|     730.72|\n",
      "|212716087842|      PLAN_B|  DATA_BASIC|472c443f-d8db-473...|2025-05-01 04:57:43|      inconnu|        4G|        NULL|         NULL|        NULL|        ready|        NULL|        NULL|212716087842|                 141|         258.3|      11|       data|    MB|     flat|Session Data basi...|     0.022|        25|          NULL|      NULL|      258.3|\n",
      "|212760894747|      PLAN_A|   VOICE_INT|2105c584-fd3e-45b...|2025-05-01 03:08:24|   KENITRA_01|        3G|212760894747|4966174469299|         466|        ready|        NULL|        NULL|        NULL|                NULL|          NULL|       4|      voice|minute|     flat|Appel vocal inter...|      0.02|         0|          NULL|      NULL|       NULL|\n",
      "|212783224019|      PLAN_C|  DATA_BASIC|a25bfddf-82e8-4b7...|2025-05-01 02:53:54|    TANGER_02|        3G|        NULL|         NULL|        NULL|        ready|        NULL|        NULL|212783224019|                 239|        827.85|       3|       data|    MB|     flat|Session Data basi...|     0.018|        20|          NULL|      NULL|     827.85|\n",
      "|212783224019|      PLAN_C|   VOICE_INT|0030bae0-840b-44c...|2025-05-01 03:06:46|    DAKHLA_01|        4G|212783224019|  16328227549|         576|        ready|        NULL|        NULL|        NULL|                NULL|          NULL|       3|      voice|minute|     flat|Appel vocal inter...|     0.018|         0|          NULL|      NULL|     827.85|\n",
      "|212635759633|      PLAN_C|   VOICE_NAT|f12db773-3665-487...|2025-05-01 02:39:48|    DAKHLA_01|        3G|212635759633| 212708379486|         333|        ready|        NULL|        NULL|        NULL|                NULL|          NULL|       2|      voice|minute|     flat|Appel vocal natio...|     0.008|        10|          NULL|      NULL|       NULL|\n",
      "|212778988689|      PLAN_B|  DATA_BASIC|1ef5f5c7-a28b-4f0...|2025-05-01 04:33:40|    MEKNES_01|        5G|        NULL|         NULL|        NULL|        ready|        NULL|        NULL|212778988689|                 548|        602.77|       9|       data|    MB|     flat|Session Data basi...|     0.022|        25|          NULL|      NULL|     602.77|\n",
      "|212784273480|      PLAN_B|   VOICE_NAT|c2dcb47a-b968-495...|2025-05-01 05:15:40|CASABLANCA_02|        4G|212784273480| 212663412235|         229|        ready|        NULL|        NULL|        NULL|                NULL|          NULL|      12|      voice|minute|     flat|Appel vocal natio...|     0.012|         6|          NULL|      NULL|       NULL|\n",
      "|212763496422|      PLAN_B|  DATA_BASIC|327ea341-6324-434...|2025-05-01 02:19:53|      inconnu|        3G|        NULL|         NULL|        NULL|        ready|        NULL|        NULL|212763496422|                 317|       1188.27|       1|       data|    MB|     flat|Session Data basi...|     0.022|        25|          NULL|      NULL|    1188.27|\n",
      "|212605581945|      PLAN_A|     SMS_NAT|e57bb030-e302-4fc...|2025-05-01 02:33:19|CASABLANCA_01|        4G|        NULL|         NULL|        NULL|        ready|212605581945|212648468353|        NULL|                NULL|          NULL|       2|        sms| event|     flat|Envoi SMS standar...|      0.04|         5|          NULL|      NULL|       NULL|\n",
      "|212605581945|      PLAN_A|   VOICE_NAT|5b2d759d-8092-426...|2025-05-01 03:38:10|   KENITRA_01|        4G|212605581945| 212682663662|         387|        ready|        NULL|        NULL|        NULL|                NULL|          NULL|       5|      voice|minute|     flat|Appel vocal natio...|      0.01|         5|          NULL|      NULL|       NULL|\n",
      "+------------+------------+------------+--------------------+-------------------+-------------+----------+------------+-------------+------------+-------------+------------+------------+------------+--------------------+--------------+--------+-----------+------+---------+--------------------+----------+----------+--------------+----------+-----------+\n",
      "only showing top 20 rows\n",
      "\n"
     ]
    }
   ],
   "source": [
    "cdrsss=cdrs4.filter(cdrs4.rating_status == \"ready\")\n",
    "cdrsss.show()"
   ]
  },
  {
   "cell_type": "code",
   "execution_count": 19,
   "id": "94a9c421",
   "metadata": {
    "execution": {
     "iopub.execute_input": "2025-06-11T18:06:49.403381Z",
     "iopub.status.busy": "2025-06-11T18:06:49.402381Z",
     "iopub.status.idle": "2025-06-11T18:06:50.842323Z",
     "shell.execute_reply": "2025-06-11T18:06:50.842323Z"
    },
    "papermill": {
     "duration": 1.452283,
     "end_time": "2025-06-11T18:06:50.845335",
     "exception": false,
     "start_time": "2025-06-11T18:06:49.393052",
     "status": "completed"
    },
    "tags": []
   },
   "outputs": [
    {
     "name": "stdout",
     "output_type": "stream",
     "text": [
      "+------------+------------+------------+--------------------+-------------------+-------------+----------+------------+-------------+------------+-------------+------------+------------+------------+--------------------+--------------+--------+-----------+------+---------+--------------------+----------+----------+--------------+----------+-----------+\n",
      "| customer_id|rate_plan_id|product_code|           record_ID|          timestamp|      cell_id|technology|   caller_id|    callee_id|duration_sec|rating_status|   sender_id| receiver_id|     user_id|session_duration_sec|data_volume_mb|batch_id|record_type|  unit|rate_type|         description|unit_price|free_units|tier_threshold|tier_price|user_min_mb|\n",
      "+------------+------------+------------+--------------------+-------------------+-------------+----------+------------+-------------+------------+-------------+------------+------------+------------+--------------------+--------------+--------+-----------+------+---------+--------------------+----------+----------+--------------+----------+-----------+\n",
      "|212629151506|      PLAN_A|   VOICE_NAT|49d6cc2b-30a3-459...|2025-05-01 03:04:48|     RABAT_01|        4G|212629151506| 212615038706|         452|        ready|        NULL|        NULL|        NULL|                NULL|          NULL|       3|      voice|minute|     flat|Appel vocal natio...|      0.01|         5|          NULL|      NULL|       NULL|\n",
      "|212706798407|      PLAN_A|   VOICE_NAT|691b3d0c-56e7-485...|2025-05-01 04:29:02|      inconnu|        4G|212706798407| 212625950696|          61|        ready|        NULL|        NULL|        NULL|                NULL|          NULL|       9|      voice|minute|     flat|Appel vocal natio...|      0.01|         5|          NULL|      NULL|       NULL|\n",
      "|212688851505|      PLAN_A|  DATA_BASIC|c270b926-5d1d-463...|2025-05-01 05:06:02| ALHOCEIMA_01|        3G|        NULL|         NULL|        NULL|        ready|        NULL|        NULL|212688851505|                 189|       1977.95|      11|       data|    MB|     flat|Session Data basi...|      0.02|        20|          NULL|      NULL|    1977.95|\n",
      "|212714097600|      PLAN_A|   VOICE_NAT|9c108463-2a61-40b...|2025-05-01 05:27:08| KHOURIBGA_01|        4G|212714097600| 212637260233|          46|        ready|        NULL|        NULL|        NULL|                NULL|          NULL|      13|      voice|minute|     flat|Appel vocal natio...|      0.01|         5|          NULL|      NULL|       NULL|\n",
      "|212658902556|      PLAN_B|     SMS_NAT|b39ab5e2-c9d4-415...|2025-05-01 02:48:53|      inconnu|        4G|        NULL|         NULL|        NULL|        ready|212658902556|212716778643|        NULL|                NULL|          NULL|       2|        sms| event|     flat|Envoi SMS standar...|     0.035|         3|          NULL|      NULL|       NULL|\n",
      "|212753909165|      PLAN_B|   VOICE_NAT|937316f8-3316-44c...|2025-05-01 03:11:56|      inconnu|        4G|212753909165| 212640426499|         485|        ready|        NULL|        NULL|        NULL|                NULL|          NULL|       4|      voice|minute|     flat|Appel vocal natio...|     0.012|         6|          NULL|      NULL|       NULL|\n",
      "|212712383843|      PLAN_A|  DATA_BASIC|838c8e9a-63d1-4f8...|2025-05-01 04:49:29|      SAFI_01|        3G|        NULL|         NULL|        NULL|        ready|        NULL|        NULL|212712383843|                 155|        464.25|      10|       data|    MB|     flat|Session Data basi...|      0.02|        20|          NULL|      NULL|     464.25|\n",
      "|212614243631|      PLAN_B|   VOICE_INT|1fdf2e00-c909-4e4...|2025-05-01 02:21:25|    TANGER_01|        5G|212614243631|  33320346357|         331|        ready|        NULL|        NULL|        NULL|                NULL|          NULL|       2|      voice|minute|     flat|Appel vocal inter...|     0.025|         0|          NULL|      NULL|       NULL|\n",
      "|212640267476|      PLAN_B|   VOICE_NAT|25fab6c5-4bb9-4b4...|2025-05-01 04:50:57|    TANGER_03|        4G|212640267476| 212600740957|         235|        ready|        NULL|        NULL|        NULL|                NULL|          NULL|      10|      voice|minute|     flat|Appel vocal natio...|     0.012|         6|          NULL|      NULL|       NULL|\n",
      "|212659716497|      PLAN_C|  DATA_BASIC|93076688-bf85-44b...|2025-05-01 04:18:12|CASABLANCA_01|        4G|        NULL|         NULL|        NULL|        ready|        NULL|        NULL|212659716497|                 430|        730.72|       8|       data|    MB|     flat|Session Data basi...|     0.018|        20|          NULL|      NULL|     730.72|\n",
      "|212716087842|      PLAN_B|  DATA_BASIC|472c443f-d8db-473...|2025-05-01 04:57:43|      inconnu|        4G|        NULL|         NULL|        NULL|        ready|        NULL|        NULL|212716087842|                 141|         258.3|      11|       data|    MB|     flat|Session Data basi...|     0.022|        25|          NULL|      NULL|      258.3|\n",
      "|212760894747|      PLAN_A|   VOICE_INT|2105c584-fd3e-45b...|2025-05-01 03:08:24|   KENITRA_01|        3G|212760894747|4966174469299|         466|        ready|        NULL|        NULL|        NULL|                NULL|          NULL|       4|      voice|minute|     flat|Appel vocal inter...|      0.02|         0|          NULL|      NULL|       NULL|\n",
      "|212783224019|      PLAN_C|  DATA_BASIC|a25bfddf-82e8-4b7...|2025-05-01 02:53:54|    TANGER_02|        3G|        NULL|         NULL|        NULL|        ready|        NULL|        NULL|212783224019|                 239|        827.85|       3|       data|    MB|     flat|Session Data basi...|     0.018|        20|          NULL|      NULL|     827.85|\n",
      "|212783224019|      PLAN_C|   VOICE_INT|0030bae0-840b-44c...|2025-05-01 03:06:46|    DAKHLA_01|        4G|212783224019|  16328227549|         576|        ready|        NULL|        NULL|        NULL|                NULL|          NULL|       3|      voice|minute|     flat|Appel vocal inter...|     0.018|         0|          NULL|      NULL|     827.85|\n",
      "|212635759633|      PLAN_C|   VOICE_NAT|f12db773-3665-487...|2025-05-01 02:39:48|    DAKHLA_01|        3G|212635759633| 212708379486|         333|        ready|        NULL|        NULL|        NULL|                NULL|          NULL|       2|      voice|minute|     flat|Appel vocal natio...|     0.008|        10|          NULL|      NULL|       NULL|\n",
      "|212778988689|      PLAN_B|  DATA_BASIC|1ef5f5c7-a28b-4f0...|2025-05-01 04:33:40|    MEKNES_01|        5G|        NULL|         NULL|        NULL|        ready|        NULL|        NULL|212778988689|                 548|        602.77|       9|       data|    MB|     flat|Session Data basi...|     0.022|        25|          NULL|      NULL|     602.77|\n",
      "|212784273480|      PLAN_B|   VOICE_NAT|c2dcb47a-b968-495...|2025-05-01 05:15:40|CASABLANCA_02|        4G|212784273480| 212663412235|         229|        ready|        NULL|        NULL|        NULL|                NULL|          NULL|      12|      voice|minute|     flat|Appel vocal natio...|     0.012|         6|          NULL|      NULL|       NULL|\n",
      "|212763496422|      PLAN_B|  DATA_BASIC|327ea341-6324-434...|2025-05-01 02:19:53|      inconnu|        3G|        NULL|         NULL|        NULL|        ready|        NULL|        NULL|212763496422|                 317|       1188.27|       1|       data|    MB|     flat|Session Data basi...|     0.022|        25|          NULL|      NULL|    1188.27|\n",
      "|212605581945|      PLAN_A|     SMS_NAT|e57bb030-e302-4fc...|2025-05-01 02:33:19|CASABLANCA_01|        4G|        NULL|         NULL|        NULL|        ready|212605581945|212648468353|        NULL|                NULL|          NULL|       2|        sms| event|     flat|Envoi SMS standar...|      0.04|         5|          NULL|      NULL|       NULL|\n",
      "|212605581945|      PLAN_A|   VOICE_NAT|5b2d759d-8092-426...|2025-05-01 03:38:10|   KENITRA_01|        4G|212605581945| 212682663662|         387|        ready|        NULL|        NULL|        NULL|                NULL|          NULL|       5|      voice|minute|     flat|Appel vocal natio...|      0.01|         5|          NULL|      NULL|       NULL|\n",
      "+------------+------------+------------+--------------------+-------------------+-------------+----------+------------+-------------+------------+-------------+------------+------------+------------+--------------------+--------------+--------+-----------+------+---------+--------------------+----------+----------+--------------+----------+-----------+\n",
      "only showing top 20 rows\n",
      "\n"
     ]
    }
   ],
   "source": [
    "cdrs4.show()"
   ]
  },
  {
   "cell_type": "code",
   "execution_count": 20,
   "id": "f90936d6",
   "metadata": {
    "execution": {
     "iopub.execute_input": "2025-06-11T18:06:50.861336Z",
     "iopub.status.busy": "2025-06-11T18:06:50.860333Z",
     "iopub.status.idle": "2025-06-11T18:06:50.891840Z",
     "shell.execute_reply": "2025-06-11T18:06:50.891334Z"
    },
    "papermill": {
     "duration": 0.041516,
     "end_time": "2025-06-11T18:06:50.893849",
     "exception": false,
     "start_time": "2025-06-11T18:06:50.852333",
     "status": "completed"
    },
    "tags": []
   },
   "outputs": [],
   "source": [
    "cdrs4 = cdrs4.withColumn(\n",
    "    \"session_duration_sec\",\n",
    "    when((col(\"session_duration_sec\").isNull() | (col(\"session_duration_sec\") < 0))&(col(\"record_type\")==\"data\"), lit(0))\n",
    "    .otherwise(col(\"session_duration_sec\"))\n",
    ")"
   ]
  },
  {
   "cell_type": "code",
   "execution_count": 21,
   "id": "bb662ace",
   "metadata": {
    "execution": {
     "iopub.execute_input": "2025-06-11T18:06:50.907857Z",
     "iopub.status.busy": "2025-06-11T18:06:50.907857Z",
     "iopub.status.idle": "2025-06-11T18:06:50.984223Z",
     "shell.execute_reply": "2025-06-11T18:06:50.984223Z"
    },
    "papermill": {
     "duration": 0.085386,
     "end_time": "2025-06-11T18:06:50.986233",
     "exception": false,
     "start_time": "2025-06-11T18:06:50.900847",
     "status": "completed"
    },
    "tags": []
   },
   "outputs": [],
   "source": [
    "cdrs4 = cdrs4.withColumn(\n",
    "    \"billable_units\",\n",
    "    when(col(\"record_type\") == \"voice\",\n",
    "         ceil(col(\"duration_sec\") / 60))       \n",
    "    .when(col(\"record_type\") == \"sms\",\n",
    "         lit(1))\n",
    "    .otherwise(                               # data\n",
    "         col(\"data_volume_mb\"))\n",
    ")\n"
   ]
  },
  {
   "cell_type": "code",
   "execution_count": 22,
   "id": "26f0b329",
   "metadata": {
    "execution": {
     "iopub.execute_input": "2025-06-11T18:06:51.000498Z",
     "iopub.status.busy": "2025-06-11T18:06:50.999487Z",
     "iopub.status.idle": "2025-06-11T18:06:52.592261Z",
     "shell.execute_reply": "2025-06-11T18:06:52.591248Z"
    },
    "papermill": {
     "duration": 1.601026,
     "end_time": "2025-06-11T18:06:52.594259",
     "exception": false,
     "start_time": "2025-06-11T18:06:50.993233",
     "status": "completed"
    },
    "tags": []
   },
   "outputs": [
    {
     "name": "stdout",
     "output_type": "stream",
     "text": [
      "+------------+------------+------------+--------------------+-------------------+-------------+----------+------------+-------------+------------+-------------+------------+------------+------------+--------------------+--------------+--------+-----------+------+---------+--------------------+----------+----------+--------------+----------+-----------+--------------+\n",
      "| customer_id|rate_plan_id|product_code|           record_ID|          timestamp|      cell_id|technology|   caller_id|    callee_id|duration_sec|rating_status|   sender_id| receiver_id|     user_id|session_duration_sec|data_volume_mb|batch_id|record_type|  unit|rate_type|         description|unit_price|free_units|tier_threshold|tier_price|user_min_mb|billable_units|\n",
      "+------------+------------+------------+--------------------+-------------------+-------------+----------+------------+-------------+------------+-------------+------------+------------+------------+--------------------+--------------+--------+-----------+------+---------+--------------------+----------+----------+--------------+----------+-----------+--------------+\n",
      "|212629151506|      PLAN_A|   VOICE_NAT|49d6cc2b-30a3-459...|2025-05-01 03:04:48|     RABAT_01|        4G|212629151506| 212615038706|         452|        ready|        NULL|        NULL|        NULL|                NULL|          NULL|       3|      voice|minute|     flat|Appel vocal natio...|      0.01|         5|          NULL|      NULL|       NULL|             8|\n",
      "|212706798407|      PLAN_A|   VOICE_NAT|691b3d0c-56e7-485...|2025-05-01 04:29:02|      inconnu|        4G|212706798407| 212625950696|          61|        ready|        NULL|        NULL|        NULL|                NULL|          NULL|       9|      voice|minute|     flat|Appel vocal natio...|      0.01|         5|          NULL|      NULL|       NULL|             2|\n",
      "|212688851505|      PLAN_A|  DATA_BASIC|c270b926-5d1d-463...|2025-05-01 05:06:02| ALHOCEIMA_01|        3G|        NULL|         NULL|        NULL|        ready|        NULL|        NULL|212688851505|                 189|       1977.95|      11|       data|    MB|     flat|Session Data basi...|      0.02|        20|          NULL|      NULL|    1977.95|       1977.95|\n",
      "|212714097600|      PLAN_A|   VOICE_NAT|9c108463-2a61-40b...|2025-05-01 05:27:08| KHOURIBGA_01|        4G|212714097600| 212637260233|          46|        ready|        NULL|        NULL|        NULL|                NULL|          NULL|      13|      voice|minute|     flat|Appel vocal natio...|      0.01|         5|          NULL|      NULL|       NULL|             1|\n",
      "|212658902556|      PLAN_B|     SMS_NAT|b39ab5e2-c9d4-415...|2025-05-01 02:48:53|      inconnu|        4G|        NULL|         NULL|        NULL|        ready|212658902556|212716778643|        NULL|                NULL|          NULL|       2|        sms| event|     flat|Envoi SMS standar...|     0.035|         3|          NULL|      NULL|       NULL|             1|\n",
      "|212753909165|      PLAN_B|   VOICE_NAT|937316f8-3316-44c...|2025-05-01 03:11:56|      inconnu|        4G|212753909165| 212640426499|         485|        ready|        NULL|        NULL|        NULL|                NULL|          NULL|       4|      voice|minute|     flat|Appel vocal natio...|     0.012|         6|          NULL|      NULL|       NULL|             9|\n",
      "|212712383843|      PLAN_A|  DATA_BASIC|838c8e9a-63d1-4f8...|2025-05-01 04:49:29|      SAFI_01|        3G|        NULL|         NULL|        NULL|        ready|        NULL|        NULL|212712383843|                 155|        464.25|      10|       data|    MB|     flat|Session Data basi...|      0.02|        20|          NULL|      NULL|     464.25|        464.25|\n",
      "|212614243631|      PLAN_B|   VOICE_INT|1fdf2e00-c909-4e4...|2025-05-01 02:21:25|    TANGER_01|        5G|212614243631|  33320346357|         331|        ready|        NULL|        NULL|        NULL|                NULL|          NULL|       2|      voice|minute|     flat|Appel vocal inter...|     0.025|         0|          NULL|      NULL|       NULL|             6|\n",
      "|212640267476|      PLAN_B|   VOICE_NAT|25fab6c5-4bb9-4b4...|2025-05-01 04:50:57|    TANGER_03|        4G|212640267476| 212600740957|         235|        ready|        NULL|        NULL|        NULL|                NULL|          NULL|      10|      voice|minute|     flat|Appel vocal natio...|     0.012|         6|          NULL|      NULL|       NULL|             4|\n",
      "|212659716497|      PLAN_C|  DATA_BASIC|93076688-bf85-44b...|2025-05-01 04:18:12|CASABLANCA_01|        4G|        NULL|         NULL|        NULL|        ready|        NULL|        NULL|212659716497|                 430|        730.72|       8|       data|    MB|     flat|Session Data basi...|     0.018|        20|          NULL|      NULL|     730.72|        730.72|\n",
      "|212716087842|      PLAN_B|  DATA_BASIC|472c443f-d8db-473...|2025-05-01 04:57:43|      inconnu|        4G|        NULL|         NULL|        NULL|        ready|        NULL|        NULL|212716087842|                 141|         258.3|      11|       data|    MB|     flat|Session Data basi...|     0.022|        25|          NULL|      NULL|      258.3|         258.3|\n",
      "|212760894747|      PLAN_A|   VOICE_INT|2105c584-fd3e-45b...|2025-05-01 03:08:24|   KENITRA_01|        3G|212760894747|4966174469299|         466|        ready|        NULL|        NULL|        NULL|                NULL|          NULL|       4|      voice|minute|     flat|Appel vocal inter...|      0.02|         0|          NULL|      NULL|       NULL|             8|\n",
      "|212783224019|      PLAN_C|  DATA_BASIC|a25bfddf-82e8-4b7...|2025-05-01 02:53:54|    TANGER_02|        3G|        NULL|         NULL|        NULL|        ready|        NULL|        NULL|212783224019|                 239|        827.85|       3|       data|    MB|     flat|Session Data basi...|     0.018|        20|          NULL|      NULL|     827.85|        827.85|\n",
      "|212783224019|      PLAN_C|   VOICE_INT|0030bae0-840b-44c...|2025-05-01 03:06:46|    DAKHLA_01|        4G|212783224019|  16328227549|         576|        ready|        NULL|        NULL|        NULL|                NULL|          NULL|       3|      voice|minute|     flat|Appel vocal inter...|     0.018|         0|          NULL|      NULL|     827.85|            10|\n",
      "|212635759633|      PLAN_C|   VOICE_NAT|f12db773-3665-487...|2025-05-01 02:39:48|    DAKHLA_01|        3G|212635759633| 212708379486|         333|        ready|        NULL|        NULL|        NULL|                NULL|          NULL|       2|      voice|minute|     flat|Appel vocal natio...|     0.008|        10|          NULL|      NULL|       NULL|             6|\n",
      "|212778988689|      PLAN_B|  DATA_BASIC|1ef5f5c7-a28b-4f0...|2025-05-01 04:33:40|    MEKNES_01|        5G|        NULL|         NULL|        NULL|        ready|        NULL|        NULL|212778988689|                 548|        602.77|       9|       data|    MB|     flat|Session Data basi...|     0.022|        25|          NULL|      NULL|     602.77|        602.77|\n",
      "|212784273480|      PLAN_B|   VOICE_NAT|c2dcb47a-b968-495...|2025-05-01 05:15:40|CASABLANCA_02|        4G|212784273480| 212663412235|         229|        ready|        NULL|        NULL|        NULL|                NULL|          NULL|      12|      voice|minute|     flat|Appel vocal natio...|     0.012|         6|          NULL|      NULL|       NULL|             4|\n",
      "|212763496422|      PLAN_B|  DATA_BASIC|327ea341-6324-434...|2025-05-01 02:19:53|      inconnu|        3G|        NULL|         NULL|        NULL|        ready|        NULL|        NULL|212763496422|                 317|       1188.27|       1|       data|    MB|     flat|Session Data basi...|     0.022|        25|          NULL|      NULL|    1188.27|       1188.27|\n",
      "|212605581945|      PLAN_A|     SMS_NAT|e57bb030-e302-4fc...|2025-05-01 02:33:19|CASABLANCA_01|        4G|        NULL|         NULL|        NULL|        ready|212605581945|212648468353|        NULL|                NULL|          NULL|       2|        sms| event|     flat|Envoi SMS standar...|      0.04|         5|          NULL|      NULL|       NULL|             1|\n",
      "|212605581945|      PLAN_A|   VOICE_NAT|5b2d759d-8092-426...|2025-05-01 03:38:10|   KENITRA_01|        4G|212605581945| 212682663662|         387|        ready|        NULL|        NULL|        NULL|                NULL|          NULL|       5|      voice|minute|     flat|Appel vocal natio...|      0.01|         5|          NULL|      NULL|       NULL|             7|\n",
      "+------------+------------+------------+--------------------+-------------------+-------------+----------+------------+-------------+------------+-------------+------------+------------+------------+--------------------+--------------+--------+-----------+------+---------+--------------------+----------+----------+--------------+----------+-----------+--------------+\n",
      "only showing top 20 rows\n",
      "\n"
     ]
    }
   ],
   "source": [
    "cdrs4.show()"
   ]
  },
  {
   "cell_type": "code",
   "execution_count": 23,
   "id": "a9a6a4fd",
   "metadata": {
    "execution": {
     "iopub.execute_input": "2025-06-11T18:06:52.611257Z",
     "iopub.status.busy": "2025-06-11T18:06:52.610257Z",
     "iopub.status.idle": "2025-06-11T18:06:52.703508Z",
     "shell.execute_reply": "2025-06-11T18:06:52.703508Z"
    },
    "papermill": {
     "duration": 0.103256,
     "end_time": "2025-06-11T18:06:52.705516",
     "exception": false,
     "start_time": "2025-06-11T18:06:52.602260",
     "status": "completed"
    },
    "tags": []
   },
   "outputs": [],
   "source": [
    "from pyspark.sql.functions import coalesce\n",
    "\n",
    "cdrs4 = (cdrs4\n",
    "    .withColumn(\"free_units\",    coalesce(col(\"free_units\"),    lit(0)))\n",
    "    .withColumn(\"tier_threshold\",coalesce(col(\"tier_threshold\"),lit(0)))\n",
    "    .withColumn(\"unit_price\",    coalesce(col(\"unit_price\"),    lit(0.0)))\n",
    "    .withColumn(\"tier_price\",    coalesce(col(\"tier_price\"),    lit(0.0)))\n",
    ")\n"
   ]
  },
  {
   "cell_type": "code",
   "execution_count": 24,
   "id": "5ba8ab70",
   "metadata": {
    "execution": {
     "iopub.execute_input": "2025-06-11T18:06:52.721516Z",
     "iopub.status.busy": "2025-06-11T18:06:52.721516Z",
     "iopub.status.idle": "2025-06-11T18:06:52.828831Z",
     "shell.execute_reply": "2025-06-11T18:06:52.828328Z"
    },
    "papermill": {
     "duration": 0.117321,
     "end_time": "2025-06-11T18:06:52.829837",
     "exception": false,
     "start_time": "2025-06-11T18:06:52.712516",
     "status": "completed"
    },
    "tags": []
   },
   "outputs": [],
   "source": [
    "cdrsRated = cdrs4.withColumn(\n",
    "    \"cost\",\n",
    "    when(col(\"rate_type\") == \"flat\",\n",
    "         when(col(\"billable_units\") <= col(\"free_units\"), lit(0))\n",
    "         .otherwise((col(\"billable_units\") - col(\"free_units\")) * col(\"unit_price\")))\n",
    "    .when(col(\"rate_type\") == \"tiered\",\n",
    "         when(col(\"billable_units\") <= col(\"free_units\"), lit(0))\n",
    "         .when(col(\"billable_units\") <= col(\"tier_threshold\"),\n",
    "               (col(\"billable_units\") - col(\"free_units\")) * col(\"unit_price\"))\n",
    "         .otherwise(\n",
    "               (col(\"tier_threshold\") - col(\"free_units\")) * col(\"unit_price\") +\n",
    "               (col(\"billable_units\") - col(\"tier_threshold\")) * col(\"tier_price\")))\n",
    ")\n",
    "\n",
    "cdrsRated = cdrsRated.withColumn(\n",
    "    \"rating_status\",\n",
    "    when(col(\"cost\").isNull(), \"unmatched\")\n",
    "    .otherwise(\"rated\")\n",
    ")\n"
   ]
  },
  {
   "cell_type": "code",
   "execution_count": 25,
   "id": "a279048f",
   "metadata": {
    "execution": {
     "iopub.execute_input": "2025-06-11T18:06:52.840842Z",
     "iopub.status.busy": "2025-06-11T18:06:52.840842Z",
     "iopub.status.idle": "2025-06-11T18:06:53.915675Z",
     "shell.execute_reply": "2025-06-11T18:06:53.914661Z"
    },
    "papermill": {
     "duration": 1.084832,
     "end_time": "2025-06-11T18:06:53.917669",
     "exception": false,
     "start_time": "2025-06-11T18:06:52.832837",
     "status": "completed"
    },
    "tags": []
   },
   "outputs": [
    {
     "name": "stdout",
     "output_type": "stream",
     "text": [
      "+------------------------------------+------------+------------+--------------+----------+--------------------+-------------+\n",
      "|record_ID                           |customer_id |product_code|billable_units|unit_price|cost                |rating_status|\n",
      "+------------------------------------+------------+------------+--------------+----------+--------------------+-------------+\n",
      "|49d6cc2b-30a3-4592-aeb8-7af7622d2603|212629151506|VOICE_NAT   |8             |0.01      |0.03                |rated        |\n",
      "|691b3d0c-56e7-4859-843d-c6dc702b80ee|212706798407|VOICE_NAT   |2             |0.01      |0.0                 |rated        |\n",
      "|c270b926-5d1d-4633-a71d-18fe76eb25a6|212688851505|DATA_BASIC  |1977.95       |0.02      |39.159              |rated        |\n",
      "|9c108463-2a61-40b8-a122-a87a3ca940a3|212714097600|VOICE_NAT   |1             |0.01      |0.0                 |rated        |\n",
      "|b39ab5e2-c9d4-4157-92bc-fa3170d90e1c|212658902556|SMS_NAT     |1             |0.035     |0.0                 |rated        |\n",
      "|937316f8-3316-44c3-a9cb-f4db747c24e3|212753909165|VOICE_NAT   |9             |0.012     |0.036000000000000004|rated        |\n",
      "|838c8e9a-63d1-4f8b-94cf-5dabb6e1bd2f|212712383843|DATA_BASIC  |464.25        |0.02      |8.885               |rated        |\n",
      "|1fdf2e00-c909-4e4a-8225-7832f8afe422|212614243631|VOICE_INT   |6             |0.025     |0.15000000000000002 |rated        |\n",
      "|25fab6c5-4bb9-4b49-a82f-d13d2cb513b2|212640267476|VOICE_NAT   |4             |0.012     |0.0                 |rated        |\n",
      "|93076688-bf85-44b5-8649-8f4cbdccb5c2|212659716497|DATA_BASIC  |730.72        |0.018     |12.792959999999999  |rated        |\n",
      "|472c443f-d8db-4730-8a9b-dbfabf9a916e|212716087842|DATA_BASIC  |258.3         |0.022     |5.1326              |rated        |\n",
      "|2105c584-fd3e-45b0-92e1-7b30bc6e0430|212760894747|VOICE_INT   |8             |0.02      |0.16                |rated        |\n",
      "|a25bfddf-82e8-4b74-9c9a-2d1ecad204b7|212783224019|DATA_BASIC  |827.85        |0.018     |14.5413             |rated        |\n",
      "|0030bae0-840b-44c6-a3b0-006c6a3b5399|212783224019|VOICE_INT   |10            |0.018     |0.18                |rated        |\n",
      "|f12db773-3665-487e-8cd1-f5e122d5d34e|212635759633|VOICE_NAT   |6             |0.008     |0.0                 |rated        |\n",
      "|1ef5f5c7-a28b-4f03-9a99-298520e14c7b|212778988689|DATA_BASIC  |602.77        |0.022     |12.710939999999999  |rated        |\n",
      "|c2dcb47a-b968-4952-a209-58a5b2f3902f|212784273480|VOICE_NAT   |4             |0.012     |0.0                 |rated        |\n",
      "|327ea341-6324-4348-86ab-726e281f38dc|212763496422|DATA_BASIC  |1188.27       |0.022     |25.591939999999997  |rated        |\n",
      "|e57bb030-e302-4fc3-b49c-8b618087e630|212605581945|SMS_NAT     |1             |0.04      |0.0                 |rated        |\n",
      "|5b2d759d-8092-426a-8fc5-7dcc5019cadd|212605581945|VOICE_NAT   |7             |0.01      |0.02                |rated        |\n",
      "+------------------------------------+------------+------------+--------------+----------+--------------------+-------------+\n",
      "only showing top 20 rows\n",
      "\n"
     ]
    }
   ],
   "source": [
    "cdrsRated.select(\"record_ID\",\"customer_id\",\"product_code\",\n",
    "                 \"billable_units\",\"unit_price\",\"cost\",\"rating_status\") \\\n",
    "         .show(truncate=False)\n"
   ]
  },
  {
   "cell_type": "code",
   "execution_count": 26,
   "id": "dfa86650",
   "metadata": {
    "execution": {
     "iopub.execute_input": "2025-06-11T18:06:53.931063Z",
     "iopub.status.busy": "2025-06-11T18:06:53.931063Z",
     "iopub.status.idle": "2025-06-11T18:06:53.954323Z",
     "shell.execute_reply": "2025-06-11T18:06:53.954323Z"
    },
    "papermill": {
     "duration": 0.034843,
     "end_time": "2025-06-11T18:06:53.957512",
     "exception": false,
     "start_time": "2025-06-11T18:06:53.922669",
     "status": "completed"
    },
    "tags": []
   },
   "outputs": [],
   "source": [
    "from pyspark.sql.functions import date_format\n",
    "\n",
    "cdrsRated = cdrsRated.withColumn(\n",
    "    \"billing_period\",\n",
    "    date_format(col(\"timestamp\"), \"yyyy-MM\")\n",
    ")\n",
    "cdrsRated=cdrsRated.drop(\"user_min_mb\")"
   ]
  },
  {
   "cell_type": "code",
   "execution_count": 27,
   "id": "441201ec",
   "metadata": {
    "execution": {
     "iopub.execute_input": "2025-06-11T18:06:53.971507Z",
     "iopub.status.busy": "2025-06-11T18:06:53.971507Z",
     "iopub.status.idle": "2025-06-11T18:06:56.530969Z",
     "shell.execute_reply": "2025-06-11T18:06:56.530969Z"
    },
    "papermill": {
     "duration": 2.568472,
     "end_time": "2025-06-11T18:06:56.532979",
     "exception": false,
     "start_time": "2025-06-11T18:06:53.964507",
     "status": "completed"
    },
    "tags": []
   },
   "outputs": [
    {
     "name": "stdout",
     "output_type": "stream",
     "text": [
      "✓ Rating terminé : Parquet écrit dans rated_cdrs/\n"
     ]
    }
   ],
   "source": [
    "(\n",
    " cdrsRated\n",
    " .write\n",
    " .mode(\"overwrite\")\n",
    " .partitionBy(\"billing_period\")\n",
    " .parquet(\"rated_cdrs/\")\n",
    ")\n",
    "\n",
    "print(\"✓ Rating terminé : Parquet écrit dans rated_cdrs/\")\n"
   ]
  },
  {
   "cell_type": "code",
   "execution_count": 28,
   "id": "8a2d4730",
   "metadata": {
    "execution": {
     "iopub.execute_input": "2025-06-11T18:06:56.549536Z",
     "iopub.status.busy": "2025-06-11T18:06:56.548628Z",
     "iopub.status.idle": "2025-06-11T18:06:58.062614Z",
     "shell.execute_reply": "2025-06-11T18:06:58.061600Z"
    },
    "papermill": {
     "duration": 1.524595,
     "end_time": "2025-06-11T18:06:58.064614",
     "exception": false,
     "start_time": "2025-06-11T18:06:56.540019",
     "status": "completed"
    },
    "tags": []
   },
   "outputs": [
    {
     "name": "stdout",
     "output_type": "stream",
     "text": [
      "+------------+------------+------------+--------------------+-------------------+-------------+----------+------------+-------------+------------+-------------+------------+------------+------------+--------------------+--------------+--------+-----------+------+---------+--------------------+----------+----------+--------------+----------+--------------+--------------------+--------------+\n",
      "| customer_id|rate_plan_id|product_code|           record_ID|          timestamp|      cell_id|technology|   caller_id|    callee_id|duration_sec|rating_status|   sender_id| receiver_id|     user_id|session_duration_sec|data_volume_mb|batch_id|record_type|  unit|rate_type|         description|unit_price|free_units|tier_threshold|tier_price|billable_units|                cost|billing_period|\n",
      "+------------+------------+------------+--------------------+-------------------+-------------+----------+------------+-------------+------------+-------------+------------+------------+------------+--------------------+--------------+--------+-----------+------+---------+--------------------+----------+----------+--------------+----------+--------------+--------------------+--------------+\n",
      "|212629151506|      PLAN_A|   VOICE_NAT|49d6cc2b-30a3-459...|2025-05-01 03:04:48|     RABAT_01|        4G|212629151506| 212615038706|         452|        rated|        NULL|        NULL|        NULL|                NULL|          NULL|       3|      voice|minute|     flat|Appel vocal natio...|      0.01|         5|             0|       0.0|             8|                0.03|       2025-05|\n",
      "|212706798407|      PLAN_A|   VOICE_NAT|691b3d0c-56e7-485...|2025-05-01 04:29:02|      inconnu|        4G|212706798407| 212625950696|          61|        rated|        NULL|        NULL|        NULL|                NULL|          NULL|       9|      voice|minute|     flat|Appel vocal natio...|      0.01|         5|             0|       0.0|             2|                 0.0|       2025-05|\n",
      "|212688851505|      PLAN_A|  DATA_BASIC|c270b926-5d1d-463...|2025-05-01 05:06:02| ALHOCEIMA_01|        3G|        NULL|         NULL|        NULL|        rated|        NULL|        NULL|212688851505|                 189|       1977.95|      11|       data|    MB|     flat|Session Data basi...|      0.02|        20|             0|       0.0|       1977.95|              39.159|       2025-05|\n",
      "|212714097600|      PLAN_A|   VOICE_NAT|9c108463-2a61-40b...|2025-05-01 05:27:08| KHOURIBGA_01|        4G|212714097600| 212637260233|          46|        rated|        NULL|        NULL|        NULL|                NULL|          NULL|      13|      voice|minute|     flat|Appel vocal natio...|      0.01|         5|             0|       0.0|             1|                 0.0|       2025-05|\n",
      "|212658902556|      PLAN_B|     SMS_NAT|b39ab5e2-c9d4-415...|2025-05-01 02:48:53|      inconnu|        4G|        NULL|         NULL|        NULL|        rated|212658902556|212716778643|        NULL|                NULL|          NULL|       2|        sms| event|     flat|Envoi SMS standar...|     0.035|         3|             0|       0.0|             1|                 0.0|       2025-05|\n",
      "|212753909165|      PLAN_B|   VOICE_NAT|937316f8-3316-44c...|2025-05-01 03:11:56|      inconnu|        4G|212753909165| 212640426499|         485|        rated|        NULL|        NULL|        NULL|                NULL|          NULL|       4|      voice|minute|     flat|Appel vocal natio...|     0.012|         6|             0|       0.0|             9|0.036000000000000004|       2025-05|\n",
      "|212712383843|      PLAN_A|  DATA_BASIC|838c8e9a-63d1-4f8...|2025-05-01 04:49:29|      SAFI_01|        3G|        NULL|         NULL|        NULL|        rated|        NULL|        NULL|212712383843|                 155|        464.25|      10|       data|    MB|     flat|Session Data basi...|      0.02|        20|             0|       0.0|        464.25|               8.885|       2025-05|\n",
      "|212614243631|      PLAN_B|   VOICE_INT|1fdf2e00-c909-4e4...|2025-05-01 02:21:25|    TANGER_01|        5G|212614243631|  33320346357|         331|        rated|        NULL|        NULL|        NULL|                NULL|          NULL|       2|      voice|minute|     flat|Appel vocal inter...|     0.025|         0|             0|       0.0|             6| 0.15000000000000002|       2025-05|\n",
      "|212640267476|      PLAN_B|   VOICE_NAT|25fab6c5-4bb9-4b4...|2025-05-01 04:50:57|    TANGER_03|        4G|212640267476| 212600740957|         235|        rated|        NULL|        NULL|        NULL|                NULL|          NULL|      10|      voice|minute|     flat|Appel vocal natio...|     0.012|         6|             0|       0.0|             4|                 0.0|       2025-05|\n",
      "|212659716497|      PLAN_C|  DATA_BASIC|93076688-bf85-44b...|2025-05-01 04:18:12|CASABLANCA_01|        4G|        NULL|         NULL|        NULL|        rated|        NULL|        NULL|212659716497|                 430|        730.72|       8|       data|    MB|     flat|Session Data basi...|     0.018|        20|             0|       0.0|        730.72|  12.792959999999999|       2025-05|\n",
      "|212716087842|      PLAN_B|  DATA_BASIC|472c443f-d8db-473...|2025-05-01 04:57:43|      inconnu|        4G|        NULL|         NULL|        NULL|        rated|        NULL|        NULL|212716087842|                 141|         258.3|      11|       data|    MB|     flat|Session Data basi...|     0.022|        25|             0|       0.0|         258.3|              5.1326|       2025-05|\n",
      "|212760894747|      PLAN_A|   VOICE_INT|2105c584-fd3e-45b...|2025-05-01 03:08:24|   KENITRA_01|        3G|212760894747|4966174469299|         466|        rated|        NULL|        NULL|        NULL|                NULL|          NULL|       4|      voice|minute|     flat|Appel vocal inter...|      0.02|         0|             0|       0.0|             8|                0.16|       2025-05|\n",
      "|212783224019|      PLAN_C|  DATA_BASIC|a25bfddf-82e8-4b7...|2025-05-01 02:53:54|    TANGER_02|        3G|        NULL|         NULL|        NULL|        rated|        NULL|        NULL|212783224019|                 239|        827.85|       3|       data|    MB|     flat|Session Data basi...|     0.018|        20|             0|       0.0|        827.85|             14.5413|       2025-05|\n",
      "|212783224019|      PLAN_C|   VOICE_INT|0030bae0-840b-44c...|2025-05-01 03:06:46|    DAKHLA_01|        4G|212783224019|  16328227549|         576|        rated|        NULL|        NULL|        NULL|                NULL|          NULL|       3|      voice|minute|     flat|Appel vocal inter...|     0.018|         0|             0|       0.0|            10|                0.18|       2025-05|\n",
      "|212635759633|      PLAN_C|   VOICE_NAT|f12db773-3665-487...|2025-05-01 02:39:48|    DAKHLA_01|        3G|212635759633| 212708379486|         333|        rated|        NULL|        NULL|        NULL|                NULL|          NULL|       2|      voice|minute|     flat|Appel vocal natio...|     0.008|        10|             0|       0.0|             6|                 0.0|       2025-05|\n",
      "|212778988689|      PLAN_B|  DATA_BASIC|1ef5f5c7-a28b-4f0...|2025-05-01 04:33:40|    MEKNES_01|        5G|        NULL|         NULL|        NULL|        rated|        NULL|        NULL|212778988689|                 548|        602.77|       9|       data|    MB|     flat|Session Data basi...|     0.022|        25|             0|       0.0|        602.77|  12.710939999999999|       2025-05|\n",
      "|212784273480|      PLAN_B|   VOICE_NAT|c2dcb47a-b968-495...|2025-05-01 05:15:40|CASABLANCA_02|        4G|212784273480| 212663412235|         229|        rated|        NULL|        NULL|        NULL|                NULL|          NULL|      12|      voice|minute|     flat|Appel vocal natio...|     0.012|         6|             0|       0.0|             4|                 0.0|       2025-05|\n",
      "|212763496422|      PLAN_B|  DATA_BASIC|327ea341-6324-434...|2025-05-01 02:19:53|      inconnu|        3G|        NULL|         NULL|        NULL|        rated|        NULL|        NULL|212763496422|                 317|       1188.27|       1|       data|    MB|     flat|Session Data basi...|     0.022|        25|             0|       0.0|       1188.27|  25.591939999999997|       2025-05|\n",
      "|212605581945|      PLAN_A|     SMS_NAT|e57bb030-e302-4fc...|2025-05-01 02:33:19|CASABLANCA_01|        4G|        NULL|         NULL|        NULL|        rated|212605581945|212648468353|        NULL|                NULL|          NULL|       2|        sms| event|     flat|Envoi SMS standar...|      0.04|         5|             0|       0.0|             1|                 0.0|       2025-05|\n",
      "|212605581945|      PLAN_A|   VOICE_NAT|5b2d759d-8092-426...|2025-05-01 03:38:10|   KENITRA_01|        4G|212605581945| 212682663662|         387|        rated|        NULL|        NULL|        NULL|                NULL|          NULL|       5|      voice|minute|     flat|Appel vocal natio...|      0.01|         5|             0|       0.0|             7|                0.02|       2025-05|\n",
      "+------------+------------+------------+--------------------+-------------------+-------------+----------+------------+-------------+------------+-------------+------------+------------+------------+--------------------+--------------+--------+-----------+------+---------+--------------------+----------+----------+--------------+----------+--------------+--------------------+--------------+\n",
      "only showing top 20 rows\n",
      "\n"
     ]
    }
   ],
   "source": [
    "cdrsRated.show()"
   ]
  }
 ],
 "metadata": {
  "kernelspec": {
   "display_name": "Python 3",
   "language": "python",
   "name": "python3"
  },
  "language_info": {
   "codemirror_mode": {
    "name": "ipython",
    "version": 3
   },
   "file_extension": ".py",
   "mimetype": "text/x-python",
   "name": "python",
   "nbconvert_exporter": "python",
   "pygments_lexer": "ipython3",
   "version": "3.12.5"
  },
  "papermill": {
   "default_parameters": {},
   "duration": 58.97825,
   "end_time": "2025-06-11T18:06:58.538175",
   "environment_variables": {},
   "exception": null,
   "input_path": "RatingEngine.ipynb",
   "output_path": "RatingEngine.ipynb",
   "parameters": {},
   "start_time": "2025-06-11T18:05:59.559925",
   "version": "2.6.0"
  }
 },
 "nbformat": 4,
 "nbformat_minor": 5
}
