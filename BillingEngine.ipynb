{
 "cells": [
  {
   "cell_type": "code",
   "execution_count": 1,
   "id": "283dfbf5",
   "metadata": {
    "execution": {
     "iopub.execute_input": "2025-06-15T15:38:24.321167Z",
     "iopub.status.busy": "2025-06-15T15:38:24.320168Z",
     "iopub.status.idle": "2025-06-15T15:38:31.153073Z",
     "shell.execute_reply": "2025-06-15T15:38:31.152086Z"
    },
    "papermill": {
     "duration": 6.841899,
     "end_time": "2025-06-15T15:38:31.154074",
     "exception": false,
     "start_time": "2025-06-15T15:38:24.312175",
     "status": "completed"
    },
    "tags": []
   },
   "outputs": [],
   "source": [
    "import sys\n",
    "from pyspark.sql import SparkSession\n",
    "spark = (SparkSession.builder\n",
    "         .appName(\"BillingEngine\")\n",
    "         .config(\"spark.jars\",         r\".\\conf\\postgresql-42.7.6.jar\")\n",
    "         .config(\"spark.driver.extraClassPath\", r\".\\conf\\postgresql-42.7.6.jar\")\n",
    "         .config(\"spark.executorEnv.PYSPARK_PYTHON\", sys.executable)\n",
    "         .getOrCreate())"
   ]
  },
  {
   "cell_type": "code",
   "execution_count": 2,
   "id": "3c15b680",
   "metadata": {
    "execution": {
     "iopub.execute_input": "2025-06-15T15:38:31.162517Z",
     "iopub.status.busy": "2025-06-15T15:38:31.162517Z",
     "iopub.status.idle": "2025-06-15T15:38:35.770274Z",
     "shell.execute_reply": "2025-06-15T15:38:35.769271Z"
    },
    "papermill": {
     "duration": 4.613186,
     "end_time": "2025-06-15T15:38:35.771273",
     "exception": false,
     "start_time": "2025-06-15T15:38:31.158087",
     "status": "completed"
    },
    "tags": []
   },
   "outputs": [
    {
     "name": "stdout",
     "output_type": "stream",
     "text": [
      "root\n",
      " |-- customer_id: string (nullable = true)\n",
      " |-- rate_plan_id: string (nullable = true)\n",
      " |-- product_code: string (nullable = true)\n",
      " |-- record_ID: string (nullable = true)\n",
      " |-- timestamp: timestamp (nullable = true)\n",
      " |-- cell_id: string (nullable = true)\n",
      " |-- technology: string (nullable = true)\n",
      " |-- caller_id: string (nullable = true)\n",
      " |-- callee_id: string (nullable = true)\n",
      " |-- duration_sec: integer (nullable = true)\n",
      " |-- rating_status: string (nullable = true)\n",
      " |-- sender_id: string (nullable = true)\n",
      " |-- receiver_id: string (nullable = true)\n",
      " |-- user_id: string (nullable = true)\n",
      " |-- session_duration_sec: string (nullable = true)\n",
      " |-- data_volume_mb: string (nullable = true)\n",
      " |-- batch_id: integer (nullable = true)\n",
      " |-- record_type: string (nullable = true)\n",
      " |-- unit: string (nullable = true)\n",
      " |-- rate_type: string (nullable = true)\n",
      " |-- description: string (nullable = true)\n",
      " |-- unit_price: double (nullable = true)\n",
      " |-- free_units: integer (nullable = true)\n",
      " |-- tier_threshold: integer (nullable = true)\n",
      " |-- tier_price: double (nullable = true)\n",
      " |-- billable_units: string (nullable = true)\n",
      " |-- cost: double (nullable = true)\n",
      " |-- billing_period: string (nullable = true)\n",
      "\n"
     ]
    }
   ],
   "source": [
    "rated = spark.read.parquet(\"rated_cdrs/\")\n",
    "rated.printSchema()\n"
   ]
  },
  {
   "cell_type": "code",
   "execution_count": 3,
   "id": "725ddeb9",
   "metadata": {
    "execution": {
     "iopub.execute_input": "2025-06-15T15:38:35.780280Z",
     "iopub.status.busy": "2025-06-15T15:38:35.779284Z",
     "iopub.status.idle": "2025-06-15T15:38:35.910354Z",
     "shell.execute_reply": "2025-06-15T15:38:35.909790Z"
    },
    "papermill": {
     "duration": 0.136104,
     "end_time": "2025-06-15T15:38:35.912385",
     "exception": false,
     "start_time": "2025-06-15T15:38:35.776281",
     "status": "completed"
    },
    "tags": []
   },
   "outputs": [],
   "source": [
    "rated_ok = rated.filter(rated.rating_status == \"rated\")"
   ]
  },
  {
   "cell_type": "code",
   "execution_count": 4,
   "id": "1c1bd565",
   "metadata": {
    "execution": {
     "iopub.execute_input": "2025-06-15T15:38:35.918840Z",
     "iopub.status.busy": "2025-06-15T15:38:35.918840Z",
     "iopub.status.idle": "2025-06-15T15:38:36.113858Z",
     "shell.execute_reply": "2025-06-15T15:38:36.113000Z"
    },
    "papermill": {
     "duration": 0.201493,
     "end_time": "2025-06-15T15:38:36.115866",
     "exception": false,
     "start_time": "2025-06-15T15:38:35.914373",
     "status": "completed"
    },
    "tags": []
   },
   "outputs": [],
   "source": [
    "from pyspark.sql import functions as F\n",
    "from pyspark.sql.functions import when, col,lit\n",
    "\n",
    "invoices = (\n",
    "    rated_ok\n",
    "    .groupBy(\"customer_id\", \"billing_period\")\n",
    "    .agg(\n",
    "        # Sous-totaux monétaires\n",
    "        F.sum(when(col(\"record_type\") == \"voice\", col(\"cost\")).otherwise(0)).alias(\"voice_total\"),\n",
    "        F.sum(when(col(\"record_type\") == \"sms\",   col(\"cost\")).otherwise(0)).alias(\"sms_total\"),\n",
    "        F.sum(when(col(\"record_type\") == \"data\",  col(\"cost\")).otherwise(0)).alias(\"data_total\"),\n",
    "\n",
    "        # Nombre d'événements\n",
    "        F.sum(when(col(\"record_type\") == \"voice\", 1).otherwise(0)).alias(\"voice_count\"),\n",
    "        F.sum(when(col(\"record_type\") == \"sms\",   1).otherwise(0)).alias(\"sms_count\"),\n",
    "        F.sum(when(col(\"record_type\") == \"data\",  1).otherwise(0)).alias(\"data_count\"),\n",
    "\n",
    "        # Total hors taxes\n",
    "        F.sum(col(\"cost\")).alias(\"amount_before_tax\")\n",
    "    )\n",
    ")\n"
   ]
  },
  {
   "cell_type": "code",
   "execution_count": 5,
   "id": "61174244",
   "metadata": {
    "execution": {
     "iopub.execute_input": "2025-06-15T15:38:36.124866Z",
     "iopub.status.busy": "2025-06-15T15:38:36.124866Z",
     "iopub.status.idle": "2025-06-15T15:38:41.466088Z",
     "shell.execute_reply": "2025-06-15T15:38:41.464090Z"
    },
    "papermill": {
     "duration": 5.346224,
     "end_time": "2025-06-15T15:38:41.467090",
     "exception": false,
     "start_time": "2025-06-15T15:38:36.120866",
     "status": "completed"
    },
    "tags": []
   },
   "outputs": [
    {
     "name": "stdout",
     "output_type": "stream",
     "text": [
      "+------------+--------------+-------------------+---------+------------------+-----------+---------+----------+------------------+------------+------------------+--------------------+-------------------+\n",
      "|customer_id |billing_period|voice_total        |sms_total|data_total        |voice_count|sms_count|data_count|amount_before_tax |discount_pct|after_discount    |tax                 |amount_due         |\n",
      "+------------+--------------+-------------------+---------+------------------+-----------+---------+----------+------------------+------------+------------------+--------------------+-------------------+\n",
      "|212795575450|2025-05       |0.0                |0.07     |0.0               |1          |1        |0         |0.07              |0.05        |0.0665            |0.013300000000000001|0.07980000000000001|\n",
      "|212772315828|2025-05       |0.0                |0.0      |20.05155          |2          |0        |1         |20.05155          |0.05        |19.048972499999998|3.8097944999999998  |22.858766999999997 |\n",
      "|212715968239|2025-05       |0.0                |0.0      |26.591579999999997|0          |0        |1         |26.591579999999997|0.05        |25.262000999999994|5.052400199999999   |30.314401199999992 |\n",
      "|212717714309|2025-05       |0.0                |0.0      |12.056879999999998|0          |1        |1         |12.056879999999998|0.05        |11.454035999999997|2.2908071999999993  |13.744843199999996 |\n",
      "|212795069457|2025-05       |0.07200000000000001|0.0      |53.762550000000005|5          |0        |2         |53.83455000000001 |0.05        |51.1428225        |10.228564500000001  |61.371387          |\n",
      "|212699865969|2025-05       |0.0                |0.0      |35.23932          |3          |0        |1         |35.23932          |0.05        |33.477354         |6.6954708           |40.1728248         |\n",
      "|212720587560|2025-05       |0.0                |0.0      |17.6586           |0          |0        |1         |17.6586           |0.05        |16.775669999999998|3.3551339999999996  |20.130803999999998 |\n",
      "|212754831596|2025-05       |0.162              |0.0      |19.146569999999997|6          |0        |2         |19.30857          |0.05        |18.343141499999998|3.6686283           |22.011769799999996 |\n",
      "|212736445951|2025-05       |0.22999999999999998|0.0      |33.876799999999996|2          |0        |1         |34.10679999999999 |0.05        |32.40145999999999 |6.480291999999999   |38.88175199999999  |\n",
      "|212626978412|2025-05       |0.0                |0.0      |79.911            |0          |0        |2         |79.911            |0.05        |75.91544999999999 |15.18309            |91.09853999999999  |\n",
      "|212777581642|2025-05       |0.0                |0.0      |24.7634           |0          |1        |1         |24.7634           |0.05        |23.52523          |4.705046            |28.230276          |\n",
      "|212636399491|2025-05       |0.0                |0.0      |19.602219999999996|2          |0        |2         |19.602219999999996|0.05        |18.622108999999995|3.724421799999999   |22.346530799999993 |\n",
      "|212662862735|2025-05       |0.0                |0.0      |35.59878          |1          |0        |1         |35.59878          |0.05        |33.818841         |6.7637682           |40.5826092         |\n",
      "|212718297421|2025-05       |0.024              |0.0      |54.13597999999999 |2          |0        |2         |54.15997999999999 |0.05        |51.45198099999999 |10.290396199999998  |61.742377199999986 |\n",
      "|212654956018|2025-05       |0.0                |0.0      |5.085             |2          |1        |1         |5.085             |0.05        |4.83075           |0.9661500000000001  |5.7969             |\n",
      "|212788326084|2025-05       |0.0                |0.0      |0.0               |1          |0        |0         |0.0               |0.05        |0.0               |0.0                 |0.0                |\n",
      "|212715964957|2025-05       |0.0                |0.0      |28.17243          |1          |0        |4         |28.17243          |0.05        |26.763808499999996|5.352761699999999   |32.1165702         |\n",
      "|212645523237|2025-05       |0.0                |0.0      |17.13756          |0          |0        |2         |17.13756          |0.05        |16.280682         |3.2561364           |19.536818399999998 |\n",
      "|212670324886|2025-05       |0.275              |0.0      |0.0               |2          |0        |0         |0.275             |0.05        |0.26125           |0.05225             |0.3135             |\n",
      "|212703173331|2025-05       |0.0                |0.0      |27.84906          |1          |0        |2         |27.84906          |0.05        |26.456607         |5.291321400000001   |31.747928400000003 |\n",
      "+------------+--------------+-------------------+---------+------------------+-----------+---------+----------+------------------+------------+------------------+--------------------+-------------------+\n",
      "only showing top 20 rows\n",
      "\n"
     ]
    }
   ],
   "source": [
    "TVA = 0.20\n",
    "invoices = (invoices\n",
    "    .withColumn(\"discount_pct\", lit(0.05))\n",
    "    .withColumn(\"after_discount\",\n",
    "                col(\"amount_before_tax\") * (1 - col(\"discount_pct\")))\n",
    "    .withColumn(\"tax\", col(\"after_discount\") * lit(TVA))\n",
    "    .withColumn(\"amount_due\", col(\"after_discount\") + col(\"tax\"))\n",
    ")\n",
    "\n",
    "invoices.show(truncate=False)\n"
   ]
  },
  {
   "cell_type": "code",
   "execution_count": 6,
   "id": "3f1e7d71",
   "metadata": {
    "execution": {
     "iopub.execute_input": "2025-06-15T15:38:41.477089Z",
     "iopub.status.busy": "2025-06-15T15:38:41.476089Z",
     "iopub.status.idle": "2025-06-15T15:38:42.262199Z",
     "shell.execute_reply": "2025-06-15T15:38:42.260825Z"
    },
    "papermill": {
     "duration": 0.794301,
     "end_time": "2025-06-15T15:38:42.264389",
     "exception": false,
     "start_time": "2025-06-15T15:38:41.470088",
     "status": "completed"
    },
    "tags": []
   },
   "outputs": [
    {
     "name": "stdout",
     "output_type": "stream",
     "text": [
      "+------------+----------------+-----------------+------------+---------------+------+--------------------+\n",
      "| customer_id|   customer_name|subscription_type|rate_plan_id|activation_date|status|              region|\n",
      "+------------+----------------+-----------------+------------+---------------+------+--------------------+\n",
      "|212621008730|  Fouad El Ghazi|         postpaid|      PLAN_B|     2024-09-30|active|Béni Mellal-Khénifra|\n",
      "|212680058037|Soufiane Belkadi|         postpaid|      PLAN_A|     2023-10-16|active|  Rabat-Salé-Kénitra|\n",
      "|212705083484|    Rania Skalli|         postpaid|      PLAN_C|     2023-09-13|active|          L'Oriental|\n",
      "|212742643119|    Hind Belkadi|         postpaid|      PLAN_B|     2024-10-09|active|   Guelmim-Oued Noun|\n",
      "|212625950696|  Ehab El Amrani|         postpaid|      PLAN_C|     2024-12-16|active|      Marrakech-Safi|\n",
      "+------------+----------------+-----------------+------------+---------------+------+--------------------+\n",
      "only showing top 5 rows\n",
      "\n"
     ]
    }
   ],
   "source": [
    "customersDf = spark.read \\\n",
    "    .format(\"jdbc\")\\\n",
    "    .option(\"url\",      \"jdbc:postgresql://localhost:5432/projet_spark\")\\\n",
    "    .option(\"dbtable\",  \"customers\")\\\n",
    "    .option(\"user\",     \"postgres\")\\\n",
    "    .option(\"password\", \"0000\")\\\n",
    "    .load() \n",
    "\n",
    "customersDf.show(5)"
   ]
  },
  {
   "cell_type": "code",
   "execution_count": 7,
   "id": "a402296f",
   "metadata": {
    "execution": {
     "iopub.execute_input": "2025-06-15T15:38:42.275407Z",
     "iopub.status.busy": "2025-06-15T15:38:42.275407Z",
     "iopub.status.idle": "2025-06-15T15:38:43.757019Z",
     "shell.execute_reply": "2025-06-15T15:38:43.756019Z"
    },
    "papermill": {
     "duration": 1.489631,
     "end_time": "2025-06-15T15:38:43.759028",
     "exception": false,
     "start_time": "2025-06-15T15:38:42.269397",
     "status": "completed"
    },
    "tags": []
   },
   "outputs": [
    {
     "name": "stdout",
     "output_type": "stream",
     "text": [
      "+------------+--------------+--------------------+------------+--------------------+---------+------------------+-----------+---------+----------+------------------+------------+-------------------+--------------------+--------------------+\n",
      "| customer_id|billing_period|              region|rate_plan_id|         voice_total|sms_total|        data_total|voice_count|sms_count|data_count| amount_before_tax|discount_pct|     after_discount|                 tax|          amount_due|\n",
      "+------------+--------------+--------------------+------------+--------------------+---------+------------------+-----------+---------+----------+------------------+------------+-------------------+--------------------+--------------------+\n",
      "|212621008730|       2025-05|Béni Mellal-Khénifra|      PLAN_B|               0.048|      0.0|          79.52736|          2|        0|         2|          79.57536|        0.05|          75.596592|  15.119318400000001|          90.7159104|\n",
      "|212680058037|       2025-05|  Rabat-Salé-Kénitra|      PLAN_A|                 0.0|      0.0|               0.0|       NULL|     NULL|      NULL|               0.0|        0.05|                0.0|                 0.0|                 0.0|\n",
      "|212705083484|       2025-05|          L'Oriental|      PLAN_C|               0.072|      0.0|          62.44296|          4|        0|         4|          62.51496|        0.05|          59.389212|          11.8778424|          71.2670544|\n",
      "|212742643119|       2025-05|   Guelmim-Oued Noun|      PLAN_B|               0.096|      0.0|               0.0|          3|        0|         0|             0.096|        0.05|             0.0912|0.018240000000000003| 0.10944000000000001|\n",
      "|212625950696|       2025-05|      Marrakech-Safi|      PLAN_C|                0.09|      0.0|               0.0|          1|        0|         0|              0.09|        0.05|0.08549999999999999|              0.0171|              0.1026|\n",
      "|212664805555|       2025-05|      Drâa-Tafilalet|      PLAN_C|                 0.0|      0.0|          32.63292|          0|        0|         1|          32.63292|        0.05|          31.001274|           6.2002548|          37.2015288|\n",
      "|212762640808|       2025-05|Béni Mellal-Khénifra|      PLAN_A|                0.01|      0.0|               0.0|          1|        0|         0|              0.01|        0.05|             0.0095|              0.0019|              0.0114|\n",
      "|212621948629|       2025-05|  Rabat-Salé-Kénitra|      PLAN_B|               0.096|      0.0|               0.0|          3|        0|         0|             0.096|        0.05|             0.0912|0.018240000000000003| 0.10944000000000001|\n",
      "|212785977936|       2025-05|          L'Oriental|      PLAN_B|               0.012|      0.0|               0.0|          3|        1|         0|             0.012|        0.05|             0.0114|0.002280000000000...|0.013680000000000001|\n",
      "|212636258363|       2025-05|  Rabat-Salé-Kénitra|      PLAN_A|                 0.2|      0.0|           28.7316|          3|        1|         2|28.931600000000003|        0.05| 27.485020000000002|  5.4970040000000004|           32.982024|\n",
      "|212668107106|       2025-05|Laâyoune-Sakia El...|      PLAN_B|                 0.0|      0.0|               0.0|       NULL|     NULL|      NULL|               0.0|        0.05|                0.0|                 0.0|                 0.0|\n",
      "|212623108665|       2025-05|  Rabat-Salé-Kénitra|      PLAN_B|               0.125|      0.0|30.048259999999996|          3|        0|         1|30.173259999999996|        0.05| 28.664596999999993|   5.732919399999999|   34.39751639999999|\n",
      "|212652886819|       2025-05|Dakhla-Oued Ed Dahab|      PLAN_A|                0.35|      0.0|15.633949999999999|          7|        1|         2|15.983949999999998|        0.05| 15.184752499999998|  3.0369504999999997|  18.221702999999998|\n",
      "|212632540994|       2025-05|         Souss-Massa|      PLAN_A|                 0.0|      0.0|               0.0|          1|        1|         0|               0.0|        0.05|                0.0|                 0.0|                 0.0|\n",
      "|212668843976|       2025-05|         Souss-Massa|      PLAN_C|                 0.0|      0.0|           6.40764|          1|        0|         1|           6.40764|        0.05|  6.087257999999999|           1.2174516|   7.304709599999999|\n",
      "|212615894918|       2025-05|          Fès-Meknès|      PLAN_B|               0.048|      0.0|               0.0|          2|        0|         0|             0.048|        0.05|             0.0456|0.009120000000000001|0.054720000000000005|\n",
      "|212611215819|       2025-05|   Casablanca-Settat|      PLAN_C|                 0.0|      0.0|          58.09416|          2|        1|         2|          58.09416|        0.05|          55.189452|  11.037890400000002|          66.2273424|\n",
      "|212692905060|       2025-05|  Rabat-Salé-Kénitra|      PLAN_C|                 0.0|      0.0|1.5654599999999999|          0|        0|         1|1.5654599999999999|        0.05| 1.4871869999999998| 0.29743739999999996|  1.7846243999999998|\n",
      "|212634650514|       2025-05|   Guelmim-Oued Noun|      PLAN_A|                0.22|      0.0|               0.0|          2|        1|         0|              0.22|        0.05|              0.209|0.041800000000000004|              0.2508|\n",
      "|212798226912|       2025-05|   Casablanca-Settat|      PLAN_B|0.036000000000000004|      0.0|         103.55312|          2|        0|         5|103.58912000000001|        0.05|          98.409664|  19.681932800000002|         118.0915968|\n",
      "+------------+--------------+--------------------+------------+--------------------+---------+------------------+-----------+---------+----------+------------------+------------+-------------------+--------------------+--------------------+\n",
      "only showing top 20 rows\n",
      "\n"
     ]
    }
   ],
   "source": [
    "from pyspark.sql import functions as F\n",
    "\n",
    "# 1) liste des mois à facturer (ex. juin 2025)\n",
    "mois_courant = \"2025-05\"              # ou boucle sur plusieurs périodes\n",
    "\n",
    "# 2) sous-ensemble des clients éligibles\n",
    "clients_elig = (customersDf\n",
    "    .filter( (F.col(\"status\") == \"active\") &\n",
    "             (F.col(\"subscription_type\") == \"postpaid\") )\n",
    "    .select(\"customer_id\",\"region\",\"rate_plan_id\")\n",
    "    .withColumn(\"billing_period\", F.lit(mois_courant))\n",
    ")\n",
    "\n",
    "# 3) jointure gauche clients ↔ invoices\n",
    "facturation_complete = (clients_elig.join(\n",
    "        invoices.filter(F.col(\"billing_period\") == mois_courant),\n",
    "        on=[\"customer_id\", \"billing_period\"],\n",
    "        how=\"left\")\n",
    "    # 4) remplacer les NULL par 0\n",
    "    .fillna({\n",
    "        \"voice_total\":          0.0,\n",
    "        \"sms_total\":            0.0,\n",
    "        \"data_total\":           0.0,\n",
    "        \"amount_before_tax\":    0.0,\n",
    "        \"discount_pct\":         0.05,\n",
    "        \"after_discount\":       0.0,\n",
    "        \"tax\":                  0.0,\n",
    "        \"amount_due\":           0.0\n",
    "    })\n",
    ")\n",
    "\n",
    "facturation_complete.show()\n"
   ]
  },
  {
   "cell_type": "code",
   "execution_count": 8,
   "id": "b0765ebd",
   "metadata": {
    "execution": {
     "iopub.execute_input": "2025-06-15T15:38:43.771018Z",
     "iopub.status.busy": "2025-06-15T15:38:43.771018Z",
     "iopub.status.idle": "2025-06-15T15:38:45.286238Z",
     "shell.execute_reply": "2025-06-15T15:38:45.285237Z"
    },
    "papermill": {
     "duration": 1.523219,
     "end_time": "2025-06-15T15:38:45.288236",
     "exception": false,
     "start_time": "2025-06-15T15:38:43.765017",
     "status": "completed"
    },
    "tags": []
   },
   "outputs": [],
   "source": [
    "facturation_complete.write.mode(\"overwrite\").partitionBy(\"billing_period\").parquet(\"billing\")\n"
   ]
  },
  {
   "cell_type": "code",
   "execution_count": 9,
   "id": "05a629bb",
   "metadata": {
    "execution": {
     "iopub.execute_input": "2025-06-15T15:38:45.297237Z",
     "iopub.status.busy": "2025-06-15T15:38:45.296238Z",
     "iopub.status.idle": "2025-06-15T15:38:46.312476Z",
     "shell.execute_reply": "2025-06-15T15:38:46.311482Z"
    },
    "papermill": {
     "duration": 1.02124,
     "end_time": "2025-06-15T15:38:46.313477",
     "exception": false,
     "start_time": "2025-06-15T15:38:45.292237",
     "status": "completed"
    },
    "tags": []
   },
   "outputs": [],
   "source": [
    "(facturation_complete.write\n",
    " .format(\"jdbc\")\n",
    " .option(\"url\",      \"jdbc:postgresql://localhost:5432/projet_spark\")\n",
    " .option(\"dbtable\",  \"facturation_complete\")\n",
    " .option(\"user\",     \"postgres\")\n",
    " .option(\"password\", \"0000\")\n",
    " .mode(\"overwrite\")          \n",
    " .save())\n"
   ]
  },
  {
   "cell_type": "code",
   "execution_count": 10,
   "id": "059900c8",
   "metadata": {
    "execution": {
     "iopub.execute_input": "2025-06-15T15:38:46.319478Z",
     "iopub.status.busy": "2025-06-15T15:38:46.318476Z",
     "iopub.status.idle": "2025-06-15T15:38:46.844906Z",
     "shell.execute_reply": "2025-06-15T15:38:46.843907Z"
    },
    "papermill": {
     "duration": 0.53143,
     "end_time": "2025-06-15T15:38:46.846906",
     "exception": false,
     "start_time": "2025-06-15T15:38:46.315476",
     "status": "completed"
    },
    "tags": []
   },
   "outputs": [
    {
     "name": "stdout",
     "output_type": "stream",
     "text": [
      "+------------+--------------+--------------------+------------+--------------------+---------+------------------+-----------+---------+----------+------------------+------------+-------------------+--------------------+--------------------+\n",
      "| customer_id|billing_period|              region|rate_plan_id|         voice_total|sms_total|        data_total|voice_count|sms_count|data_count| amount_before_tax|discount_pct|     after_discount|                 tax|          amount_due|\n",
      "+------------+--------------+--------------------+------------+--------------------+---------+------------------+-----------+---------+----------+------------------+------------+-------------------+--------------------+--------------------+\n",
      "|212621008730|       2025-05|Béni Mellal-Khénifra|      PLAN_B|               0.048|      0.0|          79.52736|          2|        0|         2|          79.57536|        0.05|          75.596592|  15.119318400000001|          90.7159104|\n",
      "|212680058037|       2025-05|  Rabat-Salé-Kénitra|      PLAN_A|                 0.0|      0.0|               0.0|       NULL|     NULL|      NULL|               0.0|        0.05|                0.0|                 0.0|                 0.0|\n",
      "|212705083484|       2025-05|          L'Oriental|      PLAN_C|               0.072|      0.0|          62.44296|          4|        0|         4|          62.51496|        0.05|          59.389212|          11.8778424|          71.2670544|\n",
      "|212742643119|       2025-05|   Guelmim-Oued Noun|      PLAN_B|               0.096|      0.0|               0.0|          3|        0|         0|             0.096|        0.05|             0.0912|0.018240000000000003| 0.10944000000000001|\n",
      "|212625950696|       2025-05|      Marrakech-Safi|      PLAN_C|                0.09|      0.0|               0.0|          1|        0|         0|              0.09|        0.05|0.08549999999999999|              0.0171|              0.1026|\n",
      "|212664805555|       2025-05|      Drâa-Tafilalet|      PLAN_C|                 0.0|      0.0|          32.63292|          0|        0|         1|          32.63292|        0.05|          31.001274|           6.2002548|          37.2015288|\n",
      "|212762640808|       2025-05|Béni Mellal-Khénifra|      PLAN_A|                0.01|      0.0|               0.0|          1|        0|         0|              0.01|        0.05|             0.0095|              0.0019|              0.0114|\n",
      "|212621948629|       2025-05|  Rabat-Salé-Kénitra|      PLAN_B|               0.096|      0.0|               0.0|          3|        0|         0|             0.096|        0.05|             0.0912|0.018240000000000003| 0.10944000000000001|\n",
      "|212785977936|       2025-05|          L'Oriental|      PLAN_B|               0.012|      0.0|               0.0|          3|        1|         0|             0.012|        0.05|             0.0114|0.002280000000000...|0.013680000000000001|\n",
      "|212636258363|       2025-05|  Rabat-Salé-Kénitra|      PLAN_A|                 0.2|      0.0|           28.7316|          3|        1|         2|28.931600000000003|        0.05| 27.485020000000002|  5.4970040000000004|           32.982024|\n",
      "|212668107106|       2025-05|Laâyoune-Sakia El...|      PLAN_B|                 0.0|      0.0|               0.0|       NULL|     NULL|      NULL|               0.0|        0.05|                0.0|                 0.0|                 0.0|\n",
      "|212623108665|       2025-05|  Rabat-Salé-Kénitra|      PLAN_B|               0.125|      0.0|30.048259999999996|          3|        0|         1|30.173259999999996|        0.05| 28.664596999999993|   5.732919399999999|   34.39751639999999|\n",
      "|212652886819|       2025-05|Dakhla-Oued Ed Dahab|      PLAN_A|                0.35|      0.0|15.633949999999999|          7|        1|         2|15.983949999999998|        0.05| 15.184752499999998|  3.0369504999999997|  18.221702999999998|\n",
      "|212632540994|       2025-05|         Souss-Massa|      PLAN_A|                 0.0|      0.0|               0.0|          1|        1|         0|               0.0|        0.05|                0.0|                 0.0|                 0.0|\n",
      "|212668843976|       2025-05|         Souss-Massa|      PLAN_C|                 0.0|      0.0|           6.40764|          1|        0|         1|           6.40764|        0.05|  6.087257999999999|           1.2174516|   7.304709599999999|\n",
      "|212615894918|       2025-05|          Fès-Meknès|      PLAN_B|               0.048|      0.0|               0.0|          2|        0|         0|             0.048|        0.05|             0.0456|0.009120000000000001|0.054720000000000005|\n",
      "|212611215819|       2025-05|   Casablanca-Settat|      PLAN_C|                 0.0|      0.0|          58.09416|          2|        1|         2|          58.09416|        0.05|          55.189452|  11.037890400000002|          66.2273424|\n",
      "|212692905060|       2025-05|  Rabat-Salé-Kénitra|      PLAN_C|                 0.0|      0.0|1.5654599999999999|          0|        0|         1|1.5654599999999999|        0.05| 1.4871869999999998| 0.29743739999999996|  1.7846243999999998|\n",
      "|212634650514|       2025-05|   Guelmim-Oued Noun|      PLAN_A|                0.22|      0.0|               0.0|          2|        1|         0|              0.22|        0.05|              0.209|0.041800000000000004|              0.2508|\n",
      "|212798226912|       2025-05|   Casablanca-Settat|      PLAN_B|0.036000000000000004|      0.0|         103.55312|          2|        0|         5|103.58912000000001|        0.05|          98.409664|  19.681932800000002|         118.0915968|\n",
      "+------------+--------------+--------------------+------------+--------------------+---------+------------------+-----------+---------+----------+------------------+------------+-------------------+--------------------+--------------------+\n",
      "only showing top 20 rows\n",
      "\n"
     ]
    }
   ],
   "source": [
    "facturation_complete.show()"
   ]
  },
  {
   "cell_type": "code",
   "execution_count": 11,
   "id": "839fa753",
   "metadata": {
    "execution": {
     "iopub.execute_input": "2025-06-15T15:38:46.854907Z",
     "iopub.status.busy": "2025-06-15T15:38:46.854907Z",
     "iopub.status.idle": "2025-06-15T15:38:46.875904Z",
     "shell.execute_reply": "2025-06-15T15:38:46.875904Z"
    },
    "papermill": {
     "duration": 0.027001,
     "end_time": "2025-06-15T15:38:46.877907",
     "exception": false,
     "start_time": "2025-06-15T15:38:46.850906",
     "status": "completed"
    },
    "tags": []
   },
   "outputs": [],
   "source": [
    "import xml.etree.ElementTree as ET\n",
    "\n",
    "def invoice_to_xml(row):\n",
    "    root = ET.Element(\n",
    "        \"invoice\",\n",
    "        customer=row.customer_id,\n",
    "        period=row.billing_period\n",
    "    )\n",
    "    for svc in (\"voice\", \"sms\", \"data\"):\n",
    "        ET.SubElement(root, \"service\", type=svc).text = str(getattr(row, f\"{svc}_total\"))\n",
    "    ET.SubElement(root, \"amount_due\").text = str(row.amount_due)\n",
    "    return ET.tostring(root, encoding=\"utf-8\")\n"
   ]
  },
  {
   "cell_type": "code",
   "execution_count": 12,
   "id": "d470a880",
   "metadata": {
    "execution": {
     "iopub.execute_input": "2025-06-15T15:38:46.886908Z",
     "iopub.status.busy": "2025-06-15T15:38:46.886908Z",
     "iopub.status.idle": "2025-06-15T15:38:49.874773Z",
     "shell.execute_reply": "2025-06-15T15:38:49.873769Z"
    },
    "papermill": {
     "duration": 2.994871,
     "end_time": "2025-06-15T15:38:49.876777",
     "exception": false,
     "start_time": "2025-06-15T15:38:46.881906",
     "status": "completed"
    },
    "tags": []
   },
   "outputs": [],
   "source": [
    "from pathlib import Path\n",
    "\n",
    "\n",
    "Path(\"invoices_xml\").mkdir(exist_ok=True)\n",
    "\n",
    "\n",
    "(facturation_complete\n",
    " .rdd\n",
    " .foreach(lambda row: Path(\n",
    "     f\"invoices_xml/{row.customer_id}_{row.billing_period}.xml\"\n",
    "   ).write_bytes(invoice_to_xml(row)))\n",
    ")\n"
   ]
  }
 ],
 "metadata": {
  "kernelspec": {
   "display_name": "Python 3",
   "language": "python",
   "name": "python3"
  },
  "language_info": {
   "codemirror_mode": {
    "name": "ipython",
    "version": 3
   },
   "file_extension": ".py",
   "mimetype": "text/x-python",
   "name": "python",
   "nbconvert_exporter": "python",
   "pygments_lexer": "ipython3",
   "version": "3.9.13"
  },
  "papermill": {
   "default_parameters": {},
   "duration": 27.212207,
   "end_time": "2025-06-15T15:38:50.216646",
   "environment_variables": {},
   "exception": null,
   "input_path": "BillingEngine.ipynb",
   "output_path": "BillingEngine.ipynb",
   "parameters": {},
   "start_time": "2025-06-15T15:38:23.004439",
   "version": "2.6.0"
  }
 },
 "nbformat": 4,
 "nbformat_minor": 5
}