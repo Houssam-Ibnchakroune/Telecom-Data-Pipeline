{
 "cells": [
  {
   "cell_type": "code",
   "execution_count": 1,
   "id": "046b0674",
   "metadata": {
    "execution": {
     "iopub.execute_input": "2025-06-15T15:38:51.545650Z",
     "iopub.status.busy": "2025-06-15T15:38:51.544650Z",
     "iopub.status.idle": "2025-06-15T15:38:57.565205Z",
     "shell.execute_reply": "2025-06-15T15:38:57.564203Z"
    },
    "papermill": {
     "duration": 6.036558,
     "end_time": "2025-06-15T15:38:57.568206",
     "exception": false,
     "start_time": "2025-06-15T15:38:51.531648",
     "status": "completed"
    },
    "tags": []
   },
   "outputs": [],
   "source": [
    "from pyspark.sql import SparkSession\n",
    "spark = (SparkSession.builder\n",
    "         .appName(\"Reporting\")\n",
    "         .getOrCreate())"
   ]
  },
  {
   "cell_type": "code",
   "execution_count": 2,
   "id": "9ec60e51",
   "metadata": {
    "execution": {
     "iopub.execute_input": "2025-06-15T15:38:57.575655Z",
     "iopub.status.busy": "2025-06-15T15:38:57.574206Z",
     "iopub.status.idle": "2025-06-15T15:39:05.870701Z",
     "shell.execute_reply": "2025-06-15T15:39:05.867700Z"
    },
    "papermill": {
     "duration": 8.3015,
     "end_time": "2025-06-15T15:39:05.872705",
     "exception": false,
     "start_time": "2025-06-15T15:38:57.571205",
     "status": "completed"
    },
    "tags": []
   },
   "outputs": [],
   "source": [
    "from pyspark.sql import functions as F\n",
    "rated = spark.read.parquet(\"rated_cdrs/\")\n",
    "# 1) Top 10 data consumers (sur le mois courant)\n",
    "top10 = (rated\n",
    "         .filter(\"record_type = 'data' AND rating_status IN ('rated','imputed')\")\n",
    "         .groupBy(\"customer_id\")\n",
    "         .agg(F.sum(\"billable_units\").alias(\"total_MB\"),\n",
    "              F.sum(\"cost\").alias(\"amount_due\"))\n",
    "         .orderBy(F.desc(\"total_MB\"))\n",
    "         .limit(10))\n",
    "\n",
    "top10.write.mode(\"overwrite\").option(\"header\", True).csv(\"report/top10_consumers.csv\")"
   ]
  },
  {
   "cell_type": "code",
   "execution_count": 3,
   "id": "d7eebd1e",
   "metadata": {
    "execution": {
     "iopub.execute_input": "2025-06-15T15:39:05.887703Z",
     "iopub.status.busy": "2025-06-15T15:39:05.886700Z",
     "iopub.status.idle": "2025-06-15T15:39:06.875644Z",
     "shell.execute_reply": "2025-06-15T15:39:06.873642Z"
    },
    "papermill": {
     "duration": 0.997943,
     "end_time": "2025-06-15T15:39:06.877645",
     "exception": false,
     "start_time": "2025-06-15T15:39:05.879702",
     "status": "completed"
    },
    "tags": []
   },
   "outputs": [],
   "source": [
    "# 2) Revenus TTC par plan tarifaire (\n",
    "facturation_complete = spark.read.parquet(\"billing/\")\n",
    "rev_plan = (facturation_complete\n",
    "            .groupBy(\"rate_plan_id\")\n",
    "            .agg(F.sum(\"amount_due\").alias(\"revenue_TTC\"))\n",
    "            .orderBy(F.desc(\"revenue_TTC\")))\n",
    "\n",
    "rev_plan.write.mode(\"overwrite\").option(\"header\", True).csv(\"report/revenue_by_plan.csv\")\n"
   ]
  },
  {
   "cell_type": "code",
   "execution_count": 4,
   "id": "842083db",
   "metadata": {
    "execution": {
     "iopub.execute_input": "2025-06-15T15:39:06.885642Z",
     "iopub.status.busy": "2025-06-15T15:39:06.885642Z",
     "iopub.status.idle": "2025-06-15T15:39:08.092541Z",
     "shell.execute_reply": "2025-06-15T15:39:08.091540Z"
    },
    "papermill": {
     "duration": 1.212894,
     "end_time": "2025-06-15T15:39:08.094538",
     "exception": false,
     "start_time": "2025-06-15T15:39:06.881644",
     "status": "completed"
    },
    "tags": []
   },
   "outputs": [],
   "source": [
    "#3) revenu de chaque record_type par region\n",
    "# a) rattacher la région au rated_cdrs\n",
    "rated_reg = rated.join(\n",
    "    facturation_complete.select(\"customer_id\", \"region\"), \"customer_id\", \"left\"\n",
    ")\n",
    "# b) agréger le revenu par service et région\n",
    "mix_region = (rated_reg\n",
    "    .filter(rated_reg.rating_status==\"rated\")\n",
    "    .groupBy(\"region\", \"record_type\")\n",
    "    .agg(F.sum(\"cost\").alias(\"revenue\"))\n",
    "    .orderBy(\"region\")\n",
    ")\n",
    "mix_region.write.mode(\"overwrite\")\\\n",
    "    .option(\"header\", True)\\\n",
    "    .csv(\"report/mix_by_region.csv\")"
   ]
  },
  {
   "cell_type": "code",
   "execution_count": 5,
   "id": "cc565ef5",
   "metadata": {
    "execution": {
     "iopub.execute_input": "2025-06-15T15:39:08.104539Z",
     "iopub.status.busy": "2025-06-15T15:39:08.103540Z",
     "iopub.status.idle": "2025-06-15T15:39:08.896970Z",
     "shell.execute_reply": "2025-06-15T15:39:08.895970Z"
    },
    "papermill": {
     "duration": 0.799432,
     "end_time": "2025-06-15T15:39:08.897972",
     "exception": false,
     "start_time": "2025-06-15T15:39:08.098540",
     "status": "completed"
    },
    "tags": []
   },
   "outputs": [],
   "source": [
    "# 4)revenu de chaque plan par region\n",
    "plan_region = (facturation_complete\n",
    "    .groupBy(\"region\", \"rate_plan_id\")\n",
    "    .agg(F.sum(\"amount_due\").alias(\"revenue_TTC\"))\n",
    "    .orderBy(\"region\", F.desc(\"revenue_TTC\"))\n",
    ")\n",
    "\n",
    "plan_region.write.mode(\"overwrite\")\\\n",
    "    .option(\"header\", True)\\\n",
    "    .csv(\"report/plan_by_region.csv\")\n"
   ]
  },
  {
   "cell_type": "code",
   "execution_count": 6,
   "id": "644d7b1d",
   "metadata": {
    "execution": {
     "iopub.execute_input": "2025-06-15T15:39:08.904968Z",
     "iopub.status.busy": "2025-06-15T15:39:08.903970Z",
     "iopub.status.idle": "2025-06-15T15:39:09.355690Z",
     "shell.execute_reply": "2025-06-15T15:39:09.352690Z"
    },
    "papermill": {
     "duration": 0.456719,
     "end_time": "2025-06-15T15:39:09.357689",
     "exception": false,
     "start_time": "2025-06-15T15:39:08.900970",
     "status": "completed"
    },
    "tags": []
   },
   "outputs": [],
   "source": [
    "from pyspark.sql import functions as F\n",
    "\n",
    "daily_revenue = (\n",
    "    rated\n",
    "    .filter(F.col(\"rating_status\").isin(\"rated\", \"imputed\"))\n",
    "    .withColumn(\"billing_date\", F.to_date(\"timestamp\"))          # yyyy-MM-dd\n",
    "    .groupBy(\"billing_date\")\n",
    "    .agg(F.round(F.sum(\"cost\"), 4).alias(\"revenue_TTC\"))         # montant total TTC\n",
    "    .orderBy(\"billing_date\")\n",
    ")\n",
    "\n",
    "daily_revenue.write \\\n",
    "    .mode(\"overwrite\") \\\n",
    "    .option(\"header\", True) \\\n",
    "    .csv(\"report/daily_revenue.csv\")\n"
   ]
  },
  {
   "cell_type": "code",
   "execution_count": 7,
   "id": "e44bb98e",
   "metadata": {
    "execution": {
     "iopub.execute_input": "2025-06-15T15:39:09.364689Z",
     "iopub.status.busy": "2025-06-15T15:39:09.363690Z",
     "iopub.status.idle": "2025-06-15T15:39:09.998633Z",
     "shell.execute_reply": "2025-06-15T15:39:09.997635Z"
    },
    "papermill": {
     "duration": 0.638941,
     "end_time": "2025-06-15T15:39:09.999631",
     "exception": false,
     "start_time": "2025-06-15T15:39:09.360690",
     "status": "completed"
    },
    "tags": []
   },
   "outputs": [],
   "source": [
    "traffic_hourly = (\n",
    "    rated\n",
    "    .filter( (F.col(\"record_type\") == \"data\")\n",
    "           & F.col(\"rating_status\").isin(\"rated\", \"imputed\") )\n",
    "    .withColumn(\"billing_date\", F.to_date(\"timestamp\"))          # pour filtre éventuel\n",
    "    .withColumn(\"hour\", F.hour(\"timestamp\"))                     # 0-23\n",
    "    .withColumn(\"GB\", F.col(\"billable_units\") / 1024)            # MB → GB\n",
    "    .groupBy(\"billing_date\", \"hour\")\n",
    "    .agg(F.round(F.sum(\"GB\"), 3).alias(\"total_GB\"))\n",
    "    .orderBy(\"billing_date\", \"hour\")\n",
    ")\n",
    "\n",
    "traffic_hourly.write \\\n",
    "    .mode(\"overwrite\") \\\n",
    "    .option(\"header\", True) \\\n",
    "    .csv(\"report/traffic_hourly.csv\")\n"
   ]
  }
 ],
 "metadata": {
  "kernelspec": {
   "display_name": "Python 3",
   "language": "python",
   "name": "python3"
  },
  "language_info": {
   "codemirror_mode": {
    "name": "ipython",
    "version": 3
   },
   "file_extension": ".py",
   "mimetype": "text/x-python",
   "name": "python",
   "nbconvert_exporter": "python",
   "pygments_lexer": "ipython3",
   "version": "3.9.13"
  },
  "papermill": {
   "default_parameters": {},
   "duration": 20.121355,
   "end_time": "2025-06-15T15:39:10.344000",
   "environment_variables": {},
   "exception": null,
   "input_path": "reporting.ipynb",
   "output_path": "reporting.ipynb",
   "parameters": {},
   "start_time": "2025-06-15T15:38:50.222645",
   "version": "2.6.0"
  }
 },
 "nbformat": 4,
 "nbformat_minor": 5
}